{
 "cells": [
  {
   "cell_type": "code",
   "execution_count": 1,
   "id": "aa489e28",
   "metadata": {},
   "outputs": [],
   "source": [
    "import pandas as pd\n",
    "import numpy as np"
   ]
  },
  {
   "cell_type": "code",
   "execution_count": 2,
   "id": "a1b6f322",
   "metadata": {},
   "outputs": [],
   "source": [
    "df1 = pd.read_csv(\"D:\\\\Study\\\\UG Thesis\\\\Datasets\\\\breakingDatasetForNewConversion\\\\tweets_retweetsFile_1.csv\")"
   ]
  },
  {
   "cell_type": "code",
   "execution_count": 3,
   "id": "503d20c5",
   "metadata": {},
   "outputs": [],
   "source": [
    "df2 = pd.read_csv(\"D:\\\\Study\\\\UG Thesis\\\\Datasets\\\\breakingDatasetForNewConversion\\\\tweets_retweetsFile_2.csv\")"
   ]
  },
  {
   "cell_type": "code",
   "execution_count": 4,
   "id": "a5b4c315",
   "metadata": {},
   "outputs": [],
   "source": [
    "dfOut = pd.concat([df1,df2])"
   ]
  },
  {
   "cell_type": "code",
   "execution_count": 6,
   "id": "4a185681",
   "metadata": {},
   "outputs": [],
   "source": [
    "dfOut.to_csv(\"D:\\\\Study\\\\UG Thesis\\\\Datasets\\\\breakingDatasetForNewConversion\\\\tweets_retweetsFile_full.csv\",index = False)"
   ]
  }
 ],
 "metadata": {
  "kernelspec": {
   "display_name": "Python 3 (ipykernel)",
   "language": "python",
   "name": "python3"
  },
  "language_info": {
   "codemirror_mode": {
    "name": "ipython",
    "version": 3
   },
   "file_extension": ".py",
   "mimetype": "text/x-python",
   "name": "python",
   "nbconvert_exporter": "python",
   "pygments_lexer": "ipython3",
   "version": "3.9.12"
  }
 },
 "nbformat": 4,
 "nbformat_minor": 5
}
