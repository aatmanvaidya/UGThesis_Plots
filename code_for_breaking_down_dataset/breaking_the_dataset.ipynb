{
 "cells": [
  {
   "cell_type": "code",
   "execution_count": 13,
   "id": "65d31922",
   "metadata": {},
   "outputs": [],
   "source": [
    "import pandas as pd\n",
    "import numpy as np"
   ]
  },
  {
   "cell_type": "code",
   "execution_count": 22,
   "id": "5c54bfb4",
   "metadata": {},
   "outputs": [],
   "source": [
    "df = pd.read_csv(\"D:\\\\Study\\\\UG Thesis\\\\Datasets\\\\breakingDatasetForNewConversion\\\\tweets2.csv\")"
   ]
  },
  {
   "cell_type": "code",
   "execution_count": 24,
   "id": "79cf3e57",
   "metadata": {},
   "outputs": [
    {
     "data": {
      "text/plain": [
       "(9768394, 24)"
      ]
     },
     "execution_count": 24,
     "metadata": {},
     "output_type": "execute_result"
    }
   ],
   "source": [
    "df.shape"
   ]
  },
  {
   "cell_type": "code",
   "execution_count": 25,
   "id": "f2351953",
   "metadata": {},
   "outputs": [
    {
     "data": {
      "text/plain": [
       "Index(['user_id', 'screen_name', 'tweet_id', 'tweet_text', 'tweet_creation',\n",
       "       'tweet_fav', 'tweet_rt', 'rp_flag', 'rp_status', 'rp_user', 'qt_flag',\n",
       "       'qt_status_id', 'qt_user_id', 'qt_text', 'qt_creation', 'qt_fav',\n",
       "       'qt_rt', 'rt_flag', 'rt_status_id', 'rt_user_id', 'rt_text',\n",
       "       'rt_creation', 'rt_fav', 'rt_rt'],\n",
       "      dtype='object')"
      ]
     },
     "execution_count": 25,
     "metadata": {},
     "output_type": "execute_result"
    }
   ],
   "source": [
    "df.columns"
   ]
  },
  {
   "cell_type": "code",
   "execution_count": 26,
   "id": "cad01736",
   "metadata": {},
   "outputs": [
    {
     "data": {
      "text/plain": [
       "6116935"
      ]
     },
     "execution_count": 26,
     "metadata": {},
     "output_type": "execute_result"
    }
   ],
   "source": [
    "df['rt_text'].isna().sum()"
   ]
  },
  {
   "cell_type": "code",
   "execution_count": 27,
   "id": "f542a7ae",
   "metadata": {},
   "outputs": [],
   "source": [
    "convDf = df.dropna(subset=['rt_text'])"
   ]
  },
  {
   "cell_type": "code",
   "execution_count": 28,
   "id": "92ee1467",
   "metadata": {},
   "outputs": [
    {
     "data": {
      "text/plain": [
       "0"
      ]
     },
     "execution_count": 28,
     "metadata": {},
     "output_type": "execute_result"
    }
   ],
   "source": [
    "convDf['rt_text'].isna().sum()"
   ]
  },
  {
   "cell_type": "code",
   "execution_count": 29,
   "id": "eb74d944",
   "metadata": {},
   "outputs": [
    {
     "data": {
      "text/plain": [
       "(3651459, 24)"
      ]
     },
     "execution_count": 29,
     "metadata": {},
     "output_type": "execute_result"
    }
   ],
   "source": [
    "convDf.shape"
   ]
  },
  {
   "cell_type": "code",
   "execution_count": 30,
   "id": "708641d9",
   "metadata": {},
   "outputs": [],
   "source": [
    "convDf.to_csv(\"D:\\\\Study\\\\UG Thesis\\\\Datasets\\\\breakingDatasetForNewConversion\\\\tweets_retweetsFile_2.csv\",index = False)"
   ]
  }
 ],
 "metadata": {
  "kernelspec": {
   "display_name": "Python 3 (ipykernel)",
   "language": "python",
   "name": "python3"
  },
  "language_info": {
   "codemirror_mode": {
    "name": "ipython",
    "version": 3
   },
   "file_extension": ".py",
   "mimetype": "text/x-python",
   "name": "python",
   "nbconvert_exporter": "python",
   "pygments_lexer": "ipython3",
   "version": "3.9.12"
  }
 },
 "nbformat": 4,
 "nbformat_minor": 5
}
