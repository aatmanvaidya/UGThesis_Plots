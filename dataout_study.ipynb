{
 "cells": [
  {
   "cell_type": "code",
   "execution_count": 1,
   "id": "9d8da6a7",
   "metadata": {},
   "outputs": [],
   "source": [
    "import pandas as pd"
   ]
  },
  {
   "cell_type": "code",
   "execution_count": 2,
   "id": "1618b7da",
   "metadata": {},
   "outputs": [],
   "source": [
    "df = pd.read_csv('Output\\\\key_out.csv')"
   ]
  },
  {
   "cell_type": "code",
   "execution_count": 3,
   "id": "f9ad0093",
   "metadata": {},
   "outputs": [
    {
     "data": {
      "text/html": [
       "<div>\n",
       "<style scoped>\n",
       "    .dataframe tbody tr th:only-of-type {\n",
       "        vertical-align: middle;\n",
       "    }\n",
       "\n",
       "    .dataframe tbody tr th {\n",
       "        vertical-align: top;\n",
       "    }\n",
       "\n",
       "    .dataframe thead th {\n",
       "        text-align: right;\n",
       "    }\n",
       "</style>\n",
       "<table border=\"1\" class=\"dataframe\">\n",
       "  <thead>\n",
       "    <tr style=\"text-align: right;\">\n",
       "      <th></th>\n",
       "      <th>user_id</th>\n",
       "      <th>screen_name</th>\n",
       "      <th>tweet_id</th>\n",
       "      <th>tweet_text</th>\n",
       "      <th>tweet_creation</th>\n",
       "      <th>tweet_fav</th>\n",
       "      <th>tweet_rt</th>\n",
       "      <th>rp_flag</th>\n",
       "      <th>rp_status</th>\n",
       "      <th>rp_user</th>\n",
       "      <th>...</th>\n",
       "      <th>qt_rt</th>\n",
       "      <th>rt_flag</th>\n",
       "      <th>rt_status_id</th>\n",
       "      <th>rt_user_id</th>\n",
       "      <th>rt_text</th>\n",
       "      <th>rt_creation</th>\n",
       "      <th>rt_fav</th>\n",
       "      <th>rt_rt</th>\n",
       "      <th>Toxicity</th>\n",
       "      <th>Severe Toxicity</th>\n",
       "    </tr>\n",
       "  </thead>\n",
       "  <tbody>\n",
       "    <tr>\n",
       "      <th>0</th>\n",
       "      <td>850859913244852224</td>\n",
       "      <td>NationalismXXI</td>\n",
       "      <td>9.194452e+17</td>\n",
       "      <td>Women https://t.co/quXcjOq9na</td>\n",
       "      <td>1508054987.0</td>\n",
       "      <td>0.0</td>\n",
       "      <td>0.0</td>\n",
       "      <td>False</td>\n",
       "      <td>NaN</td>\n",
       "      <td>NaN</td>\n",
       "      <td>...</td>\n",
       "      <td>148.0</td>\n",
       "      <td>False</td>\n",
       "      <td>NaN</td>\n",
       "      <td>NaN</td>\n",
       "      <td>NaN</td>\n",
       "      <td>NaN</td>\n",
       "      <td>NaN</td>\n",
       "      <td>NaN</td>\n",
       "      <td>0.007665</td>\n",
       "      <td>0.001082</td>\n",
       "    </tr>\n",
       "    <tr>\n",
       "      <th>1</th>\n",
       "      <td>850859913244852224</td>\n",
       "      <td>NationalismXXI</td>\n",
       "      <td>9.194419e+17</td>\n",
       "      <td>Superjew https://t.co/cba5laEfKG</td>\n",
       "      <td>1508054212.0</td>\n",
       "      <td>0.0</td>\n",
       "      <td>0.0</td>\n",
       "      <td>False</td>\n",
       "      <td>NaN</td>\n",
       "      <td>NaN</td>\n",
       "      <td>...</td>\n",
       "      <td>302.0</td>\n",
       "      <td>False</td>\n",
       "      <td>NaN</td>\n",
       "      <td>NaN</td>\n",
       "      <td>NaN</td>\n",
       "      <td>NaN</td>\n",
       "      <td>NaN</td>\n",
       "      <td>NaN</td>\n",
       "      <td>NaN</td>\n",
       "      <td>NaN</td>\n",
       "    </tr>\n",
       "    <tr>\n",
       "      <th>2</th>\n",
       "      <td>850859913244852224</td>\n",
       "      <td>NationalismXXI</td>\n",
       "      <td>9.168965e+17</td>\n",
       "      <td>@DailyProgress Funny how without antifa around...</td>\n",
       "      <td>1507450932.0</td>\n",
       "      <td>0.0</td>\n",
       "      <td>0.0</td>\n",
       "      <td>True</td>\n",
       "      <td>916877215786299392</td>\n",
       "      <td>17136814.0</td>\n",
       "      <td>...</td>\n",
       "      <td>NaN</td>\n",
       "      <td>False</td>\n",
       "      <td>NaN</td>\n",
       "      <td>NaN</td>\n",
       "      <td>NaN</td>\n",
       "      <td>NaN</td>\n",
       "      <td>NaN</td>\n",
       "      <td>NaN</td>\n",
       "      <td>0.073711</td>\n",
       "      <td>0.002556</td>\n",
       "    </tr>\n",
       "    <tr>\n",
       "      <th>3</th>\n",
       "      <td>850859913244852224</td>\n",
       "      <td>NationalismXXI</td>\n",
       "      <td>9.145456e+17</td>\n",
       "      <td>@SteveKingIA @realDonaldTrump https://t.co/hb5...</td>\n",
       "      <td>1506890436.0</td>\n",
       "      <td>0.0</td>\n",
       "      <td>0.0</td>\n",
       "      <td>True</td>\n",
       "      <td>None</td>\n",
       "      <td>48117116.0</td>\n",
       "      <td>...</td>\n",
       "      <td>20955.0</td>\n",
       "      <td>False</td>\n",
       "      <td>NaN</td>\n",
       "      <td>NaN</td>\n",
       "      <td>NaN</td>\n",
       "      <td>NaN</td>\n",
       "      <td>NaN</td>\n",
       "      <td>NaN</td>\n",
       "      <td>NaN</td>\n",
       "      <td>NaN</td>\n",
       "    </tr>\n",
       "    <tr>\n",
       "      <th>4</th>\n",
       "      <td>850859913244852224</td>\n",
       "      <td>NationalismXXI</td>\n",
       "      <td>9.145443e+17</td>\n",
       "      <td>Una, Grande y Libre!</td>\n",
       "      <td>1506890125.0</td>\n",
       "      <td>0.0</td>\n",
       "      <td>0.0</td>\n",
       "      <td>False</td>\n",
       "      <td>NaN</td>\n",
       "      <td>NaN</td>\n",
       "      <td>...</td>\n",
       "      <td>NaN</td>\n",
       "      <td>False</td>\n",
       "      <td>NaN</td>\n",
       "      <td>NaN</td>\n",
       "      <td>NaN</td>\n",
       "      <td>NaN</td>\n",
       "      <td>NaN</td>\n",
       "      <td>NaN</td>\n",
       "      <td>0.003456</td>\n",
       "      <td>0.000278</td>\n",
       "    </tr>\n",
       "  </tbody>\n",
       "</table>\n",
       "<p>5 rows × 26 columns</p>\n",
       "</div>"
      ],
      "text/plain": [
       "              user_id     screen_name      tweet_id  \\\n",
       "0  850859913244852224  NationalismXXI  9.194452e+17   \n",
       "1  850859913244852224  NationalismXXI  9.194419e+17   \n",
       "2  850859913244852224  NationalismXXI  9.168965e+17   \n",
       "3  850859913244852224  NationalismXXI  9.145456e+17   \n",
       "4  850859913244852224  NationalismXXI  9.145443e+17   \n",
       "\n",
       "                                          tweet_text tweet_creation  \\\n",
       "0                      Women https://t.co/quXcjOq9na   1508054987.0   \n",
       "1                   Superjew https://t.co/cba5laEfKG   1508054212.0   \n",
       "2  @DailyProgress Funny how without antifa around...   1507450932.0   \n",
       "3  @SteveKingIA @realDonaldTrump https://t.co/hb5...   1506890436.0   \n",
       "4                               Una, Grande y Libre!   1506890125.0   \n",
       "\n",
       "   tweet_fav  tweet_rt rp_flag           rp_status     rp_user  ...    qt_rt  \\\n",
       "0        0.0       0.0   False                 NaN         NaN  ...    148.0   \n",
       "1        0.0       0.0   False                 NaN         NaN  ...    302.0   \n",
       "2        0.0       0.0    True  916877215786299392  17136814.0  ...      NaN   \n",
       "3        0.0       0.0    True                None  48117116.0  ...  20955.0   \n",
       "4        0.0       0.0   False                 NaN         NaN  ...      NaN   \n",
       "\n",
       "   rt_flag  rt_status_id rt_user_id rt_text  rt_creation  rt_fav rt_rt  \\\n",
       "0    False           NaN        NaN     NaN          NaN     NaN   NaN   \n",
       "1    False           NaN        NaN     NaN          NaN     NaN   NaN   \n",
       "2    False           NaN        NaN     NaN          NaN     NaN   NaN   \n",
       "3    False           NaN        NaN     NaN          NaN     NaN   NaN   \n",
       "4    False           NaN        NaN     NaN          NaN     NaN   NaN   \n",
       "\n",
       "   Toxicity  Severe Toxicity  \n",
       "0  0.007665         0.001082  \n",
       "1       NaN              NaN  \n",
       "2  0.073711         0.002556  \n",
       "3       NaN              NaN  \n",
       "4  0.003456         0.000278  \n",
       "\n",
       "[5 rows x 26 columns]"
      ]
     },
     "execution_count": 3,
     "metadata": {},
     "output_type": "execute_result"
    }
   ],
   "source": [
    "df.head()"
   ]
  },
  {
   "cell_type": "code",
   "execution_count": 4,
   "id": "6d3c5fe2",
   "metadata": {},
   "outputs": [
    {
     "data": {
      "text/plain": [
       "14949"
      ]
     },
     "execution_count": 4,
     "metadata": {},
     "output_type": "execute_result"
    }
   ],
   "source": [
    "len(df)"
   ]
  },
  {
   "cell_type": "code",
   "execution_count": 6,
   "id": "8c08b15e",
   "metadata": {},
   "outputs": [
    {
     "name": "stdout",
     "output_type": "stream",
     "text": [
      "511\n",
      "511\n"
     ]
    }
   ],
   "source": [
    "print(df['Toxicity'].isna().sum())\n",
    "print(df['Severe Toxicity'].isna().sum())"
   ]
  },
  {
   "cell_type": "code",
   "execution_count": 7,
   "id": "636db411",
   "metadata": {},
   "outputs": [],
   "source": [
    "convDf = df.dropna(subset=['Toxicity'])"
   ]
  },
  {
   "cell_type": "code",
   "execution_count": 8,
   "id": "13192711",
   "metadata": {},
   "outputs": [
    {
     "data": {
      "text/plain": [
       "14438"
      ]
     },
     "execution_count": 8,
     "metadata": {},
     "output_type": "execute_result"
    }
   ],
   "source": [
    "len(convDf)"
   ]
  },
  {
   "cell_type": "code",
   "execution_count": null,
   "id": "24f1262c",
   "metadata": {},
   "outputs": [],
   "source": []
  }
 ],
 "metadata": {
  "kernelspec": {
   "display_name": "Python 3 (ipykernel)",
   "language": "python",
   "name": "python3"
  },
  "language_info": {
   "codemirror_mode": {
    "name": "ipython",
    "version": 3
   },
   "file_extension": ".py",
   "mimetype": "text/x-python",
   "name": "python",
   "nbconvert_exporter": "python",
   "pygments_lexer": "ipython3",
   "version": "3.9.6 (tags/v3.9.6:db3ff76, Jun 28 2021, 15:26:21) [MSC v.1929 64 bit (AMD64)]"
  },
  "vscode": {
   "interpreter": {
    "hash": "9bdcfb82fd2f1510c184c097341994aa5e5fcd7cf78734ba3e50d74ceb74f574"
   }
  }
 },
 "nbformat": 4,
 "nbformat_minor": 5
}
