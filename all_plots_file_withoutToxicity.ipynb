{
  "nbformat": 4,
  "nbformat_minor": 0,
  "metadata": {
    "colab": {
      "provenance": []
    },
    "kernelspec": {
      "name": "python3",
      "display_name": "Python 3"
    },
    "language_info": {
      "name": "python"
    }
  },
  "cells": [
    {
      "cell_type": "code",
      "execution_count": 1,
      "metadata": {
        "colab": {
          "base_uri": "https://localhost:8080/"
        },
        "id": "a4juzelqaE_q",
        "outputId": "50b033d7-af04-4ad9-8274-4ee19908f5a6"
      },
      "outputs": [
        {
          "output_type": "stream",
          "name": "stdout",
          "text": [
            "Mounted at /content/gdrive\n"
          ]
        }
      ],
      "source": [
        "from google.colab import drive\n",
        "drive.mount('/content/gdrive')"
      ]
    },
    {
      "cell_type": "code",
      "source": [
        "import pandas as pd\n",
        "import matplotlib.pyplot as plt\n",
        "import matplotlib.ticker as ticker\n",
        "import numpy as np\n",
        "from datetime import datetime\n",
        "import warnings\n",
        "warnings.filterwarnings(\"ignore\")"
      ],
      "metadata": {
        "id": "Y0-C5yuuarL_"
      },
      "execution_count": 2,
      "outputs": []
    },
    {
      "cell_type": "code",
      "source": [
        "df = pd.read_csv(\"/content/gdrive/My Drive/tweets.csv\")"
      ],
      "metadata": {
        "id": "NkybsDSRau4s"
      },
      "execution_count": 3,
      "outputs": []
    },
    {
      "cell_type": "code",
      "source": [
        "df = df[(df['tweet_creation']>1483228799) & (df['tweet_creation']<=1514764799)]"
      ],
      "metadata": {
        "id": "u6PciqdSbISr"
      },
      "execution_count": 4,
      "outputs": []
    },
    {
      "cell_type": "code",
      "source": [
        "df['NewDateFormat'] = df['tweet_creation'].apply(lambda x: datetime.fromtimestamp(x).strftime('%Y-%m-%d %H:%M:%S'))"
      ],
      "metadata": {
        "id": "IeMbxd4RbnXU"
      },
      "execution_count": 5,
      "outputs": []
    },
    {
      "cell_type": "code",
      "source": [
        "df[\"week\"] = df[\"NewDateFormat\"].apply(lambda x: datetime.strptime(x, \"%Y-%m-%d %H:%M:%S\").strftime(\"%U\"))\n",
        "df[\"month\"] = df[\"NewDateFormat\"].apply(lambda x: datetime.strptime(x, \"%Y-%m-%d %H:%M:%S\").strftime(\"%m\"))"
      ],
      "metadata": {
        "id": "rIoaASiAcaPr"
      },
      "execution_count": 6,
      "outputs": []
    },
    {
      "cell_type": "code",
      "source": [
        "groupDf = df[['user_id', 'qt_flag', 'rt_flag', 'week', 'month']]"
      ],
      "metadata": {
        "id": "TKamK6NVcqmT"
      },
      "execution_count": 8,
      "outputs": []
    },
    {
      "cell_type": "code",
      "source": [
        "unique_values_week = groupDf['week'].unique()\n",
        "unique_values_month = groupDf['month'].unique()\n",
        "unique_values_week.sort()\n",
        "unique_values_month.sort()"
      ],
      "metadata": {
        "id": "H8gpoDUIdH87"
      },
      "execution_count": 9,
      "outputs": []
    },
    {
      "cell_type": "markdown",
      "source": [
        "#Plot 6"
      ],
      "metadata": {
        "id": "GBjULsg0edHs"
      }
    },
    {
      "cell_type": "code",
      "source": [
        "plot6ArrOriginal = []\n",
        "plot6ArrRetweet = []\n",
        "plot6ArrQuoted = []"
      ],
      "metadata": {
        "id": "0RNlAtsWefhd"
      },
      "execution_count": 19,
      "outputs": []
    },
    {
      "cell_type": "code",
      "source": [
        "def countTweetsOriginal(weekIn):\n",
        "    weekDf = groupDf[groupDf['week'] == weekIn]\n",
        "    totalTweets = len(weekDf)\n",
        "    tempDf = weekDf[(weekDf['qt_flag'] == False) & (weekDf['rt_flag'] == False)]\n",
        "    percentage = (len(tempDf)/totalTweets)*100\n",
        "    return plot6ArrOriginal.append(percentage)  "
      ],
      "metadata": {
        "id": "qBgEYvVvfO3W"
      },
      "execution_count": 20,
      "outputs": []
    },
    {
      "cell_type": "code",
      "source": [
        "def countTweetsRetweet(weekIn):\n",
        "    weekDf = groupDf[groupDf['week'] == weekIn]\n",
        "    totalTweets = len(weekDf)\n",
        "    tempDf = weekDf[(weekDf['qt_flag'] == False) & (weekDf['rt_flag'] == True)]\n",
        "    percentage = (len(tempDf)/totalTweets)*100\n",
        "    return plot6ArrRetweet.append(percentage)  "
      ],
      "metadata": {
        "id": "qVN3ofBNf1WC"
      },
      "execution_count": 21,
      "outputs": []
    },
    {
      "cell_type": "code",
      "source": [
        "def countTweetsQuoted(weekIn):\n",
        "    weekDf = groupDf[groupDf['week'] == weekIn]\n",
        "    totalTweets = len(weekDf)\n",
        "    tempDf = weekDf[(weekDf['qt_flag'] == True) & (weekDf['rt_flag'] == False)]\n",
        "    percentage = (len(tempDf)/totalTweets)*100\n",
        "    return plot6ArrQuoted.append(percentage)  "
      ],
      "metadata": {
        "id": "05DuJP1Xf-Kr"
      },
      "execution_count": 22,
      "outputs": []
    },
    {
      "cell_type": "code",
      "source": [
        "for i in unique_values_week:\n",
        "  countTweetsOriginal(i)"
      ],
      "metadata": {
        "id": "GLSInxS9gF-D"
      },
      "execution_count": 23,
      "outputs": []
    },
    {
      "cell_type": "code",
      "source": [
        "for i in unique_values_week:\n",
        "  countTweetsRetweet(i)"
      ],
      "metadata": {
        "id": "xStAZn0fgglD"
      },
      "execution_count": 24,
      "outputs": []
    },
    {
      "cell_type": "code",
      "source": [
        "for i in unique_values_week:\n",
        "  countTweetsQuoted(i)"
      ],
      "metadata": {
        "id": "CjXY0ws0gtQq"
      },
      "execution_count": 25,
      "outputs": []
    },
    {
      "cell_type": "code",
      "source": [
        "plot6XAxis = unique_values_week"
      ],
      "metadata": {
        "id": "q1z0tp7Mgw6z"
      },
      "execution_count": 26,
      "outputs": []
    },
    {
      "cell_type": "code",
      "source": [
        "plt.figure(figsize=(15,8))\n",
        "plt.plot(plot6XAxis, plot6ArrOriginal, label='original Tweets')\n",
        "plt.plot(plot6XAxis, plot6ArrRetweet, label='ReTweets')\n",
        "plt.plot(plot6XAxis, plot6ArrQuoted, label='Quoted Tweets')\n",
        "\n",
        "plt.xlabel(\"Week Number\")\n",
        "plt.ylabel(\"Number of Users\")\n",
        "plt.legend(loc='best')\n",
        "plt.show()"
      ],
      "metadata": {
        "colab": {
          "base_uri": "https://localhost:8080/",
          "height": 497
        },
        "id": "0g43GDzNlMgT",
        "outputId": "888439e6-0f98-48c6-d3f9-61da5f531c62"
      },
      "execution_count": 31,
      "outputs": [
        {
          "output_type": "display_data",
          "data": {
            "text/plain": [
              "<Figure size 1080x576 with 1 Axes>"
            ],
            "image/png": "[encoded data removed]"
          },
          "metadata": {
            "needs_background": "light"
          }
        }
      ]
    },
    {
      "cell_type": "markdown",
      "source": [
        "#Plot 7\n",
        "#subplot 1"
      ],
      "metadata": {
        "id": "egxj979kmTl8"
      }
    },
    {
      "cell_type": "code",
      "source": [],
      "metadata": {
        "id": "oQyQtflWmXLt"
      },
      "execution_count": null,
      "outputs": []
    }
  ]
}