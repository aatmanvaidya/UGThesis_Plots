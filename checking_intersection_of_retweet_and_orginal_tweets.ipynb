{
  "nbformat": 4,
  "nbformat_minor": 0,
  "metadata": {
    "colab": {
      "provenance": []
    },
    "kernelspec": {
      "name": "python3",
      "display_name": "Python 3"
    },
    "language_info": {
      "name": "python"
    }
  },
  "cells": [
    {
      "cell_type": "code",
      "execution_count": null,
      "metadata": {
        "colab": {
          "base_uri": "https://localhost:8080/"
        },
        "id": "Pvm6gRfkOw6D",
        "outputId": "210c5985-43e2-4ce3-a552-9647a30f42d6"
      },
      "outputs": [
        {
          "output_type": "stream",
          "name": "stdout",
          "text": [
            "Drive already mounted at /content/gdrive; to attempt to forcibly remount, call drive.mount(\"/content/gdrive\", force_remount=True).\n"
          ]
        }
      ],
      "source": [
        "from google.colab import drive\n",
        "drive.mount('/content/gdrive')"
      ]
    },
    {
      "cell_type": "code",
      "source": [
        "import pandas as pd\n",
        "import numpy as np"
      ],
      "metadata": {
        "id": "XHETsjBXPlGO"
      },
      "execution_count": null,
      "outputs": []
    },
    {
      "cell_type": "code",
      "source": [
        "# df = pd.read_csv(\"/content/gdrive/My Drive/tweets.csv\")\n",
        "df = pd.read_csv(\"/content/gdrive/My Drive/ribeiroDatasetNew/tweets.csv\")"
      ],
      "metadata": {
        "id": "EMfT5s1jP_oA"
      },
      "execution_count": null,
      "outputs": []
    },
    {
      "cell_type": "code",
      "source": [
        "df.columns"
      ],
      "metadata": {
        "id": "n9HT1wzeywqp"
      },
      "execution_count": null,
      "outputs": []
    },
    {
      "cell_type": "code",
      "source": [
        "df.shape"
      ],
      "metadata": {
        "id": "t2NfFnNz3TxO"
      },
      "execution_count": null,
      "outputs": []
    },
    {
      "cell_type": "code",
      "source": [
        "len(df['user_id'].unique())"
      ],
      "metadata": {
        "id": "VBKvMq4syzi0"
      },
      "execution_count": null,
      "outputs": []
    },
    {
      "cell_type": "code",
      "source": [
        " #column of all the tweet id's\n",
        "tweet_id = df['tweet_id']"
      ],
      "metadata": {
        "id": "svmc5ePGQMSH"
      },
      "execution_count": null,
      "outputs": []
    },
    {
      "cell_type": "code",
      "source": [
        "#column of the tweets id's original tweet's of the retweets\n",
        "rt_id = df['rt_status_id'].dropna().astype(np.int64) "
      ],
      "metadata": {
        "id": "8c56Zyr3UvYk"
      },
      "execution_count": null,
      "outputs": []
    },
    {
      "cell_type": "code",
      "source": [
        "print(len(tweet_id))\n",
        "print(len(rt_id))"
      ],
      "metadata": {
        "colab": {
          "base_uri": "https://localhost:8080/"
        },
        "id": "nWIbzS7hUxJr",
        "outputId": "e8aa4aa9-b045-4e0c-f931-dd9eb5d5e9bd"
      },
      "execution_count": null,
      "outputs": [
        {
          "output_type": "stream",
          "name": "stdout",
          "text": [
            "11793904\n",
            "4327445\n"
          ]
        }
      ]
    },
    {
      "cell_type": "code",
      "source": [
        "tweet_set = set(tweet_id)\n",
        "rt_set = set(rt_id)"
      ],
      "metadata": {
        "id": "E-Br-PWlUyTj"
      },
      "execution_count": null,
      "outputs": []
    },
    {
      "cell_type": "code",
      "source": [
        "print(len(tweet_set))\n",
        "print(len(rt_set))"
      ],
      "metadata": {
        "colab": {
          "base_uri": "https://localhost:8080/"
        },
        "id": "2k9fq1e5Uzik",
        "outputId": "1a8eb971-22b8-45d0-a38e-f8bede7ca1a8"
      },
      "execution_count": null,
      "outputs": [
        {
          "output_type": "stream",
          "name": "stdout",
          "text": [
            "11793904\n",
            "3152844\n"
          ]
        }
      ]
    },
    {
      "cell_type": "code",
      "source": [
        "inter_sets = tweet_set.intersection(rt_set)"
      ],
      "metadata": {
        "id": "WDXVefCJU0uL"
      },
      "execution_count": null,
      "outputs": []
    },
    {
      "cell_type": "code",
      "source": [
        "print(len(inter_sets))"
      ],
      "metadata": {
        "id": "cQVbGau7U2Oq",
        "outputId": "8f59c954-0275-4f03-9f18-11a68058b080",
        "colab": {
          "base_uri": "https://localhost:8080/"
        }
      },
      "execution_count": null,
      "outputs": [
        {
          "output_type": "stream",
          "name": "stdout",
          "text": [
            "276867\n"
          ]
        }
      ]
    },
    {
      "cell_type": "code",
      "source": [
        "# intersect = rt_id.isin(tweet_id)"
      ],
      "metadata": {
        "id": "JTFd3lEgU317"
      },
      "execution_count": null,
      "outputs": []
    },
    {
      "cell_type": "code",
      "source": [
        "# intersect.value_counts()"
      ],
      "metadata": {
        "id": "IS2vYjShU48D"
      },
      "execution_count": null,
      "outputs": []
    },
    {
      "cell_type": "code",
      "source": [
        "# print(len(intersect))"
      ],
      "metadata": {
        "id": "3KGVIpTlU59b"
      },
      "execution_count": null,
      "outputs": []
    },
    {
      "cell_type": "code",
      "source": [],
      "metadata": {
        "id": "JEZV8t_qU68b"
      },
      "execution_count": null,
      "outputs": []
    }
  ]
}