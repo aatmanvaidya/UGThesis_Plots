{
 "cells": [
  {
   "cell_type": "code",
   "execution_count": 2,
   "id": "fce08d66",
   "metadata": {},
   "outputs": [],
   "source": [
    "import pandas as pd\n",
    "import numpy as np\n",
    "import matplotlib.pyplot as plt\n",
    "%matplotlib inline "
   ]
  },
  {
   "cell_type": "code",
   "execution_count": 3,
   "id": "48be1ae0",
   "metadata": {},
   "outputs": [
    {
     "name": "stderr",
     "output_type": "stream",
     "text": [
      "C:\\Users\\Aatman\\AppData\\Local\\Temp\\ipykernel_24100\\2446964147.py:1: DtypeWarning: Columns (7,10,17) have mixed types. Specify dtype option on import or set low_memory=False.\n",
      "  df = pd.read_csv(\"D:\\\\Study\\\\UG Thesis\\\\Datasets\\\\ReibeiroDataset\\\\tweets.csv\")\n"
     ]
    }
   ],
   "source": [
    "df = pd.read_csv(\"D:\\\\Study\\\\UG Thesis\\\\Datasets\\\\ReibeiroDataset\\\\tweets.csv\")"
   ]
  },
  {
   "cell_type": "code",
   "execution_count": 4,
   "id": "b9b144fa",
   "metadata": {},
   "outputs": [
    {
     "data": {
      "text/html": [
       "<div>\n",
       "<style scoped>\n",
       "    .dataframe tbody tr th:only-of-type {\n",
       "        vertical-align: middle;\n",
       "    }\n",
       "\n",
       "    .dataframe tbody tr th {\n",
       "        vertical-align: top;\n",
       "    }\n",
       "\n",
       "    .dataframe thead th {\n",
       "        text-align: right;\n",
       "    }\n",
       "</style>\n",
       "<table border=\"1\" class=\"dataframe\">\n",
       "  <thead>\n",
       "    <tr style=\"text-align: right;\">\n",
       "      <th></th>\n",
       "      <th>user_id</th>\n",
       "      <th>screen_name</th>\n",
       "      <th>tweet_id</th>\n",
       "      <th>tweet_text</th>\n",
       "      <th>tweet_creation</th>\n",
       "      <th>tweet_fav</th>\n",
       "      <th>tweet_rt</th>\n",
       "      <th>rp_flag</th>\n",
       "      <th>rp_status</th>\n",
       "      <th>rp_user</th>\n",
       "      <th>...</th>\n",
       "      <th>qt_creation</th>\n",
       "      <th>qt_fav</th>\n",
       "      <th>qt_rt</th>\n",
       "      <th>rt_flag</th>\n",
       "      <th>rt_status_id</th>\n",
       "      <th>rt_user_id</th>\n",
       "      <th>rt_text</th>\n",
       "      <th>rt_creation</th>\n",
       "      <th>rt_fav</th>\n",
       "      <th>rt_rt</th>\n",
       "    </tr>\n",
       "  </thead>\n",
       "  <tbody>\n",
       "    <tr>\n",
       "      <th>0</th>\n",
       "      <td>850859913244852224</td>\n",
       "      <td>NationalismXXI</td>\n",
       "      <td>919445178859053056</td>\n",
       "      <td>Women https://t.co/quXcjOq9na</td>\n",
       "      <td>1.508055e+09</td>\n",
       "      <td>0.0</td>\n",
       "      <td>0.0</td>\n",
       "      <td>False</td>\n",
       "      <td>NaN</td>\n",
       "      <td>NaN</td>\n",
       "      <td>...</td>\n",
       "      <td>1.508033e+09</td>\n",
       "      <td>274.0</td>\n",
       "      <td>148.0</td>\n",
       "      <td>False</td>\n",
       "      <td>NaN</td>\n",
       "      <td>NaN</td>\n",
       "      <td>NaN</td>\n",
       "      <td>NaN</td>\n",
       "      <td>NaN</td>\n",
       "      <td>NaN</td>\n",
       "    </tr>\n",
       "    <tr>\n",
       "      <th>1</th>\n",
       "      <td>850859913244852224</td>\n",
       "      <td>NationalismXXI</td>\n",
       "      <td>919441926021107712</td>\n",
       "      <td>Superjew https://t.co/cba5laEfKG</td>\n",
       "      <td>1.508054e+09</td>\n",
       "      <td>0.0</td>\n",
       "      <td>0.0</td>\n",
       "      <td>False</td>\n",
       "      <td>NaN</td>\n",
       "      <td>NaN</td>\n",
       "      <td>...</td>\n",
       "      <td>1.507908e+09</td>\n",
       "      <td>628.0</td>\n",
       "      <td>302.0</td>\n",
       "      <td>False</td>\n",
       "      <td>NaN</td>\n",
       "      <td>NaN</td>\n",
       "      <td>NaN</td>\n",
       "      <td>NaN</td>\n",
       "      <td>NaN</td>\n",
       "      <td>NaN</td>\n",
       "    </tr>\n",
       "    <tr>\n",
       "      <th>2</th>\n",
       "      <td>850859913244852224</td>\n",
       "      <td>NationalismXXI</td>\n",
       "      <td>919367819694927872</td>\n",
       "      <td>NaN</td>\n",
       "      <td>1.508037e+09</td>\n",
       "      <td>0.0</td>\n",
       "      <td>777.0</td>\n",
       "      <td>False</td>\n",
       "      <td>NaN</td>\n",
       "      <td>NaN</td>\n",
       "      <td>...</td>\n",
       "      <td>NaN</td>\n",
       "      <td>NaN</td>\n",
       "      <td>NaN</td>\n",
       "      <td>True</td>\n",
       "      <td>9.144992e+17</td>\n",
       "      <td>2.583248e+08</td>\n",
       "      <td>You want a quote to go viral? Retweet this one...</td>\n",
       "      <td>1.506879e+09</td>\n",
       "      <td>704.0</td>\n",
       "      <td>777.0</td>\n",
       "    </tr>\n",
       "    <tr>\n",
       "      <th>3</th>\n",
       "      <td>850859913244852224</td>\n",
       "      <td>NationalismXXI</td>\n",
       "      <td>919366633512226816</td>\n",
       "      <td>NaN</td>\n",
       "      <td>1.508040e+09</td>\n",
       "      <td>0.0</td>\n",
       "      <td>63.0</td>\n",
       "      <td>False</td>\n",
       "      <td>NaN</td>\n",
       "      <td>NaN</td>\n",
       "      <td>...</td>\n",
       "      <td>NaN</td>\n",
       "      <td>NaN</td>\n",
       "      <td>NaN</td>\n",
       "      <td>True</td>\n",
       "      <td>9.189423e+17</td>\n",
       "      <td>1.289955e+09</td>\n",
       "      <td>@CNN So when are u going to publish a jihadi s...</td>\n",
       "      <td>1.507939e+09</td>\n",
       "      <td>181.0</td>\n",
       "      <td>63.0</td>\n",
       "    </tr>\n",
       "    <tr>\n",
       "      <th>4</th>\n",
       "      <td>850859913244852224</td>\n",
       "      <td>NationalismXXI</td>\n",
       "      <td>919365144697860096</td>\n",
       "      <td>NaN</td>\n",
       "      <td>1.508040e+09</td>\n",
       "      <td>0.0</td>\n",
       "      <td>105.0</td>\n",
       "      <td>False</td>\n",
       "      <td>NaN</td>\n",
       "      <td>NaN</td>\n",
       "      <td>...</td>\n",
       "      <td>NaN</td>\n",
       "      <td>NaN</td>\n",
       "      <td>NaN</td>\n",
       "      <td>True</td>\n",
       "      <td>9.193076e+17</td>\n",
       "      <td>8.504084e+17</td>\n",
       "      <td>Fash the Nation Episode 92: Immoral High Groun...</td>\n",
       "      <td>1.508026e+09</td>\n",
       "      <td>212.0</td>\n",
       "      <td>105.0</td>\n",
       "    </tr>\n",
       "  </tbody>\n",
       "</table>\n",
       "<p>5 rows × 24 columns</p>\n",
       "</div>"
      ],
      "text/plain": [
       "              user_id     screen_name            tweet_id  \\\n",
       "0  850859913244852224  NationalismXXI  919445178859053056   \n",
       "1  850859913244852224  NationalismXXI  919441926021107712   \n",
       "2  850859913244852224  NationalismXXI  919367819694927872   \n",
       "3  850859913244852224  NationalismXXI  919366633512226816   \n",
       "4  850859913244852224  NationalismXXI  919365144697860096   \n",
       "\n",
       "                         tweet_text  tweet_creation  tweet_fav  tweet_rt  \\\n",
       "0     Women https://t.co/quXcjOq9na    1.508055e+09        0.0       0.0   \n",
       "1  Superjew https://t.co/cba5laEfKG    1.508054e+09        0.0       0.0   \n",
       "2                               NaN    1.508037e+09        0.0     777.0   \n",
       "3                               NaN    1.508040e+09        0.0      63.0   \n",
       "4                               NaN    1.508040e+09        0.0     105.0   \n",
       "\n",
       "  rp_flag rp_status  rp_user  ...   qt_creation  qt_fav  qt_rt rt_flag  \\\n",
       "0   False       NaN      NaN  ...  1.508033e+09   274.0  148.0   False   \n",
       "1   False       NaN      NaN  ...  1.507908e+09   628.0  302.0   False   \n",
       "2   False       NaN      NaN  ...           NaN     NaN    NaN    True   \n",
       "3   False       NaN      NaN  ...           NaN     NaN    NaN    True   \n",
       "4   False       NaN      NaN  ...           NaN     NaN    NaN    True   \n",
       "\n",
       "   rt_status_id    rt_user_id  \\\n",
       "0           NaN           NaN   \n",
       "1           NaN           NaN   \n",
       "2  9.144992e+17  2.583248e+08   \n",
       "3  9.189423e+17  1.289955e+09   \n",
       "4  9.193076e+17  8.504084e+17   \n",
       "\n",
       "                                             rt_text   rt_creation  rt_fav  \\\n",
       "0                                                NaN           NaN     NaN   \n",
       "1                                                NaN           NaN     NaN   \n",
       "2  You want a quote to go viral? Retweet this one...  1.506879e+09   704.0   \n",
       "3  @CNN So when are u going to publish a jihadi s...  1.507939e+09   181.0   \n",
       "4  Fash the Nation Episode 92: Immoral High Groun...  1.508026e+09   212.0   \n",
       "\n",
       "   rt_rt  \n",
       "0    NaN  \n",
       "1    NaN  \n",
       "2  777.0  \n",
       "3   63.0  \n",
       "4  105.0  \n",
       "\n",
       "[5 rows x 24 columns]"
      ]
     },
     "execution_count": 4,
     "metadata": {},
     "output_type": "execute_result"
    }
   ],
   "source": [
    "df.head()"
   ]
  },
  {
   "cell_type": "code",
   "execution_count": 5,
   "id": "3c679694",
   "metadata": {},
   "outputs": [
    {
     "data": {
      "text/plain": [
       "4327446"
      ]
     },
     "execution_count": 5,
     "metadata": {},
     "output_type": "execute_result"
    }
   ],
   "source": [
    "df['tweet_text'].isna().sum()"
   ]
  },
  {
   "cell_type": "code",
   "execution_count": 6,
   "id": "262ffe9c",
   "metadata": {},
   "outputs": [
    {
     "data": {
      "text/plain": [
       "11793904"
      ]
     },
     "execution_count": 6,
     "metadata": {},
     "output_type": "execute_result"
    }
   ],
   "source": [
    "len(df.index)"
   ]
  },
  {
   "cell_type": "code",
   "execution_count": 7,
   "id": "cc87f342",
   "metadata": {},
   "outputs": [],
   "source": [
    "convDf = df.dropna(subset=['tweet_text'])"
   ]
  },
  {
   "cell_type": "code",
   "execution_count": 8,
   "id": "35b8e8d7",
   "metadata": {},
   "outputs": [
    {
     "data": {
      "text/plain": [
       "0"
      ]
     },
     "execution_count": 8,
     "metadata": {},
     "output_type": "execute_result"
    }
   ],
   "source": [
    "convDf['tweet_text'].isna().sum()"
   ]
  },
  {
   "cell_type": "code",
   "execution_count": 9,
   "id": "56e720a6",
   "metadata": {},
   "outputs": [
    {
     "data": {
      "text/plain": [
       "7466458"
      ]
     },
     "execution_count": 9,
     "metadata": {},
     "output_type": "execute_result"
    }
   ],
   "source": [
    "len(convDf.index)"
   ]
  },
  {
   "cell_type": "code",
   "execution_count": 12,
   "id": "13991100",
   "metadata": {},
   "outputs": [],
   "source": [
    "convDf.to_csv(\"final_withoutNull.csv\",index = False)"
   ]
  }
 ],
 "metadata": {
  "kernelspec": {
   "display_name": "Python 3 (ipykernel)",
   "language": "python",
   "name": "python3"
  },
  "language_info": {
   "codemirror_mode": {
    "name": "ipython",
    "version": 3
   },
   "file_extension": ".py",
   "mimetype": "text/x-python",
   "name": "python",
   "nbconvert_exporter": "python",
   "pygments_lexer": "ipython3",
   "version": "3.9.6 (tags/v3.9.6:db3ff76, Jun 28 2021, 15:26:21) [MSC v.1929 64 bit (AMD64)]"
  },
  "vscode": {
   "interpreter": {
    "hash": "9bdcfb82fd2f1510c184c097341994aa5e5fcd7cf78734ba3e50d74ceb74f574"
   }
  }
 },
 "nbformat": 4,
 "nbformat_minor": 5
}
