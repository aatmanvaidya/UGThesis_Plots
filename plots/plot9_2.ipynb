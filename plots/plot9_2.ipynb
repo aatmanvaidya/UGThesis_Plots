{
  "cells": [
    {
      "cell_type": "code",
      "execution_count": 1,
      "metadata": {
        "colab": {
          "base_uri": "https://localhost:8080/"
        },
        "id": "wQ5BUr2UUkQC",
        "outputId": "7005918d-66ee-4333-be8a-353247e0e421"
      },
      "outputs": [
        {
          "output_type": "stream",
          "name": "stdout",
          "text": [
            "Mounted at /content/gdrive\n"
          ]
        }
      ],
      "source": [
        "from google.colab import drive\n",
        "drive.mount('/content/gdrive')"
      ]
    },
    {
      "cell_type": "code",
      "source": [
        "#code for the entire graph"
      ],
      "metadata": {
        "id": "WPsblfypc1a7"
      },
      "execution_count": 2,
      "outputs": []
    },
    {
      "cell_type": "code",
      "execution_count": 18,
      "metadata": {
        "id": "4o4xUfs5U4Q0"
      },
      "outputs": [],
      "source": [
        "import pandas as pd\n",
        "import matplotlib.pyplot as plt\n",
        "import matplotlib.ticker as ticker\n",
        "import numpy as np\n",
        "from datetime import datetime\n",
        "import networkx as nx\n",
        "from multiprocessing import Pool\n",
        "import warnings\n",
        "warnings.filterwarnings(\"ignore\")"
      ]
    },
    {
      "cell_type": "code",
      "execution_count": 4,
      "metadata": {
        "id": "bhDYMi7wU5oS"
      },
      "outputs": [],
      "source": [
        "df = pd.read_csv(\"/content/gdrive/My Drive/tweetsConvereted2017_toxicPerspectiveScore.csv\")"
      ]
    },
    {
      "cell_type": "code",
      "execution_count": 5,
      "metadata": {
        "id": "RidRWI4qU8-8"
      },
      "outputs": [],
      "source": [
        "df[\"week\"] = df[\"NewDateFormat\"].apply(lambda x: datetime.strptime(x, \"%Y-%m-%d %H:%M:%S\").strftime(\"%U\"))\n",
        "df[\"month\"] = df[\"NewDateFormat\"].apply(lambda x: datetime.strptime(x, \"%Y-%m-%d %H:%M:%S\").strftime(\"%m\"))\n",
        "df[\"day\"] = df[\"NewDateFormat\"].apply(lambda x: datetime.strptime(x, \"%Y-%m-%d %H:%M:%S\").day)"
      ]
    },
    {
      "cell_type": "code",
      "source": [
        "G = nx.read_edgelist('/content/gdrive/My Drive/users.edgelist')"
      ],
      "metadata": {
        "id": "-9WlJrojzSO4"
      },
      "execution_count": 6,
      "outputs": []
    },
    {
      "cell_type": "code",
      "execution_count": 7,
      "metadata": {
        "id": "xJadn3dZdIdP"
      },
      "outputs": [],
      "source": [
        "groupDf = df[['user_id', 'Toxicity','week','month']]"
      ]
    },
    {
      "cell_type": "code",
      "source": [
        "users_list = list(groupDf['user_id'].unique().astype(str))"
      ],
      "metadata": {
        "id": "VIRqaTqWzWRT"
      },
      "execution_count": 8,
      "outputs": []
    },
    {
      "cell_type": "code",
      "source": [
        "G2 = G.subgraph(users_list)"
      ],
      "metadata": {
        "id": "3z32hyd5zYr5"
      },
      "execution_count": 9,
      "outputs": []
    },
    {
      "cell_type": "code",
      "source": [
        "print(G.number_of_edges())\n",
        "print(G.number_of_nodes())\n",
        "print(G2.number_of_edges())\n",
        "print(G2.number_of_nodes())"
      ],
      "metadata": {
        "colab": {
          "base_uri": "https://localhost:8080/"
        },
        "id": "3BGlC_1Ozbji",
        "outputId": "f9dfca6b-ca56-4285-ce94-d4d8f5df2f65"
      },
      "execution_count": 10,
      "outputs": [
        {
          "output_type": "stream",
          "name": "stdout",
          "text": [
            "2194979\n",
            "100386\n",
            "1161596\n",
            "59848\n"
          ]
        }
      ]
    },
    {
      "cell_type": "code",
      "source": [
        "def get_neighbour_toxicity_mean(user):\n",
        "  neighbours = list(G2.neighbors(user))\n",
        "  temp_list = []\n",
        "  for neigh in neighbours:\n",
        "    neighbourDf = groupDf[groupDf['user_id'].astype(str) ==neigh]\n",
        "    mean_toxicity = neighbourDf['Toxicity'].mean()\n",
        "    temp_list.append(mean_toxicity)\n",
        "  return sum(temp_list)/len(temp_list)"
      ],
      "metadata": {
        "id": "AhtM0KNuzdF-"
      },
      "execution_count": 26,
      "outputs": []
    },
    {
      "cell_type": "code",
      "source": [
        "def get_user_toxicity_mean(user):\n",
        "  userDf = groupDf[groupDf['user_id'].astype(str) ==user]\n",
        "  return userDf['Toxicity'].mean()"
      ],
      "metadata": {
        "id": "tdyzise3zwD7"
      },
      "execution_count": 27,
      "outputs": []
    },
    {
      "cell_type": "code",
      "source": [
        "user_toxicity_means = []\n",
        "neighbor_toxicity_means = []"
      ],
      "metadata": {
        "id": "A5CgiI46z1LM"
      },
      "execution_count": 28,
      "outputs": []
    },
    {
      "cell_type": "code",
      "source": [
        "for user in G2.nodes():\n",
        "  user_mean = get_user_toxicity_mean(user)\n",
        "  neighbour_mean = get_neighbour_toxicity_mean(user)\n",
        "  user_toxicity_means.append(user_mean)\n",
        "  neighbor_toxicity_means.append(neighbour_mean)"
      ],
      "metadata": {
        "id": "Q6TClEgUz3k9"
      },
      "execution_count": null,
      "outputs": []
    },
    {
      "cell_type": "code",
      "source": [
        "plt.figure(figsize=(15,10))\n",
        "plt.scatter(user_toxicity_means, neighbor_toxicity_means)\n",
        "plt.xlabel('Mean toxicity score of user')\n",
        "plt.ylabel('Mean toxicity score of user\\'s neighbors')\n",
        "\n",
        "# plt.xticks([i/10 for i in range(0, 11)])\n",
        "# plt.yticks([i/10 for i in range(0, 11)])\n",
        "plt.show()"
      ],
      "metadata": {
        "id": "DtB245tJz9D4",
        "colab": {
          "base_uri": "https://localhost:8080/",
          "height": 606
        },
        "outputId": "4b7e045b-a7ce-4534-b70e-0e2c19c2cd1f"
      },
      "execution_count": 30,
      "outputs": [
        {
          "output_type": "display_data",
          "data": {
            "text/plain": [
              "<Figure size 1080x720 with 1 Axes>"
            ],
            "image/png": "[encoded data removed]"
          },
          "metadata": {
            "needs_background": "light"
          }
        }
      ]
    },
    {
      "cell_type": "code",
      "source": [
        "# num_processes = 4\n",
        "# pool = Pool(num_processes)\n",
        "# results = pool.map(compute_user_stats, G2.nodes())\n",
        "# pool.close()\n",
        "# # extract the results into separate lists\n",
        "# user_toxicity_means, neighbor_toxicity_means = zip(*results)"
      ],
      "metadata": {
        "id": "ajtyQcHwQGyV"
      },
      "execution_count": 31,
      "outputs": []
    },
    {
      "cell_type": "code",
      "source": [
        "'''\n",
        "import pandas as pd\n",
        "import matplotlib.pyplot as plt\n",
        "import matplotlib.ticker as ticker\n",
        "import numpy as np\n",
        "from datetime import datetime\n",
        "import networkx as nx\n",
        "import warnings\n",
        "warnings.filterwarnings(\"ignore\")\n",
        "\n",
        "df = pd.read_csv(\"/content/gdrive/My Drive/tweetsConvereted2017_toxicPerspectiveScore.csv\")\n",
        "df[\"week\"] = df[\"NewDateFormat\"].apply(lambda x: datetime.strptime(x, \"%Y-%m-%d %H:%M:%S\").strftime(\"%U\"))\n",
        "df[\"month\"] = df[\"NewDateFormat\"].apply(lambda x: datetime.strptime(x, \"%Y-%m-%d %H:%M:%S\").strftime(\"%m\"))\n",
        "df[\"day\"] = df[\"NewDateFormat\"].apply(lambda x: datetime.strptime(x, \"%Y-%m-%d %H:%M:%S\").day)\n",
        "\n",
        "G = nx.read_edgelist('/content/gdrive/My Drive/users.edgelist')\n",
        "groupDf = df[['user_id', 'Toxicity','week','month']]\n",
        "users_list = list(groupDf['user_id'].unique().astype(str))\n",
        "G2 = G.subgraph(users_list)\n",
        "\n",
        "def get_neighbour_toxicity_mean(user):\n",
        "  neighbours = list(G2.neighbors(user))\n",
        "  temp_list = []\n",
        "  for neigh in neighbours:\n",
        "    neighbourDf = groupDf[groupDf['user_id'].astype(str) ==neigh]\n",
        "    mean_toxicity = neighbourDf['Toxicity'].mean()\n",
        "    temp_list.append(mean_toxicity)\n",
        "  return sum(temp_list)/len(temp_list)\n",
        "\n",
        "def get_user_toxicity_mean(user):\n",
        "  userDf = groupDf[groupDf['user_id'].astype(str) ==user]\n",
        "  return userDf['Toxicity'].mean()\n",
        "\n",
        "user_toxicity_means = []\n",
        "neighbor_toxicity_means = []\n",
        "\n",
        "for user in G2.nodes():\n",
        "  user_mean = get_user_toxicity_mean(user)\n",
        "  neighbour_mean = get_neighbour_toxicity_mean(user)\n",
        "  user_toxicity_means.append(user_mean)\n",
        "  neighbor_toxicity_means.append(neighbour_mean)\n",
        "\n",
        "plt.figure(figsize=(15,10))\n",
        "plt.scatter(user_toxicity_means, neighbor_toxicity_means)\n",
        "plt.xlabel('Mean toxicity score of user')\n",
        "plt.ylabel('Mean toxicity score of user\\'s neighbors')\n",
        "\n",
        "# plt.xticks([i/10 for i in range(0, 11)])\n",
        "# plt.yticks([i/10 for i in range(0, 11)])\n",
        "plt.show()\n",
        "'''"
      ],
      "metadata": {
        "id": "_lu-lp0FEM0B",
        "colab": {
          "base_uri": "https://localhost:8080/",
          "height": 123
        },
        "outputId": "ed41b853-da8d-484b-982e-11566b2540eb"
      },
      "execution_count": 32,
      "outputs": [
        {
          "output_type": "execute_result",
          "data": {
            "text/plain": [
              "'\\nimport pandas as pd\\nimport matplotlib.pyplot as plt\\nimport matplotlib.ticker as ticker\\nimport numpy as np\\nfrom datetime import datetime\\nimport networkx as nx\\nimport warnings\\nwarnings.filterwarnings(\"ignore\")\\n\\ndf = pd.read_csv(\"/content/gdrive/My Drive/tweetsConvereted2017_toxicPerspectiveScore.csv\")\\ndf[\"week\"] = df[\"NewDateFormat\"].apply(lambda x: datetime.strptime(x, \"%Y-%m-%d %H:%M:%S\").strftime(\"%U\"))\\ndf[\"month\"] = df[\"NewDateFormat\"].apply(lambda x: datetime.strptime(x, \"%Y-%m-%d %H:%M:%S\").strftime(\"%m\"))\\ndf[\"day\"] = df[\"NewDateFormat\"].apply(lambda x: datetime.strptime(x, \"%Y-%m-%d %H:%M:%S\").day)\\n\\nG = nx.read_edgelist(\\'/content/gdrive/My Drive/users.edgelist\\')\\ngroupDf = df[[\\'user_id\\', \\'Toxicity\\',\\'week\\',\\'month\\']]\\nusers_list = list(groupDf[\\'user_id\\'].unique().astype(str))\\nG2 = G.subgraph(users_list)\\n\\ndef get_neighbour_toxicity_mean(user):\\n  neighbours = list(G2.neighbors(user))\\n  temp_list = []\\n  for neigh in neighbours:\\n    neighbourDf = groupDf[groupDf[\\'user_id\\'].astype(str) ==neigh]\\n    mean_toxicity = neighbourDf[\\'Toxicity\\'].mean()\\n    temp_list.append(mean_toxicity)\\n  return sum(temp_list)/len(temp_list)\\n\\ndef get_user_toxicity_mean(user):\\n  userDf = groupDf[groupDf[\\'user_id\\'].astype(str) ==user]\\n  return userDf[\\'Toxicity\\'].mean()\\n\\nuser_toxicity_means = []\\nneighbor_toxicity_means = []\\n\\nfor user in G2.nodes():\\n  user_mean = get_user_toxicity_mean(user)\\n  neighbour_mean = get_neighbour_toxicity_mean(user)\\n  user_toxicity_means.append(user_mean)\\n  neighbor_toxicity_means.append(neighbour_mean)\\n\\nplt.figure(figsize=(15,10))\\nplt.scatter(user_toxicity_means, neighbor_toxicity_means)\\nplt.xlabel(\\'Mean toxicity score of user\\')\\nplt.ylabel(\\'Mean toxicity score of user\\'s neighbors\\')\\n\\n# plt.xticks([i/10 for i in range(0, 11)])\\n# plt.yticks([i/10 for i in range(0, 11)])\\nplt.show()\\n'"
            ],
            "application/vnd.google.colaboratory.intrinsic+json": {
              "type": "string"
            }
          },
          "metadata": {},
          "execution_count": 32
        }
      ]
    }
  ],
  "metadata": {
    "colab": {
      "provenance": []
    },
    "kernelspec": {
      "display_name": "Python 3",
      "name": "python3"
    },
    "language_info": {
      "name": "python"
    }
  },
  "nbformat": 4,
  "nbformat_minor": 0
}