{
  "nbformat": 4,
  "nbformat_minor": 0,
  "metadata": {
    "colab": {
      "provenance": []
    },
    "kernelspec": {
      "name": "python3",
      "display_name": "Python 3"
    },
    "language_info": {
      "name": "python"
    }
  },
  "cells": [
    {
      "cell_type": "code",
      "execution_count": 1,
      "metadata": {
        "colab": {
          "base_uri": "https://localhost:8080/"
        },
        "id": "wQ5BUr2UUkQC",
        "outputId": "e74c9159-d17a-408a-b379-d5e7def789c7"
      },
      "outputs": [
        {
          "output_type": "stream",
          "name": "stdout",
          "text": [
            "Mounted at /content/gdrive\n"
          ]
        }
      ],
      "source": [
        "from google.colab import drive\n",
        "drive.mount('/content/gdrive')"
      ]
    },
    {
      "cell_type": "code",
      "source": [
        "import pandas as pd\n",
        "import matplotlib.pyplot as plt\n",
        "import matplotlib.ticker as ticker\n",
        "import numpy as np\n",
        "from datetime import datetime\n",
        "import networkx as nx\n",
        "import warnings\n",
        "warnings.filterwarnings(\"ignore\")"
      ],
      "metadata": {
        "id": "4o4xUfs5U4Q0"
      },
      "execution_count": 2,
      "outputs": []
    },
    {
      "cell_type": "code",
      "source": [
        "df = pd.read_csv(\"/content/gdrive/My Drive/tweetsConvereted2017_toxicPerspectiveScore.csv\")"
      ],
      "metadata": {
        "id": "bhDYMi7wU5oS"
      },
      "execution_count": 3,
      "outputs": []
    },
    {
      "cell_type": "code",
      "source": [
        "df[\"week\"] = df[\"NewDateFormat\"].apply(lambda x: datetime.strptime(x, \"%Y-%m-%d %H:%M:%S\").strftime(\"%U\"))\n",
        "df[\"month\"] = df[\"NewDateFormat\"].apply(lambda x: datetime.strptime(x, \"%Y-%m-%d %H:%M:%S\").strftime(\"%m\"))"
      ],
      "metadata": {
        "id": "RidRWI4qU8-8"
      },
      "execution_count": 4,
      "outputs": []
    },
    {
      "cell_type": "code",
      "source": [
        "G = nx.read_edgelist(\"/content/gdrive/My Drive/users_filtered.edgelist\")"
      ],
      "metadata": {
        "id": "U-qFf7Z7VHDp"
      },
      "execution_count": 5,
      "outputs": []
    },
    {
      "cell_type": "code",
      "source": [
        "nx.number_of_nodes(G)"
      ],
      "metadata": {
        "colab": {
          "base_uri": "https://localhost:8080/"
        },
        "id": "_9C8fIvLbeoy",
        "outputId": "8db475aa-5b37-415f-d8b5-1c1d61e911b9"
      },
      "execution_count": 6,
      "outputs": [
        {
          "output_type": "execute_result",
          "data": {
            "text/plain": [
              "59848"
            ]
          },
          "metadata": {},
          "execution_count": 6
        }
      ]
    },
    {
      "cell_type": "code",
      "source": [
        "groupDf = df[['user_id', 'Toxicity','week','month']]"
      ],
      "metadata": {
        "id": "xJadn3dZdIdP"
      },
      "execution_count": 8,
      "outputs": []
    },
    {
      "cell_type": "code",
      "source": [
        "weekDf = groupDf[groupDf['week']==\"01\"]"
      ],
      "metadata": {
        "id": "Wov9G5OziSkM"
      },
      "execution_count": 15,
      "outputs": []
    },
    {
      "cell_type": "code",
      "source": [
        "weekDf.head()"
      ],
      "metadata": {
        "colab": {
          "base_uri": "https://localhost:8080/",
          "height": 206
        },
        "id": "lKdA40aLvE3k",
        "outputId": "890056b9-a5be-4ce6-ba5e-7575063e3bf5"
      },
      "execution_count": 25,
      "outputs": [
        {
          "output_type": "execute_result",
          "data": {
            "text/plain": [
              "                 user_id  Toxicity week month\n",
              "3722  714557249604227075  0.004304   01    01\n",
              "3723  714557249604227075  0.007665   01    01\n",
              "5293            20430045  0.399880   01    01\n",
              "5294            20430045  0.028856   01    01\n",
              "5295            20430045  0.168519   01    01"
            ],
            "text/html": [
              "\n",
              "  <div id=\"df-4527382a-6796-4acb-b543-2efecc16cd94\">\n",
              "    <div class=\"colab-df-container\">\n",
              "      <div>\n",
              "<style scoped>\n",
              "    .dataframe tbody tr th:only-of-type {\n",
              "        vertical-align: middle;\n",
              "    }\n",
              "\n",
              "    .dataframe tbody tr th {\n",
              "        vertical-align: top;\n",
              "    }\n",
              "\n",
              "    .dataframe thead th {\n",
              "        text-align: right;\n",
              "    }\n",
              "</style>\n",
              "<table border=\"1\" class=\"dataframe\">\n",
              "  <thead>\n",
              "    <tr style=\"text-align: right;\">\n",
              "      <th></th>\n",
              "      <th>user_id</th>\n",
              "      <th>Toxicity</th>\n",
              "      <th>week</th>\n",
              "      <th>month</th>\n",
              "    </tr>\n",
              "  </thead>\n",
              "  <tbody>\n",
              "    <tr>\n",
              "      <th>3722</th>\n",
              "      <td>714557249604227075</td>\n",
              "      <td>0.004304</td>\n",
              "      <td>01</td>\n",
              "      <td>01</td>\n",
              "    </tr>\n",
              "    <tr>\n",
              "      <th>3723</th>\n",
              "      <td>714557249604227075</td>\n",
              "      <td>0.007665</td>\n",
              "      <td>01</td>\n",
              "      <td>01</td>\n",
              "    </tr>\n",
              "    <tr>\n",
              "      <th>5293</th>\n",
              "      <td>20430045</td>\n",
              "      <td>0.399880</td>\n",
              "      <td>01</td>\n",
              "      <td>01</td>\n",
              "    </tr>\n",
              "    <tr>\n",
              "      <th>5294</th>\n",
              "      <td>20430045</td>\n",
              "      <td>0.028856</td>\n",
              "      <td>01</td>\n",
              "      <td>01</td>\n",
              "    </tr>\n",
              "    <tr>\n",
              "      <th>5295</th>\n",
              "      <td>20430045</td>\n",
              "      <td>0.168519</td>\n",
              "      <td>01</td>\n",
              "      <td>01</td>\n",
              "    </tr>\n",
              "  </tbody>\n",
              "</table>\n",
              "</div>\n",
              "      <button class=\"colab-df-convert\" onclick=\"convertToInteractive('df-4527382a-6796-4acb-b543-2efecc16cd94')\"\n",
              "              title=\"Convert this dataframe to an interactive table.\"\n",
              "              style=\"display:none;\">\n",
              "        \n",
              "  <svg xmlns=\"http://www.w3.org/2000/svg\" height=\"24px\"viewBox=\"0 0 24 24\"\n",
              "       width=\"24px\">\n",
              "    <path d=\"M0 0h24v24H0V0z\" fill=\"none\"/>\n",
              "    <path d=\"M18.56 5.44l.94 2.06.94-2.06 2.06-.94-2.06-.94-.94-2.06-.94 2.06-2.06.94zm-11 1L8.5 8.5l.94-2.06 2.06-.94-2.06-.94L8.5 2.5l-.94 2.06-2.06.94zm10 10l.94 2.06.94-2.06 2.06-.94-2.06-.94-.94-2.06-.94 2.06-2.06.94z\"/><path d=\"M17.41 7.96l-1.37-1.37c-.4-.4-.92-.59-1.43-.59-.52 0-1.04.2-1.43.59L10.3 9.45l-7.72 7.72c-.78.78-.78 2.05 0 2.83L4 21.41c.39.39.9.59 1.41.59.51 0 1.02-.2 1.41-.59l7.78-7.78 2.81-2.81c.8-.78.8-2.07 0-2.86zM5.41 20L4 18.59l7.72-7.72 1.47 1.35L5.41 20z\"/>\n",
              "  </svg>\n",
              "      </button>\n",
              "      \n",
              "  <style>\n",
              "    .colab-df-container {\n",
              "      display:flex;\n",
              "      flex-wrap:wrap;\n",
              "      gap: 12px;\n",
              "    }\n",
              "\n",
              "    .colab-df-convert {\n",
              "      background-color: #E8F0FE;\n",
              "      border: none;\n",
              "      border-radius: 50%;\n",
              "      cursor: pointer;\n",
              "      display: none;\n",
              "      fill: #1967D2;\n",
              "      height: 32px;\n",
              "      padding: 0 0 0 0;\n",
              "      width: 32px;\n",
              "    }\n",
              "\n",
              "    .colab-df-convert:hover {\n",
              "      background-color: #E2EBFA;\n",
              "      box-shadow: 0px 1px 2px rgba(60, 64, 67, 0.3), 0px 1px 3px 1px rgba(60, 64, 67, 0.15);\n",
              "      fill: #174EA6;\n",
              "    }\n",
              "\n",
              "    [theme=dark] .colab-df-convert {\n",
              "      background-color: #3B4455;\n",
              "      fill: #D2E3FC;\n",
              "    }\n",
              "\n",
              "    [theme=dark] .colab-df-convert:hover {\n",
              "      background-color: #434B5C;\n",
              "      box-shadow: 0px 1px 3px 1px rgba(0, 0, 0, 0.15);\n",
              "      filter: drop-shadow(0px 1px 2px rgba(0, 0, 0, 0.3));\n",
              "      fill: #FFFFFF;\n",
              "    }\n",
              "  </style>\n",
              "\n",
              "      <script>\n",
              "        const buttonEl =\n",
              "          document.querySelector('#df-4527382a-6796-4acb-b543-2efecc16cd94 button.colab-df-convert');\n",
              "        buttonEl.style.display =\n",
              "          google.colab.kernel.accessAllowed ? 'block' : 'none';\n",
              "\n",
              "        async function convertToInteractive(key) {\n",
              "          const element = document.querySelector('#df-4527382a-6796-4acb-b543-2efecc16cd94');\n",
              "          const dataTable =\n",
              "            await google.colab.kernel.invokeFunction('convertToInteractive',\n",
              "                                                     [key], {});\n",
              "          if (!dataTable) return;\n",
              "\n",
              "          const docLinkHtml = 'Like what you see? Visit the ' +\n",
              "            '<a target=\"_blank\" href=https://colab.research.google.com/notebooks/data_table.ipynb>data table notebook</a>'\n",
              "            + ' to learn more about interactive tables.';\n",
              "          element.innerHTML = '';\n",
              "          dataTable['output_type'] = 'display_data';\n",
              "          await google.colab.output.renderOutput(dataTable, element);\n",
              "          const docLink = document.createElement('div');\n",
              "          docLink.innerHTML = docLinkHtml;\n",
              "          element.appendChild(docLink);\n",
              "        }\n",
              "      </script>\n",
              "    </div>\n",
              "  </div>\n",
              "  "
            ]
          },
          "metadata": {},
          "execution_count": 25
        }
      ]
    },
    {
      "cell_type": "code",
      "source": [
        "neigh = list(nx.neighbors(G, str(714557249604227075)))"
      ],
      "metadata": {
        "id": "T7vdEVE7vHUj"
      },
      "execution_count": 28,
      "outputs": []
    },
    {
      "cell_type": "code",
      "source": [
        "def mean_toxicity_score_for_neighbors(user_id):\n",
        "    neighbors = list(nx.neighbors(G, str(user_id)))\n",
        "    tweets_from_neighbors_df = weekDf[weekDf[\"user_id\"].isin(neighbors)]\n",
        "    mean_toxicity_score = tweets_from_neighbors_df[\"Toxicity\"].mean()\n",
        "    return mean_toxicity_score"
      ],
      "metadata": {
        "id": "PXKkm6GScpgk"
      },
      "execution_count": 21,
      "outputs": []
    },
    {
      "cell_type": "code",
      "source": [
        "def mean_toxicity_score_for_user(user_id):\n",
        "    tweets_from_user_df = weekDf[weekDf[\"user_id\"] == user_id]\n",
        "    mean_toxicity_score = tweets_from_user_df[\"Toxicity\"].mean()\n",
        "    return mean_toxicity_score"
      ],
      "metadata": {
        "id": "bUQS7jEBdrIA"
      },
      "execution_count": 22,
      "outputs": []
    },
    {
      "cell_type": "code",
      "source": [
        "mean_toxicity_score_for_neighbors_dict = {}\n",
        "mean_toxicity_score_for_user_dict = {}\n",
        "for user in G.nodes():\n",
        "    mean_toxicity_score_for_neighbors_dict[user] = mean_toxicity_score_for_neighbors(user)\n",
        "    mean_toxicity_score_for_user_dict[user] = mean_toxicity_score_for_user(user)"
      ],
      "metadata": {
        "id": "jUhsyvBvdzp3"
      },
      "execution_count": 18,
      "outputs": []
    },
    {
      "cell_type": "code",
      "source": [
        "x = list(mean_toxicity_score_for_user_dict.values())\n",
        "y = list(mean_toxicity_score_for_neighbors_dict.values())"
      ],
      "metadata": {
        "id": "gro51kfYvAS5"
      },
      "execution_count": 23,
      "outputs": []
    },
    {
      "cell_type": "code",
      "source": [
        "plt.scatter(x, y)\n",
        "plt.xlabel(\"Mean Toxicity Score for User\")\n",
        "plt.ylabel(\"Mean Toxicity Score for User's Neighbors\")\n",
        "plt.title(\"Scatter Plot of Mean Toxicity Scores\")\n",
        "plt.show()"
      ],
      "metadata": {
        "colab": {
          "base_uri": "https://localhost:8080/",
          "height": 295
        },
        "id": "VWeLKpr9d_qo",
        "outputId": "43a7a600-f8f7-4689-8580-667a09c3d74c"
      },
      "execution_count": 24,
      "outputs": [
        {
          "output_type": "display_data",
          "data": {
            "text/plain": [
              "<Figure size 432x288 with 1 Axes>"
            ],
            "image/png": "[encoded data removed]"
          },
          "metadata": {
            "needs_background": "light"
          }
        }
      ]
    }
  ]
}