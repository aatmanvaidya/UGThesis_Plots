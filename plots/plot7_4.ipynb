{
  "nbformat": 4,
  "nbformat_minor": 0,
  "metadata": {
    "colab": {
      "provenance": []
    },
    "kernelspec": {
      "name": "python3",
      "display_name": "Python 3"
    },
    "language_info": {
      "name": "python"
    }
  },
  "cells": [
    {
      "cell_type": "code",
      "execution_count": null,
      "metadata": {
        "colab": {
          "base_uri": "https://localhost:8080/"
        },
        "id": "N8Uhc2Figqgx",
        "outputId": "ef460fa6-4b1c-40b3-ef12-c59bd1f241ee"
      },
      "outputs": [
        {
          "output_type": "stream",
          "name": "stdout",
          "text": [
            "Mounted at /content/gdrive\n"
          ]
        }
      ],
      "source": [
        "from google.colab import drive\n",
        "drive.mount('/content/gdrive')  "
      ]
    },
    {
      "cell_type": "code",
      "source": [
        "import pandas as pd\n",
        "import matplotlib.pyplot as plt\n",
        "import matplotlib.ticker as ticker\n",
        "import numpy as np\n",
        "from datetime import datetime\n",
        "import seaborn as sns\n",
        "import warnings\n",
        "warnings.filterwarnings(\"ignore\")"
      ],
      "metadata": {
        "id": "6T1DBu6khhdP"
      },
      "execution_count": null,
      "outputs": []
    },
    {
      "cell_type": "code",
      "source": [
        "df = pd.read_csv(\"/content/gdrive/My Drive/tweetsConvereted2017_toxicPerspectiveScore.csv\")"
      ],
      "metadata": {
        "id": "OEzWG46Khh3q"
      },
      "execution_count": null,
      "outputs": []
    },
    {
      "cell_type": "code",
      "source": [
        "df[\"month\"] = df[\"NewDateFormat\"].apply(lambda x: datetime.strptime(x, \"%Y-%m-%d %H:%M:%S\").strftime(\"%m\"))"
      ],
      "metadata": {
        "id": "ps54SDbHhjJq"
      },
      "execution_count": null,
      "outputs": []
    },
    {
      "cell_type": "code",
      "source": [
        "groupDf = df[['user_id', 'Toxicity','qt_flag', 'rt_flag','month']]"
      ],
      "metadata": {
        "id": "51QIL7sEh8ia"
      },
      "execution_count": null,
      "outputs": []
    },
    {
      "cell_type": "code",
      "source": [
        "groupDf['Toxicity'] = groupDf['Toxicity'] * 10\n",
        "groupDf['Toxicity'] = (groupDf['Toxicity'].apply(np.ceil)) / 10"
      ],
      "metadata": {
        "id": "lZnzPhb1ig9T"
      },
      "execution_count": null,
      "outputs": []
    },
    {
      "cell_type": "code",
      "source": [
        "groupDf = groupDf[groupDf['Toxicity'] != 0.0]"
      ],
      "metadata": {
        "id": "vDSpXigkhaPe"
      },
      "execution_count": null,
      "outputs": []
    },
    {
      "cell_type": "code",
      "source": [
        "groupDf['user_id'].nunique()"
      ],
      "metadata": {
        "colab": {
          "base_uri": "https://localhost:8080/"
        },
        "id": "W1QER35ah9kc",
        "outputId": "243cf69e-be9b-4f43-db79-b3afb72bdde3"
      },
      "execution_count": null,
      "outputs": [
        {
          "output_type": "execute_result",
          "data": {
            "text/plain": [
              "59848"
            ]
          },
          "metadata": {},
          "execution_count": 9
        }
      ]
    },
    {
      "cell_type": "code",
      "source": [
        "monthDf = groupDf[groupDf['month'] == \"10\"]"
      ],
      "metadata": {
        "id": "3CzcETb_ikFT"
      },
      "execution_count": null,
      "outputs": []
    },
    {
      "cell_type": "code",
      "source": [
        "print(monthDf['user_id'].nunique())\n",
        "print(len(monthDf['Toxicity']))"
      ],
      "metadata": {
        "colab": {
          "base_uri": "https://localhost:8080/"
        },
        "id": "PAgnRvXxif94",
        "outputId": "77fc4ea8-f009-49ec-be79-f10232364550"
      },
      "execution_count": null,
      "outputs": [
        {
          "output_type": "stream",
          "name": "stdout",
          "text": [
            "58848\n",
            "4679599\n"
          ]
        }
      ]
    },
    {
      "cell_type": "code",
      "source": [
        "monthDf.head()"
      ],
      "metadata": {
        "id": "obIBCoIbimby",
        "colab": {
          "base_uri": "https://localhost:8080/",
          "height": 206
        },
        "outputId": "09daa5c9-dca3-431c-9291-9ac3bb35e60d"
      },
      "execution_count": null,
      "outputs": [
        {
          "output_type": "execute_result",
          "data": {
            "text/plain": [
              "              user_id  Toxicity  qt_flag  rt_flag month\n",
              "3  773711528398848000       0.1    False    False    10\n",
              "4  773711528398848000       0.1    False    False    10\n",
              "5  773711528398848000       0.5    False    False    10\n",
              "6  773711528398848000       0.3    False    False    10\n",
              "7  773711528398848000       0.3    False    False    10"
            ],
            "text/html": [
              "\n",
              "  <div id=\"df-2d17de12-edd8-46c1-b963-35900520e437\">\n",
              "    <div class=\"colab-df-container\">\n",
              "      <div>\n",
              "<style scoped>\n",
              "    .dataframe tbody tr th:only-of-type {\n",
              "        vertical-align: middle;\n",
              "    }\n",
              "\n",
              "    .dataframe tbody tr th {\n",
              "        vertical-align: top;\n",
              "    }\n",
              "\n",
              "    .dataframe thead th {\n",
              "        text-align: right;\n",
              "    }\n",
              "</style>\n",
              "<table border=\"1\" class=\"dataframe\">\n",
              "  <thead>\n",
              "    <tr style=\"text-align: right;\">\n",
              "      <th></th>\n",
              "      <th>user_id</th>\n",
              "      <th>Toxicity</th>\n",
              "      <th>qt_flag</th>\n",
              "      <th>rt_flag</th>\n",
              "      <th>month</th>\n",
              "    </tr>\n",
              "  </thead>\n",
              "  <tbody>\n",
              "    <tr>\n",
              "      <th>3</th>\n",
              "      <td>773711528398848000</td>\n",
              "      <td>0.1</td>\n",
              "      <td>False</td>\n",
              "      <td>False</td>\n",
              "      <td>10</td>\n",
              "    </tr>\n",
              "    <tr>\n",
              "      <th>4</th>\n",
              "      <td>773711528398848000</td>\n",
              "      <td>0.1</td>\n",
              "      <td>False</td>\n",
              "      <td>False</td>\n",
              "      <td>10</td>\n",
              "    </tr>\n",
              "    <tr>\n",
              "      <th>5</th>\n",
              "      <td>773711528398848000</td>\n",
              "      <td>0.5</td>\n",
              "      <td>False</td>\n",
              "      <td>False</td>\n",
              "      <td>10</td>\n",
              "    </tr>\n",
              "    <tr>\n",
              "      <th>6</th>\n",
              "      <td>773711528398848000</td>\n",
              "      <td>0.3</td>\n",
              "      <td>False</td>\n",
              "      <td>False</td>\n",
              "      <td>10</td>\n",
              "    </tr>\n",
              "    <tr>\n",
              "      <th>7</th>\n",
              "      <td>773711528398848000</td>\n",
              "      <td>0.3</td>\n",
              "      <td>False</td>\n",
              "      <td>False</td>\n",
              "      <td>10</td>\n",
              "    </tr>\n",
              "  </tbody>\n",
              "</table>\n",
              "</div>\n",
              "      <button class=\"colab-df-convert\" onclick=\"convertToInteractive('df-2d17de12-edd8-46c1-b963-35900520e437')\"\n",
              "              title=\"Convert this dataframe to an interactive table.\"\n",
              "              style=\"display:none;\">\n",
              "        \n",
              "  <svg xmlns=\"http://www.w3.org/2000/svg\" height=\"24px\"viewBox=\"0 0 24 24\"\n",
              "       width=\"24px\">\n",
              "    <path d=\"M0 0h24v24H0V0z\" fill=\"none\"/>\n",
              "    <path d=\"M18.56 5.44l.94 2.06.94-2.06 2.06-.94-2.06-.94-.94-2.06-.94 2.06-2.06.94zm-11 1L8.5 8.5l.94-2.06 2.06-.94-2.06-.94L8.5 2.5l-.94 2.06-2.06.94zm10 10l.94 2.06.94-2.06 2.06-.94-2.06-.94-.94-2.06-.94 2.06-2.06.94z\"/><path d=\"M17.41 7.96l-1.37-1.37c-.4-.4-.92-.59-1.43-.59-.52 0-1.04.2-1.43.59L10.3 9.45l-7.72 7.72c-.78.78-.78 2.05 0 2.83L4 21.41c.39.39.9.59 1.41.59.51 0 1.02-.2 1.41-.59l7.78-7.78 2.81-2.81c.8-.78.8-2.07 0-2.86zM5.41 20L4 18.59l7.72-7.72 1.47 1.35L5.41 20z\"/>\n",
              "  </svg>\n",
              "      </button>\n",
              "      \n",
              "  <style>\n",
              "    .colab-df-container {\n",
              "      display:flex;\n",
              "      flex-wrap:wrap;\n",
              "      gap: 12px;\n",
              "    }\n",
              "\n",
              "    .colab-df-convert {\n",
              "      background-color: #E8F0FE;\n",
              "      border: none;\n",
              "      border-radius: 50%;\n",
              "      cursor: pointer;\n",
              "      display: none;\n",
              "      fill: #1967D2;\n",
              "      height: 32px;\n",
              "      padding: 0 0 0 0;\n",
              "      width: 32px;\n",
              "    }\n",
              "\n",
              "    .colab-df-convert:hover {\n",
              "      background-color: #E2EBFA;\n",
              "      box-shadow: 0px 1px 2px rgba(60, 64, 67, 0.3), 0px 1px 3px 1px rgba(60, 64, 67, 0.15);\n",
              "      fill: #174EA6;\n",
              "    }\n",
              "\n",
              "    [theme=dark] .colab-df-convert {\n",
              "      background-color: #3B4455;\n",
              "      fill: #D2E3FC;\n",
              "    }\n",
              "\n",
              "    [theme=dark] .colab-df-convert:hover {\n",
              "      background-color: #434B5C;\n",
              "      box-shadow: 0px 1px 3px 1px rgba(0, 0, 0, 0.15);\n",
              "      filter: drop-shadow(0px 1px 2px rgba(0, 0, 0, 0.3));\n",
              "      fill: #FFFFFF;\n",
              "    }\n",
              "  </style>\n",
              "\n",
              "      <script>\n",
              "        const buttonEl =\n",
              "          document.querySelector('#df-2d17de12-edd8-46c1-b963-35900520e437 button.colab-df-convert');\n",
              "        buttonEl.style.display =\n",
              "          google.colab.kernel.accessAllowed ? 'block' : 'none';\n",
              "\n",
              "        async function convertToInteractive(key) {\n",
              "          const element = document.querySelector('#df-2d17de12-edd8-46c1-b963-35900520e437');\n",
              "          const dataTable =\n",
              "            await google.colab.kernel.invokeFunction('convertToInteractive',\n",
              "                                                     [key], {});\n",
              "          if (!dataTable) return;\n",
              "\n",
              "          const docLinkHtml = 'Like what you see? Visit the ' +\n",
              "            '<a target=\"_blank\" href=https://colab.research.google.com/notebooks/data_table.ipynb>data table notebook</a>'\n",
              "            + ' to learn more about interactive tables.';\n",
              "          element.innerHTML = '';\n",
              "          dataTable['output_type'] = 'display_data';\n",
              "          await google.colab.output.renderOutput(dataTable, element);\n",
              "          const docLink = document.createElement('div');\n",
              "          docLink.innerHTML = docLinkHtml;\n",
              "          element.appendChild(docLink);\n",
              "        }\n",
              "      </script>\n",
              "    </div>\n",
              "  </div>\n",
              "  "
            ]
          },
          "metadata": {},
          "execution_count": 27
        }
      ]
    },
    {
      "cell_type": "code",
      "source": [
        "def categorize_tweets(group):\n",
        "    if (group['qt_flag'] == False).all() and (group['rt_flag'] == False).all():\n",
        "        return 'o'\n",
        "    elif (group['qt_flag'] == False).all() and (group['rt_flag'] == True).all():\n",
        "        return 'r'\n",
        "    elif (group['qt_flag'] == True).all() and (group['rt_flag'] == False).all():\n",
        "        return 'q'\n",
        "    elif ((group['qt_flag'] == False) & (group['rt_flag'] == True)).any() and ((group['qt_flag'] == False) & (group['rt_flag'] == False)).any():\n",
        "        return 'o_r'\n",
        "    elif ((group['qt_flag'] == True) & (group['rt_flag'] == False)).any() and ((group['qt_flag'] == False) & (group['rt_flag'] == False)).any():\n",
        "        return 'o_q'\n",
        "    elif ((group['qt_flag'] == True) & (group['rt_flag'] == True)).any() and ((group['qt_flag'] == False) & (group['rt_flag'] == False)).any():\n",
        "        return 'q_r'\n",
        "    else:\n",
        "        return 'o_q_r'"
      ],
      "metadata": {
        "id": "BSYxHnOEE0Zs"
      },
      "execution_count": null,
      "outputs": []
    },
    {
      "cell_type": "code",
      "source": [
        "userDf = monthDf.groupby('user_id').apply(categorize_tweets)"
      ],
      "metadata": {
        "id": "EJJN7Mn5c5Za"
      },
      "execution_count": null,
      "outputs": []
    },
    {
      "cell_type": "code",
      "source": [
        "userDf = userDf.reset_index()\n",
        "userDf = userDf.rename(columns={userDf.columns[1]: \"user_category\"})"
      ],
      "metadata": {
        "id": "lA0l7L1D0Gt0"
      },
      "execution_count": null,
      "outputs": []
    },
    {
      "cell_type": "code",
      "source": [
        "userDf.head()"
      ],
      "metadata": {
        "id": "CvCdOzzvdI8p",
        "colab": {
          "base_uri": "https://localhost:8080/",
          "height": 206
        },
        "outputId": "2728e81a-b06b-43cc-d939-331b1d1bc8dc"
      },
      "execution_count": null,
      "outputs": [
        {
          "output_type": "execute_result",
          "data": {
            "text/plain": [
              "   user_id user_category\n",
              "0       12           o_q\n",
              "1      278             o\n",
              "2      541           o_q\n",
              "3      586           o_q\n",
              "4      633           o_q"
            ],
            "text/html": [
              "\n",
              "  <div id=\"df-02512fc1-83b1-4993-9dd0-e7c38f137eb6\">\n",
              "    <div class=\"colab-df-container\">\n",
              "      <div>\n",
              "<style scoped>\n",
              "    .dataframe tbody tr th:only-of-type {\n",
              "        vertical-align: middle;\n",
              "    }\n",
              "\n",
              "    .dataframe tbody tr th {\n",
              "        vertical-align: top;\n",
              "    }\n",
              "\n",
              "    .dataframe thead th {\n",
              "        text-align: right;\n",
              "    }\n",
              "</style>\n",
              "<table border=\"1\" class=\"dataframe\">\n",
              "  <thead>\n",
              "    <tr style=\"text-align: right;\">\n",
              "      <th></th>\n",
              "      <th>user_id</th>\n",
              "      <th>user_category</th>\n",
              "    </tr>\n",
              "  </thead>\n",
              "  <tbody>\n",
              "    <tr>\n",
              "      <th>0</th>\n",
              "      <td>12</td>\n",
              "      <td>o_q</td>\n",
              "    </tr>\n",
              "    <tr>\n",
              "      <th>1</th>\n",
              "      <td>278</td>\n",
              "      <td>o</td>\n",
              "    </tr>\n",
              "    <tr>\n",
              "      <th>2</th>\n",
              "      <td>541</td>\n",
              "      <td>o_q</td>\n",
              "    </tr>\n",
              "    <tr>\n",
              "      <th>3</th>\n",
              "      <td>586</td>\n",
              "      <td>o_q</td>\n",
              "    </tr>\n",
              "    <tr>\n",
              "      <th>4</th>\n",
              "      <td>633</td>\n",
              "      <td>o_q</td>\n",
              "    </tr>\n",
              "  </tbody>\n",
              "</table>\n",
              "</div>\n",
              "      <button class=\"colab-df-convert\" onclick=\"convertToInteractive('df-02512fc1-83b1-4993-9dd0-e7c38f137eb6')\"\n",
              "              title=\"Convert this dataframe to an interactive table.\"\n",
              "              style=\"display:none;\">\n",
              "        \n",
              "  <svg xmlns=\"http://www.w3.org/2000/svg\" height=\"24px\"viewBox=\"0 0 24 24\"\n",
              "       width=\"24px\">\n",
              "    <path d=\"M0 0h24v24H0V0z\" fill=\"none\"/>\n",
              "    <path d=\"M18.56 5.44l.94 2.06.94-2.06 2.06-.94-2.06-.94-.94-2.06-.94 2.06-2.06.94zm-11 1L8.5 8.5l.94-2.06 2.06-.94-2.06-.94L8.5 2.5l-.94 2.06-2.06.94zm10 10l.94 2.06.94-2.06 2.06-.94-2.06-.94-.94-2.06-.94 2.06-2.06.94z\"/><path d=\"M17.41 7.96l-1.37-1.37c-.4-.4-.92-.59-1.43-.59-.52 0-1.04.2-1.43.59L10.3 9.45l-7.72 7.72c-.78.78-.78 2.05 0 2.83L4 21.41c.39.39.9.59 1.41.59.51 0 1.02-.2 1.41-.59l7.78-7.78 2.81-2.81c.8-.78.8-2.07 0-2.86zM5.41 20L4 18.59l7.72-7.72 1.47 1.35L5.41 20z\"/>\n",
              "  </svg>\n",
              "      </button>\n",
              "      \n",
              "  <style>\n",
              "    .colab-df-container {\n",
              "      display:flex;\n",
              "      flex-wrap:wrap;\n",
              "      gap: 12px;\n",
              "    }\n",
              "\n",
              "    .colab-df-convert {\n",
              "      background-color: #E8F0FE;\n",
              "      border: none;\n",
              "      border-radius: 50%;\n",
              "      cursor: pointer;\n",
              "      display: none;\n",
              "      fill: #1967D2;\n",
              "      height: 32px;\n",
              "      padding: 0 0 0 0;\n",
              "      width: 32px;\n",
              "    }\n",
              "\n",
              "    .colab-df-convert:hover {\n",
              "      background-color: #E2EBFA;\n",
              "      box-shadow: 0px 1px 2px rgba(60, 64, 67, 0.3), 0px 1px 3px 1px rgba(60, 64, 67, 0.15);\n",
              "      fill: #174EA6;\n",
              "    }\n",
              "\n",
              "    [theme=dark] .colab-df-convert {\n",
              "      background-color: #3B4455;\n",
              "      fill: #D2E3FC;\n",
              "    }\n",
              "\n",
              "    [theme=dark] .colab-df-convert:hover {\n",
              "      background-color: #434B5C;\n",
              "      box-shadow: 0px 1px 3px 1px rgba(0, 0, 0, 0.15);\n",
              "      filter: drop-shadow(0px 1px 2px rgba(0, 0, 0, 0.3));\n",
              "      fill: #FFFFFF;\n",
              "    }\n",
              "  </style>\n",
              "\n",
              "      <script>\n",
              "        const buttonEl =\n",
              "          document.querySelector('#df-02512fc1-83b1-4993-9dd0-e7c38f137eb6 button.colab-df-convert');\n",
              "        buttonEl.style.display =\n",
              "          google.colab.kernel.accessAllowed ? 'block' : 'none';\n",
              "\n",
              "        async function convertToInteractive(key) {\n",
              "          const element = document.querySelector('#df-02512fc1-83b1-4993-9dd0-e7c38f137eb6');\n",
              "          const dataTable =\n",
              "            await google.colab.kernel.invokeFunction('convertToInteractive',\n",
              "                                                     [key], {});\n",
              "          if (!dataTable) return;\n",
              "\n",
              "          const docLinkHtml = 'Like what you see? Visit the ' +\n",
              "            '<a target=\"_blank\" href=https://colab.research.google.com/notebooks/data_table.ipynb>data table notebook</a>'\n",
              "            + ' to learn more about interactive tables.';\n",
              "          element.innerHTML = '';\n",
              "          dataTable['output_type'] = 'display_data';\n",
              "          await google.colab.output.renderOutput(dataTable, element);\n",
              "          const docLink = document.createElement('div');\n",
              "          docLink.innerHTML = docLinkHtml;\n",
              "          element.appendChild(docLink);\n",
              "        }\n",
              "      </script>\n",
              "    </div>\n",
              "  </div>\n",
              "  "
            ]
          },
          "metadata": {},
          "execution_count": 31
        }
      ]
    },
    {
      "cell_type": "code",
      "source": [
        "userDf"
      ],
      "metadata": {
        "id": "aY3jYsM0nupq",
        "outputId": "946af238-87f8-4a1a-a237-70fae2e07454",
        "colab": {
          "base_uri": "https://localhost:8080/",
          "height": 423
        }
      },
      "execution_count": null,
      "outputs": [
        {
          "output_type": "execute_result",
          "data": {
            "text/plain": [
              "                  user_id user_category\n",
              "0                      12           o_q\n",
              "1                     278             o\n",
              "2                     541           o_q\n",
              "3                     586           o_q\n",
              "4                     633           o_q\n",
              "...                   ...           ...\n",
              "58843  924081306308263936             o\n",
              "58844  924305967029690368           o_q\n",
              "58845  924344357741846529           o_q\n",
              "58846  924724225994297346           o_q\n",
              "58847  924758841400717312             o\n",
              "\n",
              "[58848 rows x 2 columns]"
            ],
            "text/html": [
              "\n",
              "  <div id=\"df-a1c80a38-d445-4550-b209-6bc7df764040\">\n",
              "    <div class=\"colab-df-container\">\n",
              "      <div>\n",
              "<style scoped>\n",
              "    .dataframe tbody tr th:only-of-type {\n",
              "        vertical-align: middle;\n",
              "    }\n",
              "\n",
              "    .dataframe tbody tr th {\n",
              "        vertical-align: top;\n",
              "    }\n",
              "\n",
              "    .dataframe thead th {\n",
              "        text-align: right;\n",
              "    }\n",
              "</style>\n",
              "<table border=\"1\" class=\"dataframe\">\n",
              "  <thead>\n",
              "    <tr style=\"text-align: right;\">\n",
              "      <th></th>\n",
              "      <th>user_id</th>\n",
              "      <th>user_category</th>\n",
              "    </tr>\n",
              "  </thead>\n",
              "  <tbody>\n",
              "    <tr>\n",
              "      <th>0</th>\n",
              "      <td>12</td>\n",
              "      <td>o_q</td>\n",
              "    </tr>\n",
              "    <tr>\n",
              "      <th>1</th>\n",
              "      <td>278</td>\n",
              "      <td>o</td>\n",
              "    </tr>\n",
              "    <tr>\n",
              "      <th>2</th>\n",
              "      <td>541</td>\n",
              "      <td>o_q</td>\n",
              "    </tr>\n",
              "    <tr>\n",
              "      <th>3</th>\n",
              "      <td>586</td>\n",
              "      <td>o_q</td>\n",
              "    </tr>\n",
              "    <tr>\n",
              "      <th>4</th>\n",
              "      <td>633</td>\n",
              "      <td>o_q</td>\n",
              "    </tr>\n",
              "    <tr>\n",
              "      <th>...</th>\n",
              "      <td>...</td>\n",
              "      <td>...</td>\n",
              "    </tr>\n",
              "    <tr>\n",
              "      <th>58843</th>\n",
              "      <td>924081306308263936</td>\n",
              "      <td>o</td>\n",
              "    </tr>\n",
              "    <tr>\n",
              "      <th>58844</th>\n",
              "      <td>924305967029690368</td>\n",
              "      <td>o_q</td>\n",
              "    </tr>\n",
              "    <tr>\n",
              "      <th>58845</th>\n",
              "      <td>924344357741846529</td>\n",
              "      <td>o_q</td>\n",
              "    </tr>\n",
              "    <tr>\n",
              "      <th>58846</th>\n",
              "      <td>924724225994297346</td>\n",
              "      <td>o_q</td>\n",
              "    </tr>\n",
              "    <tr>\n",
              "      <th>58847</th>\n",
              "      <td>924758841400717312</td>\n",
              "      <td>o</td>\n",
              "    </tr>\n",
              "  </tbody>\n",
              "</table>\n",
              "<p>58848 rows × 2 columns</p>\n",
              "</div>\n",
              "      <button class=\"colab-df-convert\" onclick=\"convertToInteractive('df-a1c80a38-d445-4550-b209-6bc7df764040')\"\n",
              "              title=\"Convert this dataframe to an interactive table.\"\n",
              "              style=\"display:none;\">\n",
              "        \n",
              "  <svg xmlns=\"http://www.w3.org/2000/svg\" height=\"24px\"viewBox=\"0 0 24 24\"\n",
              "       width=\"24px\">\n",
              "    <path d=\"M0 0h24v24H0V0z\" fill=\"none\"/>\n",
              "    <path d=\"M18.56 5.44l.94 2.06.94-2.06 2.06-.94-2.06-.94-.94-2.06-.94 2.06-2.06.94zm-11 1L8.5 8.5l.94-2.06 2.06-.94-2.06-.94L8.5 2.5l-.94 2.06-2.06.94zm10 10l.94 2.06.94-2.06 2.06-.94-2.06-.94-.94-2.06-.94 2.06-2.06.94z\"/><path d=\"M17.41 7.96l-1.37-1.37c-.4-.4-.92-.59-1.43-.59-.52 0-1.04.2-1.43.59L10.3 9.45l-7.72 7.72c-.78.78-.78 2.05 0 2.83L4 21.41c.39.39.9.59 1.41.59.51 0 1.02-.2 1.41-.59l7.78-7.78 2.81-2.81c.8-.78.8-2.07 0-2.86zM5.41 20L4 18.59l7.72-7.72 1.47 1.35L5.41 20z\"/>\n",
              "  </svg>\n",
              "      </button>\n",
              "      \n",
              "  <style>\n",
              "    .colab-df-container {\n",
              "      display:flex;\n",
              "      flex-wrap:wrap;\n",
              "      gap: 12px;\n",
              "    }\n",
              "\n",
              "    .colab-df-convert {\n",
              "      background-color: #E8F0FE;\n",
              "      border: none;\n",
              "      border-radius: 50%;\n",
              "      cursor: pointer;\n",
              "      display: none;\n",
              "      fill: #1967D2;\n",
              "      height: 32px;\n",
              "      padding: 0 0 0 0;\n",
              "      width: 32px;\n",
              "    }\n",
              "\n",
              "    .colab-df-convert:hover {\n",
              "      background-color: #E2EBFA;\n",
              "      box-shadow: 0px 1px 2px rgba(60, 64, 67, 0.3), 0px 1px 3px 1px rgba(60, 64, 67, 0.15);\n",
              "      fill: #174EA6;\n",
              "    }\n",
              "\n",
              "    [theme=dark] .colab-df-convert {\n",
              "      background-color: #3B4455;\n",
              "      fill: #D2E3FC;\n",
              "    }\n",
              "\n",
              "    [theme=dark] .colab-df-convert:hover {\n",
              "      background-color: #434B5C;\n",
              "      box-shadow: 0px 1px 3px 1px rgba(0, 0, 0, 0.15);\n",
              "      filter: drop-shadow(0px 1px 2px rgba(0, 0, 0, 0.3));\n",
              "      fill: #FFFFFF;\n",
              "    }\n",
              "  </style>\n",
              "\n",
              "      <script>\n",
              "        const buttonEl =\n",
              "          document.querySelector('#df-a1c80a38-d445-4550-b209-6bc7df764040 button.colab-df-convert');\n",
              "        buttonEl.style.display =\n",
              "          google.colab.kernel.accessAllowed ? 'block' : 'none';\n",
              "\n",
              "        async function convertToInteractive(key) {\n",
              "          const element = document.querySelector('#df-a1c80a38-d445-4550-b209-6bc7df764040');\n",
              "          const dataTable =\n",
              "            await google.colab.kernel.invokeFunction('convertToInteractive',\n",
              "                                                     [key], {});\n",
              "          if (!dataTable) return;\n",
              "\n",
              "          const docLinkHtml = 'Like what you see? Visit the ' +\n",
              "            '<a target=\"_blank\" href=https://colab.research.google.com/notebooks/data_table.ipynb>data table notebook</a>'\n",
              "            + ' to learn more about interactive tables.';\n",
              "          element.innerHTML = '';\n",
              "          dataTable['output_type'] = 'display_data';\n",
              "          await google.colab.output.renderOutput(dataTable, element);\n",
              "          const docLink = document.createElement('div');\n",
              "          docLink.innerHTML = docLinkHtml;\n",
              "          element.appendChild(docLink);\n",
              "        }\n",
              "      </script>\n",
              "    </div>\n",
              "  </div>\n",
              "  "
            ]
          },
          "metadata": {},
          "execution_count": 32
        }
      ]
    },
    {
      "cell_type": "code",
      "source": [
        "dict_cat = {}\n",
        "\n",
        "cat_list = [\"o\", \"r\", \"q\", \"o_r\", \"r_q\", \"o_q\", \"o_r_q\"]\n",
        "\n",
        "for i in range(7):\n",
        "    for j in range(10):\n",
        "        string_want  = f\"{cat_list[i]}_{(j+1)/10}\" \n",
        "        dict_cat[string_want] = 0\n",
        "\n",
        "print(dict_cat)"
      ],
      "metadata": {
        "id": "AwCTc8T4C8jy",
        "colab": {
          "base_uri": "https://localhost:8080/"
        },
        "outputId": "31baf1f9-98c4-430c-c477-5ef60122a1b9"
      },
      "execution_count": null,
      "outputs": [
        {
          "output_type": "stream",
          "name": "stdout",
          "text": [
            "{'o_0.1': 0, 'o_0.2': 0, 'o_0.3': 0, 'o_0.4': 0, 'o_0.5': 0, 'o_0.6': 0, 'o_0.7': 0, 'o_0.8': 0, 'o_0.9': 0, 'o_1.0': 0, 'r_0.1': 0, 'r_0.2': 0, 'r_0.3': 0, 'r_0.4': 0, 'r_0.5': 0, 'r_0.6': 0, 'r_0.7': 0, 'r_0.8': 0, 'r_0.9': 0, 'r_1.0': 0, 'q_0.1': 0, 'q_0.2': 0, 'q_0.3': 0, 'q_0.4': 0, 'q_0.5': 0, 'q_0.6': 0, 'q_0.7': 0, 'q_0.8': 0, 'q_0.9': 0, 'q_1.0': 0, 'o_r_0.1': 0, 'o_r_0.2': 0, 'o_r_0.3': 0, 'o_r_0.4': 0, 'o_r_0.5': 0, 'o_r_0.6': 0, 'o_r_0.7': 0, 'o_r_0.8': 0, 'o_r_0.9': 0, 'o_r_1.0': 0, 'r_q_0.1': 0, 'r_q_0.2': 0, 'r_q_0.3': 0, 'r_q_0.4': 0, 'r_q_0.5': 0, 'r_q_0.6': 0, 'r_q_0.7': 0, 'r_q_0.8': 0, 'r_q_0.9': 0, 'r_q_1.0': 0, 'o_q_0.1': 0, 'o_q_0.2': 0, 'o_q_0.3': 0, 'o_q_0.4': 0, 'o_q_0.5': 0, 'o_q_0.6': 0, 'o_q_0.7': 0, 'o_q_0.8': 0, 'o_q_0.9': 0, 'o_q_1.0': 0, 'o_r_q_0.1': 0, 'o_r_q_0.2': 0, 'o_r_q_0.3': 0, 'o_r_q_0.4': 0, 'o_r_q_0.5': 0, 'o_r_q_0.6': 0, 'o_r_q_0.7': 0, 'o_r_q_0.8': 0, 'o_r_q_0.9': 0, 'o_r_q_1.0': 0}\n"
          ]
        }
      ]
    },
    {
      "cell_type": "code",
      "source": [
        "for index, row in userDf.iterrows():\n",
        "  cat = userDf['user_category'].iloc[index]\n",
        "  cat_user = monthDf[monthDf['user_id'] == userDf['user_id'].iloc[index]]\n",
        "  for j, c_row in cat_user.iterrows():\n",
        "    t_score = c_row[\"Toxicity\"]\n",
        "    string_put = f\"{cat}_{t_score}\"\n",
        "    dict_cat[string_put] += 1\n",
        "\n",
        "print(dict_cat)\n"
      ],
      "metadata": {
        "colab": {
          "base_uri": "https://localhost:8080/"
        },
        "id": "JTK2edb-3mtw",
        "outputId": "6461c20c-3800-442d-fc80-572904fa2fb8"
      },
      "execution_count": null,
      "outputs": [
        {
          "output_type": "stream",
          "name": "stdout",
          "text": [
            "{'o_0.1': 619391, 'o_0.2': 79690, 'o_0.3': 35574, 'o_0.4': 25267, 'o_0.5': 11575, 'o_0.6': 6275, 'o_0.7': 5840, 'o_0.8': 4329, 'o_0.9': 2824, 'o_1.0': 1024, 'r_0.1': 0, 'r_0.2': 0, 'r_0.3': 0, 'r_0.4': 0, 'r_0.5': 0, 'r_0.6': 0, 'r_0.7': 0, 'r_0.8': 0, 'r_0.9': 0, 'r_1.0': 0, 'q_0.1': 671, 'q_0.2': 56, 'q_0.3': 19, 'q_0.4': 18, 'q_0.5': 7, 'q_0.6': 4, 'q_0.7': 5, 'q_0.8': 2, 'q_0.9': 1, 'q_1.0': 0, 'o_r_0.1': 0, 'o_r_0.2': 0, 'o_r_0.3': 0, 'o_r_0.4': 0, 'o_r_0.5': 0, 'o_r_0.6': 0, 'o_r_0.7': 0, 'o_r_0.8': 0, 'o_r_0.9': 0, 'o_r_1.0': 0, 'r_q_0.1': 0, 'r_q_0.2': 0, 'r_q_0.3': 0, 'r_q_0.4': 0, 'r_q_0.5': 0, 'r_q_0.6': 0, 'r_q_0.7': 0, 'r_q_0.8': 0, 'r_q_0.9': 0, 'r_q_1.0': 0, 'o_q_0.1': 2817176, 'o_q_0.2': 428828, 'o_q_0.3': 208528, 'o_q_0.4': 160754, 'o_q_0.5': 84195, 'o_q_0.6': 53566, 'o_q_0.7': 54936, 'o_q_0.8': 42345, 'o_q_0.9': 26460, 'o_q_1.0': 10239, 'o_r_q_0.1': 0, 'o_r_q_0.2': 0, 'o_r_q_0.3': 0, 'o_r_q_0.4': 0, 'o_r_q_0.5': 0, 'o_r_q_0.6': 0, 'o_r_q_0.7': 0, 'o_r_q_0.8': 0, 'o_r_q_0.9': 0, 'o_r_q_1.0': 0}\n"
          ]
        }
      ]
    },
    {
      "cell_type": "code",
      "source": [
        "sum(dict_cat.values())"
      ],
      "metadata": {
        "colab": {
          "base_uri": "https://localhost:8080/"
        },
        "id": "ky5WwA2tQXKZ",
        "outputId": "11d74a10-780a-4368-8555-a40c52aaf916"
      },
      "execution_count": null,
      "outputs": [
        {
          "output_type": "execute_result",
          "data": {
            "text/plain": [
              "4679599"
            ]
          },
          "metadata": {},
          "execution_count": 35
        }
      ]
    },
    {
      "cell_type": "code",
      "source": [
        "x = [i/10 for i in range(1, 11)]\n",
        "\n",
        "for cat in cat_list:\n",
        "    y = [dict_cat[f\"{cat}_{tox}\"] for tox in x]\n",
        "    # print(y)\n",
        "    plt.plot(x, y, label=cat)\n",
        "\n",
        "plt.xlabel(\"Toxicity Score\")\n",
        "plt.ylabel(\"Count of Users\")\n",
        "# plt.title(f\"Month - {len(monthDf['Toxicity'])}\")\n",
        "plt.legend()\n",
        "plt.show()"
      ],
      "metadata": {
        "colab": {
          "base_uri": "https://localhost:8080/",
          "height": 290
        },
        "id": "MrtsAZdKO8Y1",
        "outputId": "d92f6695-1a90-4631-8607-138823960bd2"
      },
      "execution_count": null,
      "outputs": [
        {
          "output_type": "display_data",
          "data": {
            "text/plain": [
              "<Figure size 432x288 with 1 Axes>"
            ],
            "image/png": "[encoded data removed]"
          },
          "metadata": {
            "needs_background": "light"
          }
        }
      ]
    },
    {
      "cell_type": "code",
      "source": [
        "x = [i/10 for i in range(1, 11)]\n",
        "for cat in cat_list:\n",
        "    y = [dict_cat[f\"{cat}_{tox}\"] for tox in x]\n",
        "    plt.semilogy(x, y, label=cat)\n",
        "\n",
        "plt.gca().yaxis.set_major_formatter(ticker.ScalarFormatter())\n",
        "# plt.gca().yaxis.set_major_locator(ticker.MaxNLocator())\n",
        "\n",
        "plt.xlabel(\"Toxicity Score\")\n",
        "plt.ylabel(\"Count of Users\")\n",
        "plt.xticks(x)\n",
        "# plt.set_ylim(bottom=0)\n",
        "plt.legend()\n",
        "plt.show()"
      ],
      "metadata": {
        "colab": {
          "base_uri": "https://localhost:8080/",
          "height": 290
        },
        "id": "s0O5_7HbPQVR",
        "outputId": "06a1854c-55fa-4bca-f58b-28d39639c0a1"
      },
      "execution_count": null,
      "outputs": [
        {
          "output_type": "display_data",
          "data": {
            "text/plain": [
              "<Figure size 432x288 with 1 Axes>"
            ],
            "image/png": "[encoded data removed]"
          },
          "metadata": {
            "needs_background": "light"
          }
        }
      ]
    },
    {
      "cell_type": "code",
      "source": [
        "# for i in UserDF.rows():\n",
        "#   \"\"\"i[0]- userid\n",
        "#   i[1]- category\"\"\"\n",
        "#   cat = i[1]\n",
        "#   cat_user = monthDf.filter(i[0])\n",
        "#   for j in cat_user.rows():\n",
        "#     t_score = j[\"toxicity_score\"]\n",
        "#     string_put = f\"{cat}_{t_score}\"\n",
        "#     dict_cat[string_put] += 1"
      ],
      "metadata": {
        "id": "XWR8vX8GDhtr"
      },
      "execution_count": null,
      "outputs": []
    },
    {
      "cell_type": "code",
      "source": [
        "'''\n",
        "I have a data frame in python pandas with the following columns.\n",
        "monthDf = df[['user_id', 'Toxicity','qt_flag', 'rt_flag']]\n",
        "\n",
        "The user_id contains the id's of all the users\n",
        "The Toxicity contains float values between 0-1\n",
        "The qt_flag says whether the tweet is a quoted tweet or not. The values of the column are True and False. \n",
        "The rt_flag says whether the tweet is a retweet or not. The values of the column are True and False. \n",
        "\n",
        "I am categorizing the tweets in 3 categories. \n",
        "1) original\n",
        "2) retweet\n",
        "3) quoted tweet\n",
        "\n",
        "A tweet is original if qt_flag = False and rt_flag = False\n",
        "A tweet is retweet if qt_flag = False and rt_flag = True\n",
        "A tweet is quoted tweet if qt_flag = True and rt_flag = False\n",
        "\n",
        "A user has multiple tweets in my dataset, each user will have done different types of tweets. I want to count how many users have for each month. I am listing the categories below:\n",
        "1) original tweets - i.e all the tweets done by the user will only be original\n",
        "2) retweets - i.e all the tweets done by the user will only be quoted.\n",
        "3) quoted - i.e all the tweets done by the user will only be quoted. \n",
        "4) original and retweet - i.e all the tweets done by the user will only be of the type original and retweet\n",
        "5) original and quoted - i.e all the tweets done by the user will only be of the type original and quoted.\n",
        "6) quoted and retweet - i.e all the tweets done by the user will only be of the type quoted and retweet\n",
        "7) original, quoted and retweet - i.e. i.e all the tweets done by the user will only be of the type original and retweet\n",
        "\n",
        "This is how I want the categorization to be. For example, if \n",
        "- user 1 has 10 tweets and out of which, 2 tweets are quoted and 8 tweets are original, then the user would go into the category of 'original and quoted'\n",
        "- if user 2 has 7 tweets out of which 3 are retweet and 4 are quoted, then the user would go into the category of 'quoted and retweet'\n",
        "- if user 3 has 20 tweets out of which 10 tweets are original, 5 are retweet and 5 are quoted, then the user would go into the category of 'original, quoted and retweet'\n",
        "- if user 4 has 15 tweets out of which 10 retweets and 5 quoted tweets, then the user would go into the category of 'quoted and retweet'\n",
        "\n",
        "how do I categories all the tweets into the 7 different categories?   \n",
        "\n",
        "After doing the categorization, I want to make a plot, where on \n",
        "x axis I want the toxicity (0.1,0.2,0.3 etc)\n",
        "and on the y axis I want the number of users from each category, so there will be 7 different lines with 7 different colors for each category\n",
        "\n",
        "I will tell you in detail how the plot should look like, lets say for the \n",
        "first category (original tweets), there are 5 unique users who have a toxicity score 0.1, then the (x,y) would be (0.1,5) and there are 10 unique users who have a toxicity score 0.4, then the plot would plot that. \n",
        "lets say the seventh category (original, quoted and retweet) has 7 unique users who have a toxicity score 0.3, then the plot would plot that. \n",
        "\n",
        "now I want to make such a plot for all the 7 categories of users, where on the y axis it is number of unique users and on the x axis it is the toxicity score\n",
        "'''"
      ],
      "metadata": {
        "colab": {
          "base_uri": "https://localhost:8080/",
          "height": 123
        },
        "id": "n457k3gAU19Y",
        "outputId": "e1755724-a7a8-4b54-ee59-1900a1d32c47"
      },
      "execution_count": null,
      "outputs": [
        {
          "output_type": "execute_result",
          "data": {
            "text/plain": [
              "\"\\nI have a data frame in python pandas with the following columns.\\nmonthDf = df[['user_id', 'Toxicity','qt_flag', 'rt_flag']]\\n\\nThe user_id contains the id's of all the users\\nThe Toxicity contains float values between 0-1\\nThe qt_flag says whether the tweet is a quoted tweet or not. The values of the column are True and False. \\nThe rt_flag says whether the tweet is a retweet or not. The values of the column are True and False. \\n\\nI am categorizing the tweets in 3 categories. \\n1) original\\n2) retweet\\n3) quoted tweet\\n\\nA tweet is original if qt_flag = False and rt_flag = False\\nA tweet is retweet if qt_flag = False and rt_flag = True\\nA tweet is quoted tweet if qt_flag = True and rt_flag = False\\n\\nA user has multiple tweets in my dataset, each user will have done different types of tweets. I want to count how many users have for each month. I am listing the categories below:\\n1) original tweets - i.e all the tweets done by the user will only be original\\n2) retweets - i.e all the tweets done by the user will only be quoted.\\n3) quoted - i.e all the tweets done by the user will only be quoted. \\n4) original and retweet - i.e all the tweets done by the user will only be of the type original and retweet\\n5) original and quoted - i.e all the tweets done by the user will only be of the type original and quoted.\\n6) quoted and retweet - i.e all the tweets done by the user will only be of the type quoted and retweet\\n7) original, quoted and retweet - i.e. i.e all the tweets done by the user will only be of the type original and retweet\\n\\nThis is how I want the categorization to be. For example, if \\n- user 1 has 10 tweets and out of which, 2 tweets are quoted and 8 tweets are original, then the user would go into the category of 'original and quoted'\\n- if user 2 has 7 tweets out of which 3 are retweet and 4 are quoted, then the user would go into the category of 'quoted and retweet'\\n- if user 3 has 20 tweets out of which 10 tweets are original, 5 are retweet and 5 are quoted, then the user would go into the category of 'original, quoted and retweet'\\n- if user 4 has 15 tweets out of which 10 retweets and 5 quoted tweets, then the user would go into the category of 'quoted and retweet'\\n\\nhow do I categories all the tweets into the 7 different categories?   \\n\\nAfter doing the categorization, I want to make a plot, where on \\nx axis I want the toxicity (0.1,0.2,0.3 etc)\\nand on the y axis I want the number of users from each category, so there will be 7 different lines with 7 different colors for each category\\n\\nI will tell you in detail how the plot should look like, lets say for the \\nfirst category (original tweets), there are 5 unique users who have a toxicity score 0.1, then the (x,y) would be (0.1,5) and there are 10 unique users who have a toxicity score 0.4, then the plot would plot that. \\nlets say the seventh category (original, quoted and retweet) has 7 unique users who have a toxicity score 0.3, then the plot would plot that. \\n\\nnow I want to make such a plot for all the 7 categories of users, where on the y axis it is number of unique users and on the x axis it is the toxicity score\\n\""
            ],
            "application/vnd.google.colaboratory.intrinsic+json": {
              "type": "string"
            }
          },
          "metadata": {},
          "execution_count": 39
        }
      ]
    }
  ]
}