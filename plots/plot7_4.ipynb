{
  "nbformat": 4,
  "nbformat_minor": 0,
  "metadata": {
    "colab": {
      "provenance": []
    },
    "kernelspec": {
      "name": "python3",
      "display_name": "Python 3"
    },
    "language_info": {
      "name": "python"
    }
  },
  "cells": [
    {
      "cell_type": "code",
      "execution_count": 1,
      "metadata": {
        "colab": {
          "base_uri": "https://localhost:8080/"
        },
        "id": "N8Uhc2Figqgx",
        "outputId": "01549788-8727-40d6-ba96-cfe39ae43c4e"
      },
      "outputs": [
        {
          "output_type": "stream",
          "name": "stdout",
          "text": [
            "Mounted at /content/gdrive\n"
          ]
        }
      ],
      "source": [
        "from google.colab import drive\n",
        "drive.mount('/content/gdrive')"
      ]
    },
    {
      "cell_type": "code",
      "source": [
        "import pandas as pd\n",
        "import matplotlib.pyplot as plt\n",
        "import numpy as np\n",
        "from datetime import datetime\n",
        "import seaborn as sns\n",
        "import warnings\n",
        "warnings.filterwarnings(\"ignore\")"
      ],
      "metadata": {
        "id": "6T1DBu6khhdP"
      },
      "execution_count": 2,
      "outputs": []
    },
    {
      "cell_type": "code",
      "source": [
        "df = pd.read_csv(\"/content/gdrive/My Drive/tweetsConvereted2017_toxicPerspectiveScore.csv\")"
      ],
      "metadata": {
        "id": "OEzWG46Khh3q"
      },
      "execution_count": 3,
      "outputs": []
    },
    {
      "cell_type": "code",
      "source": [
        "df[\"month\"] = df[\"NewDateFormat\"].apply(lambda x: datetime.strptime(x, \"%Y-%m-%d %H:%M:%S\").strftime(\"%m\"))"
      ],
      "metadata": {
        "id": "ps54SDbHhjJq"
      },
      "execution_count": 4,
      "outputs": []
    },
    {
      "cell_type": "code",
      "source": [
        "groupDf = df[['user_id', 'Toxicity','qt_flag', 'rt_flag','month']]"
      ],
      "metadata": {
        "id": "51QIL7sEh8ia"
      },
      "execution_count": 5,
      "outputs": []
    },
    {
      "cell_type": "code",
      "source": [
        "groupDf['Toxicity'] = groupDf['Toxicity'] * 10\n",
        "groupDf['Toxicity'] = (groupDf['Toxicity'].apply(np.ceil)) / 10"
      ],
      "metadata": {
        "id": "lZnzPhb1ig9T"
      },
      "execution_count": 6,
      "outputs": []
    },
    {
      "cell_type": "code",
      "source": [
        "monthDf = groupDf[groupDf['month'] == \"01\"]"
      ],
      "metadata": {
        "id": "3CzcETb_ikFT"
      },
      "execution_count": 7,
      "outputs": []
    },
    {
      "cell_type": "code",
      "source": [
        "monthDf.head()"
      ],
      "metadata": {
        "colab": {
          "base_uri": "https://localhost:8080/",
          "height": 206
        },
        "id": "obIBCoIbimby",
        "outputId": "12864803-e967-489a-f3db-c7e34dfdf3c2"
      },
      "execution_count": 9,
      "outputs": [
        {
          "output_type": "execute_result",
          "data": {
            "text/plain": [
              "        user_id  Toxicity  qt_flag  rt_flag month  category\n",
              "247  3239623496       0.2    False    False    01  original\n",
              "248  3239623496       0.1    False    False    01  original\n",
              "249  3239623496       0.1    False    False    01  original\n",
              "250  3239623496       0.1    False    False    01  original\n",
              "251  3239623496       0.3    False    False    01  original"
            ],
            "text/html": [
              "\n",
              "  <div id=\"df-961ec119-21a2-4735-b270-1f7546db791e\">\n",
              "    <div class=\"colab-df-container\">\n",
              "      <div>\n",
              "<style scoped>\n",
              "    .dataframe tbody tr th:only-of-type {\n",
              "        vertical-align: middle;\n",
              "    }\n",
              "\n",
              "    .dataframe tbody tr th {\n",
              "        vertical-align: top;\n",
              "    }\n",
              "\n",
              "    .dataframe thead th {\n",
              "        text-align: right;\n",
              "    }\n",
              "</style>\n",
              "<table border=\"1\" class=\"dataframe\">\n",
              "  <thead>\n",
              "    <tr style=\"text-align: right;\">\n",
              "      <th></th>\n",
              "      <th>user_id</th>\n",
              "      <th>Toxicity</th>\n",
              "      <th>qt_flag</th>\n",
              "      <th>rt_flag</th>\n",
              "      <th>month</th>\n",
              "      <th>category</th>\n",
              "    </tr>\n",
              "  </thead>\n",
              "  <tbody>\n",
              "    <tr>\n",
              "      <th>247</th>\n",
              "      <td>3239623496</td>\n",
              "      <td>0.2</td>\n",
              "      <td>False</td>\n",
              "      <td>False</td>\n",
              "      <td>01</td>\n",
              "      <td>original</td>\n",
              "    </tr>\n",
              "    <tr>\n",
              "      <th>248</th>\n",
              "      <td>3239623496</td>\n",
              "      <td>0.1</td>\n",
              "      <td>False</td>\n",
              "      <td>False</td>\n",
              "      <td>01</td>\n",
              "      <td>original</td>\n",
              "    </tr>\n",
              "    <tr>\n",
              "      <th>249</th>\n",
              "      <td>3239623496</td>\n",
              "      <td>0.1</td>\n",
              "      <td>False</td>\n",
              "      <td>False</td>\n",
              "      <td>01</td>\n",
              "      <td>original</td>\n",
              "    </tr>\n",
              "    <tr>\n",
              "      <th>250</th>\n",
              "      <td>3239623496</td>\n",
              "      <td>0.1</td>\n",
              "      <td>False</td>\n",
              "      <td>False</td>\n",
              "      <td>01</td>\n",
              "      <td>original</td>\n",
              "    </tr>\n",
              "    <tr>\n",
              "      <th>251</th>\n",
              "      <td>3239623496</td>\n",
              "      <td>0.3</td>\n",
              "      <td>False</td>\n",
              "      <td>False</td>\n",
              "      <td>01</td>\n",
              "      <td>original</td>\n",
              "    </tr>\n",
              "  </tbody>\n",
              "</table>\n",
              "</div>\n",
              "      <button class=\"colab-df-convert\" onclick=\"convertToInteractive('df-961ec119-21a2-4735-b270-1f7546db791e')\"\n",
              "              title=\"Convert this dataframe to an interactive table.\"\n",
              "              style=\"display:none;\">\n",
              "        \n",
              "  <svg xmlns=\"http://www.w3.org/2000/svg\" height=\"24px\"viewBox=\"0 0 24 24\"\n",
              "       width=\"24px\">\n",
              "    <path d=\"M0 0h24v24H0V0z\" fill=\"none\"/>\n",
              "    <path d=\"M18.56 5.44l.94 2.06.94-2.06 2.06-.94-2.06-.94-.94-2.06-.94 2.06-2.06.94zm-11 1L8.5 8.5l.94-2.06 2.06-.94-2.06-.94L8.5 2.5l-.94 2.06-2.06.94zm10 10l.94 2.06.94-2.06 2.06-.94-2.06-.94-.94-2.06-.94 2.06-2.06.94z\"/><path d=\"M17.41 7.96l-1.37-1.37c-.4-.4-.92-.59-1.43-.59-.52 0-1.04.2-1.43.59L10.3 9.45l-7.72 7.72c-.78.78-.78 2.05 0 2.83L4 21.41c.39.39.9.59 1.41.59.51 0 1.02-.2 1.41-.59l7.78-7.78 2.81-2.81c.8-.78.8-2.07 0-2.86zM5.41 20L4 18.59l7.72-7.72 1.47 1.35L5.41 20z\"/>\n",
              "  </svg>\n",
              "      </button>\n",
              "      \n",
              "  <style>\n",
              "    .colab-df-container {\n",
              "      display:flex;\n",
              "      flex-wrap:wrap;\n",
              "      gap: 12px;\n",
              "    }\n",
              "\n",
              "    .colab-df-convert {\n",
              "      background-color: #E8F0FE;\n",
              "      border: none;\n",
              "      border-radius: 50%;\n",
              "      cursor: pointer;\n",
              "      display: none;\n",
              "      fill: #1967D2;\n",
              "      height: 32px;\n",
              "      padding: 0 0 0 0;\n",
              "      width: 32px;\n",
              "    }\n",
              "\n",
              "    .colab-df-convert:hover {\n",
              "      background-color: #E2EBFA;\n",
              "      box-shadow: 0px 1px 2px rgba(60, 64, 67, 0.3), 0px 1px 3px 1px rgba(60, 64, 67, 0.15);\n",
              "      fill: #174EA6;\n",
              "    }\n",
              "\n",
              "    [theme=dark] .colab-df-convert {\n",
              "      background-color: #3B4455;\n",
              "      fill: #D2E3FC;\n",
              "    }\n",
              "\n",
              "    [theme=dark] .colab-df-convert:hover {\n",
              "      background-color: #434B5C;\n",
              "      box-shadow: 0px 1px 3px 1px rgba(0, 0, 0, 0.15);\n",
              "      filter: drop-shadow(0px 1px 2px rgba(0, 0, 0, 0.3));\n",
              "      fill: #FFFFFF;\n",
              "    }\n",
              "  </style>\n",
              "\n",
              "      <script>\n",
              "        const buttonEl =\n",
              "          document.querySelector('#df-961ec119-21a2-4735-b270-1f7546db791e button.colab-df-convert');\n",
              "        buttonEl.style.display =\n",
              "          google.colab.kernel.accessAllowed ? 'block' : 'none';\n",
              "\n",
              "        async function convertToInteractive(key) {\n",
              "          const element = document.querySelector('#df-961ec119-21a2-4735-b270-1f7546db791e');\n",
              "          const dataTable =\n",
              "            await google.colab.kernel.invokeFunction('convertToInteractive',\n",
              "                                                     [key], {});\n",
              "          if (!dataTable) return;\n",
              "\n",
              "          const docLinkHtml = 'Like what you see? Visit the ' +\n",
              "            '<a target=\"_blank\" href=https://colab.research.google.com/notebooks/data_table.ipynb>data table notebook</a>'\n",
              "            + ' to learn more about interactive tables.';\n",
              "          element.innerHTML = '';\n",
              "          dataTable['output_type'] = 'display_data';\n",
              "          await google.colab.output.renderOutput(dataTable, element);\n",
              "          const docLink = document.createElement('div');\n",
              "          docLink.innerHTML = docLinkHtml;\n",
              "          element.appendChild(docLink);\n",
              "        }\n",
              "      </script>\n",
              "    </div>\n",
              "  </div>\n",
              "  "
            ]
          },
          "metadata": {},
          "execution_count": 9
        }
      ]
    },
    {
      "cell_type": "code",
      "source": [
        "monthDf['category'] = ''"
      ],
      "metadata": {
        "id": "kpdySffbi-Wa"
      },
      "execution_count": 10,
      "outputs": []
    },
    {
      "cell_type": "code",
      "source": [
        "for i, row in monthDf.iterrows():\n",
        "    if row['qt_flag'] == False and row['rt_flag'] == False:\n",
        "        monthDf.at[i, 'category'] = 'original'\n",
        "    elif row['qt_flag'] == False and row['rt_flag'] == True:\n",
        "        monthDf.at[i, 'category'] = 'retweet'\n",
        "    elif row['qt_flag'] == True and row['rt_flag'] == False:\n",
        "        monthDf.at[i, 'category'] = 'quoted'"
      ],
      "metadata": {
        "id": "rF9_BEkjjVy6"
      },
      "execution_count": 11,
      "outputs": []
    },
    {
      "cell_type": "code",
      "source": [
        "user_category = monthDf.groupby(['user_id', 'category']).size().reset_index(name='counts')"
      ],
      "metadata": {
        "id": "CU8rL7Rgjclq"
      },
      "execution_count": 12,
      "outputs": []
    },
    {
      "cell_type": "code",
      "source": [
        "# Pivoting the data to have each category as a column\n",
        "user_category = user_category.pivot(index='user_id', columns='category', values='counts').fillna(0)"
      ],
      "metadata": {
        "id": "4GyLXaNSjifq"
      },
      "execution_count": 13,
      "outputs": []
    },
    {
      "cell_type": "code",
      "source": [
        "# Adding the columns to classify the users into 7 different categories\n",
        "user_category['original'] = user_category['original'].apply(lambda x: x if x==0 else 1)\n",
        "# user_category['retweet'] = user_category['retweet'].apply(lambda x: x if x==0 else 1)\n",
        "user_category['quoted'] = user_category['quoted'].apply(lambda x: x if x==0 else 1)\n",
        "user_category['original_quoted'] = user_category.apply(lambda x: 1 if x['original'] == 1 and x['quoted'] == 1 else 0, axis=1)\n",
        "# user_category['original_retweet'] = user_category.apply(lambda x: 1 if x['original'] == 1 and x['retweet'] == 1 else 0, axis=1)\n",
        "# user_category['quoted_retweet'] = user_category.apply(lambda x: 1 if x['quoted'] == 1 and x['retweet'] == 1 else 0, axis=1)\n",
        "# user_category['original_quoted_retweet'] = user_category.apply(lambda x: 1 if x['original'] == 1 and x['quoted'] == 1 and x['retweet'] == 1 else 0, axis=1)"
      ],
      "metadata": {
        "id": "uoqCSmSDjlWy"
      },
      "execution_count": 16,
      "outputs": []
    },
    {
      "cell_type": "code",
      "source": [
        "# Counting the number of users in each category\n",
        "category_counts = user_category.sum().reset_index()\n",
        "category_counts.columns = ['category', 'counts']"
      ],
      "metadata": {
        "id": "IvNBkaP7jndS"
      },
      "execution_count": 17,
      "outputs": []
    },
    {
      "cell_type": "code",
      "source": [
        "toxicity = np.arange(0, 1.1, 0.1)\n",
        "colors = ['red', 'blue', 'green', 'orange', 'purple', 'yellow', 'brown']"
      ],
      "metadata": {
        "id": "waxBYG_jjyqK"
      },
      "execution_count": 18,
      "outputs": []
    },
    {
      "cell_type": "code",
      "source": [
        "for i, row in category_counts.iterrows():\n",
        "    plt.plot(toxicity, [row['counts']]*len(toxicity), color=colors[i], label=row['category'])\n",
        "\n",
        "plt.xlabel('Toxicity')\n",
        "plt.ylabel('Number of Users')\n",
        "plt.legend()\n",
        "plt.show()"
      ],
      "metadata": {
        "colab": {
          "base_uri": "https://localhost:8080/",
          "height": 279
        },
        "id": "HRhyTUpzj3QC",
        "outputId": "ddfc3004-a1a2-4a6c-adfc-1be330909ccd"
      },
      "execution_count": 20,
      "outputs": [
        {
          "output_type": "display_data",
          "data": {
            "text/plain": [
              "<Figure size 432x288 with 1 Axes>"
            ],
            "image/png": "[encoded data removed]"
          },
          "metadata": {
            "needs_background": "light"
          }
        }
      ]
    },
    {
      "cell_type": "code",
      "source": [],
      "metadata": {
        "id": "4afyx2gRkBcT"
      },
      "execution_count": null,
      "outputs": []
    }
  ]
}