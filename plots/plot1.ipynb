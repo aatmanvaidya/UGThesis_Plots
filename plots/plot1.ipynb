{
 "cells": [
  {
   "cell_type": "code",
   "execution_count": 28,
   "id": "25b463b2",
   "metadata": {},
   "outputs": [],
   "source": [
    "import pandas as pd\n",
    "import matplotlib.pyplot as plt\n",
    "import numpy as np\n",
    "from datetime import datetime\n",
    "import seaborn as sns\n",
    "import math"
   ]
  },
  {
   "cell_type": "code",
   "execution_count": 29,
   "id": "2ee59f68",
   "metadata": {},
   "outputs": [],
   "source": [
    "df = pd.read_csv(\"D:\\\\Study\\\\UG Thesis\\\\Datasets\\\\ReibeiroDataset\\\\tweetsConvereted2017_toxicPerspectiveScore.csv\")"
   ]
  },
  {
   "cell_type": "code",
   "execution_count": 30,
   "id": "4c68e172",
   "metadata": {},
   "outputs": [],
   "source": [
    "# Parse the dates in the NewDateFormat column and extract the week number\n",
    "df[\"week\"] = df[\"NewDateFormat\"].apply(lambda x: datetime.strptime(x, \"%Y-%m-%d %H:%M:%S\").strftime(\"%U\"))"
   ]
  },
  {
   "cell_type": "code",
   "execution_count": 31,
   "id": "00aa80f2",
   "metadata": {},
   "outputs": [
    {
     "data": {
      "text/plain": [
       "13"
      ]
     },
     "execution_count": 31,
     "metadata": {},
     "output_type": "execute_result"
    }
   ],
   "source": [
    "df['Toxicity'].value_counts()[0]"
   ]
  },
  {
   "cell_type": "code",
   "execution_count": 32,
   "id": "a7b28e99",
   "metadata": {},
   "outputs": [
    {
     "data": {
      "text/html": [
       "<div>\n",
       "<style scoped>\n",
       "    .dataframe tbody tr th:only-of-type {\n",
       "        vertical-align: middle;\n",
       "    }\n",
       "\n",
       "    .dataframe tbody tr th {\n",
       "        vertical-align: top;\n",
       "    }\n",
       "\n",
       "    .dataframe thead th {\n",
       "        text-align: right;\n",
       "    }\n",
       "</style>\n",
       "<table border=\"1\" class=\"dataframe\">\n",
       "  <thead>\n",
       "    <tr style=\"text-align: right;\">\n",
       "      <th></th>\n",
       "      <th>user_id</th>\n",
       "      <th>screen_name</th>\n",
       "      <th>tweet_id</th>\n",
       "      <th>tweet_text</th>\n",
       "      <th>tweet_creation</th>\n",
       "      <th>tweet_fav</th>\n",
       "      <th>tweet_rt</th>\n",
       "      <th>rp_flag</th>\n",
       "      <th>rp_status</th>\n",
       "      <th>rp_user</th>\n",
       "      <th>...</th>\n",
       "      <th>rt_status_id</th>\n",
       "      <th>rt_user_id</th>\n",
       "      <th>rt_text</th>\n",
       "      <th>rt_creation</th>\n",
       "      <th>rt_fav</th>\n",
       "      <th>rt_rt</th>\n",
       "      <th>Toxicity</th>\n",
       "      <th>Severe Toxicity</th>\n",
       "      <th>NewDateFormat</th>\n",
       "      <th>week</th>\n",
       "    </tr>\n",
       "  </thead>\n",
       "  <tbody>\n",
       "    <tr>\n",
       "      <th>0</th>\n",
       "      <td>4746709454</td>\n",
       "      <td>just_jusss</td>\n",
       "      <td>911477065328631809</td>\n",
       "      <td>Having a strict dad, if I ask to go out one we...</td>\n",
       "      <td>1.506159e+09</td>\n",
       "      <td>1.0</td>\n",
       "      <td>0.0</td>\n",
       "      <td>False</td>\n",
       "      <td>NaN</td>\n",
       "      <td>NaN</td>\n",
       "      <td>...</td>\n",
       "      <td>NaN</td>\n",
       "      <td>NaN</td>\n",
       "      <td>NaN</td>\n",
       "      <td>NaN</td>\n",
       "      <td>NaN</td>\n",
       "      <td>NaN</td>\n",
       "      <td>0.052305</td>\n",
       "      <td>0.002346</td>\n",
       "      <td>2017-09-23 09:27:21</td>\n",
       "      <td>38</td>\n",
       "    </tr>\n",
       "    <tr>\n",
       "      <th>1</th>\n",
       "      <td>4746709454</td>\n",
       "      <td>just_jusss</td>\n",
       "      <td>911399501264384001</td>\n",
       "      <td>Lookin at all these couples like MBN🤧 but then...</td>\n",
       "      <td>1.506140e+09</td>\n",
       "      <td>2.0</td>\n",
       "      <td>0.0</td>\n",
       "      <td>False</td>\n",
       "      <td>NaN</td>\n",
       "      <td>NaN</td>\n",
       "      <td>...</td>\n",
       "      <td>NaN</td>\n",
       "      <td>NaN</td>\n",
       "      <td>NaN</td>\n",
       "      <td>NaN</td>\n",
       "      <td>NaN</td>\n",
       "      <td>NaN</td>\n",
       "      <td>0.068171</td>\n",
       "      <td>0.003433</td>\n",
       "      <td>2017-09-23 04:19:08</td>\n",
       "      <td>38</td>\n",
       "    </tr>\n",
       "    <tr>\n",
       "      <th>2</th>\n",
       "      <td>4746709454</td>\n",
       "      <td>just_jusss</td>\n",
       "      <td>911343372282900480</td>\n",
       "      <td>Being a senior kinda sucks when most of your f...</td>\n",
       "      <td>1.506127e+09</td>\n",
       "      <td>3.0</td>\n",
       "      <td>0.0</td>\n",
       "      <td>False</td>\n",
       "      <td>NaN</td>\n",
       "      <td>NaN</td>\n",
       "      <td>...</td>\n",
       "      <td>NaN</td>\n",
       "      <td>NaN</td>\n",
       "      <td>NaN</td>\n",
       "      <td>NaN</td>\n",
       "      <td>NaN</td>\n",
       "      <td>NaN</td>\n",
       "      <td>0.518691</td>\n",
       "      <td>0.023787</td>\n",
       "      <td>2017-09-23 00:36:06</td>\n",
       "      <td>38</td>\n",
       "    </tr>\n",
       "    <tr>\n",
       "      <th>3</th>\n",
       "      <td>773711528398848000</td>\n",
       "      <td>CassandraCohan</td>\n",
       "      <td>923729371235586049</td>\n",
       "      <td>@periwinkledink So pretty</td>\n",
       "      <td>1.509076e+09</td>\n",
       "      <td>1.0</td>\n",
       "      <td>0.0</td>\n",
       "      <td>True</td>\n",
       "      <td>923705106264027136</td>\n",
       "      <td>3.434322e+09</td>\n",
       "      <td>...</td>\n",
       "      <td>NaN</td>\n",
       "      <td>NaN</td>\n",
       "      <td>NaN</td>\n",
       "      <td>NaN</td>\n",
       "      <td>NaN</td>\n",
       "      <td>NaN</td>\n",
       "      <td>0.010681</td>\n",
       "      <td>0.002117</td>\n",
       "      <td>2017-10-27 03:53:38</td>\n",
       "      <td>43</td>\n",
       "    </tr>\n",
       "    <tr>\n",
       "      <th>4</th>\n",
       "      <td>773711528398848000</td>\n",
       "      <td>CassandraCohan</td>\n",
       "      <td>923689995763843072</td>\n",
       "      <td>@readyforramos It’s 2017 we go to church and pray</td>\n",
       "      <td>1.509067e+09</td>\n",
       "      <td>3.0</td>\n",
       "      <td>0.0</td>\n",
       "      <td>True</td>\n",
       "      <td>923689936406044673</td>\n",
       "      <td>2.633570e+09</td>\n",
       "      <td>...</td>\n",
       "      <td>NaN</td>\n",
       "      <td>NaN</td>\n",
       "      <td>NaN</td>\n",
       "      <td>NaN</td>\n",
       "      <td>NaN</td>\n",
       "      <td>NaN</td>\n",
       "      <td>0.018975</td>\n",
       "      <td>0.001316</td>\n",
       "      <td>2017-10-27 01:17:10</td>\n",
       "      <td>43</td>\n",
       "    </tr>\n",
       "  </tbody>\n",
       "</table>\n",
       "<p>5 rows × 28 columns</p>\n",
       "</div>"
      ],
      "text/plain": [
       "              user_id     screen_name            tweet_id  \\\n",
       "0          4746709454      just_jusss  911477065328631809   \n",
       "1          4746709454      just_jusss  911399501264384001   \n",
       "2          4746709454      just_jusss  911343372282900480   \n",
       "3  773711528398848000  CassandraCohan  923729371235586049   \n",
       "4  773711528398848000  CassandraCohan  923689995763843072   \n",
       "\n",
       "                                          tweet_text  tweet_creation  \\\n",
       "0  Having a strict dad, if I ask to go out one we...    1.506159e+09   \n",
       "1  Lookin at all these couples like MBN🤧 but then...    1.506140e+09   \n",
       "2  Being a senior kinda sucks when most of your f...    1.506127e+09   \n",
       "3                          @periwinkledink So pretty    1.509076e+09   \n",
       "4  @readyforramos It’s 2017 we go to church and pray    1.509067e+09   \n",
       "\n",
       "   tweet_fav  tweet_rt  rp_flag           rp_status       rp_user  ...  \\\n",
       "0        1.0       0.0    False                 NaN           NaN  ...   \n",
       "1        2.0       0.0    False                 NaN           NaN  ...   \n",
       "2        3.0       0.0    False                 NaN           NaN  ...   \n",
       "3        1.0       0.0     True  923705106264027136  3.434322e+09  ...   \n",
       "4        3.0       0.0     True  923689936406044673  2.633570e+09  ...   \n",
       "\n",
       "   rt_status_id  rt_user_id  rt_text rt_creation  rt_fav  rt_rt  Toxicity  \\\n",
       "0           NaN         NaN      NaN         NaN     NaN    NaN  0.052305   \n",
       "1           NaN         NaN      NaN         NaN     NaN    NaN  0.068171   \n",
       "2           NaN         NaN      NaN         NaN     NaN    NaN  0.518691   \n",
       "3           NaN         NaN      NaN         NaN     NaN    NaN  0.010681   \n",
       "4           NaN         NaN      NaN         NaN     NaN    NaN  0.018975   \n",
       "\n",
       "   Severe Toxicity        NewDateFormat  week  \n",
       "0         0.002346  2017-09-23 09:27:21    38  \n",
       "1         0.003433  2017-09-23 04:19:08    38  \n",
       "2         0.023787  2017-09-23 00:36:06    38  \n",
       "3         0.002117  2017-10-27 03:53:38    43  \n",
       "4         0.001316  2017-10-27 01:17:10    43  \n",
       "\n",
       "[5 rows x 28 columns]"
      ]
     },
     "execution_count": 32,
     "metadata": {},
     "output_type": "execute_result"
    }
   ],
   "source": [
    "df.head()"
   ]
  },
  {
   "cell_type": "code",
   "execution_count": 33,
   "id": "733bd8f9",
   "metadata": {},
   "outputs": [],
   "source": [
    "groupDf = df[['screen_name', 'Toxicity', 'Severe Toxicity', 'week']]"
   ]
  },
  {
   "cell_type": "code",
   "execution_count": 34,
   "id": "f1146ee4",
   "metadata": {},
   "outputs": [],
   "source": [
    "unique_values = groupDf['week'].unique()\n",
    "unique_values.sort()"
   ]
  },
  {
   "cell_type": "code",
   "execution_count": 35,
   "id": "3d3c6059",
   "metadata": {},
   "outputs": [
    {
     "data": {
      "text/plain": [
       "array(['01', '02', '03', '04', '05', '06', '07', '08', '09', '10', '11',\n",
       "       '12', '13', '14', '15', '16', '17', '18', '19', '20', '21', '22',\n",
       "       '23', '24', '25', '26', '27', '28', '29', '30', '31', '32', '33',\n",
       "       '34', '35', '36', '37', '38', '39', '40', '41', '42', '43', '44'],\n",
       "      dtype=object)"
      ]
     },
     "execution_count": 35,
     "metadata": {},
     "output_type": "execute_result"
    }
   ],
   "source": [
    "unique_values"
   ]
  },
  {
   "cell_type": "code",
   "execution_count": 36,
   "id": "6d657b1a",
   "metadata": {},
   "outputs": [],
   "source": [
    "weekDf = groupDf[groupDf['week'] == \"01\"]"
   ]
  },
  {
   "cell_type": "code",
   "execution_count": 37,
   "id": "b620736a",
   "metadata": {},
   "outputs": [
    {
     "name": "stderr",
     "output_type": "stream",
     "text": [
      "C:\\Users\\Aatman\\AppData\\Local\\Temp\\ipykernel_20696\\4235672281.py:1: SettingWithCopyWarning: \n",
      "A value is trying to be set on a copy of a slice from a DataFrame.\n",
      "Try using .loc[row_indexer,col_indexer] = value instead\n",
      "\n",
      "See the caveats in the documentation: https://pandas.pydata.org/pandas-docs/stable/user_guide/indexing.html#returning-a-view-versus-a-copy\n",
      "  weekDf['Toxicity'] = (weekDf['Toxicity'].round(10)) * 10\n"
     ]
    }
   ],
   "source": [
    "weekDf['Toxicity'] = (weekDf['Toxicity'].round(10)) * 10"
   ]
  },
  {
   "cell_type": "code",
   "execution_count": 38,
   "id": "cacf13c8",
   "metadata": {},
   "outputs": [
    {
     "name": "stderr",
     "output_type": "stream",
     "text": [
      "C:\\Users\\Aatman\\AppData\\Local\\Temp\\ipykernel_20696\\167091622.py:1: SettingWithCopyWarning: \n",
      "A value is trying to be set on a copy of a slice from a DataFrame.\n",
      "Try using .loc[row_indexer,col_indexer] = value instead\n",
      "\n",
      "See the caveats in the documentation: https://pandas.pydata.org/pandas-docs/stable/user_guide/indexing.html#returning-a-view-versus-a-copy\n",
      "  weekDf['Toxicity'] = (weekDf['Toxicity'].apply(np.ceil)) / 10\n"
     ]
    }
   ],
   "source": [
    "weekDf['Toxicity'] = (weekDf['Toxicity'].apply(np.ceil)) / 10"
   ]
  },
  {
   "cell_type": "code",
   "execution_count": 39,
   "id": "4316875e",
   "metadata": {},
   "outputs": [
    {
     "data": {
      "text/html": [
       "<div>\n",
       "<style scoped>\n",
       "    .dataframe tbody tr th:only-of-type {\n",
       "        vertical-align: middle;\n",
       "    }\n",
       "\n",
       "    .dataframe tbody tr th {\n",
       "        vertical-align: top;\n",
       "    }\n",
       "\n",
       "    .dataframe thead th {\n",
       "        text-align: right;\n",
       "    }\n",
       "</style>\n",
       "<table border=\"1\" class=\"dataframe\">\n",
       "  <thead>\n",
       "    <tr style=\"text-align: right;\">\n",
       "      <th></th>\n",
       "      <th>screen_name</th>\n",
       "      <th>Toxicity</th>\n",
       "      <th>Severe Toxicity</th>\n",
       "      <th>week</th>\n",
       "    </tr>\n",
       "  </thead>\n",
       "  <tbody>\n",
       "    <tr>\n",
       "      <th>3722</th>\n",
       "      <td>N_TampaChamber</td>\n",
       "      <td>0.1</td>\n",
       "      <td>0.000532</td>\n",
       "      <td>01</td>\n",
       "    </tr>\n",
       "    <tr>\n",
       "      <th>3723</th>\n",
       "      <td>N_TampaChamber</td>\n",
       "      <td>0.1</td>\n",
       "      <td>0.000763</td>\n",
       "      <td>01</td>\n",
       "    </tr>\n",
       "    <tr>\n",
       "      <th>5293</th>\n",
       "      <td>itsjamesherring</td>\n",
       "      <td>0.4</td>\n",
       "      <td>0.353280</td>\n",
       "      <td>01</td>\n",
       "    </tr>\n",
       "    <tr>\n",
       "      <th>5294</th>\n",
       "      <td>itsjamesherring</td>\n",
       "      <td>0.1</td>\n",
       "      <td>0.002222</td>\n",
       "      <td>01</td>\n",
       "    </tr>\n",
       "    <tr>\n",
       "      <th>5295</th>\n",
       "      <td>itsjamesherring</td>\n",
       "      <td>0.2</td>\n",
       "      <td>0.011444</td>\n",
       "      <td>01</td>\n",
       "    </tr>\n",
       "  </tbody>\n",
       "</table>\n",
       "</div>"
      ],
      "text/plain": [
       "          screen_name  Toxicity  Severe Toxicity week\n",
       "3722   N_TampaChamber       0.1         0.000532   01\n",
       "3723   N_TampaChamber       0.1         0.000763   01\n",
       "5293  itsjamesherring       0.4         0.353280   01\n",
       "5294  itsjamesherring       0.1         0.002222   01\n",
       "5295  itsjamesherring       0.2         0.011444   01"
      ]
     },
     "execution_count": 39,
     "metadata": {},
     "output_type": "execute_result"
    }
   ],
   "source": [
    "weekDf.head()"
   ]
  },
  {
   "cell_type": "code",
   "execution_count": 40,
   "id": "59cbd770",
   "metadata": {},
   "outputs": [
    {
     "data": {
      "text/plain": [
       "0.1"
      ]
     },
     "execution_count": 40,
     "metadata": {},
     "output_type": "execute_result"
    }
   ],
   "source": [
    "# weekDf['Toxicity'].value_counts()[0]\n",
    "weekDf['Toxicity'].min()"
   ]
  },
  {
   "cell_type": "code",
   "execution_count": 46,
   "id": "c92c8769",
   "metadata": {},
   "outputs": [],
   "source": [
    "tempDf = df[['screen_name', 'Toxicity', 'Severe Toxicity', 'week']]"
   ]
  },
  {
   "cell_type": "code",
   "execution_count": 48,
   "id": "c8a3f32a",
   "metadata": {},
   "outputs": [
    {
     "name": "stderr",
     "output_type": "stream",
     "text": [
      "C:\\Users\\Aatman\\AppData\\Local\\Temp\\ipykernel_20696\\731754026.py:1: SettingWithCopyWarning: \n",
      "A value is trying to be set on a copy of a slice from a DataFrame.\n",
      "Try using .loc[row_indexer,col_indexer] = value instead\n",
      "\n",
      "See the caveats in the documentation: https://pandas.pydata.org/pandas-docs/stable/user_guide/indexing.html#returning-a-view-versus-a-copy\n",
      "  tempDf['Toxicity'] = tempDf['Toxicity'] * 10\n",
      "C:\\Users\\Aatman\\AppData\\Local\\Temp\\ipykernel_20696\\731754026.py:2: SettingWithCopyWarning: \n",
      "A value is trying to be set on a copy of a slice from a DataFrame.\n",
      "Try using .loc[row_indexer,col_indexer] = value instead\n",
      "\n",
      "See the caveats in the documentation: https://pandas.pydata.org/pandas-docs/stable/user_guide/indexing.html#returning-a-view-versus-a-copy\n",
      "  tempDf['Toxicity'] = (tempDf['Toxicity'].apply(np.ceil)) / 10\n"
     ]
    }
   ],
   "source": [
    "tempDf['Toxicity'] = tempDf['Toxicity'] * 10\n",
    "tempDf['Toxicity'] = (tempDf['Toxicity'].apply(np.ceil)) / 10"
   ]
  },
  {
   "cell_type": "code",
   "execution_count": 49,
   "id": "9114d5ac",
   "metadata": {},
   "outputs": [
    {
     "data": {
      "text/plain": [
       "13"
      ]
     },
     "execution_count": 49,
     "metadata": {},
     "output_type": "execute_result"
    }
   ],
   "source": [
    "tempDf['Toxicity'].value_counts()[0]"
   ]
  },
  {
   "cell_type": "code",
   "execution_count": 50,
   "id": "b1c7ed0e",
   "metadata": {},
   "outputs": [],
   "source": [
    "# def weightedSumToxicity(weekIn):\n",
    "#     weekDf = groupDf[groupDf['week'] == weekIn]\n",
    "#     weekDf['Toxicity'] = weekDf['Toxicity'].round(10) * 10\n",
    "#     weekDf['Toxicity'] = (weekDf['Toxicity'].apply(np.ceil)) / 10\n",
    "#     return weekDf['Toxicity'].sum().round(2)"
   ]
  },
  {
   "cell_type": "code",
   "execution_count": 51,
   "id": "d36fad2a",
   "metadata": {},
   "outputs": [],
   "source": [
    "# for i in unique_values:\n",
    "#     print(weightedSumToxicity(i))"
   ]
  }
 ],
 "metadata": {
  "kernelspec": {
   "display_name": "Python 3 (ipykernel)",
   "language": "python",
   "name": "python3"
  },
  "language_info": {
   "codemirror_mode": {
    "name": "ipython",
    "version": 3
   },
   "file_extension": ".py",
   "mimetype": "text/x-python",
   "name": "python",
   "nbconvert_exporter": "python",
   "pygments_lexer": "ipython3",
   "version": "3.9.12"
  }
 },
 "nbformat": 4,
 "nbformat_minor": 5
}
