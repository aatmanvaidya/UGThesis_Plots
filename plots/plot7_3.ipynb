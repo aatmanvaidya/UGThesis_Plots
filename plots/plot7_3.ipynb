{
  "cells": [
    {
      "cell_type": "code",
      "execution_count": 1,
      "metadata": {
        "colab": {
          "base_uri": "https://localhost:8080/"
        },
        "id": "2zHLKvwq5o3U",
        "outputId": "d780f0ba-6c43-43ab-f211-14eeda26ca58"
      },
      "outputs": [
        {
          "output_type": "stream",
          "name": "stdout",
          "text": [
            "Mounted at /content/gdrive\n"
          ]
        }
      ],
      "source": [
        "from google.colab import drive\n",
        "drive.mount('/content/gdrive')"
      ]
    },
    {
      "cell_type": "code",
      "execution_count": 2,
      "metadata": {
        "id": "pAWu7KW35sXU"
      },
      "outputs": [],
      "source": [
        "import pandas as pd\n",
        "import matplotlib.pyplot as plt\n",
        "import numpy as np\n",
        "from datetime import datetime\n",
        "import seaborn as sns\n",
        "import warnings\n",
        "warnings.filterwarnings(\"ignore\")"
      ]
    },
    {
      "cell_type": "code",
      "execution_count": 3,
      "metadata": {
        "id": "4wzaLX8G8E4c"
      },
      "outputs": [],
      "source": [
        "df = pd.read_csv(\"/content/gdrive/My Drive/tweets.csv\")"
      ]
    },
    {
      "cell_type": "code",
      "execution_count": 4,
      "metadata": {
        "id": "Xl-z5Rq58GfJ"
      },
      "outputs": [],
      "source": [
        "df['NewDateFormat'] = pd.to_datetime(df['tweet_creation'], unit='s')"
      ]
    },
    {
      "cell_type": "code",
      "execution_count": 5,
      "metadata": {
        "id": "a_iWs0WM8ICx"
      },
      "outputs": [],
      "source": [
        "df = df[(df['tweet_creation']>1483228799) & (df['tweet_creation']<=1514764799)]"
      ]
    },
    {
      "cell_type": "code",
      "execution_count": 6,
      "metadata": {
        "id": "m6zb2cyA8JiJ"
      },
      "outputs": [],
      "source": [
        "# df['month'] = df['NewDateFormat'].dt.month\n",
        "# df['NewDateFormat'].astype(str)"
      ]
    },
    {
      "cell_type": "code",
      "execution_count": 7,
      "metadata": {
        "id": "jPnOthiIFp35"
      },
      "outputs": [],
      "source": [
        "# df[\"month\"] = df[\"NewDateFormat\"].apply(lambda x: datetime.strptime(x, \"%Y-%m-%d %H:%M:%S\").strftime(\"%m\"))\n",
        "df[\"month\"] = df[\"NewDateFormat\"].apply(lambda x: datetime.strptime(str(x), \"%Y-%m-%d %H:%M:%S\").strftime(\"%m\"))"
      ]
    },
    {
      "cell_type": "code",
      "execution_count": 67,
      "metadata": {
        "id": "W42ybeXm9QUK"
      },
      "outputs": [],
      "source": [
        "def categorize_tweets(group):\n",
        "    if (group['qt_flag'] == False).all() and (group['rt_flag'] == False).all():\n",
        "        return 'o'\n",
        "    elif (group['qt_flag'] == False).all() and (group['rt_flag'] == True).all():\n",
        "        return 'r'\n",
        "    elif (group['qt_flag'] == True).all() and (group['rt_flag'] == False).all():\n",
        "        return 'q'\n",
        "    elif ((group['qt_flag'] == False) & (group['rt_flag'] == True)).any() and ((group['qt_flag'] == False) & (group['rt_flag'] == False)).any():\n",
        "        return 'o_r'\n",
        "    elif ((group['qt_flag'] == True) & (group['rt_flag'] == False)).any() and ((group['qt_flag'] == False) & (group['rt_flag'] == False)).any():\n",
        "        return 'o_q'\n",
        "    elif ((group['qt_flag'] == True) & (group['rt_flag'] == True)).any() and ((group['qt_flag'] == False) & (group['rt_flag'] == False)).any():\n",
        "        return 'q_r'\n",
        "    else:\n",
        "        return 'o_q_r'"
      ]
    },
    {
      "cell_type": "code",
      "execution_count": 68,
      "metadata": {
        "id": "KCh9fpYY8LWx"
      },
      "outputs": [],
      "source": [
        "groupDf = df[['user_id',  'qt_flag', 'rt_flag','month']]"
      ]
    },
    {
      "cell_type": "code",
      "source": [
        "totalDf = groupDf.groupby('user_id').apply(categorize_tweets)\n",
        "value_counts = totalDf.value_counts().to_dict()\n",
        "values = list(value_counts.values())\n",
        "# print(values)"
      ],
      "metadata": {
        "colab": {
          "base_uri": "https://localhost:8080/"
        },
        "id": "Of-W1Ut1qCqp",
        "outputId": "c29779b5-26db-4aa7-a33b-3dbaa542129d"
      },
      "execution_count": 69,
      "outputs": [
        {
          "output_type": "stream",
          "name": "stdout",
          "text": [
            "[57987, 1433, 810, 90, 35, 2]\n"
          ]
        }
      ]
    },
    {
      "cell_type": "code",
      "source": [
        "value_counts"
      ],
      "metadata": {
        "colab": {
          "base_uri": "https://localhost:8080/"
        },
        "id": "5ZuC7VZM282E",
        "outputId": "88ba9826-11c0-4e04-a1a6-092767194d56"
      },
      "execution_count": 79,
      "outputs": [
        {
          "output_type": "execute_result",
          "data": {
            "text/plain": [
              "{'o_r': 57987, 'o': 1433, 'o_q': 810, 'r': 90, 'o_q_r': 35, 'q': 2}"
            ]
          },
          "metadata": {},
          "execution_count": 79
        }
      ]
    },
    {
      "cell_type": "code",
      "source": [
        "unique_values = df['month'].unique()\n",
        "unique_values.sort()"
      ],
      "metadata": {
        "id": "ZWsJgz9la2TD"
      },
      "execution_count": 70,
      "outputs": []
    },
    {
      "cell_type": "code",
      "source": [
        "unique_values"
      ],
      "metadata": {
        "colab": {
          "base_uri": "https://localhost:8080/"
        },
        "id": "CvEwJtjhjtuC",
        "outputId": "762313b0-fd9a-4d92-d6f8-ca1efcccc0bb"
      },
      "execution_count": 71,
      "outputs": [
        {
          "output_type": "execute_result",
          "data": {
            "text/plain": [
              "array(['01', '02', '03', '04', '05', '06', '07', '08', '09', '10'],\n",
              "      dtype=object)"
            ]
          },
          "metadata": {},
          "execution_count": 71
        }
      ]
    },
    {
      "cell_type": "code",
      "source": [
        "arr_o = []\n",
        "arr_r = []\n",
        "arr_q = []\n",
        "arr_o_q = []\n",
        "arr_o_r = []\n",
        "arr_o_q_r = []"
      ],
      "metadata": {
        "id": "FiqWlSKUJa7t"
      },
      "execution_count": 72,
      "outputs": []
    },
    {
      "cell_type": "code",
      "source": [
        "def countUserCategories(monthIn):\n",
        "  monthDf = groupDf[groupDf['month'] == monthIn]\n",
        "  userDf = monthDf.groupby('user_id').apply(categorize_tweets)\n",
        "  value_counts = userDf.value_counts().to_dict()\n",
        "  values = list(value_counts.values())\n",
        "  arr_o_r.append(values[0])\n",
        "  arr_o.append(values[1])\n",
        "  arr_o_q.append(values[2])\n",
        "  arr_r.append(values[3])\n",
        "  arr_o_q_r.append(values[4])\n",
        "  arr_q.append(values[5])\n",
        "\n",
        "  return (arr_o_r, arr_o, arr_o_q, arr_r, arr_o_q_r, arr_q)\n"
      ],
      "metadata": {
        "id": "fyJ2LkT4j1YK"
      },
      "execution_count": 73,
      "outputs": []
    },
    {
      "cell_type": "code",
      "source": [
        "for i in unique_values:\n",
        "  countUserCategories(i)"
      ],
      "metadata": {
        "id": "d9Bh2MNvLlmn"
      },
      "execution_count": 74,
      "outputs": []
    },
    {
      "cell_type": "code",
      "source": [
        "print(arr_o_r)\n",
        "print(arr_o)\n",
        "print(arr_o_q)\n",
        "print(arr_r)\n",
        "print(arr_o_q_r)\n",
        "print(arr_q)"
      ],
      "metadata": {
        "colab": {
          "base_uri": "https://localhost:8080/"
        },
        "id": "1SiBlWOKca7z",
        "outputId": "fde99062-5334-41b9-c53a-d8a58d58c8dc"
      },
      "execution_count": 80,
      "outputs": [
        {
          "output_type": "stream",
          "name": "stdout",
          "text": [
            "[2820, 3213, 4180, 4713, 6133, 7883, 10205, 14765, 24181, 55363]\n",
            "[1110, 1281, 1326, 1606, 1682, 1874, 2107, 2285, 2648, 2672]\n",
            "[298, 330, 317, 390, 440, 536, 678, 832, 1084, 1243]\n",
            "[197, 267, 287, 362, 389, 410, 528, 501, 458, 319]\n",
            "[69, 64, 73, 95, 84, 100, 161, 171, 155, 131]\n",
            "[27, 18, 28, 41, 42, 34, 54, 51, 47, 33]\n"
          ]
        }
      ]
    },
    {
      "cell_type": "code",
      "source": [
        "x = range(len(unique_values))\n",
        "plt.plot(x, arr_o_r, 'r', label='original and retweet')\n",
        "plt.plot(x, arr_o, 'g', label='orignial')\n",
        "plt.plot(x, arr_o_q, 'b', label='original and quoted')\n",
        "plt.plot(x, arr_r, 'y', label='retweet')\n",
        "plt.plot(x, arr_o_q_r, 'c', label='original, quoted and retweet')\n",
        "plt.plot(x, arr_q, 'm', label='quoted')\n",
        "plt.xticks(x, unique_values)\n",
        "plt.xlabel('Months')\n",
        "plt.ylabel('Count of Users')\n",
        "plt.legend(loc='upper left')\n",
        "plt.show()"
      ],
      "metadata": {
        "colab": {
          "base_uri": "https://localhost:8080/",
          "height": 279
        },
        "id": "T1HsVoQqcJ_D",
        "outputId": "b184bb77-54de-4a38-db72-d22c1a586aa6"
      },
      "execution_count": 76,
      "outputs": [
        {
          "output_type": "display_data",
          "data": {
            "text/plain": [
              "<Figure size 432x288 with 1 Axes>"
            ],
            "image/png": "[encoded data removed]"
          },
          "metadata": {
            "needs_background": "light"
          }
        }
      ]
    },
    {
      "cell_type": "code",
      "execution_count": 77,
      "metadata": {
        "id": "11e9TQGC8NrR"
      },
      "outputs": [],
      "source": [
        "# monthDf = groupDf[groupDf['month'] == \"01\"]\n",
        "# len(monthDf['user_id'].unique())\n",
        "# userDf = groupDf.groupby('user_id').apply(categorize_tweets)\n",
        "# value_counts = userDf.value_counts().to_dict()\n",
        "# values = list(value_counts.values())"
      ]
    },
    {
      "cell_type": "code",
      "source": [
        "'''\n",
        "I have a data frame in python pandas with the following columns.\n",
        "monthDf = df[['user_id', 'Toxicity','qt_flag', 'rt_flag']]\n",
        "\n",
        "The user_id contains the id's of all the users\n",
        "The Toxicity contains float values between 0-1\n",
        "The qt_flag says whether the tweet is a quoted tweet or not. The values of the column are True and False. \n",
        "The rt_flag says whether the tweet is a retweet or not. The values of the column are True and False. \n",
        "\n",
        "I am categorizing the tweets in 3 categories. \n",
        "1) original\n",
        "2) retweet\n",
        "3) quoted tweet\n",
        "\n",
        "A tweet is original if qt_flag = False and rt_flag = False\n",
        "A tweet is retweet if qt_flag = False and rt_flag = True\n",
        "A tweet is quoted tweet if qt_flag = True and rt_flag = False\n",
        "\n",
        "A user has multiple tweets in my dataset, each user will have done different types of tweets. I want to count how many users have for each month. I am listing the categories below:\n",
        "1) original tweets - i.e all the tweets done by the user will only be original\n",
        "2) retweets - i.e all the tweets done by the user will only be quoted.\n",
        "3) quoted - i.e all the tweets done by the user will only be quoted. \n",
        "4) original and retweet - i.e all the tweets done by the user will only be of the type original and retweet\n",
        "5) original and quoted - i.e all the tweets done by the user will only be of the type original and quoted.\n",
        "6) quoted and retweet - i.e all the tweets done by the user will only be of the type quoted and retweet\n",
        "7) original, quoted and retweet - i.e. i.e all the tweets done by the user will only be of the type original and retweet\n",
        "\n",
        "This is how I want the categorization to be. For example, if \n",
        "- user 1 has 10 tweets and out of which, 2 tweets are quoted and 8 tweets are original, then the user would go into the category of 'original and quoted'\n",
        "- if user 2 has 7 tweets out of which 3 are retweet and 4 are quoted, then the user would go into the category of 'quoted and retweet'\n",
        "- if user 3 has 20 tweets out of which 10 tweets are original, 5 are retweet and 5 are quoted, then the user would go into the category of 'original, quoted and retweet'\n",
        "- if user 4 has 15 tweets out of which 10 retweets and 5 quoted tweets, then the user would go into the category of 'quoted and retweet'\n",
        "\n",
        "how do I categories all the tweets into the 7 different categories?   \n",
        "\n",
        "After doing the categorization, I want to make a plot, where on \n",
        "x axis I want the toxicity (0.1,0.2,0.3 etc)\n",
        "and on the y axis I want the number of users from each category, so there will be 7 different lines with 7 different colors for each category\n",
        "\n",
        "I will tell you in detail how the plot should look like, lets say for the \n",
        "first category (original tweets), there are 5 unique users who have a toxicity score 0.1, then the (x,y) would be (0.1,5) and there are 10 unique users who have a toxicity score 0.4, then the plot would plot that. \n",
        "lets say the seventh category (original, quoted and retweet) has 7 unique users who have a toxicity score 0.3, then the plot would plot that. \n",
        "\n",
        "now I want to make such a plot for all the 7 categories of users, where on the y axis it is number of unique users and on the x axis it is the toxicity score\n",
        "'''"
      ],
      "metadata": {
        "colab": {
          "base_uri": "https://localhost:8080/",
          "height": 123
        },
        "id": "18c8Ex3VypsX",
        "outputId": "b272109a-5974-4b59-a9f7-f3b725c1fc96"
      },
      "execution_count": 78,
      "outputs": [
        {
          "output_type": "execute_result",
          "data": {
            "text/plain": [
              "\"\\nI have a data frame in python pandas with the following columns.\\nmonthDf = df[['user_id', 'Toxicity','qt_flag', 'rt_flag']]\\n\\nThe user_id contains the id's of all the users\\nThe Toxicity contains float values between 0-1\\nThe qt_flag says whether the tweet is a quoted tweet or not. The values of the column are True and False. \\nThe rt_flag says whether the tweet is a retweet or not. The values of the column are True and False. \\n\\nI am categorizing the tweets in 3 categories. \\n1) original\\n2) retweet\\n3) quoted tweet\\n\\nA tweet is original if qt_flag = False and rt_flag = False\\nA tweet is retweet if qt_flag = False and rt_flag = True\\nA tweet is quoted tweet if qt_flag = True and rt_flag = False\\n\\nA user has multiple tweets in my dataset, each user will have done different types of tweets. I want to count how many users have for each month. I am listing the categories below:\\n1) original tweets - i.e all the tweets done by the user will only be original\\n2) retweets - i.e all the tweets done by the user will only be quoted.\\n3) quoted - i.e all the tweets done by the user will only be quoted. \\n4) original and retweet - i.e all the tweets done by the user will only be of the type original and retweet\\n5) original and quoted - i.e all the tweets done by the user will only be of the type original and quoted.\\n6) quoted and retweet - i.e all the tweets done by the user will only be of the type quoted and retweet\\n7) original, quoted and retweet - i.e. i.e all the tweets done by the user will only be of the type original and retweet\\n\\nThis is how I want the categorization to be. For example, if \\n- user 1 has 10 tweets and out of which, 2 tweets are quoted and 8 tweets are original, then the user would go into the category of 'original and quoted'\\n- if user 2 has 7 tweets out of which 3 are retweet and 4 are quoted, then the user would go into the category of 'quoted and retweet'\\n- if user 3 has 20 tweets out of which 10 tweets are original, 5 are retweet and 5 are quoted, then the user would go into the category of 'original, quoted and retweet'\\n- if user 4 has 15 tweets out of which 10 retweets and 5 quoted tweets, then the user would go into the category of 'quoted and retweet'\\n\\nhow do I categories all the tweets into the 7 different categories?   \\n\\nAfter doing the categorization, I want to make a plot, where on \\nx axis I want the toxicity (0.1,0.2,0.3 etc)\\nand on the y axis I want the number of users from each category, so there will be 7 different lines with 7 different colors for each category\\n\\nI will tell you in detail how the plot should look like, lets say for the \\nfirst category (original tweets), there are 5 unique users who have a toxicity score 0.1, then the (x,y) would be (0.1,5) and there are 10 unique users who have a toxicity score 0.4, then the plot would plot that. \\nlets say the seventh category (original, quoted and retweet) has 7 unique users who have a toxicity score 0.3, then the plot would plot that. \\n\\nnow I want to make such a plot for all the 7 categories of users, where on the y axis it is number of unique users and on the x axis it is the toxicity score\\n\""
            ],
            "application/vnd.google.colaboratory.intrinsic+json": {
              "type": "string"
            }
          },
          "metadata": {},
          "execution_count": 78
        }
      ]
    }
  ],
  "metadata": {
    "colab": {
      "provenance": []
    },
    "kernelspec": {
      "display_name": "Python 3",
      "name": "python3"
    },
    "language_info": {
      "name": "python"
    }
  },
  "nbformat": 4,
  "nbformat_minor": 0
}