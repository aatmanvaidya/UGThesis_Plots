{
  "nbformat": 4,
  "nbformat_minor": 0,
  "metadata": {
    "colab": {
      "provenance": []
    },
    "kernelspec": {
      "name": "python3",
      "display_name": "Python 3"
    },
    "language_info": {
      "name": "python"
    }
  },
  "cells": [
    {
      "cell_type": "code",
      "execution_count": 1,
      "metadata": {
        "colab": {
          "base_uri": "https://localhost:8080/"
        },
        "id": "kfq_rQq0lTP6",
        "outputId": "b97cb57e-0ffa-4b01-b861-a00ecc3684d2"
      },
      "outputs": [
        {
          "output_type": "stream",
          "name": "stdout",
          "text": [
            "Mounted at /content/gdrive\n"
          ]
        }
      ],
      "source": [
        "from google.colab import drive\n",
        "drive.mount('/content/gdrive')"
      ]
    },
    {
      "cell_type": "code",
      "source": [
        "import pandas as pd\n",
        "import matplotlib.pyplot as plt\n",
        "import matplotlib.ticker as ticker\n",
        "import numpy as np\n",
        "from datetime import datetime\n",
        "import networkx as nx\n",
        "import warnings\n",
        "warnings.filterwarnings(\"ignore\")"
      ],
      "metadata": {
        "id": "YBLDtYfolUwE"
      },
      "execution_count": 2,
      "outputs": []
    },
    {
      "cell_type": "code",
      "source": [
        "df = pd.read_csv(\"/content/gdrive/My Drive/tweetsConvereted2017_toxicPerspectiveScore.csv\")"
      ],
      "metadata": {
        "id": "0xoSlkpalV5y"
      },
      "execution_count": 3,
      "outputs": []
    },
    {
      "cell_type": "code",
      "source": [
        "G = nx.read_edgelist('/content/gdrive/My Drive/users.edgelist')"
      ],
      "metadata": {
        "id": "kePNVuNrKHGw"
      },
      "execution_count": 4,
      "outputs": []
    },
    {
      "cell_type": "code",
      "source": [
        "df[\"week\"] = df[\"NewDateFormat\"].apply(lambda x: datetime.strptime(x, \"%Y-%m-%d %H:%M:%S\").strftime(\"%U\"))\n",
        "df[\"month\"] = df[\"NewDateFormat\"].apply(lambda x: datetime.strptime(x, \"%Y-%m-%d %H:%M:%S\").strftime(\"%m\"))\n",
        "df[\"day\"] = df[\"NewDateFormat\"].apply(lambda x: datetime.strptime(x, \"%Y-%m-%d %H:%M:%S\").day)"
      ],
      "metadata": {
        "id": "OI-gohNNpohK"
      },
      "execution_count": 5,
      "outputs": []
    },
    {
      "cell_type": "code",
      "source": [
        "groupDf = df[['user_id', 'Toxicity','week','month']]"
      ],
      "metadata": {
        "id": "sJ2S7pOhKBv0"
      },
      "execution_count": 6,
      "outputs": []
    },
    {
      "cell_type": "code",
      "source": [
        "weekDf = groupDf[groupDf['week']==\"01\"]"
      ],
      "metadata": {
        "id": "FxGDw0lTaDPT"
      },
      "execution_count": 30,
      "outputs": []
    },
    {
      "cell_type": "code",
      "source": [
        "user_list_week = list(weekDf['user_id'].unique().astype(str))"
      ],
      "metadata": {
        "id": "YekkgsOwbqaD"
      },
      "execution_count": 31,
      "outputs": []
    },
    {
      "cell_type": "code",
      "source": [
        "G_week = G.subgraph(user_list_week)"
      ],
      "metadata": {
        "id": "gXSoAKcRbyCv"
      },
      "execution_count": 32,
      "outputs": []
    },
    {
      "cell_type": "code",
      "source": [
        "print(G.number_of_edges())\n",
        "print(G.number_of_nodes())\n",
        "print(G_week.number_of_edges())\n",
        "print(G_week.number_of_nodes())"
      ],
      "metadata": {
        "colab": {
          "base_uri": "https://localhost:8080/"
        },
        "id": "XDz8lUd0b4PF",
        "outputId": "59a9fae6-8b96-48bf-c865-d60512db457e"
      },
      "execution_count": 33,
      "outputs": [
        {
          "output_type": "stream",
          "name": "stdout",
          "text": [
            "2194979\n",
            "100386\n",
            "2711\n",
            "2122\n"
          ]
        }
      ]
    },
    {
      "cell_type": "code",
      "source": [
        "weekDf.head()"
      ],
      "metadata": {
        "colab": {
          "base_uri": "https://localhost:8080/",
          "height": 206
        },
        "id": "oKkQYWYXc90D",
        "outputId": "9ccc592e-0726-4b3c-9045-436e705f5fbb"
      },
      "execution_count": 34,
      "outputs": [
        {
          "output_type": "execute_result",
          "data": {
            "text/plain": [
              "                 user_id  Toxicity week month\n",
              "3722  714557249604227075  0.004304   01    01\n",
              "3723  714557249604227075  0.007665   01    01\n",
              "5293            20430045  0.399880   01    01\n",
              "5294            20430045  0.028856   01    01\n",
              "5295            20430045  0.168519   01    01"
            ],
            "text/html": [
              "\n",
              "  <div id=\"df-180b7847-b9de-4cd6-b324-3fd9018d54f8\">\n",
              "    <div class=\"colab-df-container\">\n",
              "      <div>\n",
              "<style scoped>\n",
              "    .dataframe tbody tr th:only-of-type {\n",
              "        vertical-align: middle;\n",
              "    }\n",
              "\n",
              "    .dataframe tbody tr th {\n",
              "        vertical-align: top;\n",
              "    }\n",
              "\n",
              "    .dataframe thead th {\n",
              "        text-align: right;\n",
              "    }\n",
              "</style>\n",
              "<table border=\"1\" class=\"dataframe\">\n",
              "  <thead>\n",
              "    <tr style=\"text-align: right;\">\n",
              "      <th></th>\n",
              "      <th>user_id</th>\n",
              "      <th>Toxicity</th>\n",
              "      <th>week</th>\n",
              "      <th>month</th>\n",
              "    </tr>\n",
              "  </thead>\n",
              "  <tbody>\n",
              "    <tr>\n",
              "      <th>3722</th>\n",
              "      <td>714557249604227075</td>\n",
              "      <td>0.004304</td>\n",
              "      <td>01</td>\n",
              "      <td>01</td>\n",
              "    </tr>\n",
              "    <tr>\n",
              "      <th>3723</th>\n",
              "      <td>714557249604227075</td>\n",
              "      <td>0.007665</td>\n",
              "      <td>01</td>\n",
              "      <td>01</td>\n",
              "    </tr>\n",
              "    <tr>\n",
              "      <th>5293</th>\n",
              "      <td>20430045</td>\n",
              "      <td>0.399880</td>\n",
              "      <td>01</td>\n",
              "      <td>01</td>\n",
              "    </tr>\n",
              "    <tr>\n",
              "      <th>5294</th>\n",
              "      <td>20430045</td>\n",
              "      <td>0.028856</td>\n",
              "      <td>01</td>\n",
              "      <td>01</td>\n",
              "    </tr>\n",
              "    <tr>\n",
              "      <th>5295</th>\n",
              "      <td>20430045</td>\n",
              "      <td>0.168519</td>\n",
              "      <td>01</td>\n",
              "      <td>01</td>\n",
              "    </tr>\n",
              "  </tbody>\n",
              "</table>\n",
              "</div>\n",
              "      <button class=\"colab-df-convert\" onclick=\"convertToInteractive('df-180b7847-b9de-4cd6-b324-3fd9018d54f8')\"\n",
              "              title=\"Convert this dataframe to an interactive table.\"\n",
              "              style=\"display:none;\">\n",
              "        \n",
              "  <svg xmlns=\"http://www.w3.org/2000/svg\" height=\"24px\"viewBox=\"0 0 24 24\"\n",
              "       width=\"24px\">\n",
              "    <path d=\"M0 0h24v24H0V0z\" fill=\"none\"/>\n",
              "    <path d=\"M18.56 5.44l.94 2.06.94-2.06 2.06-.94-2.06-.94-.94-2.06-.94 2.06-2.06.94zm-11 1L8.5 8.5l.94-2.06 2.06-.94-2.06-.94L8.5 2.5l-.94 2.06-2.06.94zm10 10l.94 2.06.94-2.06 2.06-.94-2.06-.94-.94-2.06-.94 2.06-2.06.94z\"/><path d=\"M17.41 7.96l-1.37-1.37c-.4-.4-.92-.59-1.43-.59-.52 0-1.04.2-1.43.59L10.3 9.45l-7.72 7.72c-.78.78-.78 2.05 0 2.83L4 21.41c.39.39.9.59 1.41.59.51 0 1.02-.2 1.41-.59l7.78-7.78 2.81-2.81c.8-.78.8-2.07 0-2.86zM5.41 20L4 18.59l7.72-7.72 1.47 1.35L5.41 20z\"/>\n",
              "  </svg>\n",
              "      </button>\n",
              "      \n",
              "  <style>\n",
              "    .colab-df-container {\n",
              "      display:flex;\n",
              "      flex-wrap:wrap;\n",
              "      gap: 12px;\n",
              "    }\n",
              "\n",
              "    .colab-df-convert {\n",
              "      background-color: #E8F0FE;\n",
              "      border: none;\n",
              "      border-radius: 50%;\n",
              "      cursor: pointer;\n",
              "      display: none;\n",
              "      fill: #1967D2;\n",
              "      height: 32px;\n",
              "      padding: 0 0 0 0;\n",
              "      width: 32px;\n",
              "    }\n",
              "\n",
              "    .colab-df-convert:hover {\n",
              "      background-color: #E2EBFA;\n",
              "      box-shadow: 0px 1px 2px rgba(60, 64, 67, 0.3), 0px 1px 3px 1px rgba(60, 64, 67, 0.15);\n",
              "      fill: #174EA6;\n",
              "    }\n",
              "\n",
              "    [theme=dark] .colab-df-convert {\n",
              "      background-color: #3B4455;\n",
              "      fill: #D2E3FC;\n",
              "    }\n",
              "\n",
              "    [theme=dark] .colab-df-convert:hover {\n",
              "      background-color: #434B5C;\n",
              "      box-shadow: 0px 1px 3px 1px rgba(0, 0, 0, 0.15);\n",
              "      filter: drop-shadow(0px 1px 2px rgba(0, 0, 0, 0.3));\n",
              "      fill: #FFFFFF;\n",
              "    }\n",
              "  </style>\n",
              "\n",
              "      <script>\n",
              "        const buttonEl =\n",
              "          document.querySelector('#df-180b7847-b9de-4cd6-b324-3fd9018d54f8 button.colab-df-convert');\n",
              "        buttonEl.style.display =\n",
              "          google.colab.kernel.accessAllowed ? 'block' : 'none';\n",
              "\n",
              "        async function convertToInteractive(key) {\n",
              "          const element = document.querySelector('#df-180b7847-b9de-4cd6-b324-3fd9018d54f8');\n",
              "          const dataTable =\n",
              "            await google.colab.kernel.invokeFunction('convertToInteractive',\n",
              "                                                     [key], {});\n",
              "          if (!dataTable) return;\n",
              "\n",
              "          const docLinkHtml = 'Like what you see? Visit the ' +\n",
              "            '<a target=\"_blank\" href=https://colab.research.google.com/notebooks/data_table.ipynb>data table notebook</a>'\n",
              "            + ' to learn more about interactive tables.';\n",
              "          element.innerHTML = '';\n",
              "          dataTable['output_type'] = 'display_data';\n",
              "          await google.colab.output.renderOutput(dataTable, element);\n",
              "          const docLink = document.createElement('div');\n",
              "          docLink.innerHTML = docLinkHtml;\n",
              "          element.appendChild(docLink);\n",
              "        }\n",
              "      </script>\n",
              "    </div>\n",
              "  </div>\n",
              "  "
            ]
          },
          "metadata": {},
          "execution_count": 34
        }
      ]
    },
    {
      "cell_type": "code",
      "source": [
        "def get_neighbour_toxicity_mean(user):\n",
        "  neighbours = list(G_week.neighbors(user))\n",
        "  temp_list = []\n",
        "  for neigh in neighbours:\n",
        "    neighbourDf = weekDf[weekDf['user_id'].astype(str) ==neigh]\n",
        "    mean_toxicity = neighbourDf['Toxicity'].mean()\n",
        "    temp_list.append(mean_toxicity)\n",
        "  return sum(temp_list)/len(temp_list)"
      ],
      "metadata": {
        "id": "KjuU1EwHdA5j"
      },
      "execution_count": 35,
      "outputs": []
    },
    {
      "cell_type": "code",
      "source": [
        "def get_user_toxicity_mean(user):\n",
        "  userDf = weekDf[weekDf['user_id'].astype(str) ==user]\n",
        "  return userDf['Toxicity'].mean()"
      ],
      "metadata": {
        "id": "3-RqAaHEfzQL"
      },
      "execution_count": 36,
      "outputs": []
    },
    {
      "cell_type": "code",
      "source": [
        "user_toxicity_means = []\n",
        "neighbor_toxicity_means = []"
      ],
      "metadata": {
        "id": "_eJ6PcdZf4-z"
      },
      "execution_count": 37,
      "outputs": []
    },
    {
      "cell_type": "code",
      "source": [
        "for user in G_week.nodes():\n",
        "  user_mean = get_user_toxicity_mean(user)\n",
        "  neighbour_mean = get_neighbour_toxicity_mean(user)\n",
        "  user_toxicity_means.append(user_mean)\n",
        "  neighbor_toxicity_means.append(neighbour_mean)"
      ],
      "metadata": {
        "id": "MvwgJDPHf8NC"
      },
      "execution_count": 38,
      "outputs": []
    },
    {
      "cell_type": "code",
      "source": [
        "plt.figure(figsize=(15,10))\n",
        "plt.scatter(user_toxicity_means, neighbor_toxicity_means)\n",
        "plt.xlabel('Mean toxicity score of user')\n",
        "plt.ylabel('Mean toxicity score of user\\'s neighbors')\n",
        "\n",
        "plt.xticks([i/10 for i in range(0, 11)])\n",
        "plt.yticks([i/10 for i in range(0, 11)])\n",
        "plt.show()"
      ],
      "metadata": {
        "id": "hgkLgohngC5c",
        "colab": {
          "base_uri": "https://localhost:8080/",
          "height": 610
        },
        "outputId": "678ab382-f945-4556-d953-7683ce305928"
      },
      "execution_count": 39,
      "outputs": [
        {
          "output_type": "display_data",
          "data": {
            "text/plain": [
              "<Figure size 1080x720 with 1 Axes>"
            ],
            "image/png": "[encoded data removed]"
          },
          "metadata": {
            "needs_background": "light"
          }
        }
      ]
    },
    {
      "cell_type": "code",
      "source": [
        "# For just a single user\n",
        "'''\n",
        "fix_user_id = \"714557249604227075\"\n",
        "neighbor_user_list = list(G_week.neighbors(fix_user_id))\n",
        "neighbourDf = weekDf[weekDf['user_id'].astype(str) == \"714557249604227075\"]\n",
        "mean_toxicity = neighbourDf['Toxicity'].mean()\n",
        "'''"
      ],
      "metadata": {
        "id": "zYM2LgJFeHXM",
        "colab": {
          "base_uri": "https://localhost:8080/",
          "height": 53
        },
        "outputId": "298d179c-969e-41b2-e131-459d4bdd5cd1"
      },
      "execution_count": 40,
      "outputs": [
        {
          "output_type": "execute_result",
          "data": {
            "text/plain": [
              "'\\nfix_user_id = \"714557249604227075\"\\nneighbor_user_list = list(G_week.neighbors(fix_user_id))\\nneighbourDf = weekDf[weekDf[\\'user_id\\'].astype(str) == \"714557249604227075\"]\\nmean_toxicity = neighbourDf[\\'Toxicity\\'].mean()\\n'"
            ],
            "application/vnd.google.colaboratory.intrinsic+json": {
              "type": "string"
            }
          },
          "metadata": {},
          "execution_count": 40
        }
      ]
    },
    {
      "cell_type": "code",
      "source": [
        "# def get_neighbour_toxicity_mean(user):\n",
        "#   neighbours = list(G_week.neighbors(user))\n",
        "#   temp_list = []\n",
        "#   for neigh in neighbours:\n",
        "#     neighbourDf = weekDf[weekDf['user_id']==neigh]\n",
        "#     mean_toxicity = neighbourDf['Toxicity'].mean()\n",
        "#     temp_list.append(mean_toxicity)\n",
        "#   return sum(temp_list)/len(temp_list)\n",
        "\n",
        "# def get_user_toxicity_mean(user):\n",
        "#   userDf = weekDf[weekDf['user_id']==user]\n",
        "#   return userDf['Toxicity'].mean()\n",
        "\n",
        "# user_toxicity_means = []\n",
        "# neighbor_toxicity_means = []\n",
        "# for user in G_week.nodes():\n",
        "#   user_mean = get_user_toxicity_mean(user)\n",
        "#   neighbour_mean = get_neighbour_toxicity_mean(user)\n",
        "#   user_toxicity_means.append(user_mean)\n",
        "#   neighbor_toxicity_means.append(neighbour_mean)"
      ],
      "metadata": {
        "id": "9RYZ-vJ5YM-n"
      },
      "execution_count": 41,
      "outputs": []
    },
    {
      "cell_type": "code",
      "source": [
        "'''\n",
        "I have a users.edges file which has a edgelist for all the users. Each node here is a user id. \n",
        "\n",
        "And now I have a tweets.csv file. which has the following columns: -\n",
        "1) user_id - contains the id's of the user\n",
        "2) tweet_id - contains the id's of the tweet. A same user may have multiple tweets\n",
        "3) Toxicity - contains the toxicity score for each tweet. \n",
        "\n",
        "now looking at the users.edges file, how do I find the neighbors of a user and calculate the mean toxicity score of all the tweets that the neighbors have done? \n",
        "after this I also want to calculate the mean toxicity score of the tweets that the user has done. \n",
        "\n",
        "I want to do this for all the users, and after that make a scatter plot, where each user is a dot on the plot and \n",
        "x axis - mean of the toxicity scores of the user\n",
        "y axis - mean of the toxicity scores of the user's neighbor. \n",
        "\n",
        "How do I do this in python?\n",
        "'''"
      ],
      "metadata": {
        "id": "gkWq2xgRmDN8",
        "colab": {
          "base_uri": "https://localhost:8080/",
          "height": 105
        },
        "outputId": "14b9e727-4c24-4913-d6cb-afe5b0765904"
      },
      "execution_count": 42,
      "outputs": [
        {
          "output_type": "execute_result",
          "data": {
            "text/plain": [
              "\"\\nI have a users.edges file which has a edgelist for all the users. Each node here is a user id. \\n\\nAnd now I have a tweets.csv file. which has the following columns: -\\n1) user_id - contains the id's of the user\\n2) tweet_id - contains the id's of the tweet. A same user may have multiple tweets\\n3) Toxicity - contains the toxicity score for each tweet. \\n\\nnow looking at the users.edges file, how do I find the neighbors of a user and calculate the mean toxicity score of all the tweets that the neighbors have done? \\nafter this I also want to calculate the mean toxicity score of the tweets that the user has done. \\n\\nI want to do this for all the users, and after that make a scatter plot, where each user is a dot on the plot and \\nx axis - mean of the toxicity scores of the user\\ny axis - mean of the toxicity scores of the user's neighbor. \\n\\nHow do I do this in python?\\n\""
            ],
            "application/vnd.google.colaboratory.intrinsic+json": {
              "type": "string"
            }
          },
          "metadata": {},
          "execution_count": 42
        }
      ]
    },
    {
      "cell_type": "code",
      "source": [
        "'''\n",
        "I have a edgelist file called users.edgelist. This file contains the edges for a graph. The nodes in this graph are the users_id's.\n",
        "I also have a csv file called the tweets.csv file. In this csv file, I have a column called user_id. \n",
        "Now the users.edgelist file contains more number of users than the tweets.csv user_id column file. \n",
        "How do I make sure that the users.edgelist file only contains the users from the user_id column in the tweets.csv file.\n",
        "''' "
      ],
      "metadata": {
        "id": "pQi4tae_Whne",
        "colab": {
          "base_uri": "https://localhost:8080/",
          "height": 70
        },
        "outputId": "757175fc-9ef7-4aa8-bd8c-50d2536d7ceb"
      },
      "execution_count": 43,
      "outputs": [
        {
          "output_type": "execute_result",
          "data": {
            "text/plain": [
              "\"\\nI have a edgelist file called users.edgelist. This file contains the edges for a graph. The nodes in this graph are the users_id's.\\nI also have a csv file called the tweets.csv file. In this csv file, I have a column called user_id. \\nNow the users.edgelist file contains more number of users than the tweets.csv user_id column file. \\nHow do I make sure that the users.edgelist file only contains the users from the user_id column in the tweets.csv file.\\n\""
            ],
            "application/vnd.google.colaboratory.intrinsic+json": {
              "type": "string"
            }
          },
          "metadata": {},
          "execution_count": 43
        }
      ]
    },
    {
      "cell_type": "code",
      "source": [
        "'''\n",
        "I am working on a Twitter dataset. \n",
        "I have a graph G which is loaded in networkx via an edgelist file. This graph contains users id's as nodes. \n",
        "\n",
        "And now I have a tweets.csv file. which has the following columns: -\n",
        "1) user_id - contains the id's of the user\n",
        "2) tweet_id - contains the id's of the tweet. A same user may have multiple tweets\n",
        "3) Toxicity - contains the toxicity score for each tweet. \n",
        "4) Week - contains the week number for a tweet.\n",
        "A user_id has multiple tweet_id's and toxicity scores. \n",
        "\n",
        "how do I find the neighbours of a user and calculate the mean toxicity score of all the tweets that the neighbours have done? \n",
        "after this, I also want to calculate the mean toxicity score of the tweets that the user has done. \n",
        "\n",
        "and after that make a scatter plot, where \n",
        "x axis - mean of the toxicity scores of the user\n",
        "y axis - mean of the toxicity scores of the user's neighbour. \n",
        "Here each user would be a dot on this scatter plot\n",
        "\n",
        "How do I do this in python?\n",
        "'''"
      ],
      "metadata": {
        "id": "0J86QbOfJ8SM",
        "colab": {
          "base_uri": "https://localhost:8080/",
          "height": 122
        },
        "outputId": "d788a1f4-19b7-448f-e05a-f52bba6140e3"
      },
      "execution_count": 44,
      "outputs": [
        {
          "output_type": "execute_result",
          "data": {
            "text/plain": [
              "\"\\nI am working on a Twitter dataset. \\nI have a graph G which is loaded in networkx via an edgelist file. This graph contains users id's as nodes. \\n\\nAnd now I have a tweets.csv file. which has the following columns: -\\n1) user_id - contains the id's of the user\\n2) tweet_id - contains the id's of the tweet. A same user may have multiple tweets\\n3) Toxicity - contains the toxicity score for each tweet. \\n4) Week - contains the week number for a tweet.\\nA user_id has multiple tweet_id's and toxicity scores. \\n\\nhow do I find the neighbours of a user and calculate the mean toxicity score of all the tweets that the neighbours have done? \\nafter this, I also want to calculate the mean toxicity score of the tweets that the user has done. \\n\\nand after that make a scatter plot, where \\nx axis - mean of the toxicity scores of the user\\ny axis - mean of the toxicity scores of the user's neighbour. \\nHere each user would be a dot on this scatter plot\\n\\nHow do I do this in python?\\n\""
            ],
            "application/vnd.google.colaboratory.intrinsic+json": {
              "type": "string"
            }
          },
          "metadata": {},
          "execution_count": 44
        }
      ]
    }
  ]
}