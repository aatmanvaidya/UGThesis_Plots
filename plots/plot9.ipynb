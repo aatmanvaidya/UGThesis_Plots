{
  "nbformat": 4,
  "nbformat_minor": 0,
  "metadata": {
    "colab": {
      "provenance": []
    },
    "kernelspec": {
      "name": "python3",
      "display_name": "Python 3"
    },
    "language_info": {
      "name": "python"
    }
  },
  "cells": [
    {
      "cell_type": "code",
      "execution_count": 1,
      "metadata": {
        "colab": {
          "base_uri": "https://localhost:8080/"
        },
        "id": "kfq_rQq0lTP6",
        "outputId": "8db164c3-7ce6-4ab5-e341-2f46a4d8e9b0"
      },
      "outputs": [
        {
          "output_type": "stream",
          "name": "stdout",
          "text": [
            "Mounted at /content/gdrive\n"
          ]
        }
      ],
      "source": [
        "from google.colab import drive\n",
        "drive.mount('/content/gdrive')"
      ]
    },
    {
      "cell_type": "code",
      "source": [
        "import pandas as pd\n",
        "import matplotlib.pyplot as plt\n",
        "import matplotlib.ticker as ticker\n",
        "import numpy as np\n",
        "from datetime import datetime\n",
        "import networkx as nx\n",
        "import warnings\n",
        "warnings.filterwarnings(\"ignore\")"
      ],
      "metadata": {
        "id": "YBLDtYfolUwE"
      },
      "execution_count": 2,
      "outputs": []
    },
    {
      "cell_type": "code",
      "source": [
        "with open('/content/gdrive/My Drive/users.edgelist', 'r') as f:\n",
        "    for i in range(10):\n",
        "        print(f.readline())"
      ],
      "metadata": {
        "colab": {
          "base_uri": "https://localhost:8080/"
        },
        "id": "CHT-GY1uBcgP",
        "outputId": "270855c6-dca4-43af-98ec-1fd5136984b0"
      },
      "execution_count": 17,
      "outputs": [
        {
          "output_type": "stream",
          "name": "stdout",
          "text": [
            "38772269 18327544\n",
            "\n",
            "38772269 112614146\n",
            "\n",
            "38772269 1074165290\n",
            "\n",
            "38772269 249857097\n",
            "\n",
            "38772269 38772269\n",
            "\n",
            "38772269 626729474\n",
            "\n",
            "38772269 738858178964824064\n",
            "\n",
            "38772269 923182994948546560\n",
            "\n",
            "38772269 42737663\n",
            "\n",
            "38772269 40703920\n",
            "\n"
          ]
        }
      ]
    },
    {
      "cell_type": "code",
      "source": [
        "df = pd.read_csv(\"/content/gdrive/My Drive/tweetsConvereted2017_toxicPerspectiveScore.csv\")"
      ],
      "metadata": {
        "id": "0xoSlkpalV5y"
      },
      "execution_count": 5,
      "outputs": []
    },
    {
      "cell_type": "code",
      "source": [
        "df[\"week\"] = df[\"NewDateFormat\"].apply(lambda x: datetime.strptime(x, \"%Y-%m-%d %H:%M:%S\").strftime(\"%U\"))\n",
        "df[\"month\"] = df[\"NewDateFormat\"].apply(lambda x: datetime.strptime(x, \"%Y-%m-%d %H:%M:%S\").strftime(\"%m\"))"
      ],
      "metadata": {
        "id": "OI-gohNNpohK"
      },
      "execution_count": 6,
      "outputs": []
    },
    {
      "cell_type": "code",
      "source": [
        "# df.loc[df['user_id']==923182994948546560]"
      ],
      "metadata": {
        "id": "bDxiaot8dYdq"
      },
      "execution_count": 19,
      "outputs": []
    },
    {
      "cell_type": "code",
      "source": [
        "unique_users = df['user_id'].unique().astype(str)"
      ],
      "metadata": {
        "id": "qkf19idg1ABC"
      },
      "execution_count": 34,
      "outputs": []
    },
    {
      "cell_type": "code",
      "source": [
        "len(unique_users)"
      ],
      "metadata": {
        "colab": {
          "base_uri": "https://localhost:8080/"
        },
        "id": "u3ixcGUf1aul",
        "outputId": "52505ce0-3835-4a71-d07c-4280d7a4b861"
      },
      "execution_count": 35,
      "outputs": [
        {
          "output_type": "execute_result",
          "data": {
            "text/plain": [
              "59848"
            ]
          },
          "metadata": {},
          "execution_count": 35
        }
      ]
    },
    {
      "cell_type": "code",
      "source": [
        "type(unique_users[0])"
      ],
      "metadata": {
        "colab": {
          "base_uri": "https://localhost:8080/"
        },
        "id": "KK325RMkqGjg",
        "outputId": "62bca2f2-f2ab-4b40-93e4-9faea34b2251"
      },
      "execution_count": 38,
      "outputs": [
        {
          "output_type": "execute_result",
          "data": {
            "text/plain": [
              "numpy.str_"
            ]
          },
          "metadata": {},
          "execution_count": 38
        }
      ]
    },
    {
      "cell_type": "code",
      "source": [
        "with open('/content/gdrive/My Drive/users.edgelist') as infile:\n",
        "    first_line = infile.readline().strip()\n",
        "    node1, node2 = first_line.split()\n",
        "    print(type(node1), type(node2))"
      ],
      "metadata": {
        "colab": {
          "base_uri": "https://localhost:8080/"
        },
        "id": "oEP7ftTy8rjh",
        "outputId": "550d5ef7-7a23-4fa2-b03f-3e7cd5a4236e"
      },
      "execution_count": 40,
      "outputs": [
        {
          "output_type": "stream",
          "name": "stdout",
          "text": [
            "<class 'str'> <class 'str'>\n"
          ]
        }
      ]
    },
    {
      "cell_type": "code",
      "source": [
        "with open('/content/gdrive/My Drive/users.edgelist') as infile, open('/content/gdrive/My Drive/users_filtered.edgelist', 'w') as outfile:\n",
        "    for line in infile:\n",
        "        node1, node2 = line.strip().split()\n",
        "        if node1 in unique_users and node2 in unique_users:\n",
        "            outfile.write(line)"
      ],
      "metadata": {
        "id": "zhvIWghD7Pvo"
      },
      "execution_count": 41,
      "outputs": []
    },
    {
      "cell_type": "code",
      "source": [
        "with open('/content/gdrive/My Drive/users_filtered.edgelist', 'r') as f:\n",
        "    for i in range(5):\n",
        "        print(f.readline())"
      ],
      "metadata": {
        "colab": {
          "base_uri": "https://localhost:8080/"
        },
        "id": "AV2pzV7ypQ45",
        "outputId": "9dcef25d-ca76-42fb-86b9-cfa4fbb30c52"
      },
      "execution_count": 42,
      "outputs": [
        {
          "output_type": "stream",
          "name": "stdout",
          "text": [
            "38772269 18327544\n",
            "\n",
            "38772269 112614146\n",
            "\n",
            "38772269 1074165290\n",
            "\n",
            "38772269 249857097\n",
            "\n",
            "38772269 38772269\n",
            "\n"
          ]
        }
      ]
    },
    {
      "cell_type": "code",
      "source": [
        "'''\n",
        "I have a users.edges file which has a edgelist for all the users. Each node here is a user id. \n",
        "\n",
        "And now I have a tweets.csv file. which has the following columns: -\n",
        "1) user_id - contains the id's of the user\n",
        "2) tweet_id - contains the id's of the tweet. A same user may have multiple tweets\n",
        "3) Toxicity - contains the toxicity score for each tweet. \n",
        "\n",
        "now looking at the users.edges file, how do I find the neighbors of a user and calculate the mean toxicity score of all the tweets that the neighbors have done? \n",
        "after this I also want to calculate the mean toxicity score of the tweets that the user has done. \n",
        "\n",
        "I want to do this for all the users, and after that make a scatter plot, where each user is a dot on the plot and \n",
        "x axis - mean of the toxicity scores of the user\n",
        "y axis - mean of the toxicity scores of the user's neighbor. \n",
        "\n",
        "How do I do this in python?\n",
        "'''"
      ],
      "metadata": {
        "id": "gkWq2xgRmDN8"
      },
      "execution_count": null,
      "outputs": []
    },
    {
      "cell_type": "code",
      "source": [
        "'''\n",
        "I have a edgelist file called users.edgelist. This file contains the edges for a graph. The nodes in this graph are the users_id's.\n",
        "I also have a csv file called the tweets.csv file. In this csv file, I have a column called user_id. \n",
        "Now the users.edgelist file contains more number of users than the tweets.csv user_id column file. \n",
        "How do I make sure that the users.edgelist file only contains the users from the user_id column in the tweets.csv file.\n",
        "''' "
      ],
      "metadata": {
        "id": "pQi4tae_Whne"
      },
      "execution_count": null,
      "outputs": []
    }
  ]
}