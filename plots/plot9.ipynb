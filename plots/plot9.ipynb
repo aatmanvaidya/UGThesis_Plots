{
  "nbformat": 4,
  "nbformat_minor": 0,
  "metadata": {
    "colab": {
      "provenance": []
    },
    "kernelspec": {
      "name": "python3",
      "display_name": "Python 3"
    },
    "language_info": {
      "name": "python"
    }
  },
  "cells": [
    {
      "cell_type": "code",
      "execution_count": 1,
      "metadata": {
        "colab": {
          "base_uri": "https://localhost:8080/"
        },
        "id": "kfq_rQq0lTP6",
        "outputId": "c34573a3-ccbc-4d75-eb8b-6ff1311c494c"
      },
      "outputs": [
        {
          "output_type": "stream",
          "name": "stdout",
          "text": [
            "Mounted at /content/gdrive\n"
          ]
        }
      ],
      "source": [
        "from google.colab import drive\n",
        "drive.mount('/content/gdrive')"
      ]
    },
    {
      "cell_type": "code",
      "source": [
        "import pandas as pd\n",
        "import matplotlib.pyplot as plt\n",
        "import matplotlib.ticker as ticker\n",
        "import numpy as np\n",
        "from datetime import datetime\n",
        "import networkx as nx\n",
        "import warnings\n",
        "warnings.filterwarnings(\"ignore\")"
      ],
      "metadata": {
        "id": "YBLDtYfolUwE"
      },
      "execution_count": 2,
      "outputs": []
    },
    {
      "cell_type": "code",
      "source": [
        "G = nx.read_edgelist(\"/content/gdrive/My Drive/users.edges\")"
      ],
      "metadata": {
        "id": "tScFR_7QnjAB"
      },
      "execution_count": 3,
      "outputs": []
    },
    {
      "cell_type": "code",
      "source": [
        "with open('/content/gdrive/My Drive/users.edges', 'r') as f:\n",
        "    for i in range(5):\n",
        "        print(f.readline())"
      ],
      "metadata": {
        "colab": {
          "base_uri": "https://localhost:8080/"
        },
        "id": "CHT-GY1uBcgP",
        "outputId": "dce1fa15-5092-434f-c725-41d5476f04a9"
      },
      "execution_count": 22,
      "outputs": [
        {
          "output_type": "stream",
          "name": "stdout",
          "text": [
            "10999 55317\n",
            "\n",
            "10999 44622\n",
            "\n",
            "10999 10999\n",
            "\n",
            "10999 71821\n",
            "\n",
            "10999 57907\n",
            "\n"
          ]
        }
      ]
    },
    {
      "cell_type": "code",
      "source": [
        "df = pd.read_csv(\"/content/gdrive/My Drive/tweetsConvereted2017_toxicPerspectiveScore.csv\")"
      ],
      "metadata": {
        "id": "0xoSlkpalV5y"
      },
      "execution_count": 4,
      "outputs": []
    },
    {
      "cell_type": "code",
      "source": [
        "df[\"week\"] = df[\"NewDateFormat\"].apply(lambda x: datetime.strptime(x, \"%Y-%m-%d %H:%M:%S\").strftime(\"%U\"))\n",
        "df[\"month\"] = df[\"NewDateFormat\"].apply(lambda x: datetime.strptime(x, \"%Y-%m-%d %H:%M:%S\").strftime(\"%m\"))"
      ],
      "metadata": {
        "id": "OI-gohNNpohK"
      },
      "execution_count": 5,
      "outputs": []
    },
    {
      "cell_type": "code",
      "source": [
        "num_nodes = G.number_of_nodes()\n",
        "print(num_nodes)"
      ],
      "metadata": {
        "colab": {
          "base_uri": "https://localhost:8080/"
        },
        "id": "RyPHZU8d7T8W",
        "outputId": "82286b6e-bb7f-482d-dacf-2a9260eef23c"
      },
      "execution_count": 9,
      "outputs": [
        {
          "output_type": "stream",
          "name": "stdout",
          "text": [
            "100386\n"
          ]
        }
      ]
    },
    {
      "cell_type": "code",
      "source": [
        "unique_users = df['user_id'].unique().tolist()"
      ],
      "metadata": {
        "id": "scHrUAw481yn"
      },
      "execution_count": 13,
      "outputs": []
    },
    {
      "cell_type": "code",
      "source": [
        "unique_users = set(unique_users)"
      ],
      "metadata": {
        "id": "ZNrvy8sJ_692"
      },
      "execution_count": 14,
      "outputs": []
    },
    {
      "cell_type": "code",
      "source": [
        "with open('/content/gdrive/My Drive/users_filtered.edges', 'w') as out_file:\n",
        "    with open('/content/gdrive/My Drive/users.edges', 'r') as in_file:\n",
        "        for line in in_file:\n",
        "            parts = line.strip().split('\\t')\n",
        "            if len(parts) < 2:\n",
        "                continue\n",
        "            source, dest = parts\n",
        "            if source in unique_users and dest in unique_users:\n",
        "                out_file.write(line)"
      ],
      "metadata": {
        "id": "O2dVbw6ZA14P"
      },
      "execution_count": 18,
      "outputs": []
    },
    {
      "cell_type": "code",
      "source": [
        "G2 = nx.read_edgelist(\"/content/gdrive/My Drive/users_filtered.edges\")"
      ],
      "metadata": {
        "id": "on8rVZ1WA-4f"
      },
      "execution_count": 19,
      "outputs": []
    },
    {
      "cell_type": "code",
      "source": [
        "with open('/content/gdrive/My Drive/users_filtered.edges', 'r') as f:\n",
        "    for i in range(5):\n",
        "        print(f.readline())"
      ],
      "metadata": {
        "colab": {
          "base_uri": "https://localhost:8080/"
        },
        "id": "nW0FQr5RBWO3",
        "outputId": "e7e19ee8-3d61-4a78-b3a7-fe6a702bb3d9"
      },
      "execution_count": 21,
      "outputs": [
        {
          "output_type": "stream",
          "name": "stdout",
          "text": [
            "\n",
            "\n",
            "\n",
            "\n",
            "\n"
          ]
        }
      ]
    },
    {
      "cell_type": "code",
      "source": [
        "num_nodes = G2.number_of_nodes()\n",
        "print(num_nodes)"
      ],
      "metadata": {
        "colab": {
          "base_uri": "https://localhost:8080/"
        },
        "id": "sIjIQEgTBFOw",
        "outputId": "62c17727-bb16-4219-bcc6-48ebf61e5652"
      },
      "execution_count": 20,
      "outputs": [
        {
          "output_type": "stream",
          "name": "stdout",
          "text": [
            "0\n"
          ]
        }
      ]
    },
    {
      "cell_type": "code",
      "source": [
        "groupDf = df[['user_id', 'Toxicity', 'week', 'month']]"
      ],
      "metadata": {
        "id": "maMTa6K4pozZ"
      },
      "execution_count": 6,
      "outputs": []
    },
    {
      "cell_type": "code",
      "source": [
        "monthDf = groupDf[groupDf['month']==\"01\"]"
      ],
      "metadata": {
        "id": "VqsXaXId3O9M"
      },
      "execution_count": 7,
      "outputs": []
    },
    {
      "cell_type": "code",
      "source": [],
      "metadata": {
        "id": "zhvIWghD7Pvo"
      },
      "execution_count": null,
      "outputs": []
    },
    {
      "cell_type": "code",
      "source": [
        "'''\n",
        "I have a users.edges file which has a edgelist for all the users. Each node here is a user id. \n",
        "\n",
        "And now I have a tweets.csv file. which has the following columns: -\n",
        "1) user_id - contains the id's of the user\n",
        "2) tweet_id - contains the id's of the tweet. A same user may have multiple tweets\n",
        "3) Toxicity - contains the toxicity score for each tweet. \n",
        "\n",
        "now looking at the users.edges file, how do I find the neighbors of a user and calculate the mean toxicity score of all the tweets that the neighbours have done? I want to do this in python.\n",
        "'''"
      ],
      "metadata": {
        "id": "gkWq2xgRmDN8"
      },
      "execution_count": null,
      "outputs": []
    }
  ]
}