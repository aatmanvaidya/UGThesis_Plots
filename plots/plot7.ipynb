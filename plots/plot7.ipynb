{
  "cells": [
    {
      "cell_type": "code",
      "source": [
        "from google.colab import drive\n",
        "drive.mount('/content/gdrive')"
      ],
      "metadata": {
        "colab": {
          "base_uri": "https://localhost:8080/"
        },
        "id": "skHrXYu3ljG5",
        "outputId": "34711570-9e44-48bb-e02d-809986e1aef2"
      },
      "id": "skHrXYu3ljG5",
      "execution_count": 1,
      "outputs": [
        {
          "output_type": "stream",
          "name": "stdout",
          "text": [
            "Mounted at /content/gdrive\n"
          ]
        }
      ]
    },
    {
      "cell_type": "code",
      "execution_count": 2,
      "id": "19dce037",
      "metadata": {
        "id": "19dce037"
      },
      "outputs": [],
      "source": [
        "import pandas as pd\n",
        "import matplotlib.pyplot as plt\n",
        "import numpy as np\n",
        "from datetime import datetime\n",
        "import seaborn as sns\n",
        "import warnings\n",
        "warnings.filterwarnings(\"ignore\")"
      ]
    },
    {
      "cell_type": "code",
      "execution_count": 3,
      "id": "086ef9bc",
      "metadata": {
        "id": "086ef9bc"
      },
      "outputs": [],
      "source": [
        "# df = pd.read_csv(\"/content/gdrive/My Drive/tweetsConvereted2017_toxicPerspectiveScore.csv\")\n",
        "df = pd.read_csv(\"/content/gdrive/My Drive/tweets.csv\")"
      ]
    },
    {
      "cell_type": "code",
      "source": [
        "df['NewDateFormat'] = pd.to_datetime(df['tweet_creation'], unit='s')"
      ],
      "metadata": {
        "id": "cEIoIrH7RMaL"
      },
      "id": "cEIoIrH7RMaL",
      "execution_count": 4,
      "outputs": []
    },
    {
      "cell_type": "code",
      "source": [
        "df = df[(df['tweet_creation']>1483228799) & (df['tweet_creation']<=1514764799)]"
      ],
      "metadata": {
        "id": "K1GJbEQmR8ty"
      },
      "id": "K1GJbEQmR8ty",
      "execution_count": 5,
      "outputs": []
    },
    {
      "cell_type": "code",
      "execution_count": 6,
      "id": "22fc6643",
      "metadata": {
        "id": "22fc6643"
      },
      "outputs": [],
      "source": [
        "# df[\"month\"] = df[\"NewDateFormat\"].apply(lambda x: datetime.strptime(x, \"%Y-%m-%d %H:%M:%S\").strftime(\"%m\"))\n",
        "df['month'] = df['NewDateFormat'].dt.month"
      ]
    },
    {
      "cell_type": "code",
      "execution_count": 7,
      "id": "f9e9d5fc",
      "metadata": {
        "colab": {
          "base_uri": "https://localhost:8080/",
          "height": 681
        },
        "id": "f9e9d5fc",
        "outputId": "5f34ee7c-400a-4ac7-8eee-061c30900b5b"
      },
      "outputs": [
        {
          "output_type": "execute_result",
          "data": {
            "text/plain": [
              "              user_id     screen_name            tweet_id  \\\n",
              "0  850859913244852224  NationalismXXI  919445178859053056   \n",
              "1  850859913244852224  NationalismXXI  919441926021107712   \n",
              "2  850859913244852224  NationalismXXI  919367819694927872   \n",
              "3  850859913244852224  NationalismXXI  919366633512226816   \n",
              "4  850859913244852224  NationalismXXI  919365144697860096   \n",
              "\n",
              "                         tweet_text  tweet_creation  tweet_fav  tweet_rt  \\\n",
              "0     Women https://t.co/quXcjOq9na    1.508055e+09        0.0       0.0   \n",
              "1  Superjew https://t.co/cba5laEfKG    1.508054e+09        0.0       0.0   \n",
              "2                               NaN    1.508037e+09        0.0     777.0   \n",
              "3                               NaN    1.508040e+09        0.0      63.0   \n",
              "4                               NaN    1.508040e+09        0.0     105.0   \n",
              "\n",
              "  rp_flag rp_status  rp_user  ...  qt_rt  rt_flag  rt_status_id    rt_user_id  \\\n",
              "0   False       NaN      NaN  ...  148.0    False           NaN           NaN   \n",
              "1   False       NaN      NaN  ...  302.0    False           NaN           NaN   \n",
              "2   False       NaN      NaN  ...    NaN     True  9.144992e+17  2.583248e+08   \n",
              "3   False       NaN      NaN  ...    NaN     True  9.189423e+17  1.289955e+09   \n",
              "4   False       NaN      NaN  ...    NaN     True  9.193076e+17  8.504084e+17   \n",
              "\n",
              "                                             rt_text   rt_creation  rt_fav  \\\n",
              "0                                                NaN           NaN     NaN   \n",
              "1                                                NaN           NaN     NaN   \n",
              "2  You want a quote to go viral? Retweet this one...  1.506879e+09   704.0   \n",
              "3  @CNN So when are u going to publish a jihadi s...  1.507939e+09   181.0   \n",
              "4  Fash the Nation Episode 92: Immoral High Groun...  1.508026e+09   212.0   \n",
              "\n",
              "   rt_rt       NewDateFormat  month  \n",
              "0    NaN 2017-10-15 08:09:47     10  \n",
              "1    NaN 2017-10-15 07:56:52     10  \n",
              "2  777.0 2017-10-15 03:02:23     10  \n",
              "3   63.0 2017-10-15 03:57:41     10  \n",
              "4  105.0 2017-10-15 03:51:46     10  \n",
              "\n",
              "[5 rows x 26 columns]"
            ],
            "text/html": [
              "\n",
              "  <div id=\"df-a0a3ab7b-f55b-42b3-9e55-7fd2b3b4bfab\">\n",
              "    <div class=\"colab-df-container\">\n",
              "      <div>\n",
              "<style scoped>\n",
              "    .dataframe tbody tr th:only-of-type {\n",
              "        vertical-align: middle;\n",
              "    }\n",
              "\n",
              "    .dataframe tbody tr th {\n",
              "        vertical-align: top;\n",
              "    }\n",
              "\n",
              "    .dataframe thead th {\n",
              "        text-align: right;\n",
              "    }\n",
              "</style>\n",
              "<table border=\"1\" class=\"dataframe\">\n",
              "  <thead>\n",
              "    <tr style=\"text-align: right;\">\n",
              "      <th></th>\n",
              "      <th>user_id</th>\n",
              "      <th>screen_name</th>\n",
              "      <th>tweet_id</th>\n",
              "      <th>tweet_text</th>\n",
              "      <th>tweet_creation</th>\n",
              "      <th>tweet_fav</th>\n",
              "      <th>tweet_rt</th>\n",
              "      <th>rp_flag</th>\n",
              "      <th>rp_status</th>\n",
              "      <th>rp_user</th>\n",
              "      <th>...</th>\n",
              "      <th>qt_rt</th>\n",
              "      <th>rt_flag</th>\n",
              "      <th>rt_status_id</th>\n",
              "      <th>rt_user_id</th>\n",
              "      <th>rt_text</th>\n",
              "      <th>rt_creation</th>\n",
              "      <th>rt_fav</th>\n",
              "      <th>rt_rt</th>\n",
              "      <th>NewDateFormat</th>\n",
              "      <th>month</th>\n",
              "    </tr>\n",
              "  </thead>\n",
              "  <tbody>\n",
              "    <tr>\n",
              "      <th>0</th>\n",
              "      <td>850859913244852224</td>\n",
              "      <td>NationalismXXI</td>\n",
              "      <td>919445178859053056</td>\n",
              "      <td>Women https://t.co/quXcjOq9na</td>\n",
              "      <td>1.508055e+09</td>\n",
              "      <td>0.0</td>\n",
              "      <td>0.0</td>\n",
              "      <td>False</td>\n",
              "      <td>NaN</td>\n",
              "      <td>NaN</td>\n",
              "      <td>...</td>\n",
              "      <td>148.0</td>\n",
              "      <td>False</td>\n",
              "      <td>NaN</td>\n",
              "      <td>NaN</td>\n",
              "      <td>NaN</td>\n",
              "      <td>NaN</td>\n",
              "      <td>NaN</td>\n",
              "      <td>NaN</td>\n",
              "      <td>2017-10-15 08:09:47</td>\n",
              "      <td>10</td>\n",
              "    </tr>\n",
              "    <tr>\n",
              "      <th>1</th>\n",
              "      <td>850859913244852224</td>\n",
              "      <td>NationalismXXI</td>\n",
              "      <td>919441926021107712</td>\n",
              "      <td>Superjew https://t.co/cba5laEfKG</td>\n",
              "      <td>1.508054e+09</td>\n",
              "      <td>0.0</td>\n",
              "      <td>0.0</td>\n",
              "      <td>False</td>\n",
              "      <td>NaN</td>\n",
              "      <td>NaN</td>\n",
              "      <td>...</td>\n",
              "      <td>302.0</td>\n",
              "      <td>False</td>\n",
              "      <td>NaN</td>\n",
              "      <td>NaN</td>\n",
              "      <td>NaN</td>\n",
              "      <td>NaN</td>\n",
              "      <td>NaN</td>\n",
              "      <td>NaN</td>\n",
              "      <td>2017-10-15 07:56:52</td>\n",
              "      <td>10</td>\n",
              "    </tr>\n",
              "    <tr>\n",
              "      <th>2</th>\n",
              "      <td>850859913244852224</td>\n",
              "      <td>NationalismXXI</td>\n",
              "      <td>919367819694927872</td>\n",
              "      <td>NaN</td>\n",
              "      <td>1.508037e+09</td>\n",
              "      <td>0.0</td>\n",
              "      <td>777.0</td>\n",
              "      <td>False</td>\n",
              "      <td>NaN</td>\n",
              "      <td>NaN</td>\n",
              "      <td>...</td>\n",
              "      <td>NaN</td>\n",
              "      <td>True</td>\n",
              "      <td>9.144992e+17</td>\n",
              "      <td>2.583248e+08</td>\n",
              "      <td>You want a quote to go viral? Retweet this one...</td>\n",
              "      <td>1.506879e+09</td>\n",
              "      <td>704.0</td>\n",
              "      <td>777.0</td>\n",
              "      <td>2017-10-15 03:02:23</td>\n",
              "      <td>10</td>\n",
              "    </tr>\n",
              "    <tr>\n",
              "      <th>3</th>\n",
              "      <td>850859913244852224</td>\n",
              "      <td>NationalismXXI</td>\n",
              "      <td>919366633512226816</td>\n",
              "      <td>NaN</td>\n",
              "      <td>1.508040e+09</td>\n",
              "      <td>0.0</td>\n",
              "      <td>63.0</td>\n",
              "      <td>False</td>\n",
              "      <td>NaN</td>\n",
              "      <td>NaN</td>\n",
              "      <td>...</td>\n",
              "      <td>NaN</td>\n",
              "      <td>True</td>\n",
              "      <td>9.189423e+17</td>\n",
              "      <td>1.289955e+09</td>\n",
              "      <td>@CNN So when are u going to publish a jihadi s...</td>\n",
              "      <td>1.507939e+09</td>\n",
              "      <td>181.0</td>\n",
              "      <td>63.0</td>\n",
              "      <td>2017-10-15 03:57:41</td>\n",
              "      <td>10</td>\n",
              "    </tr>\n",
              "    <tr>\n",
              "      <th>4</th>\n",
              "      <td>850859913244852224</td>\n",
              "      <td>NationalismXXI</td>\n",
              "      <td>919365144697860096</td>\n",
              "      <td>NaN</td>\n",
              "      <td>1.508040e+09</td>\n",
              "      <td>0.0</td>\n",
              "      <td>105.0</td>\n",
              "      <td>False</td>\n",
              "      <td>NaN</td>\n",
              "      <td>NaN</td>\n",
              "      <td>...</td>\n",
              "      <td>NaN</td>\n",
              "      <td>True</td>\n",
              "      <td>9.193076e+17</td>\n",
              "      <td>8.504084e+17</td>\n",
              "      <td>Fash the Nation Episode 92: Immoral High Groun...</td>\n",
              "      <td>1.508026e+09</td>\n",
              "      <td>212.0</td>\n",
              "      <td>105.0</td>\n",
              "      <td>2017-10-15 03:51:46</td>\n",
              "      <td>10</td>\n",
              "    </tr>\n",
              "  </tbody>\n",
              "</table>\n",
              "<p>5 rows × 26 columns</p>\n",
              "</div>\n",
              "      <button class=\"colab-df-convert\" onclick=\"convertToInteractive('df-a0a3ab7b-f55b-42b3-9e55-7fd2b3b4bfab')\"\n",
              "              title=\"Convert this dataframe to an interactive table.\"\n",
              "              style=\"display:none;\">\n",
              "        \n",
              "  <svg xmlns=\"http://www.w3.org/2000/svg\" height=\"24px\"viewBox=\"0 0 24 24\"\n",
              "       width=\"24px\">\n",
              "    <path d=\"M0 0h24v24H0V0z\" fill=\"none\"/>\n",
              "    <path d=\"M18.56 5.44l.94 2.06.94-2.06 2.06-.94-2.06-.94-.94-2.06-.94 2.06-2.06.94zm-11 1L8.5 8.5l.94-2.06 2.06-.94-2.06-.94L8.5 2.5l-.94 2.06-2.06.94zm10 10l.94 2.06.94-2.06 2.06-.94-2.06-.94-.94-2.06-.94 2.06-2.06.94z\"/><path d=\"M17.41 7.96l-1.37-1.37c-.4-.4-.92-.59-1.43-.59-.52 0-1.04.2-1.43.59L10.3 9.45l-7.72 7.72c-.78.78-.78 2.05 0 2.83L4 21.41c.39.39.9.59 1.41.59.51 0 1.02-.2 1.41-.59l7.78-7.78 2.81-2.81c.8-.78.8-2.07 0-2.86zM5.41 20L4 18.59l7.72-7.72 1.47 1.35L5.41 20z\"/>\n",
              "  </svg>\n",
              "      </button>\n",
              "      \n",
              "  <style>\n",
              "    .colab-df-container {\n",
              "      display:flex;\n",
              "      flex-wrap:wrap;\n",
              "      gap: 12px;\n",
              "    }\n",
              "\n",
              "    .colab-df-convert {\n",
              "      background-color: #E8F0FE;\n",
              "      border: none;\n",
              "      border-radius: 50%;\n",
              "      cursor: pointer;\n",
              "      display: none;\n",
              "      fill: #1967D2;\n",
              "      height: 32px;\n",
              "      padding: 0 0 0 0;\n",
              "      width: 32px;\n",
              "    }\n",
              "\n",
              "    .colab-df-convert:hover {\n",
              "      background-color: #E2EBFA;\n",
              "      box-shadow: 0px 1px 2px rgba(60, 64, 67, 0.3), 0px 1px 3px 1px rgba(60, 64, 67, 0.15);\n",
              "      fill: #174EA6;\n",
              "    }\n",
              "\n",
              "    [theme=dark] .colab-df-convert {\n",
              "      background-color: #3B4455;\n",
              "      fill: #D2E3FC;\n",
              "    }\n",
              "\n",
              "    [theme=dark] .colab-df-convert:hover {\n",
              "      background-color: #434B5C;\n",
              "      box-shadow: 0px 1px 3px 1px rgba(0, 0, 0, 0.15);\n",
              "      filter: drop-shadow(0px 1px 2px rgba(0, 0, 0, 0.3));\n",
              "      fill: #FFFFFF;\n",
              "    }\n",
              "  </style>\n",
              "\n",
              "      <script>\n",
              "        const buttonEl =\n",
              "          document.querySelector('#df-a0a3ab7b-f55b-42b3-9e55-7fd2b3b4bfab button.colab-df-convert');\n",
              "        buttonEl.style.display =\n",
              "          google.colab.kernel.accessAllowed ? 'block' : 'none';\n",
              "\n",
              "        async function convertToInteractive(key) {\n",
              "          const element = document.querySelector('#df-a0a3ab7b-f55b-42b3-9e55-7fd2b3b4bfab');\n",
              "          const dataTable =\n",
              "            await google.colab.kernel.invokeFunction('convertToInteractive',\n",
              "                                                     [key], {});\n",
              "          if (!dataTable) return;\n",
              "\n",
              "          const docLinkHtml = 'Like what you see? Visit the ' +\n",
              "            '<a target=\"_blank\" href=https://colab.research.google.com/notebooks/data_table.ipynb>data table notebook</a>'\n",
              "            + ' to learn more about interactive tables.';\n",
              "          element.innerHTML = '';\n",
              "          dataTable['output_type'] = 'display_data';\n",
              "          await google.colab.output.renderOutput(dataTable, element);\n",
              "          const docLink = document.createElement('div');\n",
              "          docLink.innerHTML = docLinkHtml;\n",
              "          element.appendChild(docLink);\n",
              "        }\n",
              "      </script>\n",
              "    </div>\n",
              "  </div>\n",
              "  "
            ]
          },
          "metadata": {},
          "execution_count": 7
        }
      ],
      "source": [
        "df.head()"
      ]
    },
    {
      "cell_type": "code",
      "execution_count": 16,
      "id": "ddd1a1ce",
      "metadata": {
        "id": "ddd1a1ce"
      },
      "outputs": [],
      "source": [
        "groupDf = df[['user_id',  'qt_flag', 'rt_flag','month']]"
      ]
    },
    {
      "cell_type": "code",
      "source": [
        "mask_original = (groupDf['qt_flag'] == False) & (groupDf['rt_flag'] == False)\n",
        "mask_retweet = (groupDf['qt_flag'] == False) & (groupDf['rt_flag'] == True)\n",
        "mask_quoted = (groupDf['qt_flag'] == True) & (groupDf['rt_flag'] == False)"
      ],
      "metadata": {
        "id": "H4KHap36kRsL"
      },
      "id": "H4KHap36kRsL",
      "execution_count": 20,
      "outputs": []
    },
    {
      "cell_type": "code",
      "source": [
        "def determine_category(original_count, retweet_count, quoted_count):\n",
        "    if original_count == (original_count + retweet_count + quoted_count):\n",
        "        return 'original'\n",
        "    elif retweet_count == (original_count + retweet_count + quoted_count):\n",
        "        return 'retweet'\n",
        "    elif quoted_count == (original_count + retweet_count + quoted_count):\n",
        "        return 'quoted'\n",
        "    elif (original_count > 0) and (retweet_count > 0) and (quoted_count == 0):\n",
        "        return 'original and retweet'\n",
        "    elif (original_count > 0) and (quoted_count > 0) and (retweet_count == 0):\n",
        "        return 'original and quoted'\n",
        "    elif (quoted_count > 0) and (retweet_count > 0) and (original_count == 0):\n",
        "        return 'quoted and retweet'\n",
        "    elif (original_count > 0) and (quoted_count > 0) and (retweet_count > 0):\n",
        "        return 'original, quoted and retweet'"
      ],
      "metadata": {
        "id": "6BlbK11FkXk_"
      },
      "id": "6BlbK11FkXk_",
      "execution_count": 21,
      "outputs": []
    },
    {
      "cell_type": "code",
      "source": [
        "'''\n",
        "This code performs the following operations:\n",
        "- Groups the \"groupDf\" dataframe by the 'user_id' and 'month' columns.\n",
        "- Counts the number of rows in each group using the \"size()\" function.\n",
        "- Resets the index of the resulting dataframe to a default integer index using the \"reset_index()\" function.\n",
        "- Renames the resulting single column from the count operation to \"tweets_count\" using the \"name\" argument of the \"reset_index()\" function.\n",
        "The final result is a dataframe with two columns 'user_id' and 'month' and a third column 'tweets_count' that holds the count of tweets for each user in each month.\n",
        "'''\n",
        "\n",
        "df_grouped = groupDf.groupby(['user_id', 'month']).size().reset_index(name='tweets_count')"
      ],
      "metadata": {
        "id": "pMbMbbCykdaJ"
      },
      "id": "pMbMbbCykdaJ",
      "execution_count": 24,
      "outputs": []
    },
    {
      "cell_type": "code",
      "source": [
        "# This code is creating a new dataframe original_counts by grouping the original tweets in the groupDf dataframe by 'user_id' and 'month' and counting the number of tweets in each group. The resulting count of original tweets is stored in a new column called 'original_count'. The mask_original is a boolean mask that is used to select only the original tweets from groupDf for grouping and counting.\n",
        "original_counts = groupDf[mask_original].groupby(['user_id', 'month']).size().reset_index(name='original_count')\n",
        "retweet_counts = groupDf[mask_retweet].groupby(['user_id', 'month']).size().reset_index(name='retweet_count')\n",
        "quoted_counts = groupDf[mask_quoted].groupby(['user_id', 'month']).size().reset_index(name='quoted_count')"
      ],
      "metadata": {
        "id": "kN05JcIUkgoC"
      },
      "id": "kN05JcIUkgoC",
      "execution_count": 25,
      "outputs": []
    },
    {
      "cell_type": "code",
      "source": [
        "# This code is performing a left join operation between the \"df_grouped\" dataframe and the \"original_counts\" dataframe. The join is being done on the columns \"user_id\" and \"month\" between both dataframes. The argument \"how='left'\" specifies that this is a left join, meaning that only the rows from the \"df_grouped\" dataframe will be kept and the missing values in the \"original_count\" column of the joined dataframe will be filled with the value 0, which is specified by the \".fillna(0)\" method. The result of the join will be a new dataframe that contains all the columns from both the \"df_grouped\" and \"original_counts\" dataframes.\n",
        "df_grouped = df_grouped.merge(original_counts, on=['user_id', 'month'], how='left').fillna(0)\n",
        "df_grouped = df_grouped.merge(retweet_counts, on=['user_id', 'month'], how='left').fillna(0)\n",
        "df_grouped = df_grouped.merge(quoted_counts, on=['user_id', 'month'], how='left').fillna(0)"
      ],
      "metadata": {
        "id": "0PG5FgHRkpsi"
      },
      "id": "0PG5FgHRkpsi",
      "execution_count": 29,
      "outputs": []
    },
    {
      "cell_type": "code",
      "source": [
        "df_grouped['category'] = df_grouped.apply(lambda x: determine_category(x['original_count'], x['retweet_count'], x['quoted_count']), axis=1)"
      ],
      "metadata": {
        "id": "WC52PqrLkx3q"
      },
      "id": "WC52PqrLkx3q",
      "execution_count": 30,
      "outputs": []
    },
    {
      "cell_type": "code",
      "source": [
        "df_pivot = df_grouped.pivot_table(index='month', columns='category', values='user_id', aggfunc='nunique').reset_index()"
      ],
      "metadata": {
        "id": "e40nuY8Tk0YB"
      },
      "id": "e40nuY8Tk0YB",
      "execution_count": 32,
      "outputs": []
    },
    {
      "cell_type": "code",
      "source": [
        "plt.figure(figsize=(10,5))\n",
        "plt.xlabel('Month')\n",
        "plt.ylabel('Number of Unique Users')\n",
        "plt.title('Number of Unique Users by Month and Category')\n",
        "\n",
        "plt.plot(df_pivot['month'], df_pivot['original'], label='original', color='red')\n",
        "plt.plot(df_pivot['month'], df_pivot['retweet'], label='retweet', color='blue')\n",
        "plt.plot(df_pivot['month'], df_pivot['quoted'], label='quoted', color='pink')\n",
        "plt.plot(df_pivot['month'], df_pivot['original and retweet'], label='original and retweet', color='yellow')\n",
        "plt.plot(df_pivot['month'], df_pivot['original and quoted'], label='original and quoted', color='black')\n",
        "plt.plot(df_pivot['month'], df_pivot['quoted and retweet'], label='quoted and retweet', color='purple')\n",
        "plt.plot(df_pivot['month'], df_pivot['original, quoted and retweet'], label='original, quoted and retweet', color='green')\n",
        "\n",
        "# plt.yticks(np.arange(min(df_pivot['original']), max(df_pivot['original']), step=1))\n",
        "plt.xticks(df_pivot['month'], range(1, 11))\n",
        "plt.legend()\n",
        "plt.show()"
      ],
      "metadata": {
        "colab": {
          "base_uri": "https://localhost:8080/",
          "height": 350
        },
        "id": "CZ0FFxH8k7xR",
        "outputId": "fa27aa24-6b15-418e-ba23-72cdff9158f8"
      },
      "id": "CZ0FFxH8k7xR",
      "execution_count": 41,
      "outputs": [
        {
          "output_type": "display_data",
          "data": {
            "text/plain": [
              "<Figure size 720x360 with 1 Axes>"
            ],
            "image/png": "[encoded data removed]"
          },
          "metadata": {
            "needs_background": "light"
          }
        }
      ]
    },
    {
      "cell_type": "code",
      "source": [],
      "metadata": {
        "id": "HSH3Pf4Rm--i"
      },
      "id": "HSH3Pf4Rm--i",
      "execution_count": null,
      "outputs": []
    },
    {
      "cell_type": "code",
      "source": [
        "# unique_values = groupDf['month'].unique()\n",
        "# unique_values.sort()\n",
        "# monthDf = groupDf[groupDf['month'] == \"01\"]\n",
        "# originalDf = monthDf[(monthDf['qt_flag'] == True) & (monthDf['rt_flag'] == False)]\n",
        "# originalDf['Toxicity'] = originalDf['Toxicity'] * 10\n",
        "# originalDf['Toxicity'] = (originalDf['Toxicity'].apply(np.ceil)) / 10\n",
        "# original_unique_values = originalDf['Toxicity'].unique()\n",
        "# original_unique_values.sort()\n",
        "# def countUsers(input):\n",
        "#     tempDf = originalDf[originalDf['Toxicity'] == input]\n",
        "#     return tempDf['user_id'].nunique()\n",
        "# for i in original_unique_values:\n",
        "#     print(countUsers(i))"
      ],
      "metadata": {
        "id": "FPiOldUok4ON"
      },
      "id": "FPiOldUok4ON",
      "execution_count": 26,
      "outputs": []
    },
    {
      "cell_type": "code",
      "source": [
        "'''\n",
        "I have a dataframe with the following columns. \n",
        "groupDf = df[['user_id', 'Toxicity',  'qt_flag', 'rt_flag','month']]\n",
        "\n",
        "The qt_flag says whether the tweet is a quoted tweet or not. The values of the column are True and Flase. The rt_flag says whether the tweet is a retweet or not. The values of the column are True and Flase. \n",
        "\n",
        "I am categorizing the tweets in 3 categories. \n",
        "1) original\n",
        "2) retweet\n",
        "3) quoted tweet\n",
        "\n",
        "A tweet is original if qt_flag = False and rt_flag = False\n",
        "A tweet is retweet if qt_flag = False and rt_flag = True\n",
        "A tweet is quoted tweet if qt_flag = True and rt_flag = False\n",
        "\n",
        "A user has multiple tweets in my dataset, each user will have done different types of tweets. For each month, I want to count how many users have only\n",
        "1) original tweets - i.e all the tweets done by the user will only be original\n",
        "2) retweets - i.e all the tweets done by the user will only be quoted.\n",
        "3) quoted - i.e all the tweets done by the user will only be quoted. \n",
        "4) original and retweet - i.e all the tweets done by the user will only be of the type original and retweet\n",
        "5) original and quoted - i.e all the tweets done by the user will only be of the type original and quoted.\n",
        "6) quoted and retweet - i.e all the tweets done by the user will only be of the type quoted and retweet\n",
        "7) original, quoted and retweet - i.e. i.e all the tweets done by the user will only be of the type original and retweet\n",
        "\n",
        "For example, if \n",
        "user 1 has 10 tweets and out of which, 2 tweets are quoted and 8 tweets are original, then the user would go into the category of 'original and quoted'\n",
        "if user 2 has 7 tweets out of which 3 are retweet and 4 are quoted, then the user would go into the category of 'quoted and retweet'\n",
        "if user 3 has 20 tweets out of which 10 tweets are original, 5 are retweet and 5 are quoted, then the user would go into the category of 'original, quoted and retweet'\n",
        "\n",
        "so now this way, for all the 7 categories I would certain number of unique users for each month. \n",
        "\n",
        "I then want to plot this where\n",
        "x axis - number of months\n",
        "y axis - number of unique users\n",
        "\n",
        "and there will be 7 different lines in the same plot of different colors representing the 7 different categories. \n",
        "\n",
        "'''"
      ],
      "metadata": {
        "colab": {
          "base_uri": "https://localhost:8080/",
          "height": 123
        },
        "id": "LTP7wRBLntnH",
        "outputId": "5736ec1f-fe30-413c-dca3-d41ccc70475d"
      },
      "id": "LTP7wRBLntnH",
      "execution_count": 27,
      "outputs": [
        {
          "output_type": "execute_result",
          "data": {
            "text/plain": [
              "\"\\nI have a dataframe with the following columns. \\ngroupDf = df[['user_id', 'Toxicity',  'qt_flag', 'rt_flag','month']]\\n\\nThe qt_flag says whether the tweet is a quoted tweet or not. The values of the column are True and Flase. The rt_flag says whether the tweet is a retweet or not. The values of the column are True and Flase. \\n\\nI am categorizing the tweets in 3 categories. \\n1) original\\n2) retweet\\n3) quoted tweet\\n\\nA tweet is original if qt_flag = False and rt_flag = False\\nA tweet is retweet if qt_flag = False and rt_flag = True\\nA tweet is quoted tweet if qt_flag = True and rt_flag = False\\n\\nA user has multiple tweets in my dataset, each user will have done different types of tweets. For each month, I want to count how many users have only\\n1) original tweets - i.e all the tweets done by the user will only be original\\n2) retweets - i.e all the tweets done by the user will only be quoted.\\n3) quoted - i.e all the tweets done by the user will only be quoted. \\n4) original and retweet - i.e all the tweets done by the user will only be of the type original and retweet\\n5) original and quoted - i.e all the tweets done by the user will only be of the type original and quoted.\\n6) quoted and retweet - i.e all the tweets done by the user will only be of the type quoted and retweet\\n7) original, quoted and retweet - i.e. i.e all the tweets done by the user will only be of the type original and retweet\\n\\nFor example, if \\nuser 1 has 10 tweets and out of which, 2 tweets are quoted and 8 tweets are original, then the user would go into the category of 'original and quoted'\\nif user 2 has 7 tweets out of which 3 are retweet and 4 are quoted, then the user would go into the category of 'quoted and retweet'\\nif user 3 has 20 tweets out of which 10 tweets are original, 5 are retweet and 5 are quoted, then the user would go into the category of 'original, quoted and retweet'\\n\\nso now this way, for all the 7 categories I would certain number of unique users for each month. \\n\\nI then want to plot this where\\nx axis - number of months\\ny axis - number of unique users\\n\\nand there will be 7 different lines in the same plot of different colors representing the 7 different categories. \\n\\n\""
            ],
            "application/vnd.google.colaboratory.intrinsic+json": {
              "type": "string"
            }
          },
          "metadata": {},
          "execution_count": 27
        }
      ]
    },
    {
      "cell_type": "code",
      "source": [
        "'''\n",
        "I have a data frame in python pandas with the following columns. \n",
        "- 'user_id'\n",
        "- 'qt_flag'\n",
        "- 'rt_flag'\n",
        "- 'month'\n",
        "\n",
        "The qt_flag says whether the tweet is a quoted tweet or not. The values of the column are True and False. The rt_flag says whether the tweet is a retweet or not. The values of the column are True and False. \n",
        "\n",
        "I am categorizing the tweets in 3 categories. \n",
        "1) original\n",
        "2) retweet\n",
        "3) quoted tweet\n",
        "\n",
        "A tweet is original if qt_flag = False and rt_flag = False\n",
        "A tweet is retweet if qt_flag = False and rt_flag = True\n",
        "A tweet is quoted tweet if qt_flag = True and rt_flag = False\n",
        "\n",
        "A user has multiple tweets in my dataset, each user will have done different types of tweets. I want to count how many users have for each month. I am listing the categories below:\n",
        "1) original tweets - i.e all the tweets done by the user will only be original\n",
        "2) retweets - i.e all the tweets done by the user will only be quoted.\n",
        "3) quoted - i.e all the tweets done by the user will only be quoted. \n",
        "4) original and retweet - i.e all the tweets done by the user will only be of the type original and retweet\n",
        "5) original and quoted - i.e all the tweets done by the user will only be of the type original and quoted.\n",
        "6) quoted and retweet - i.e all the tweets done by the user will only be of the type quoted and retweet\n",
        "7) original, quoted and retweet - i.e. i.e all the tweets done by the user will only be of the type original and retweet\n",
        "\n",
        "This is how I want the categorization to be. For example, if \n",
        "- user 1 has 10 tweets and out of which, 2 tweets are quoted and 8 tweets are original, then the user would go into the category of 'original and quoted'\n",
        "- if user 2 has 7 tweets out of which 3 are retweet and 4 are quoted, then the user would go into the category of 'quoted and retweet'\n",
        "- if user 3 has 20 tweets out of which 10 tweets are original, 5 are retweet and 5 are quoted, then the user would go into the category of 'original, quoted and retweet'\n",
        "- if user 4 has 15 tweets out of which 10 retweets and 5 quoted tweets, then the user would go into the category of 'quoted and retweet'\n",
        "\n",
        "so now this way, for all the 7 categories I would have certain number of unique users for each category for each month. i.e. each user will be present in one of the seven categories that I just listed above for each month. \n",
        "\n",
        "I then want to plot this where\n",
        "x axis - number of months\n",
        "y axis - number of unique users\n",
        "\n",
        "and there will be 7 different lines in the same plot of different colors representing the 7 different categories. \n",
        "\n",
        "'''"
      ],
      "metadata": {
        "colab": {
          "base_uri": "https://localhost:8080/",
          "height": 123
        },
        "id": "dsXqmIdFghAz",
        "outputId": "c277c7d9-467e-4212-9604-239b95cba46a"
      },
      "id": "dsXqmIdFghAz",
      "execution_count": 28,
      "outputs": [
        {
          "output_type": "execute_result",
          "data": {
            "text/plain": [
              "\"\\nI have a data frame in python pandas with the following columns. \\n- 'user_id'\\n- 'qt_flag'\\n- 'rt_flag'\\n- 'month'\\n\\nThe qt_flag says whether the tweet is a quoted tweet or not. The values of the column are True and False. The rt_flag says whether the tweet is a retweet or not. The values of the column are True and False. \\n\\nI am categorizing the tweets in 3 categories. \\n1) original\\n2) retweet\\n3) quoted tweet\\n\\nA tweet is original if qt_flag = False and rt_flag = False\\nA tweet is retweet if qt_flag = False and rt_flag = True\\nA tweet is quoted tweet if qt_flag = True and rt_flag = False\\n\\nA user has multiple tweets in my dataset, each user will have done different types of tweets. I want to count how many users have for each month. I am listing the categories below:\\n1) original tweets - i.e all the tweets done by the user will only be original\\n2) retweets - i.e all the tweets done by the user will only be quoted.\\n3) quoted - i.e all the tweets done by the user will only be quoted. \\n4) original and retweet - i.e all the tweets done by the user will only be of the type original and retweet\\n5) original and quoted - i.e all the tweets done by the user will only be of the type original and quoted.\\n6) quoted and retweet - i.e all the tweets done by the user will only be of the type quoted and retweet\\n7) original, quoted and retweet - i.e. i.e all the tweets done by the user will only be of the type original and retweet\\n\\nThis is how I want the categorization to be. For example, if \\n- user 1 has 10 tweets and out of which, 2 tweets are quoted and 8 tweets are original, then the user would go into the category of 'original and quoted'\\n- if user 2 has 7 tweets out of which 3 are retweet and 4 are quoted, then the user would go into the category of 'quoted and retweet'\\n- if user 3 has 20 tweets out of which 10 tweets are original, 5 are retweet and 5 are quoted, then the user would go into the category of 'original, quoted and retweet'\\n- if user 4 has 15 tweets out of which 10 retweets and 5 quoted tweets, then the user would go into the category of 'quoted and retweet'\\n\\nso now this way, for all the 7 categories I would have certain number of unique users for each category for each month. i.e. each user will be present in one of the seven categories that I just listed above for each month. \\n\\nI then want to plot this where\\nx axis - number of months\\ny axis - number of unique users\\n\\nand there will be 7 different lines in the same plot of different colors representing the 7 different categories. \\n\\n\""
            ],
            "application/vnd.google.colaboratory.intrinsic+json": {
              "type": "string"
            }
          },
          "metadata": {},
          "execution_count": 28
        }
      ]
    }
  ],
  "metadata": {
    "kernelspec": {
      "display_name": "Python 3 (ipykernel)",
      "language": "python",
      "name": "python3"
    },
    "language_info": {
      "codemirror_mode": {
        "name": "ipython",
        "version": 3
      },
      "file_extension": ".py",
      "mimetype": "text/x-python",
      "name": "python",
      "nbconvert_exporter": "python",
      "pygments_lexer": "ipython3",
      "version": "3.9.12"
    },
    "colab": {
      "provenance": []
    }
  },
  "nbformat": 4,
  "nbformat_minor": 5
}