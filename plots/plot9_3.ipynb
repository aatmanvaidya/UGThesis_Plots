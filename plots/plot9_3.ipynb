{
  "nbformat": 4,
  "nbformat_minor": 0,
  "metadata": {
    "colab": {
      "provenance": []
    },
    "kernelspec": {
      "name": "python3",
      "display_name": "Python 3"
    },
    "language_info": {
      "name": "python"
    }
  },
  "cells": [
    {
      "cell_type": "code",
      "execution_count": null,
      "metadata": {
        "colab": {
          "base_uri": "https://localhost:8080/"
        },
        "id": "KqQpmtJHZNoB",
        "outputId": "18dafb27-b91c-474e-f485-3aef9c891ace"
      },
      "outputs": [
        {
          "output_type": "stream",
          "name": "stdout",
          "text": [
            "Mounted at /content/gdrive\n"
          ]
        }
      ],
      "source": [
        "from google.colab import drive\n",
        "drive.mount('/content/gdrive')"
      ]
    },
    {
      "cell_type": "code",
      "source": [
        "import pandas as pd\n",
        "import matplotlib.pyplot as plt\n",
        "import matplotlib.ticker as ticker\n",
        "import numpy as np\n",
        "from datetime import datetime\n",
        "import networkx as nx\n",
        "import warnings\n",
        "warnings.filterwarnings(\"ignore\")"
      ],
      "metadata": {
        "id": "DHqhZ683ZPzF"
      },
      "execution_count": null,
      "outputs": []
    },
    {
      "cell_type": "code",
      "source": [
        "df = pd.read_csv(\"/content/gdrive/My Drive/tweetsConvereted2017_toxicPerspectiveScore.csv\")"
      ],
      "metadata": {
        "id": "iGWgv2YoZkmE"
      },
      "execution_count": null,
      "outputs": []
    },
    {
      "cell_type": "code",
      "source": [
        "G = nx.read_edgelist('/content/gdrive/My Drive/users.edgelist')"
      ],
      "metadata": {
        "id": "r7zGshkQtDqK"
      },
      "execution_count": null,
      "outputs": []
    },
    {
      "cell_type": "code",
      "source": [
        "df[\"week\"] = df[\"NewDateFormat\"].apply(lambda x: datetime.strptime(x, \"%Y-%m-%d %H:%M:%S\").strftime(\"%U\"))\n",
        "df[\"month\"] = df[\"NewDateFormat\"].apply(lambda x: datetime.strptime(x, \"%Y-%m-%d %H:%M:%S\").strftime(\"%m\"))"
      ],
      "metadata": {
        "id": "IvM0LpweZmkp"
      },
      "execution_count": null,
      "outputs": []
    },
    {
      "cell_type": "code",
      "source": [
        "df[\"day\"] = df[\"NewDateFormat\"].apply(lambda x: datetime.strptime(x, \"%Y-%m-%d %H:%M:%S\").day)"
      ],
      "metadata": {
        "id": "CYWK8g8GaH80"
      },
      "execution_count": null,
      "outputs": []
    },
    {
      "cell_type": "code",
      "source": [
        "df.head()"
      ],
      "metadata": {
        "colab": {
          "base_uri": "https://localhost:8080/",
          "height": 525
        },
        "id": "_9K3QXnkd4h2",
        "outputId": "1b2ac174-72ab-409c-e066-cdbdb03a380d"
      },
      "execution_count": null,
      "outputs": [
        {
          "output_type": "execute_result",
          "data": {
            "text/plain": [
              "              user_id     screen_name            tweet_id  \\\n",
              "0          4746709454      just_jusss  911477065328631809   \n",
              "1          4746709454      just_jusss  911399501264384001   \n",
              "2          4746709454      just_jusss  911343372282900480   \n",
              "3  773711528398848000  CassandraCohan  923729371235586049   \n",
              "4  773711528398848000  CassandraCohan  923689995763843072   \n",
              "\n",
              "                                          tweet_text  tweet_creation  \\\n",
              "0  Having a strict dad, if I ask to go out one we...    1.506159e+09   \n",
              "1  Lookin at all these couples like MBN🤧 but then...    1.506140e+09   \n",
              "2  Being a senior kinda sucks when most of your f...    1.506127e+09   \n",
              "3                          @periwinkledink So pretty    1.509076e+09   \n",
              "4  @readyforramos It’s 2017 we go to church and pray    1.509067e+09   \n",
              "\n",
              "   tweet_fav  tweet_rt  rp_flag           rp_status       rp_user  ...  \\\n",
              "0        1.0       0.0    False                 NaN           NaN  ...   \n",
              "1        2.0       0.0    False                 NaN           NaN  ...   \n",
              "2        3.0       0.0    False                 NaN           NaN  ...   \n",
              "3        1.0       0.0     True  923705106264027136  3.434322e+09  ...   \n",
              "4        3.0       0.0     True  923689936406044673  2.633570e+09  ...   \n",
              "\n",
              "   rt_text  rt_creation  rt_fav rt_rt  Toxicity  Severe Toxicity  \\\n",
              "0      NaN          NaN     NaN   NaN  0.052305         0.002346   \n",
              "1      NaN          NaN     NaN   NaN  0.068171         0.003433   \n",
              "2      NaN          NaN     NaN   NaN  0.518691         0.023787   \n",
              "3      NaN          NaN     NaN   NaN  0.010681         0.002117   \n",
              "4      NaN          NaN     NaN   NaN  0.018975         0.001316   \n",
              "\n",
              "         NewDateFormat  week  month  day  \n",
              "0  2017-09-23 09:27:21    38     09   23  \n",
              "1  2017-09-23 04:19:08    38     09   23  \n",
              "2  2017-09-23 00:36:06    38     09   23  \n",
              "3  2017-10-27 03:53:38    43     10   27  \n",
              "4  2017-10-27 01:17:10    43     10   27  \n",
              "\n",
              "[5 rows x 30 columns]"
            ],
            "text/html": [
              "\n",
              "  <div id=\"df-4cd0d416-1b5d-4747-8368-37a139697cc6\">\n",
              "    <div class=\"colab-df-container\">\n",
              "      <div>\n",
              "<style scoped>\n",
              "    .dataframe tbody tr th:only-of-type {\n",
              "        vertical-align: middle;\n",
              "    }\n",
              "\n",
              "    .dataframe tbody tr th {\n",
              "        vertical-align: top;\n",
              "    }\n",
              "\n",
              "    .dataframe thead th {\n",
              "        text-align: right;\n",
              "    }\n",
              "</style>\n",
              "<table border=\"1\" class=\"dataframe\">\n",
              "  <thead>\n",
              "    <tr style=\"text-align: right;\">\n",
              "      <th></th>\n",
              "      <th>user_id</th>\n",
              "      <th>screen_name</th>\n",
              "      <th>tweet_id</th>\n",
              "      <th>tweet_text</th>\n",
              "      <th>tweet_creation</th>\n",
              "      <th>tweet_fav</th>\n",
              "      <th>tweet_rt</th>\n",
              "      <th>rp_flag</th>\n",
              "      <th>rp_status</th>\n",
              "      <th>rp_user</th>\n",
              "      <th>...</th>\n",
              "      <th>rt_text</th>\n",
              "      <th>rt_creation</th>\n",
              "      <th>rt_fav</th>\n",
              "      <th>rt_rt</th>\n",
              "      <th>Toxicity</th>\n",
              "      <th>Severe Toxicity</th>\n",
              "      <th>NewDateFormat</th>\n",
              "      <th>week</th>\n",
              "      <th>month</th>\n",
              "      <th>day</th>\n",
              "    </tr>\n",
              "  </thead>\n",
              "  <tbody>\n",
              "    <tr>\n",
              "      <th>0</th>\n",
              "      <td>4746709454</td>\n",
              "      <td>just_jusss</td>\n",
              "      <td>911477065328631809</td>\n",
              "      <td>Having a strict dad, if I ask to go out one we...</td>\n",
              "      <td>1.506159e+09</td>\n",
              "      <td>1.0</td>\n",
              "      <td>0.0</td>\n",
              "      <td>False</td>\n",
              "      <td>NaN</td>\n",
              "      <td>NaN</td>\n",
              "      <td>...</td>\n",
              "      <td>NaN</td>\n",
              "      <td>NaN</td>\n",
              "      <td>NaN</td>\n",
              "      <td>NaN</td>\n",
              "      <td>0.052305</td>\n",
              "      <td>0.002346</td>\n",
              "      <td>2017-09-23 09:27:21</td>\n",
              "      <td>38</td>\n",
              "      <td>09</td>\n",
              "      <td>23</td>\n",
              "    </tr>\n",
              "    <tr>\n",
              "      <th>1</th>\n",
              "      <td>4746709454</td>\n",
              "      <td>just_jusss</td>\n",
              "      <td>911399501264384001</td>\n",
              "      <td>Lookin at all these couples like MBN🤧 but then...</td>\n",
              "      <td>1.506140e+09</td>\n",
              "      <td>2.0</td>\n",
              "      <td>0.0</td>\n",
              "      <td>False</td>\n",
              "      <td>NaN</td>\n",
              "      <td>NaN</td>\n",
              "      <td>...</td>\n",
              "      <td>NaN</td>\n",
              "      <td>NaN</td>\n",
              "      <td>NaN</td>\n",
              "      <td>NaN</td>\n",
              "      <td>0.068171</td>\n",
              "      <td>0.003433</td>\n",
              "      <td>2017-09-23 04:19:08</td>\n",
              "      <td>38</td>\n",
              "      <td>09</td>\n",
              "      <td>23</td>\n",
              "    </tr>\n",
              "    <tr>\n",
              "      <th>2</th>\n",
              "      <td>4746709454</td>\n",
              "      <td>just_jusss</td>\n",
              "      <td>911343372282900480</td>\n",
              "      <td>Being a senior kinda sucks when most of your f...</td>\n",
              "      <td>1.506127e+09</td>\n",
              "      <td>3.0</td>\n",
              "      <td>0.0</td>\n",
              "      <td>False</td>\n",
              "      <td>NaN</td>\n",
              "      <td>NaN</td>\n",
              "      <td>...</td>\n",
              "      <td>NaN</td>\n",
              "      <td>NaN</td>\n",
              "      <td>NaN</td>\n",
              "      <td>NaN</td>\n",
              "      <td>0.518691</td>\n",
              "      <td>0.023787</td>\n",
              "      <td>2017-09-23 00:36:06</td>\n",
              "      <td>38</td>\n",
              "      <td>09</td>\n",
              "      <td>23</td>\n",
              "    </tr>\n",
              "    <tr>\n",
              "      <th>3</th>\n",
              "      <td>773711528398848000</td>\n",
              "      <td>CassandraCohan</td>\n",
              "      <td>923729371235586049</td>\n",
              "      <td>@periwinkledink So pretty</td>\n",
              "      <td>1.509076e+09</td>\n",
              "      <td>1.0</td>\n",
              "      <td>0.0</td>\n",
              "      <td>True</td>\n",
              "      <td>923705106264027136</td>\n",
              "      <td>3.434322e+09</td>\n",
              "      <td>...</td>\n",
              "      <td>NaN</td>\n",
              "      <td>NaN</td>\n",
              "      <td>NaN</td>\n",
              "      <td>NaN</td>\n",
              "      <td>0.010681</td>\n",
              "      <td>0.002117</td>\n",
              "      <td>2017-10-27 03:53:38</td>\n",
              "      <td>43</td>\n",
              "      <td>10</td>\n",
              "      <td>27</td>\n",
              "    </tr>\n",
              "    <tr>\n",
              "      <th>4</th>\n",
              "      <td>773711528398848000</td>\n",
              "      <td>CassandraCohan</td>\n",
              "      <td>923689995763843072</td>\n",
              "      <td>@readyforramos It’s 2017 we go to church and pray</td>\n",
              "      <td>1.509067e+09</td>\n",
              "      <td>3.0</td>\n",
              "      <td>0.0</td>\n",
              "      <td>True</td>\n",
              "      <td>923689936406044673</td>\n",
              "      <td>2.633570e+09</td>\n",
              "      <td>...</td>\n",
              "      <td>NaN</td>\n",
              "      <td>NaN</td>\n",
              "      <td>NaN</td>\n",
              "      <td>NaN</td>\n",
              "      <td>0.018975</td>\n",
              "      <td>0.001316</td>\n",
              "      <td>2017-10-27 01:17:10</td>\n",
              "      <td>43</td>\n",
              "      <td>10</td>\n",
              "      <td>27</td>\n",
              "    </tr>\n",
              "  </tbody>\n",
              "</table>\n",
              "<p>5 rows × 30 columns</p>\n",
              "</div>\n",
              "      <button class=\"colab-df-convert\" onclick=\"convertToInteractive('df-4cd0d416-1b5d-4747-8368-37a139697cc6')\"\n",
              "              title=\"Convert this dataframe to an interactive table.\"\n",
              "              style=\"display:none;\">\n",
              "        \n",
              "  <svg xmlns=\"http://www.w3.org/2000/svg\" height=\"24px\"viewBox=\"0 0 24 24\"\n",
              "       width=\"24px\">\n",
              "    <path d=\"M0 0h24v24H0V0z\" fill=\"none\"/>\n",
              "    <path d=\"M18.56 5.44l.94 2.06.94-2.06 2.06-.94-2.06-.94-.94-2.06-.94 2.06-2.06.94zm-11 1L8.5 8.5l.94-2.06 2.06-.94-2.06-.94L8.5 2.5l-.94 2.06-2.06.94zm10 10l.94 2.06.94-2.06 2.06-.94-2.06-.94-.94-2.06-.94 2.06-2.06.94z\"/><path d=\"M17.41 7.96l-1.37-1.37c-.4-.4-.92-.59-1.43-.59-.52 0-1.04.2-1.43.59L10.3 9.45l-7.72 7.72c-.78.78-.78 2.05 0 2.83L4 21.41c.39.39.9.59 1.41.59.51 0 1.02-.2 1.41-.59l7.78-7.78 2.81-2.81c.8-.78.8-2.07 0-2.86zM5.41 20L4 18.59l7.72-7.72 1.47 1.35L5.41 20z\"/>\n",
              "  </svg>\n",
              "      </button>\n",
              "      \n",
              "  <style>\n",
              "    .colab-df-container {\n",
              "      display:flex;\n",
              "      flex-wrap:wrap;\n",
              "      gap: 12px;\n",
              "    }\n",
              "\n",
              "    .colab-df-convert {\n",
              "      background-color: #E8F0FE;\n",
              "      border: none;\n",
              "      border-radius: 50%;\n",
              "      cursor: pointer;\n",
              "      display: none;\n",
              "      fill: #1967D2;\n",
              "      height: 32px;\n",
              "      padding: 0 0 0 0;\n",
              "      width: 32px;\n",
              "    }\n",
              "\n",
              "    .colab-df-convert:hover {\n",
              "      background-color: #E2EBFA;\n",
              "      box-shadow: 0px 1px 2px rgba(60, 64, 67, 0.3), 0px 1px 3px 1px rgba(60, 64, 67, 0.15);\n",
              "      fill: #174EA6;\n",
              "    }\n",
              "\n",
              "    [theme=dark] .colab-df-convert {\n",
              "      background-color: #3B4455;\n",
              "      fill: #D2E3FC;\n",
              "    }\n",
              "\n",
              "    [theme=dark] .colab-df-convert:hover {\n",
              "      background-color: #434B5C;\n",
              "      box-shadow: 0px 1px 3px 1px rgba(0, 0, 0, 0.15);\n",
              "      filter: drop-shadow(0px 1px 2px rgba(0, 0, 0, 0.3));\n",
              "      fill: #FFFFFF;\n",
              "    }\n",
              "  </style>\n",
              "\n",
              "      <script>\n",
              "        const buttonEl =\n",
              "          document.querySelector('#df-4cd0d416-1b5d-4747-8368-37a139697cc6 button.colab-df-convert');\n",
              "        buttonEl.style.display =\n",
              "          google.colab.kernel.accessAllowed ? 'block' : 'none';\n",
              "\n",
              "        async function convertToInteractive(key) {\n",
              "          const element = document.querySelector('#df-4cd0d416-1b5d-4747-8368-37a139697cc6');\n",
              "          const dataTable =\n",
              "            await google.colab.kernel.invokeFunction('convertToInteractive',\n",
              "                                                     [key], {});\n",
              "          if (!dataTable) return;\n",
              "\n",
              "          const docLinkHtml = 'Like what you see? Visit the ' +\n",
              "            '<a target=\"_blank\" href=https://colab.research.google.com/notebooks/data_table.ipynb>data table notebook</a>'\n",
              "            + ' to learn more about interactive tables.';\n",
              "          element.innerHTML = '';\n",
              "          dataTable['output_type'] = 'display_data';\n",
              "          await google.colab.output.renderOutput(dataTable, element);\n",
              "          const docLink = document.createElement('div');\n",
              "          docLink.innerHTML = docLinkHtml;\n",
              "          element.appendChild(docLink);\n",
              "        }\n",
              "      </script>\n",
              "    </div>\n",
              "  </div>\n",
              "  "
            ]
          },
          "metadata": {},
          "execution_count": 7
        }
      ]
    },
    {
      "cell_type": "code",
      "source": [
        "# df.loc[df['user_id']==2283058711]"
      ],
      "metadata": {
        "id": "rr9BqBFUKma2"
      },
      "execution_count": null,
      "outputs": []
    },
    {
      "cell_type": "code",
      "source": [
        "groupDf = df[['user_id', 'tweet_id', 'Toxicity', 'week']]"
      ],
      "metadata": {
        "id": "-SAc4jyLe-oG"
      },
      "execution_count": null,
      "outputs": []
    },
    {
      "cell_type": "code",
      "source": [
        "weekDf = groupDf[groupDf['week']==\"01\"]"
      ],
      "metadata": {
        "id": "7qGsAf-MeDUE"
      },
      "execution_count": null,
      "outputs": []
    },
    {
      "cell_type": "code",
      "source": [
        "weekDf.head() "
      ],
      "metadata": {
        "colab": {
          "base_uri": "https://localhost:8080/",
          "height": 206
        },
        "id": "GeZi5QgceOfl",
        "outputId": "6ebcfdca-c80e-404e-8e4a-c2be0a7131e4"
      },
      "execution_count": null,
      "outputs": [
        {
          "output_type": "execute_result",
          "data": {
            "text/plain": [
              "                 user_id            tweet_id  Toxicity week\n",
              "3722  714557249604227075  817006556692807680  0.004304   01\n",
              "3723  714557249604227075  815559529727455232  0.007665   01\n",
              "5293            20430045  817841996123541506  0.399880   01\n",
              "5294            20430045  817742024879308801  0.028856   01\n",
              "5295            20430045  817396068635774976  0.168519   01"
            ],
            "text/html": [
              "\n",
              "  <div id=\"df-90e293d0-e436-4f13-ab3c-faf4ba926966\">\n",
              "    <div class=\"colab-df-container\">\n",
              "      <div>\n",
              "<style scoped>\n",
              "    .dataframe tbody tr th:only-of-type {\n",
              "        vertical-align: middle;\n",
              "    }\n",
              "\n",
              "    .dataframe tbody tr th {\n",
              "        vertical-align: top;\n",
              "    }\n",
              "\n",
              "    .dataframe thead th {\n",
              "        text-align: right;\n",
              "    }\n",
              "</style>\n",
              "<table border=\"1\" class=\"dataframe\">\n",
              "  <thead>\n",
              "    <tr style=\"text-align: right;\">\n",
              "      <th></th>\n",
              "      <th>user_id</th>\n",
              "      <th>tweet_id</th>\n",
              "      <th>Toxicity</th>\n",
              "      <th>week</th>\n",
              "    </tr>\n",
              "  </thead>\n",
              "  <tbody>\n",
              "    <tr>\n",
              "      <th>3722</th>\n",
              "      <td>714557249604227075</td>\n",
              "      <td>817006556692807680</td>\n",
              "      <td>0.004304</td>\n",
              "      <td>01</td>\n",
              "    </tr>\n",
              "    <tr>\n",
              "      <th>3723</th>\n",
              "      <td>714557249604227075</td>\n",
              "      <td>815559529727455232</td>\n",
              "      <td>0.007665</td>\n",
              "      <td>01</td>\n",
              "    </tr>\n",
              "    <tr>\n",
              "      <th>5293</th>\n",
              "      <td>20430045</td>\n",
              "      <td>817841996123541506</td>\n",
              "      <td>0.399880</td>\n",
              "      <td>01</td>\n",
              "    </tr>\n",
              "    <tr>\n",
              "      <th>5294</th>\n",
              "      <td>20430045</td>\n",
              "      <td>817742024879308801</td>\n",
              "      <td>0.028856</td>\n",
              "      <td>01</td>\n",
              "    </tr>\n",
              "    <tr>\n",
              "      <th>5295</th>\n",
              "      <td>20430045</td>\n",
              "      <td>817396068635774976</td>\n",
              "      <td>0.168519</td>\n",
              "      <td>01</td>\n",
              "    </tr>\n",
              "  </tbody>\n",
              "</table>\n",
              "</div>\n",
              "      <button class=\"colab-df-convert\" onclick=\"convertToInteractive('df-90e293d0-e436-4f13-ab3c-faf4ba926966')\"\n",
              "              title=\"Convert this dataframe to an interactive table.\"\n",
              "              style=\"display:none;\">\n",
              "        \n",
              "  <svg xmlns=\"http://www.w3.org/2000/svg\" height=\"24px\"viewBox=\"0 0 24 24\"\n",
              "       width=\"24px\">\n",
              "    <path d=\"M0 0h24v24H0V0z\" fill=\"none\"/>\n",
              "    <path d=\"M18.56 5.44l.94 2.06.94-2.06 2.06-.94-2.06-.94-.94-2.06-.94 2.06-2.06.94zm-11 1L8.5 8.5l.94-2.06 2.06-.94-2.06-.94L8.5 2.5l-.94 2.06-2.06.94zm10 10l.94 2.06.94-2.06 2.06-.94-2.06-.94-.94-2.06-.94 2.06-2.06.94z\"/><path d=\"M17.41 7.96l-1.37-1.37c-.4-.4-.92-.59-1.43-.59-.52 0-1.04.2-1.43.59L10.3 9.45l-7.72 7.72c-.78.78-.78 2.05 0 2.83L4 21.41c.39.39.9.59 1.41.59.51 0 1.02-.2 1.41-.59l7.78-7.78 2.81-2.81c.8-.78.8-2.07 0-2.86zM5.41 20L4 18.59l7.72-7.72 1.47 1.35L5.41 20z\"/>\n",
              "  </svg>\n",
              "      </button>\n",
              "      \n",
              "  <style>\n",
              "    .colab-df-container {\n",
              "      display:flex;\n",
              "      flex-wrap:wrap;\n",
              "      gap: 12px;\n",
              "    }\n",
              "\n",
              "    .colab-df-convert {\n",
              "      background-color: #E8F0FE;\n",
              "      border: none;\n",
              "      border-radius: 50%;\n",
              "      cursor: pointer;\n",
              "      display: none;\n",
              "      fill: #1967D2;\n",
              "      height: 32px;\n",
              "      padding: 0 0 0 0;\n",
              "      width: 32px;\n",
              "    }\n",
              "\n",
              "    .colab-df-convert:hover {\n",
              "      background-color: #E2EBFA;\n",
              "      box-shadow: 0px 1px 2px rgba(60, 64, 67, 0.3), 0px 1px 3px 1px rgba(60, 64, 67, 0.15);\n",
              "      fill: #174EA6;\n",
              "    }\n",
              "\n",
              "    [theme=dark] .colab-df-convert {\n",
              "      background-color: #3B4455;\n",
              "      fill: #D2E3FC;\n",
              "    }\n",
              "\n",
              "    [theme=dark] .colab-df-convert:hover {\n",
              "      background-color: #434B5C;\n",
              "      box-shadow: 0px 1px 3px 1px rgba(0, 0, 0, 0.15);\n",
              "      filter: drop-shadow(0px 1px 2px rgba(0, 0, 0, 0.3));\n",
              "      fill: #FFFFFF;\n",
              "    }\n",
              "  </style>\n",
              "\n",
              "      <script>\n",
              "        const buttonEl =\n",
              "          document.querySelector('#df-90e293d0-e436-4f13-ab3c-faf4ba926966 button.colab-df-convert');\n",
              "        buttonEl.style.display =\n",
              "          google.colab.kernel.accessAllowed ? 'block' : 'none';\n",
              "\n",
              "        async function convertToInteractive(key) {\n",
              "          const element = document.querySelector('#df-90e293d0-e436-4f13-ab3c-faf4ba926966');\n",
              "          const dataTable =\n",
              "            await google.colab.kernel.invokeFunction('convertToInteractive',\n",
              "                                                     [key], {});\n",
              "          if (!dataTable) return;\n",
              "\n",
              "          const docLinkHtml = 'Like what you see? Visit the ' +\n",
              "            '<a target=\"_blank\" href=https://colab.research.google.com/notebooks/data_table.ipynb>data table notebook</a>'\n",
              "            + ' to learn more about interactive tables.';\n",
              "          element.innerHTML = '';\n",
              "          dataTable['output_type'] = 'display_data';\n",
              "          await google.colab.output.renderOutput(dataTable, element);\n",
              "          const docLink = document.createElement('div');\n",
              "          docLink.innerHTML = docLinkHtml;\n",
              "          element.appendChild(docLink);\n",
              "        }\n",
              "      </script>\n",
              "    </div>\n",
              "  </div>\n",
              "  "
            ]
          },
          "metadata": {},
          "execution_count": 11
        }
      ]
    },
    {
      "cell_type": "code",
      "source": [
        "users_list = list(weekDf['user_id'].unique().astype(str))"
      ],
      "metadata": {
        "id": "saKAJpIwfU49"
      },
      "execution_count": null,
      "outputs": []
    },
    {
      "cell_type": "code",
      "source": [
        "len(users_list)"
      ],
      "metadata": {
        "colab": {
          "base_uri": "https://localhost:8080/"
        },
        "id": "N_I9-CV8sz3d",
        "outputId": "0a689b60-418f-4b0b-89fd-487de54121e8"
      },
      "execution_count": null,
      "outputs": [
        {
          "output_type": "execute_result",
          "data": {
            "text/plain": [
              "2122"
            ]
          },
          "metadata": {},
          "execution_count": 13
        }
      ]
    },
    {
      "cell_type": "code",
      "source": [
        "G_week = G.subgraph(users_list)"
      ],
      "metadata": {
        "id": "B4KmXtp4s7hC"
      },
      "execution_count": null,
      "outputs": []
    },
    {
      "cell_type": "code",
      "source": [
        "print(G_week.number_of_nodes())"
      ],
      "metadata": {
        "colab": {
          "base_uri": "https://localhost:8080/"
        },
        "id": "F6r0dgVrwEDP",
        "outputId": "0808e49b-4a91-44a5-8d54-ee9bc9056906"
      },
      "execution_count": null,
      "outputs": [
        {
          "output_type": "stream",
          "name": "stdout",
          "text": [
            "2122\n"
          ]
        }
      ]
    },
    {
      "cell_type": "code",
      "source": [
        "user_toxicity_means = []\n",
        "neighbor_toxicity_means = []"
      ],
      "metadata": {
        "id": "YhmhVraBHVQG"
      },
      "execution_count": null,
      "outputs": []
    },
    {
      "cell_type": "code",
      "source": [
        "for node in G.nodes():\n",
        "    neighbors = list(G.neighbors(node))\n",
        "    neighbor_toxicity_mean = groupDf.loc[groupDf['user_id'].isin(neighbors), 'Toxicity'].mean()\n",
        "    if pd.isna(neighbor_toxicity_mean):\n",
        "      neighbor_toxicity_mean = 0\n",
        "    user_toxicity_mean = groupDf.loc[groupDf['user_id'] == node, 'Toxicity'].mean()\n",
        "    if pd.isna(user_toxicity_mean):\n",
        "      user_toxicity_mean = 0\n",
        "  \n",
        "    user_toxicity_means.append(user_toxicity_mean)\n",
        "    neighbor_toxicity_means.append(neighbor_toxicity_mean)\n"
      ],
      "metadata": {
        "id": "uwh9QRxaIDgW"
      },
      "execution_count": null,
      "outputs": []
    },
    {
      "cell_type": "code",
      "source": [],
      "metadata": {
        "id": "RtMMQH_RIThr"
      },
      "execution_count": null,
      "outputs": []
    },
    {
      "cell_type": "code",
      "source": [
        "# for node in G_week.nodes():\n",
        "#     neighbors = list(G_week.neighbors(node))\n",
        "#     neighbor_toxicity_mean = weekDf.loc[weekDf['user_id'].isin(neighbors), 'Toxicity'].mean()\n",
        "#     if pd.isna(neighbor_toxicity_mean):\n",
        "#       neighbor_toxicity_mean = 0\n",
        "#     user_toxicity_mean = weekDf.loc[weekDf['user_id'] == node, 'Toxicity'].mean()\n",
        "#     if pd.isna(user_toxicity_mean):\n",
        "#       user_toxicity_mean = 0\n",
        "  \n",
        "#     user_toxicity_means.append(user_toxicity_mean)\n",
        "#     neighbor_toxicity_means.append(neighbor_toxicity_mean)\n"
      ],
      "metadata": {
        "id": "VPpJaS2pHX4W"
      },
      "execution_count": null,
      "outputs": []
    },
    {
      "cell_type": "code",
      "source": [
        "# user_id = '20430045'\n",
        "# neighbors = list(G_week.neighbors(user_id))\n",
        "# neighbor_toxicity_mean = weekDf.loc[weekDf['user_id'].isin(neighbors), 'Toxicity'].mean()\n",
        "# if pd.isna(neighbor_toxicity_mean):\n",
        "#     neighbor_toxicity_mean = 0\n",
        "# user_toxicity_mean = weekDf.loc[weekDf['user_id'] == user_id, 'Toxicity'].mean()\n",
        "# if pd.isna(user_toxicity_mean):\n",
        "#     user_toxicity_mean = 0"
      ],
      "metadata": {
        "id": "4aTfmrjsGucW"
      },
      "execution_count": null,
      "outputs": []
    }
  ]
}