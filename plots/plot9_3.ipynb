{
  "nbformat": 4,
  "nbformat_minor": 0,
  "metadata": {
    "colab": {
      "provenance": []
    },
    "kernelspec": {
      "name": "python3",
      "display_name": "Python 3"
    },
    "language_info": {
      "name": "python"
    }
  },
  "cells": [
    {
      "cell_type": "code",
      "execution_count": 1,
      "metadata": {
        "colab": {
          "base_uri": "https://localhost:8080/"
        },
        "id": "KqQpmtJHZNoB",
        "outputId": "bb22eb65-d366-4b32-b7eb-36b3d45b5d9a"
      },
      "outputs": [
        {
          "output_type": "stream",
          "name": "stdout",
          "text": [
            "Drive already mounted at /content/gdrive; to attempt to forcibly remount, call drive.mount(\"/content/gdrive\", force_remount=True).\n"
          ]
        }
      ],
      "source": [
        "from google.colab import drive\n",
        "drive.mount('/content/gdrive')"
      ]
    },
    {
      "cell_type": "code",
      "source": [
        "import pandas as pd\n",
        "import matplotlib.pyplot as plt\n",
        "import matplotlib.ticker as ticker\n",
        "import numpy as np\n",
        "from datetime import datetime\n",
        "import networkx as nx\n",
        "import warnings\n",
        "warnings.filterwarnings(\"ignore\")"
      ],
      "metadata": {
        "id": "DHqhZ683ZPzF"
      },
      "execution_count": 2,
      "outputs": []
    },
    {
      "cell_type": "code",
      "source": [
        "df = pd.read_csv(\"/content/gdrive/My Drive/tweetsConvereted2017_toxicPerspectiveScore.csv\")"
      ],
      "metadata": {
        "id": "iGWgv2YoZkmE"
      },
      "execution_count": 3,
      "outputs": []
    },
    {
      "cell_type": "code",
      "source": [
        "G = nx.read_edgelist('/content/gdrive/My Drive/users.edgelist')"
      ],
      "metadata": {
        "id": "r7zGshkQtDqK"
      },
      "execution_count": 4,
      "outputs": []
    },
    {
      "cell_type": "code",
      "source": [
        "df[\"week\"] = df[\"NewDateFormat\"].apply(lambda x: datetime.strptime(x, \"%Y-%m-%d %H:%M:%S\").strftime(\"%U\"))\n",
        "df[\"month\"] = df[\"NewDateFormat\"].apply(lambda x: datetime.strptime(x, \"%Y-%m-%d %H:%M:%S\").strftime(\"%m\"))\n",
        "df[\"day\"] = df[\"NewDateFormat\"].apply(lambda x: datetime.strptime(x, \"%Y-%m-%d %H:%M:%S\").day)"
      ],
      "metadata": {
        "id": "IvM0LpweZmkp"
      },
      "execution_count": 5,
      "outputs": []
    },
    {
      "cell_type": "code",
      "source": [
        "df.head()"
      ],
      "metadata": {
        "colab": {
          "base_uri": "https://localhost:8080/",
          "height": 525
        },
        "id": "_9K3QXnkd4h2",
        "outputId": "7544f591-f804-4e3d-c1e1-a0161ff6ad07"
      },
      "execution_count": 6,
      "outputs": [
        {
          "output_type": "execute_result",
          "data": {
            "text/plain": [
              "              user_id     screen_name            tweet_id  \\\n",
              "0          4746709454      just_jusss  911477065328631809   \n",
              "1          4746709454      just_jusss  911399501264384001   \n",
              "2          4746709454      just_jusss  911343372282900480   \n",
              "3  773711528398848000  CassandraCohan  923729371235586049   \n",
              "4  773711528398848000  CassandraCohan  923689995763843072   \n",
              "\n",
              "                                          tweet_text  tweet_creation  \\\n",
              "0  Having a strict dad, if I ask to go out one we...    1.506159e+09   \n",
              "1  Lookin at all these couples like MBN🤧 but then...    1.506140e+09   \n",
              "2  Being a senior kinda sucks when most of your f...    1.506127e+09   \n",
              "3                          @periwinkledink So pretty    1.509076e+09   \n",
              "4  @readyforramos It’s 2017 we go to church and pray    1.509067e+09   \n",
              "\n",
              "   tweet_fav  tweet_rt  rp_flag           rp_status       rp_user  ...  \\\n",
              "0        1.0       0.0    False                 NaN           NaN  ...   \n",
              "1        2.0       0.0    False                 NaN           NaN  ...   \n",
              "2        3.0       0.0    False                 NaN           NaN  ...   \n",
              "3        1.0       0.0     True  923705106264027136  3.434322e+09  ...   \n",
              "4        3.0       0.0     True  923689936406044673  2.633570e+09  ...   \n",
              "\n",
              "   rt_text  rt_creation  rt_fav rt_rt  Toxicity  Severe Toxicity  \\\n",
              "0      NaN          NaN     NaN   NaN  0.052305         0.002346   \n",
              "1      NaN          NaN     NaN   NaN  0.068171         0.003433   \n",
              "2      NaN          NaN     NaN   NaN  0.518691         0.023787   \n",
              "3      NaN          NaN     NaN   NaN  0.010681         0.002117   \n",
              "4      NaN          NaN     NaN   NaN  0.018975         0.001316   \n",
              "\n",
              "         NewDateFormat  week  month  day  \n",
              "0  2017-09-23 09:27:21    38     09   23  \n",
              "1  2017-09-23 04:19:08    38     09   23  \n",
              "2  2017-09-23 00:36:06    38     09   23  \n",
              "3  2017-10-27 03:53:38    43     10   27  \n",
              "4  2017-10-27 01:17:10    43     10   27  \n",
              "\n",
              "[5 rows x 30 columns]"
            ],
            "text/html": [
              "\n",
              "  <div id=\"df-d0b38f04-afd6-4a42-9e3b-d1522af09f61\">\n",
              "    <div class=\"colab-df-container\">\n",
              "      <div>\n",
              "<style scoped>\n",
              "    .dataframe tbody tr th:only-of-type {\n",
              "        vertical-align: middle;\n",
              "    }\n",
              "\n",
              "    .dataframe tbody tr th {\n",
              "        vertical-align: top;\n",
              "    }\n",
              "\n",
              "    .dataframe thead th {\n",
              "        text-align: right;\n",
              "    }\n",
              "</style>\n",
              "<table border=\"1\" class=\"dataframe\">\n",
              "  <thead>\n",
              "    <tr style=\"text-align: right;\">\n",
              "      <th></th>\n",
              "      <th>user_id</th>\n",
              "      <th>screen_name</th>\n",
              "      <th>tweet_id</th>\n",
              "      <th>tweet_text</th>\n",
              "      <th>tweet_creation</th>\n",
              "      <th>tweet_fav</th>\n",
              "      <th>tweet_rt</th>\n",
              "      <th>rp_flag</th>\n",
              "      <th>rp_status</th>\n",
              "      <th>rp_user</th>\n",
              "      <th>...</th>\n",
              "      <th>rt_text</th>\n",
              "      <th>rt_creation</th>\n",
              "      <th>rt_fav</th>\n",
              "      <th>rt_rt</th>\n",
              "      <th>Toxicity</th>\n",
              "      <th>Severe Toxicity</th>\n",
              "      <th>NewDateFormat</th>\n",
              "      <th>week</th>\n",
              "      <th>month</th>\n",
              "      <th>day</th>\n",
              "    </tr>\n",
              "  </thead>\n",
              "  <tbody>\n",
              "    <tr>\n",
              "      <th>0</th>\n",
              "      <td>4746709454</td>\n",
              "      <td>just_jusss</td>\n",
              "      <td>911477065328631809</td>\n",
              "      <td>Having a strict dad, if I ask to go out one we...</td>\n",
              "      <td>1.506159e+09</td>\n",
              "      <td>1.0</td>\n",
              "      <td>0.0</td>\n",
              "      <td>False</td>\n",
              "      <td>NaN</td>\n",
              "      <td>NaN</td>\n",
              "      <td>...</td>\n",
              "      <td>NaN</td>\n",
              "      <td>NaN</td>\n",
              "      <td>NaN</td>\n",
              "      <td>NaN</td>\n",
              "      <td>0.052305</td>\n",
              "      <td>0.002346</td>\n",
              "      <td>2017-09-23 09:27:21</td>\n",
              "      <td>38</td>\n",
              "      <td>09</td>\n",
              "      <td>23</td>\n",
              "    </tr>\n",
              "    <tr>\n",
              "      <th>1</th>\n",
              "      <td>4746709454</td>\n",
              "      <td>just_jusss</td>\n",
              "      <td>911399501264384001</td>\n",
              "      <td>Lookin at all these couples like MBN🤧 but then...</td>\n",
              "      <td>1.506140e+09</td>\n",
              "      <td>2.0</td>\n",
              "      <td>0.0</td>\n",
              "      <td>False</td>\n",
              "      <td>NaN</td>\n",
              "      <td>NaN</td>\n",
              "      <td>...</td>\n",
              "      <td>NaN</td>\n",
              "      <td>NaN</td>\n",
              "      <td>NaN</td>\n",
              "      <td>NaN</td>\n",
              "      <td>0.068171</td>\n",
              "      <td>0.003433</td>\n",
              "      <td>2017-09-23 04:19:08</td>\n",
              "      <td>38</td>\n",
              "      <td>09</td>\n",
              "      <td>23</td>\n",
              "    </tr>\n",
              "    <tr>\n",
              "      <th>2</th>\n",
              "      <td>4746709454</td>\n",
              "      <td>just_jusss</td>\n",
              "      <td>911343372282900480</td>\n",
              "      <td>Being a senior kinda sucks when most of your f...</td>\n",
              "      <td>1.506127e+09</td>\n",
              "      <td>3.0</td>\n",
              "      <td>0.0</td>\n",
              "      <td>False</td>\n",
              "      <td>NaN</td>\n",
              "      <td>NaN</td>\n",
              "      <td>...</td>\n",
              "      <td>NaN</td>\n",
              "      <td>NaN</td>\n",
              "      <td>NaN</td>\n",
              "      <td>NaN</td>\n",
              "      <td>0.518691</td>\n",
              "      <td>0.023787</td>\n",
              "      <td>2017-09-23 00:36:06</td>\n",
              "      <td>38</td>\n",
              "      <td>09</td>\n",
              "      <td>23</td>\n",
              "    </tr>\n",
              "    <tr>\n",
              "      <th>3</th>\n",
              "      <td>773711528398848000</td>\n",
              "      <td>CassandraCohan</td>\n",
              "      <td>923729371235586049</td>\n",
              "      <td>@periwinkledink So pretty</td>\n",
              "      <td>1.509076e+09</td>\n",
              "      <td>1.0</td>\n",
              "      <td>0.0</td>\n",
              "      <td>True</td>\n",
              "      <td>923705106264027136</td>\n",
              "      <td>3.434322e+09</td>\n",
              "      <td>...</td>\n",
              "      <td>NaN</td>\n",
              "      <td>NaN</td>\n",
              "      <td>NaN</td>\n",
              "      <td>NaN</td>\n",
              "      <td>0.010681</td>\n",
              "      <td>0.002117</td>\n",
              "      <td>2017-10-27 03:53:38</td>\n",
              "      <td>43</td>\n",
              "      <td>10</td>\n",
              "      <td>27</td>\n",
              "    </tr>\n",
              "    <tr>\n",
              "      <th>4</th>\n",
              "      <td>773711528398848000</td>\n",
              "      <td>CassandraCohan</td>\n",
              "      <td>923689995763843072</td>\n",
              "      <td>@readyforramos It’s 2017 we go to church and pray</td>\n",
              "      <td>1.509067e+09</td>\n",
              "      <td>3.0</td>\n",
              "      <td>0.0</td>\n",
              "      <td>True</td>\n",
              "      <td>923689936406044673</td>\n",
              "      <td>2.633570e+09</td>\n",
              "      <td>...</td>\n",
              "      <td>NaN</td>\n",
              "      <td>NaN</td>\n",
              "      <td>NaN</td>\n",
              "      <td>NaN</td>\n",
              "      <td>0.018975</td>\n",
              "      <td>0.001316</td>\n",
              "      <td>2017-10-27 01:17:10</td>\n",
              "      <td>43</td>\n",
              "      <td>10</td>\n",
              "      <td>27</td>\n",
              "    </tr>\n",
              "  </tbody>\n",
              "</table>\n",
              "<p>5 rows × 30 columns</p>\n",
              "</div>\n",
              "      <button class=\"colab-df-convert\" onclick=\"convertToInteractive('df-d0b38f04-afd6-4a42-9e3b-d1522af09f61')\"\n",
              "              title=\"Convert this dataframe to an interactive table.\"\n",
              "              style=\"display:none;\">\n",
              "        \n",
              "  <svg xmlns=\"http://www.w3.org/2000/svg\" height=\"24px\"viewBox=\"0 0 24 24\"\n",
              "       width=\"24px\">\n",
              "    <path d=\"M0 0h24v24H0V0z\" fill=\"none\"/>\n",
              "    <path d=\"M18.56 5.44l.94 2.06.94-2.06 2.06-.94-2.06-.94-.94-2.06-.94 2.06-2.06.94zm-11 1L8.5 8.5l.94-2.06 2.06-.94-2.06-.94L8.5 2.5l-.94 2.06-2.06.94zm10 10l.94 2.06.94-2.06 2.06-.94-2.06-.94-.94-2.06-.94 2.06-2.06.94z\"/><path d=\"M17.41 7.96l-1.37-1.37c-.4-.4-.92-.59-1.43-.59-.52 0-1.04.2-1.43.59L10.3 9.45l-7.72 7.72c-.78.78-.78 2.05 0 2.83L4 21.41c.39.39.9.59 1.41.59.51 0 1.02-.2 1.41-.59l7.78-7.78 2.81-2.81c.8-.78.8-2.07 0-2.86zM5.41 20L4 18.59l7.72-7.72 1.47 1.35L5.41 20z\"/>\n",
              "  </svg>\n",
              "      </button>\n",
              "      \n",
              "  <style>\n",
              "    .colab-df-container {\n",
              "      display:flex;\n",
              "      flex-wrap:wrap;\n",
              "      gap: 12px;\n",
              "    }\n",
              "\n",
              "    .colab-df-convert {\n",
              "      background-color: #E8F0FE;\n",
              "      border: none;\n",
              "      border-radius: 50%;\n",
              "      cursor: pointer;\n",
              "      display: none;\n",
              "      fill: #1967D2;\n",
              "      height: 32px;\n",
              "      padding: 0 0 0 0;\n",
              "      width: 32px;\n",
              "    }\n",
              "\n",
              "    .colab-df-convert:hover {\n",
              "      background-color: #E2EBFA;\n",
              "      box-shadow: 0px 1px 2px rgba(60, 64, 67, 0.3), 0px 1px 3px 1px rgba(60, 64, 67, 0.15);\n",
              "      fill: #174EA6;\n",
              "    }\n",
              "\n",
              "    [theme=dark] .colab-df-convert {\n",
              "      background-color: #3B4455;\n",
              "      fill: #D2E3FC;\n",
              "    }\n",
              "\n",
              "    [theme=dark] .colab-df-convert:hover {\n",
              "      background-color: #434B5C;\n",
              "      box-shadow: 0px 1px 3px 1px rgba(0, 0, 0, 0.15);\n",
              "      filter: drop-shadow(0px 1px 2px rgba(0, 0, 0, 0.3));\n",
              "      fill: #FFFFFF;\n",
              "    }\n",
              "  </style>\n",
              "\n",
              "      <script>\n",
              "        const buttonEl =\n",
              "          document.querySelector('#df-d0b38f04-afd6-4a42-9e3b-d1522af09f61 button.colab-df-convert');\n",
              "        buttonEl.style.display =\n",
              "          google.colab.kernel.accessAllowed ? 'block' : 'none';\n",
              "\n",
              "        async function convertToInteractive(key) {\n",
              "          const element = document.querySelector('#df-d0b38f04-afd6-4a42-9e3b-d1522af09f61');\n",
              "          const dataTable =\n",
              "            await google.colab.kernel.invokeFunction('convertToInteractive',\n",
              "                                                     [key], {});\n",
              "          if (!dataTable) return;\n",
              "\n",
              "          const docLinkHtml = 'Like what you see? Visit the ' +\n",
              "            '<a target=\"_blank\" href=https://colab.research.google.com/notebooks/data_table.ipynb>data table notebook</a>'\n",
              "            + ' to learn more about interactive tables.';\n",
              "          element.innerHTML = '';\n",
              "          dataTable['output_type'] = 'display_data';\n",
              "          await google.colab.output.renderOutput(dataTable, element);\n",
              "          const docLink = document.createElement('div');\n",
              "          docLink.innerHTML = docLinkHtml;\n",
              "          element.appendChild(docLink);\n",
              "        }\n",
              "      </script>\n",
              "    </div>\n",
              "  </div>\n",
              "  "
            ]
          },
          "metadata": {},
          "execution_count": 6
        }
      ]
    },
    {
      "cell_type": "code",
      "source": [
        "# df.loc[df['user_id']==2283058711]"
      ],
      "metadata": {
        "id": "rr9BqBFUKma2"
      },
      "execution_count": 7,
      "outputs": []
    },
    {
      "cell_type": "code",
      "source": [
        "groupDf = df[['user_id', 'tweet_id', 'Toxicity', 'week','month','day']]"
      ],
      "metadata": {
        "id": "-SAc4jyLe-oG"
      },
      "execution_count": 8,
      "outputs": []
    },
    {
      "cell_type": "code",
      "source": [
        "print(groupDf['day'].dtypes)\n",
        "print(groupDf['week'].dtypes)\n",
        "print(groupDf['month'].dtypes)"
      ],
      "metadata": {
        "colab": {
          "base_uri": "https://localhost:8080/"
        },
        "id": "u3mkGihsrATf",
        "outputId": "727a4032-139e-43e2-c705-2f62c168608b"
      },
      "execution_count": 9,
      "outputs": [
        {
          "output_type": "stream",
          "name": "stdout",
          "text": [
            "int64\n",
            "object\n",
            "object\n"
          ]
        }
      ]
    },
    {
      "cell_type": "code",
      "source": [
        "groupDf['day'] = groupDf['day'].astype(str)\n",
        "groupDf['week'] = groupDf['week'].astype(str)\n",
        "groupDf['month'] = groupDf['month'].astype(str)"
      ],
      "metadata": {
        "id": "O48l4Q6Zrk0k"
      },
      "execution_count": 10,
      "outputs": []
    },
    {
      "cell_type": "code",
      "source": [
        "print(groupDf['day'].dtypes)\n",
        "print(groupDf['week'].dtypes)\n",
        "print(groupDf['month'].dtypes)"
      ],
      "metadata": {
        "colab": {
          "base_uri": "https://localhost:8080/"
        },
        "id": "bav_aZRZrwef",
        "outputId": "af33f275-7337-42ed-f11f-a2c87727c65a"
      },
      "execution_count": 11,
      "outputs": [
        {
          "output_type": "stream",
          "name": "stdout",
          "text": [
            "object\n",
            "object\n",
            "object\n"
          ]
        }
      ]
    },
    {
      "cell_type": "code",
      "source": [
        "weekDf = groupDf[groupDf['week']==\"43\"]\n",
        "monthDf = groupDf[groupDf['month']==\"10\"]"
      ],
      "metadata": {
        "id": "7qGsAf-MeDUE"
      },
      "execution_count": 12,
      "outputs": []
    },
    {
      "cell_type": "code",
      "source": [
        "weekDf.head() "
      ],
      "metadata": {
        "colab": {
          "base_uri": "https://localhost:8080/",
          "height": 206
        },
        "id": "GeZi5QgceOfl",
        "outputId": "4eff6882-d1c1-4e66-9fae-ff1f083abdca"
      },
      "execution_count": 13,
      "outputs": [
        {
          "output_type": "execute_result",
          "data": {
            "text/plain": [
              "              user_id            tweet_id  Toxicity week month day\n",
              "3  773711528398848000  923729371235586049  0.010681   43    10  27\n",
              "4  773711528398848000  923689995763843072  0.018975   43    10  27\n",
              "5  773711528398848000  923688749896294400  0.440214   43    10  27\n",
              "6  773711528398848000  923688494379216896  0.230907   43    10  27\n",
              "7  773711528398848000  923687534848299008  0.272364   43    10  27"
            ],
            "text/html": [
              "\n",
              "  <div id=\"df-a3947932-ed81-49c6-8aea-312a63df9e17\">\n",
              "    <div class=\"colab-df-container\">\n",
              "      <div>\n",
              "<style scoped>\n",
              "    .dataframe tbody tr th:only-of-type {\n",
              "        vertical-align: middle;\n",
              "    }\n",
              "\n",
              "    .dataframe tbody tr th {\n",
              "        vertical-align: top;\n",
              "    }\n",
              "\n",
              "    .dataframe thead th {\n",
              "        text-align: right;\n",
              "    }\n",
              "</style>\n",
              "<table border=\"1\" class=\"dataframe\">\n",
              "  <thead>\n",
              "    <tr style=\"text-align: right;\">\n",
              "      <th></th>\n",
              "      <th>user_id</th>\n",
              "      <th>tweet_id</th>\n",
              "      <th>Toxicity</th>\n",
              "      <th>week</th>\n",
              "      <th>month</th>\n",
              "      <th>day</th>\n",
              "    </tr>\n",
              "  </thead>\n",
              "  <tbody>\n",
              "    <tr>\n",
              "      <th>3</th>\n",
              "      <td>773711528398848000</td>\n",
              "      <td>923729371235586049</td>\n",
              "      <td>0.010681</td>\n",
              "      <td>43</td>\n",
              "      <td>10</td>\n",
              "      <td>27</td>\n",
              "    </tr>\n",
              "    <tr>\n",
              "      <th>4</th>\n",
              "      <td>773711528398848000</td>\n",
              "      <td>923689995763843072</td>\n",
              "      <td>0.018975</td>\n",
              "      <td>43</td>\n",
              "      <td>10</td>\n",
              "      <td>27</td>\n",
              "    </tr>\n",
              "    <tr>\n",
              "      <th>5</th>\n",
              "      <td>773711528398848000</td>\n",
              "      <td>923688749896294400</td>\n",
              "      <td>0.440214</td>\n",
              "      <td>43</td>\n",
              "      <td>10</td>\n",
              "      <td>27</td>\n",
              "    </tr>\n",
              "    <tr>\n",
              "      <th>6</th>\n",
              "      <td>773711528398848000</td>\n",
              "      <td>923688494379216896</td>\n",
              "      <td>0.230907</td>\n",
              "      <td>43</td>\n",
              "      <td>10</td>\n",
              "      <td>27</td>\n",
              "    </tr>\n",
              "    <tr>\n",
              "      <th>7</th>\n",
              "      <td>773711528398848000</td>\n",
              "      <td>923687534848299008</td>\n",
              "      <td>0.272364</td>\n",
              "      <td>43</td>\n",
              "      <td>10</td>\n",
              "      <td>27</td>\n",
              "    </tr>\n",
              "  </tbody>\n",
              "</table>\n",
              "</div>\n",
              "      <button class=\"colab-df-convert\" onclick=\"convertToInteractive('df-a3947932-ed81-49c6-8aea-312a63df9e17')\"\n",
              "              title=\"Convert this dataframe to an interactive table.\"\n",
              "              style=\"display:none;\">\n",
              "        \n",
              "  <svg xmlns=\"http://www.w3.org/2000/svg\" height=\"24px\"viewBox=\"0 0 24 24\"\n",
              "       width=\"24px\">\n",
              "    <path d=\"M0 0h24v24H0V0z\" fill=\"none\"/>\n",
              "    <path d=\"M18.56 5.44l.94 2.06.94-2.06 2.06-.94-2.06-.94-.94-2.06-.94 2.06-2.06.94zm-11 1L8.5 8.5l.94-2.06 2.06-.94-2.06-.94L8.5 2.5l-.94 2.06-2.06.94zm10 10l.94 2.06.94-2.06 2.06-.94-2.06-.94-.94-2.06-.94 2.06-2.06.94z\"/><path d=\"M17.41 7.96l-1.37-1.37c-.4-.4-.92-.59-1.43-.59-.52 0-1.04.2-1.43.59L10.3 9.45l-7.72 7.72c-.78.78-.78 2.05 0 2.83L4 21.41c.39.39.9.59 1.41.59.51 0 1.02-.2 1.41-.59l7.78-7.78 2.81-2.81c.8-.78.8-2.07 0-2.86zM5.41 20L4 18.59l7.72-7.72 1.47 1.35L5.41 20z\"/>\n",
              "  </svg>\n",
              "      </button>\n",
              "      \n",
              "  <style>\n",
              "    .colab-df-container {\n",
              "      display:flex;\n",
              "      flex-wrap:wrap;\n",
              "      gap: 12px;\n",
              "    }\n",
              "\n",
              "    .colab-df-convert {\n",
              "      background-color: #E8F0FE;\n",
              "      border: none;\n",
              "      border-radius: 50%;\n",
              "      cursor: pointer;\n",
              "      display: none;\n",
              "      fill: #1967D2;\n",
              "      height: 32px;\n",
              "      padding: 0 0 0 0;\n",
              "      width: 32px;\n",
              "    }\n",
              "\n",
              "    .colab-df-convert:hover {\n",
              "      background-color: #E2EBFA;\n",
              "      box-shadow: 0px 1px 2px rgba(60, 64, 67, 0.3), 0px 1px 3px 1px rgba(60, 64, 67, 0.15);\n",
              "      fill: #174EA6;\n",
              "    }\n",
              "\n",
              "    [theme=dark] .colab-df-convert {\n",
              "      background-color: #3B4455;\n",
              "      fill: #D2E3FC;\n",
              "    }\n",
              "\n",
              "    [theme=dark] .colab-df-convert:hover {\n",
              "      background-color: #434B5C;\n",
              "      box-shadow: 0px 1px 3px 1px rgba(0, 0, 0, 0.15);\n",
              "      filter: drop-shadow(0px 1px 2px rgba(0, 0, 0, 0.3));\n",
              "      fill: #FFFFFF;\n",
              "    }\n",
              "  </style>\n",
              "\n",
              "      <script>\n",
              "        const buttonEl =\n",
              "          document.querySelector('#df-a3947932-ed81-49c6-8aea-312a63df9e17 button.colab-df-convert');\n",
              "        buttonEl.style.display =\n",
              "          google.colab.kernel.accessAllowed ? 'block' : 'none';\n",
              "\n",
              "        async function convertToInteractive(key) {\n",
              "          const element = document.querySelector('#df-a3947932-ed81-49c6-8aea-312a63df9e17');\n",
              "          const dataTable =\n",
              "            await google.colab.kernel.invokeFunction('convertToInteractive',\n",
              "                                                     [key], {});\n",
              "          if (!dataTable) return;\n",
              "\n",
              "          const docLinkHtml = 'Like what you see? Visit the ' +\n",
              "            '<a target=\"_blank\" href=https://colab.research.google.com/notebooks/data_table.ipynb>data table notebook</a>'\n",
              "            + ' to learn more about interactive tables.';\n",
              "          element.innerHTML = '';\n",
              "          dataTable['output_type'] = 'display_data';\n",
              "          await google.colab.output.renderOutput(dataTable, element);\n",
              "          const docLink = document.createElement('div');\n",
              "          docLink.innerHTML = docLinkHtml;\n",
              "          element.appendChild(docLink);\n",
              "        }\n",
              "      </script>\n",
              "    </div>\n",
              "  </div>\n",
              "  "
            ]
          },
          "metadata": {},
          "execution_count": 13
        }
      ]
    },
    {
      "cell_type": "code",
      "source": [
        "dayList = monthDf['day'].unique()\n",
        "dayList.sort()\n",
        "print(dayList)"
      ],
      "metadata": {
        "colab": {
          "base_uri": "https://localhost:8080/"
        },
        "id": "JHIFkk48Y6bk",
        "outputId": "6256601e-5835-41f6-e117-71d0f7f9cf88"
      },
      "execution_count": 14,
      "outputs": [
        {
          "output_type": "stream",
          "name": "stdout",
          "text": [
            "['1' '10' '11' '12' '13' '14' '15' '16' '17' '18' '19' '2' '20' '21' '22'\n",
            " '23' '24' '25' '26' '27' '28' '29' '3' '30' '31' '4' '5' '6' '7' '8' '9']\n"
          ]
        }
      ]
    },
    {
      "cell_type": "code",
      "source": [
        "dayDf = monthDf[monthDf['day']==\"1\"]"
      ],
      "metadata": {
        "id": "sRATkcNNc33F"
      },
      "execution_count": 15,
      "outputs": []
    },
    {
      "cell_type": "code",
      "source": [
        "dayDf.head()"
      ],
      "metadata": {
        "colab": {
          "base_uri": "https://localhost:8080/",
          "height": 206
        },
        "id": "YKqMljuxdCKV",
        "outputId": "a425f7cd-c4b3-4cb8-af75-1c46aa214896"
      },
      "execution_count": 16,
      "outputs": [
        {
          "output_type": "execute_result",
          "data": {
            "text/plain": [
              "                user_id            tweet_id  Toxicity week month day\n",
              "677  711391730470227968  914589821565153280  0.010618   40    10   1\n",
              "678  711391730470227968  914588529165926400  0.032392   40    10   1\n",
              "679  711391730470227968  914382087490113536  0.080834   40    10   1\n",
              "680  711391730470227968  914304370925223936  0.020106   40    10   1\n",
              "681  711391730470227968  914277851892932608  0.074503   40    10   1"
            ],
            "text/html": [
              "\n",
              "  <div id=\"df-91622f95-3038-4496-8b10-f6071df4d719\">\n",
              "    <div class=\"colab-df-container\">\n",
              "      <div>\n",
              "<style scoped>\n",
              "    .dataframe tbody tr th:only-of-type {\n",
              "        vertical-align: middle;\n",
              "    }\n",
              "\n",
              "    .dataframe tbody tr th {\n",
              "        vertical-align: top;\n",
              "    }\n",
              "\n",
              "    .dataframe thead th {\n",
              "        text-align: right;\n",
              "    }\n",
              "</style>\n",
              "<table border=\"1\" class=\"dataframe\">\n",
              "  <thead>\n",
              "    <tr style=\"text-align: right;\">\n",
              "      <th></th>\n",
              "      <th>user_id</th>\n",
              "      <th>tweet_id</th>\n",
              "      <th>Toxicity</th>\n",
              "      <th>week</th>\n",
              "      <th>month</th>\n",
              "      <th>day</th>\n",
              "    </tr>\n",
              "  </thead>\n",
              "  <tbody>\n",
              "    <tr>\n",
              "      <th>677</th>\n",
              "      <td>711391730470227968</td>\n",
              "      <td>914589821565153280</td>\n",
              "      <td>0.010618</td>\n",
              "      <td>40</td>\n",
              "      <td>10</td>\n",
              "      <td>1</td>\n",
              "    </tr>\n",
              "    <tr>\n",
              "      <th>678</th>\n",
              "      <td>711391730470227968</td>\n",
              "      <td>914588529165926400</td>\n",
              "      <td>0.032392</td>\n",
              "      <td>40</td>\n",
              "      <td>10</td>\n",
              "      <td>1</td>\n",
              "    </tr>\n",
              "    <tr>\n",
              "      <th>679</th>\n",
              "      <td>711391730470227968</td>\n",
              "      <td>914382087490113536</td>\n",
              "      <td>0.080834</td>\n",
              "      <td>40</td>\n",
              "      <td>10</td>\n",
              "      <td>1</td>\n",
              "    </tr>\n",
              "    <tr>\n",
              "      <th>680</th>\n",
              "      <td>711391730470227968</td>\n",
              "      <td>914304370925223936</td>\n",
              "      <td>0.020106</td>\n",
              "      <td>40</td>\n",
              "      <td>10</td>\n",
              "      <td>1</td>\n",
              "    </tr>\n",
              "    <tr>\n",
              "      <th>681</th>\n",
              "      <td>711391730470227968</td>\n",
              "      <td>914277851892932608</td>\n",
              "      <td>0.074503</td>\n",
              "      <td>40</td>\n",
              "      <td>10</td>\n",
              "      <td>1</td>\n",
              "    </tr>\n",
              "  </tbody>\n",
              "</table>\n",
              "</div>\n",
              "      <button class=\"colab-df-convert\" onclick=\"convertToInteractive('df-91622f95-3038-4496-8b10-f6071df4d719')\"\n",
              "              title=\"Convert this dataframe to an interactive table.\"\n",
              "              style=\"display:none;\">\n",
              "        \n",
              "  <svg xmlns=\"http://www.w3.org/2000/svg\" height=\"24px\"viewBox=\"0 0 24 24\"\n",
              "       width=\"24px\">\n",
              "    <path d=\"M0 0h24v24H0V0z\" fill=\"none\"/>\n",
              "    <path d=\"M18.56 5.44l.94 2.06.94-2.06 2.06-.94-2.06-.94-.94-2.06-.94 2.06-2.06.94zm-11 1L8.5 8.5l.94-2.06 2.06-.94-2.06-.94L8.5 2.5l-.94 2.06-2.06.94zm10 10l.94 2.06.94-2.06 2.06-.94-2.06-.94-.94-2.06-.94 2.06-2.06.94z\"/><path d=\"M17.41 7.96l-1.37-1.37c-.4-.4-.92-.59-1.43-.59-.52 0-1.04.2-1.43.59L10.3 9.45l-7.72 7.72c-.78.78-.78 2.05 0 2.83L4 21.41c.39.39.9.59 1.41.59.51 0 1.02-.2 1.41-.59l7.78-7.78 2.81-2.81c.8-.78.8-2.07 0-2.86zM5.41 20L4 18.59l7.72-7.72 1.47 1.35L5.41 20z\"/>\n",
              "  </svg>\n",
              "      </button>\n",
              "      \n",
              "  <style>\n",
              "    .colab-df-container {\n",
              "      display:flex;\n",
              "      flex-wrap:wrap;\n",
              "      gap: 12px;\n",
              "    }\n",
              "\n",
              "    .colab-df-convert {\n",
              "      background-color: #E8F0FE;\n",
              "      border: none;\n",
              "      border-radius: 50%;\n",
              "      cursor: pointer;\n",
              "      display: none;\n",
              "      fill: #1967D2;\n",
              "      height: 32px;\n",
              "      padding: 0 0 0 0;\n",
              "      width: 32px;\n",
              "    }\n",
              "\n",
              "    .colab-df-convert:hover {\n",
              "      background-color: #E2EBFA;\n",
              "      box-shadow: 0px 1px 2px rgba(60, 64, 67, 0.3), 0px 1px 3px 1px rgba(60, 64, 67, 0.15);\n",
              "      fill: #174EA6;\n",
              "    }\n",
              "\n",
              "    [theme=dark] .colab-df-convert {\n",
              "      background-color: #3B4455;\n",
              "      fill: #D2E3FC;\n",
              "    }\n",
              "\n",
              "    [theme=dark] .colab-df-convert:hover {\n",
              "      background-color: #434B5C;\n",
              "      box-shadow: 0px 1px 3px 1px rgba(0, 0, 0, 0.15);\n",
              "      filter: drop-shadow(0px 1px 2px rgba(0, 0, 0, 0.3));\n",
              "      fill: #FFFFFF;\n",
              "    }\n",
              "  </style>\n",
              "\n",
              "      <script>\n",
              "        const buttonEl =\n",
              "          document.querySelector('#df-91622f95-3038-4496-8b10-f6071df4d719 button.colab-df-convert');\n",
              "        buttonEl.style.display =\n",
              "          google.colab.kernel.accessAllowed ? 'block' : 'none';\n",
              "\n",
              "        async function convertToInteractive(key) {\n",
              "          const element = document.querySelector('#df-91622f95-3038-4496-8b10-f6071df4d719');\n",
              "          const dataTable =\n",
              "            await google.colab.kernel.invokeFunction('convertToInteractive',\n",
              "                                                     [key], {});\n",
              "          if (!dataTable) return;\n",
              "\n",
              "          const docLinkHtml = 'Like what you see? Visit the ' +\n",
              "            '<a target=\"_blank\" href=https://colab.research.google.com/notebooks/data_table.ipynb>data table notebook</a>'\n",
              "            + ' to learn more about interactive tables.';\n",
              "          element.innerHTML = '';\n",
              "          dataTable['output_type'] = 'display_data';\n",
              "          await google.colab.output.renderOutput(dataTable, element);\n",
              "          const docLink = document.createElement('div');\n",
              "          docLink.innerHTML = docLinkHtml;\n",
              "          element.appendChild(docLink);\n",
              "        }\n",
              "      </script>\n",
              "    </div>\n",
              "  </div>\n",
              "  "
            ]
          },
          "metadata": {},
          "execution_count": 16
        }
      ]
    },
    {
      "cell_type": "code",
      "source": [
        "users_list = list(dayDf['user_id'].unique().astype(str))"
      ],
      "metadata": {
        "id": "saKAJpIwfU49"
      },
      "execution_count": 17,
      "outputs": []
    },
    {
      "cell_type": "code",
      "source": [
        "len(users_list)"
      ],
      "metadata": {
        "colab": {
          "base_uri": "https://localhost:8080/"
        },
        "id": "N_I9-CV8sz3d",
        "outputId": "0f114ef1-5935-46da-de74-de16197a45b6"
      },
      "execution_count": 18,
      "outputs": [
        {
          "output_type": "execute_result",
          "data": {
            "text/plain": [
              "11649"
            ]
          },
          "metadata": {},
          "execution_count": 18
        }
      ]
    },
    {
      "cell_type": "code",
      "source": [
        "G_week = G.subgraph(users_list)"
      ],
      "metadata": {
        "id": "B4KmXtp4s7hC"
      },
      "execution_count": 19,
      "outputs": []
    },
    {
      "cell_type": "code",
      "source": [
        "print(G_week.number_of_nodes())"
      ],
      "metadata": {
        "colab": {
          "base_uri": "https://localhost:8080/"
        },
        "id": "F6r0dgVrwEDP",
        "outputId": "6810059a-4c79-4322-e6dc-1ee3205e5d6b"
      },
      "execution_count": 20,
      "outputs": [
        {
          "output_type": "stream",
          "name": "stdout",
          "text": [
            "11649\n"
          ]
        }
      ]
    },
    {
      "cell_type": "code",
      "source": [
        "user_toxicity_dict = dayDf.groupby('user_id')['Toxicity'].mean().to_dict()"
      ],
      "metadata": {
        "id": "S7kO8vUYwsQ5"
      },
      "execution_count": 21,
      "outputs": []
    },
    {
      "cell_type": "code",
      "source": [
        "neighbour_toxicity_dict = {}\n",
        "for user in dayDf['user_id'].unique():\n",
        "    neighbourDf = dayDf[dayDf['user_id'] != user]\n",
        "    neighbour_toxicity_dict[user] = neighbourDf.groupby('user_id')['Toxicity'].mean().to_dict()"
      ],
      "metadata": {
        "id": "Bbx3brlBwt_T"
      },
      "execution_count": null,
      "outputs": []
    },
    {
      "cell_type": "code",
      "source": [
        "user_toxicity_means = []\n",
        "neighbor_toxicity_means = []"
      ],
      "metadata": {
        "id": "FANWkhqfxs7Y"
      },
      "execution_count": null,
      "outputs": []
    },
    {
      "cell_type": "code",
      "source": [
        "for user in G_week.nodes():\n",
        "    user_mean = user_toxicity_dict[str(user)]\n",
        "    neighbour_mean = np.mean(list(neighbour_toxicity_dict[user].values()))\n",
        "    user_toxicity_means.append(user_mean)\n",
        "    neighbor_toxicity_means.append(neighbour_mean)"
      ],
      "metadata": {
        "id": "-2i0ZQsexv6O"
      },
      "execution_count": null,
      "outputs": []
    },
    {
      "cell_type": "code",
      "source": [
        "plt.figure(figsize=(15,10))\n",
        "plt.scatter(user_toxicity_means, neighbor_toxicity_means)\n",
        "plt.xlabel('Mean toxicity score of user')\n",
        "plt.ylabel('Mean toxicity score of user\\'s neighbors')\n",
        "\n",
        "# plt.xticks([i/10 for i in range(0, 11)])\n",
        "# plt.yticks([i/10 for i in range(0, 11)])\n",
        "plt.show()"
      ],
      "metadata": {
        "id": "K0cA_kkbZvsB"
      },
      "execution_count": null,
      "outputs": []
    },
    {
      "cell_type": "code",
      "source": [
        "# for node in G_week.nodes():\n",
        "#     neighbors = list(G_week.neighbors(node))\n",
        "#     neighbor_toxicity_mean = weekDf.loc[weekDf['user_id'].isin(neighbors), 'Toxicity'].mean()\n",
        "#     if pd.isna(neighbor_toxicity_mean):\n",
        "#       neighbor_toxicity_mean = 0\n",
        "#     user_toxicity_mean = weekDf.loc[weekDf['user_id'] == node, 'Toxicity'].mean()\n",
        "#     if pd.isna(user_toxicity_mean):\n",
        "#       user_toxicity_mean = 0\n",
        "  \n",
        "#     user_toxicity_means.append(user_toxicity_mean)\n",
        "#     neighbor_toxicity_means.append(neighbor_toxicity_mean)\n"
      ],
      "metadata": {
        "id": "VPpJaS2pHX4W"
      },
      "execution_count": null,
      "outputs": []
    },
    {
      "cell_type": "code",
      "source": [
        "# user_id = '20430045'\n",
        "# neighbors = list(G_week.neighbors(user_id))\n",
        "# neighbor_toxicity_mean = weekDf.loc[weekDf['user_id'].isin(neighbors), 'Toxicity'].mean()\n",
        "# if pd.isna(neighbor_toxicity_mean):\n",
        "#     neighbor_toxicity_mean = 0\n",
        "# user_toxicity_mean = weekDf.loc[weekDf['user_id'] == user_id, 'Toxicity'].mean()\n",
        "# if pd.isna(user_toxicity_mean):\n",
        "#     user_toxicity_mean = 0"
      ],
      "metadata": {
        "id": "4aTfmrjsGucW"
      },
      "execution_count": null,
      "outputs": []
    },
    {
      "cell_type": "code",
      "source": [
        "'''\n",
        "groupDf = df[['user_id', 'tweet_id', 'Toxicity', 'week','month','day']]\n",
        "weekDf = groupDf[groupDf['week']==\"43\"]\n",
        "monthDf = groupDf[groupDf['month']==\"10\"]\n",
        "dayDf = monthDf[monthDf['day']==\"1\"]\n",
        "users_list = list(dayDf['user_id'].unique().astype(str))\n",
        "G_week = G.subgraph(users_list)\n",
        "user_toxicity_means = []\n",
        "neighbor_toxicity_means = []\n",
        "def get_neighbour_toxicity_mean(user):\n",
        "  neighbours = list(G_week.neighbors(user))\n",
        "  temp_list = []\n",
        "  for neigh in neighbours:\n",
        "    neighbourDf = dayDf[dayDf['user_id'].astype(str) ==neigh]\n",
        "    mean_toxicity = neighbourDf['Toxicity'].mean()\n",
        "    temp_list.append(mean_toxicity)\n",
        "  return sum(temp_list)/len(temp_list)\n",
        "def get_user_toxicity_mean(user):\n",
        "  userDf = dayDf[dayDf['user_id'].astype(str) ==user]\n",
        "  return userDf['Toxicity'].mean()\n",
        "for user in G_week.nodes():\n",
        "  user_mean = get_user_toxicity_mean(user)\n",
        "  neighbour_mean = get_neighbour_toxicity_mean(user)\n",
        "  user_toxicity_means.append(user_mean)\n",
        "  neighbor_toxicity_means.append(neighbour_mean)\n",
        "plt.figure(figsize=(15,10))\n",
        "plt.scatter(user_toxicity_means, neighbor_toxicity_means)\n",
        "plt.xlabel('Mean toxicity score of user')\n",
        "plt.ylabel('Mean toxicity score of user\\'s neighbors')\n",
        "\n",
        "# plt.xticks([i/10 for i in range(0, 11)])\n",
        "# plt.yticks([i/10 for i in range(0, 11)])\n",
        "plt.show()\n",
        "\n",
        "in this code, \n",
        "this code snippet is taking a long time to run? \n",
        "\n",
        "for user in G_week.nodes():\n",
        "  user_mean = get_user_toxicity_mean(user)\n",
        "  neighbour_mean = get_neighbour_toxicity_mean(user)\n",
        "  user_toxicity_means.append(user_mean)\n",
        "  neighbor_toxicity_means.append(neighbour_mean)\n",
        "\n",
        "how can I optimize it to make it run faster?\n",
        "'''"
      ],
      "metadata": {
        "id": "FuPQGhbLwXpP"
      },
      "execution_count": null,
      "outputs": []
    }
  ]
}