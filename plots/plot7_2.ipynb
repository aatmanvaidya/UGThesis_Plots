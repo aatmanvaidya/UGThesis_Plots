{
  "nbformat": 4,
  "nbformat_minor": 0,
  "metadata": {
    "colab": {
      "provenance": []
    },
    "kernelspec": {
      "name": "python3",
      "display_name": "Python 3"
    },
    "language_info": {
      "name": "python"
    }
  },
  "cells": [
    {
      "cell_type": "code",
      "execution_count": 1,
      "metadata": {
        "colab": {
          "base_uri": "https://localhost:8080/"
        },
        "id": "9WQIjuHts654",
        "outputId": "8d0beb4a-7c8e-4bb1-c1f9-d457237e0cfa"
      },
      "outputs": [
        {
          "output_type": "stream",
          "name": "stdout",
          "text": [
            "Drive already mounted at /content/gdrive; to attempt to forcibly remount, call drive.mount(\"/content/gdrive\", force_remount=True).\n"
          ]
        }
      ],
      "source": [
        "from google.colab import drive\n",
        "drive.mount('/content/gdrive')"
      ]
    },
    {
      "cell_type": "code",
      "source": [
        "import pandas as pd\n",
        "import matplotlib.pyplot as plt\n",
        "import numpy as np\n",
        "from datetime import datetime\n",
        "import seaborn as sns\n",
        "import warnings\n",
        "warnings.filterwarnings(\"ignore\")"
      ],
      "metadata": {
        "id": "tVmlzF7gs9hg"
      },
      "execution_count": 2,
      "outputs": []
    },
    {
      "cell_type": "code",
      "source": [
        "df = pd.read_csv(\"/content/gdrive/My Drive/tweets.csv\")"
      ],
      "metadata": {
        "id": "YJWvLAG7s-c7"
      },
      "execution_count": 3,
      "outputs": []
    },
    {
      "cell_type": "code",
      "source": [
        "df['NewDateFormat'] = pd.to_datetime(df['tweet_creation'], unit='s')"
      ],
      "metadata": {
        "id": "Tnmey-6X_Kw-"
      },
      "execution_count": 4,
      "outputs": []
    },
    {
      "cell_type": "code",
      "source": [
        "# df['NewDateFormat'].astype(str)"
      ],
      "metadata": {
        "id": "pBT4huV_AHdF"
      },
      "execution_count": 5,
      "outputs": []
    },
    {
      "cell_type": "code",
      "source": [
        "df = df[(df['tweet_creation']>1483228799) & (df['tweet_creation']<=1514764799)]"
      ],
      "metadata": {
        "id": "kaJuH04fxafV"
      },
      "execution_count": 6,
      "outputs": []
    },
    {
      "cell_type": "code",
      "source": [
        "df['month'] = df['NewDateFormat'].dt.month"
      ],
      "metadata": {
        "id": "ICtmbLQLtMLq"
      },
      "execution_count": 7,
      "outputs": []
    },
    {
      "cell_type": "code",
      "source": [
        "df['month'].unique()"
      ],
      "metadata": {
        "colab": {
          "base_uri": "https://localhost:8080/"
        },
        "id": "ZEEaD4PHEd8K",
        "outputId": "b7dc02ee-8b4e-4d52-87f1-6342218e487c"
      },
      "execution_count": 8,
      "outputs": [
        {
          "output_type": "execute_result",
          "data": {
            "text/plain": [
              "array([10,  9,  8,  7,  6,  5,  4,  3,  2,  1])"
            ]
          },
          "metadata": {},
          "execution_count": 8
        }
      ]
    },
    {
      "cell_type": "code",
      "source": [
        "df.head()"
      ],
      "metadata": {
        "colab": {
          "base_uri": "https://localhost:8080/",
          "height": 681
        },
        "id": "sFOKJkmADkbT",
        "outputId": "497b7d15-7eb2-4ddd-b731-7bedb55c7c60"
      },
      "execution_count": 9,
      "outputs": [
        {
          "output_type": "execute_result",
          "data": {
            "text/plain": [
              "              user_id     screen_name            tweet_id  \\\n",
              "0  850859913244852224  NationalismXXI  919445178859053056   \n",
              "1  850859913244852224  NationalismXXI  919441926021107712   \n",
              "2  850859913244852224  NationalismXXI  919367819694927872   \n",
              "3  850859913244852224  NationalismXXI  919366633512226816   \n",
              "4  850859913244852224  NationalismXXI  919365144697860096   \n",
              "\n",
              "                         tweet_text  tweet_creation  tweet_fav  tweet_rt  \\\n",
              "0     Women https://t.co/quXcjOq9na    1.508055e+09        0.0       0.0   \n",
              "1  Superjew https://t.co/cba5laEfKG    1.508054e+09        0.0       0.0   \n",
              "2                               NaN    1.508037e+09        0.0     777.0   \n",
              "3                               NaN    1.508040e+09        0.0      63.0   \n",
              "4                               NaN    1.508040e+09        0.0     105.0   \n",
              "\n",
              "  rp_flag rp_status  rp_user  ...  qt_rt  rt_flag  rt_status_id    rt_user_id  \\\n",
              "0   False       NaN      NaN  ...  148.0    False           NaN           NaN   \n",
              "1   False       NaN      NaN  ...  302.0    False           NaN           NaN   \n",
              "2   False       NaN      NaN  ...    NaN     True  9.144992e+17  2.583248e+08   \n",
              "3   False       NaN      NaN  ...    NaN     True  9.189423e+17  1.289955e+09   \n",
              "4   False       NaN      NaN  ...    NaN     True  9.193076e+17  8.504084e+17   \n",
              "\n",
              "                                             rt_text   rt_creation  rt_fav  \\\n",
              "0                                                NaN           NaN     NaN   \n",
              "1                                                NaN           NaN     NaN   \n",
              "2  You want a quote to go viral? Retweet this one...  1.506879e+09   704.0   \n",
              "3  @CNN So when are u going to publish a jihadi s...  1.507939e+09   181.0   \n",
              "4  Fash the Nation Episode 92: Immoral High Groun...  1.508026e+09   212.0   \n",
              "\n",
              "   rt_rt       NewDateFormat  month  \n",
              "0    NaN 2017-10-15 08:09:47     10  \n",
              "1    NaN 2017-10-15 07:56:52     10  \n",
              "2  777.0 2017-10-15 03:02:23     10  \n",
              "3   63.0 2017-10-15 03:57:41     10  \n",
              "4  105.0 2017-10-15 03:51:46     10  \n",
              "\n",
              "[5 rows x 26 columns]"
            ],
            "text/html": [
              "\n",
              "  <div id=\"df-bb4b49fe-ce56-40ba-aaca-fc31636f4b91\">\n",
              "    <div class=\"colab-df-container\">\n",
              "      <div>\n",
              "<style scoped>\n",
              "    .dataframe tbody tr th:only-of-type {\n",
              "        vertical-align: middle;\n",
              "    }\n",
              "\n",
              "    .dataframe tbody tr th {\n",
              "        vertical-align: top;\n",
              "    }\n",
              "\n",
              "    .dataframe thead th {\n",
              "        text-align: right;\n",
              "    }\n",
              "</style>\n",
              "<table border=\"1\" class=\"dataframe\">\n",
              "  <thead>\n",
              "    <tr style=\"text-align: right;\">\n",
              "      <th></th>\n",
              "      <th>user_id</th>\n",
              "      <th>screen_name</th>\n",
              "      <th>tweet_id</th>\n",
              "      <th>tweet_text</th>\n",
              "      <th>tweet_creation</th>\n",
              "      <th>tweet_fav</th>\n",
              "      <th>tweet_rt</th>\n",
              "      <th>rp_flag</th>\n",
              "      <th>rp_status</th>\n",
              "      <th>rp_user</th>\n",
              "      <th>...</th>\n",
              "      <th>qt_rt</th>\n",
              "      <th>rt_flag</th>\n",
              "      <th>rt_status_id</th>\n",
              "      <th>rt_user_id</th>\n",
              "      <th>rt_text</th>\n",
              "      <th>rt_creation</th>\n",
              "      <th>rt_fav</th>\n",
              "      <th>rt_rt</th>\n",
              "      <th>NewDateFormat</th>\n",
              "      <th>month</th>\n",
              "    </tr>\n",
              "  </thead>\n",
              "  <tbody>\n",
              "    <tr>\n",
              "      <th>0</th>\n",
              "      <td>850859913244852224</td>\n",
              "      <td>NationalismXXI</td>\n",
              "      <td>919445178859053056</td>\n",
              "      <td>Women https://t.co/quXcjOq9na</td>\n",
              "      <td>1.508055e+09</td>\n",
              "      <td>0.0</td>\n",
              "      <td>0.0</td>\n",
              "      <td>False</td>\n",
              "      <td>NaN</td>\n",
              "      <td>NaN</td>\n",
              "      <td>...</td>\n",
              "      <td>148.0</td>\n",
              "      <td>False</td>\n",
              "      <td>NaN</td>\n",
              "      <td>NaN</td>\n",
              "      <td>NaN</td>\n",
              "      <td>NaN</td>\n",
              "      <td>NaN</td>\n",
              "      <td>NaN</td>\n",
              "      <td>2017-10-15 08:09:47</td>\n",
              "      <td>10</td>\n",
              "    </tr>\n",
              "    <tr>\n",
              "      <th>1</th>\n",
              "      <td>850859913244852224</td>\n",
              "      <td>NationalismXXI</td>\n",
              "      <td>919441926021107712</td>\n",
              "      <td>Superjew https://t.co/cba5laEfKG</td>\n",
              "      <td>1.508054e+09</td>\n",
              "      <td>0.0</td>\n",
              "      <td>0.0</td>\n",
              "      <td>False</td>\n",
              "      <td>NaN</td>\n",
              "      <td>NaN</td>\n",
              "      <td>...</td>\n",
              "      <td>302.0</td>\n",
              "      <td>False</td>\n",
              "      <td>NaN</td>\n",
              "      <td>NaN</td>\n",
              "      <td>NaN</td>\n",
              "      <td>NaN</td>\n",
              "      <td>NaN</td>\n",
              "      <td>NaN</td>\n",
              "      <td>2017-10-15 07:56:52</td>\n",
              "      <td>10</td>\n",
              "    </tr>\n",
              "    <tr>\n",
              "      <th>2</th>\n",
              "      <td>850859913244852224</td>\n",
              "      <td>NationalismXXI</td>\n",
              "      <td>919367819694927872</td>\n",
              "      <td>NaN</td>\n",
              "      <td>1.508037e+09</td>\n",
              "      <td>0.0</td>\n",
              "      <td>777.0</td>\n",
              "      <td>False</td>\n",
              "      <td>NaN</td>\n",
              "      <td>NaN</td>\n",
              "      <td>...</td>\n",
              "      <td>NaN</td>\n",
              "      <td>True</td>\n",
              "      <td>9.144992e+17</td>\n",
              "      <td>2.583248e+08</td>\n",
              "      <td>You want a quote to go viral? Retweet this one...</td>\n",
              "      <td>1.506879e+09</td>\n",
              "      <td>704.0</td>\n",
              "      <td>777.0</td>\n",
              "      <td>2017-10-15 03:02:23</td>\n",
              "      <td>10</td>\n",
              "    </tr>\n",
              "    <tr>\n",
              "      <th>3</th>\n",
              "      <td>850859913244852224</td>\n",
              "      <td>NationalismXXI</td>\n",
              "      <td>919366633512226816</td>\n",
              "      <td>NaN</td>\n",
              "      <td>1.508040e+09</td>\n",
              "      <td>0.0</td>\n",
              "      <td>63.0</td>\n",
              "      <td>False</td>\n",
              "      <td>NaN</td>\n",
              "      <td>NaN</td>\n",
              "      <td>...</td>\n",
              "      <td>NaN</td>\n",
              "      <td>True</td>\n",
              "      <td>9.189423e+17</td>\n",
              "      <td>1.289955e+09</td>\n",
              "      <td>@CNN So when are u going to publish a jihadi s...</td>\n",
              "      <td>1.507939e+09</td>\n",
              "      <td>181.0</td>\n",
              "      <td>63.0</td>\n",
              "      <td>2017-10-15 03:57:41</td>\n",
              "      <td>10</td>\n",
              "    </tr>\n",
              "    <tr>\n",
              "      <th>4</th>\n",
              "      <td>850859913244852224</td>\n",
              "      <td>NationalismXXI</td>\n",
              "      <td>919365144697860096</td>\n",
              "      <td>NaN</td>\n",
              "      <td>1.508040e+09</td>\n",
              "      <td>0.0</td>\n",
              "      <td>105.0</td>\n",
              "      <td>False</td>\n",
              "      <td>NaN</td>\n",
              "      <td>NaN</td>\n",
              "      <td>...</td>\n",
              "      <td>NaN</td>\n",
              "      <td>True</td>\n",
              "      <td>9.193076e+17</td>\n",
              "      <td>8.504084e+17</td>\n",
              "      <td>Fash the Nation Episode 92: Immoral High Groun...</td>\n",
              "      <td>1.508026e+09</td>\n",
              "      <td>212.0</td>\n",
              "      <td>105.0</td>\n",
              "      <td>2017-10-15 03:51:46</td>\n",
              "      <td>10</td>\n",
              "    </tr>\n",
              "  </tbody>\n",
              "</table>\n",
              "<p>5 rows × 26 columns</p>\n",
              "</div>\n",
              "      <button class=\"colab-df-convert\" onclick=\"convertToInteractive('df-bb4b49fe-ce56-40ba-aaca-fc31636f4b91')\"\n",
              "              title=\"Convert this dataframe to an interactive table.\"\n",
              "              style=\"display:none;\">\n",
              "        \n",
              "  <svg xmlns=\"http://www.w3.org/2000/svg\" height=\"24px\"viewBox=\"0 0 24 24\"\n",
              "       width=\"24px\">\n",
              "    <path d=\"M0 0h24v24H0V0z\" fill=\"none\"/>\n",
              "    <path d=\"M18.56 5.44l.94 2.06.94-2.06 2.06-.94-2.06-.94-.94-2.06-.94 2.06-2.06.94zm-11 1L8.5 8.5l.94-2.06 2.06-.94-2.06-.94L8.5 2.5l-.94 2.06-2.06.94zm10 10l.94 2.06.94-2.06 2.06-.94-2.06-.94-.94-2.06-.94 2.06-2.06.94z\"/><path d=\"M17.41 7.96l-1.37-1.37c-.4-.4-.92-.59-1.43-.59-.52 0-1.04.2-1.43.59L10.3 9.45l-7.72 7.72c-.78.78-.78 2.05 0 2.83L4 21.41c.39.39.9.59 1.41.59.51 0 1.02-.2 1.41-.59l7.78-7.78 2.81-2.81c.8-.78.8-2.07 0-2.86zM5.41 20L4 18.59l7.72-7.72 1.47 1.35L5.41 20z\"/>\n",
              "  </svg>\n",
              "      </button>\n",
              "      \n",
              "  <style>\n",
              "    .colab-df-container {\n",
              "      display:flex;\n",
              "      flex-wrap:wrap;\n",
              "      gap: 12px;\n",
              "    }\n",
              "\n",
              "    .colab-df-convert {\n",
              "      background-color: #E8F0FE;\n",
              "      border: none;\n",
              "      border-radius: 50%;\n",
              "      cursor: pointer;\n",
              "      display: none;\n",
              "      fill: #1967D2;\n",
              "      height: 32px;\n",
              "      padding: 0 0 0 0;\n",
              "      width: 32px;\n",
              "    }\n",
              "\n",
              "    .colab-df-convert:hover {\n",
              "      background-color: #E2EBFA;\n",
              "      box-shadow: 0px 1px 2px rgba(60, 64, 67, 0.3), 0px 1px 3px 1px rgba(60, 64, 67, 0.15);\n",
              "      fill: #174EA6;\n",
              "    }\n",
              "\n",
              "    [theme=dark] .colab-df-convert {\n",
              "      background-color: #3B4455;\n",
              "      fill: #D2E3FC;\n",
              "    }\n",
              "\n",
              "    [theme=dark] .colab-df-convert:hover {\n",
              "      background-color: #434B5C;\n",
              "      box-shadow: 0px 1px 3px 1px rgba(0, 0, 0, 0.15);\n",
              "      filter: drop-shadow(0px 1px 2px rgba(0, 0, 0, 0.3));\n",
              "      fill: #FFFFFF;\n",
              "    }\n",
              "  </style>\n",
              "\n",
              "      <script>\n",
              "        const buttonEl =\n",
              "          document.querySelector('#df-bb4b49fe-ce56-40ba-aaca-fc31636f4b91 button.colab-df-convert');\n",
              "        buttonEl.style.display =\n",
              "          google.colab.kernel.accessAllowed ? 'block' : 'none';\n",
              "\n",
              "        async function convertToInteractive(key) {\n",
              "          const element = document.querySelector('#df-bb4b49fe-ce56-40ba-aaca-fc31636f4b91');\n",
              "          const dataTable =\n",
              "            await google.colab.kernel.invokeFunction('convertToInteractive',\n",
              "                                                     [key], {});\n",
              "          if (!dataTable) return;\n",
              "\n",
              "          const docLinkHtml = 'Like what you see? Visit the ' +\n",
              "            '<a target=\"_blank\" href=https://colab.research.google.com/notebooks/data_table.ipynb>data table notebook</a>'\n",
              "            + ' to learn more about interactive tables.';\n",
              "          element.innerHTML = '';\n",
              "          dataTable['output_type'] = 'display_data';\n",
              "          await google.colab.output.renderOutput(dataTable, element);\n",
              "          const docLink = document.createElement('div');\n",
              "          docLink.innerHTML = docLinkHtml;\n",
              "          element.appendChild(docLink);\n",
              "        }\n",
              "      </script>\n",
              "    </div>\n",
              "  </div>\n",
              "  "
            ]
          },
          "metadata": {},
          "execution_count": 9
        }
      ]
    },
    {
      "cell_type": "code",
      "source": [
        "groupDf = df[['user_id',  'qt_flag', 'rt_flag','month']]"
      ],
      "metadata": {
        "id": "YSSzrdYUtNbL"
      },
      "execution_count": 10,
      "outputs": []
    },
    {
      "cell_type": "code",
      "source": [
        "# create a new column \"category\" based on the values of 'qt_flag' and 'rt_flag'\n",
        "groupDf['category'] = 0\n",
        "groupDf.loc[(groupDf['qt_flag'] == False) & (groupDf['rt_flag'] == False), 'category'] = 1\n",
        "groupDf.loc[(groupDf['qt_flag'] == False) & (groupDf['rt_flag'] == True), 'category'] = 2\n",
        "groupDf.loc[(groupDf['qt_flag'] == True) & (groupDf['rt_flag'] == False), 'category'] = 3\n",
        "groupDf.loc[(groupDf['qt_flag'] == True) & (groupDf['rt_flag'] == True), 'category'] = 7\n",
        "groupDf.loc[(groupDf['qt_flag'] == True) & (groupDf['rt_flag'] == True) & (groupDf.duplicated(subset='user_id', keep=False)), 'category'] = 4\n",
        "groupDf.loc[(groupDf['qt_flag'] == True) & (groupDf['rt_flag'] == True) & (groupDf.duplicated(subset='user_id', keep=False)), 'category'] = 5\n",
        "groupDf.loc[(groupDf['qt_flag'] == True) & (groupDf['rt_flag'] == True) & (groupDf.duplicated(subset='user_id', keep=False)), 'category'] = 6"
      ],
      "metadata": {
        "id": "Vv3paGw9wRnU"
      },
      "execution_count": 11,
      "outputs": []
    },
    {
      "cell_type": "code",
      "source": [
        "# create a pivot table to count the number of unique users for each category for each month\n",
        "pivot_table = pd.pivot_table(groupDf, index='month', columns='category', values='user_id', aggfunc='nunique')"
      ],
      "metadata": {
        "id": "46ypSx7uwTzj"
      },
      "execution_count": 12,
      "outputs": []
    },
    {
      "cell_type": "code",
      "source": [
        "# plot the pivot table\n",
        "pivot_table.plot()\n",
        "\n",
        "plt.xlabel(\"Month\")\n",
        "plt.ylabel(\"Number of unique users\")\n",
        "plt.title(\"Number of unique users by category and month\")\n",
        "plt.legend([\"original\", \"retweet\", \"quoted tweet\", \"original & retweet\", \"original & quoted\", \"quoted & retweet\", \"original, quoted & retweet\"])\n",
        "\n",
        "plt.show()"
      ],
      "metadata": {
        "colab": {
          "base_uri": "https://localhost:8080/",
          "height": 295
        },
        "id": "x_ykSyKDweqV",
        "outputId": "c3758193-2197-4224-c208-3cefea0f995b"
      },
      "execution_count": 13,
      "outputs": [
        {
          "output_type": "display_data",
          "data": {
            "text/plain": [
              "<Figure size 432x288 with 1 Axes>"
            ],
            "image/png": "[encoded data removed]"
          },
          "metadata": {
            "needs_background": "light"
          }
        }
      ]
    }
  ]
}