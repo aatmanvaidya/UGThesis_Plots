{
  "nbformat": 4,
  "nbformat_minor": 0,
  "metadata": {
    "colab": {
      "provenance": []
    },
    "kernelspec": {
      "name": "python3",
      "display_name": "Python 3"
    },
    "language_info": {
      "name": "python"
    }
  },
  "cells": [
    {
      "cell_type": "code",
      "execution_count": 1,
      "metadata": {
        "colab": {
          "base_uri": "https://localhost:8080/"
        },
        "id": "9WQIjuHts654",
        "outputId": "1c2abe5a-37f9-4480-bb09-1c26bf59734c"
      },
      "outputs": [
        {
          "output_type": "stream",
          "name": "stdout",
          "text": [
            "Mounted at /content/gdrive\n"
          ]
        }
      ],
      "source": [
        "from google.colab import drive\n",
        "drive.mount('/content/gdrive')"
      ]
    },
    {
      "cell_type": "code",
      "source": [
        "import pandas as pd\n",
        "import matplotlib.pyplot as plt\n",
        "import numpy as np\n",
        "from datetime import datetime\n",
        "import seaborn as sns\n",
        "import warnings\n",
        "warnings.filterwarnings(\"ignore\")"
      ],
      "metadata": {
        "id": "tVmlzF7gs9hg"
      },
      "execution_count": 2,
      "outputs": []
    },
    {
      "cell_type": "code",
      "source": [
        "df = pd.read_csv(\"/content/gdrive/My Drive/tweetsConvereted2017_toxicPerspectiveScore.csv\")"
      ],
      "metadata": {
        "id": "YJWvLAG7s-c7"
      },
      "execution_count": 3,
      "outputs": []
    },
    {
      "cell_type": "code",
      "source": [
        "df[\"month\"] = df[\"NewDateFormat\"].apply(lambda x: datetime.strptime(x, \"%Y-%m-%d %H:%M:%S\").strftime(\"%m\"))"
      ],
      "metadata": {
        "id": "ICtmbLQLtMLq"
      },
      "execution_count": 4,
      "outputs": []
    },
    {
      "cell_type": "code",
      "source": [
        "df.head()"
      ],
      "metadata": {
        "colab": {
          "base_uri": "https://localhost:8080/",
          "height": 525
        },
        "id": "sFOKJkmADkbT",
        "outputId": "71cc16e8-7113-41ff-f0f5-a52a81e43cd8"
      },
      "execution_count": 5,
      "outputs": [
        {
          "output_type": "execute_result",
          "data": {
            "text/plain": [
              "              user_id     screen_name            tweet_id  \\\n",
              "0          4746709454      just_jusss  911477065328631809   \n",
              "1          4746709454      just_jusss  911399501264384001   \n",
              "2          4746709454      just_jusss  911343372282900480   \n",
              "3  773711528398848000  CassandraCohan  923729371235586049   \n",
              "4  773711528398848000  CassandraCohan  923689995763843072   \n",
              "\n",
              "                                          tweet_text  tweet_creation  \\\n",
              "0  Having a strict dad, if I ask to go out one we...    1.506159e+09   \n",
              "1  Lookin at all these couples like MBN🤧 but then...    1.506140e+09   \n",
              "2  Being a senior kinda sucks when most of your f...    1.506127e+09   \n",
              "3                          @periwinkledink So pretty    1.509076e+09   \n",
              "4  @readyforramos It’s 2017 we go to church and pray    1.509067e+09   \n",
              "\n",
              "   tweet_fav  tweet_rt  rp_flag           rp_status       rp_user  ...  \\\n",
              "0        1.0       0.0    False                 NaN           NaN  ...   \n",
              "1        2.0       0.0    False                 NaN           NaN  ...   \n",
              "2        3.0       0.0    False                 NaN           NaN  ...   \n",
              "3        1.0       0.0     True  923705106264027136  3.434322e+09  ...   \n",
              "4        3.0       0.0     True  923689936406044673  2.633570e+09  ...   \n",
              "\n",
              "   rt_status_id  rt_user_id  rt_text rt_creation  rt_fav  rt_rt  Toxicity  \\\n",
              "0           NaN         NaN      NaN         NaN     NaN    NaN  0.052305   \n",
              "1           NaN         NaN      NaN         NaN     NaN    NaN  0.068171   \n",
              "2           NaN         NaN      NaN         NaN     NaN    NaN  0.518691   \n",
              "3           NaN         NaN      NaN         NaN     NaN    NaN  0.010681   \n",
              "4           NaN         NaN      NaN         NaN     NaN    NaN  0.018975   \n",
              "\n",
              "   Severe Toxicity        NewDateFormat  month  \n",
              "0         0.002346  2017-09-23 09:27:21     09  \n",
              "1         0.003433  2017-09-23 04:19:08     09  \n",
              "2         0.023787  2017-09-23 00:36:06     09  \n",
              "3         0.002117  2017-10-27 03:53:38     10  \n",
              "4         0.001316  2017-10-27 01:17:10     10  \n",
              "\n",
              "[5 rows x 28 columns]"
            ],
            "text/html": [
              "\n",
              "  <div id=\"df-639e36b2-d1d6-44cb-96e1-a20620167acf\">\n",
              "    <div class=\"colab-df-container\">\n",
              "      <div>\n",
              "<style scoped>\n",
              "    .dataframe tbody tr th:only-of-type {\n",
              "        vertical-align: middle;\n",
              "    }\n",
              "\n",
              "    .dataframe tbody tr th {\n",
              "        vertical-align: top;\n",
              "    }\n",
              "\n",
              "    .dataframe thead th {\n",
              "        text-align: right;\n",
              "    }\n",
              "</style>\n",
              "<table border=\"1\" class=\"dataframe\">\n",
              "  <thead>\n",
              "    <tr style=\"text-align: right;\">\n",
              "      <th></th>\n",
              "      <th>user_id</th>\n",
              "      <th>screen_name</th>\n",
              "      <th>tweet_id</th>\n",
              "      <th>tweet_text</th>\n",
              "      <th>tweet_creation</th>\n",
              "      <th>tweet_fav</th>\n",
              "      <th>tweet_rt</th>\n",
              "      <th>rp_flag</th>\n",
              "      <th>rp_status</th>\n",
              "      <th>rp_user</th>\n",
              "      <th>...</th>\n",
              "      <th>rt_status_id</th>\n",
              "      <th>rt_user_id</th>\n",
              "      <th>rt_text</th>\n",
              "      <th>rt_creation</th>\n",
              "      <th>rt_fav</th>\n",
              "      <th>rt_rt</th>\n",
              "      <th>Toxicity</th>\n",
              "      <th>Severe Toxicity</th>\n",
              "      <th>NewDateFormat</th>\n",
              "      <th>month</th>\n",
              "    </tr>\n",
              "  </thead>\n",
              "  <tbody>\n",
              "    <tr>\n",
              "      <th>0</th>\n",
              "      <td>4746709454</td>\n",
              "      <td>just_jusss</td>\n",
              "      <td>911477065328631809</td>\n",
              "      <td>Having a strict dad, if I ask to go out one we...</td>\n",
              "      <td>1.506159e+09</td>\n",
              "      <td>1.0</td>\n",
              "      <td>0.0</td>\n",
              "      <td>False</td>\n",
              "      <td>NaN</td>\n",
              "      <td>NaN</td>\n",
              "      <td>...</td>\n",
              "      <td>NaN</td>\n",
              "      <td>NaN</td>\n",
              "      <td>NaN</td>\n",
              "      <td>NaN</td>\n",
              "      <td>NaN</td>\n",
              "      <td>NaN</td>\n",
              "      <td>0.052305</td>\n",
              "      <td>0.002346</td>\n",
              "      <td>2017-09-23 09:27:21</td>\n",
              "      <td>09</td>\n",
              "    </tr>\n",
              "    <tr>\n",
              "      <th>1</th>\n",
              "      <td>4746709454</td>\n",
              "      <td>just_jusss</td>\n",
              "      <td>911399501264384001</td>\n",
              "      <td>Lookin at all these couples like MBN🤧 but then...</td>\n",
              "      <td>1.506140e+09</td>\n",
              "      <td>2.0</td>\n",
              "      <td>0.0</td>\n",
              "      <td>False</td>\n",
              "      <td>NaN</td>\n",
              "      <td>NaN</td>\n",
              "      <td>...</td>\n",
              "      <td>NaN</td>\n",
              "      <td>NaN</td>\n",
              "      <td>NaN</td>\n",
              "      <td>NaN</td>\n",
              "      <td>NaN</td>\n",
              "      <td>NaN</td>\n",
              "      <td>0.068171</td>\n",
              "      <td>0.003433</td>\n",
              "      <td>2017-09-23 04:19:08</td>\n",
              "      <td>09</td>\n",
              "    </tr>\n",
              "    <tr>\n",
              "      <th>2</th>\n",
              "      <td>4746709454</td>\n",
              "      <td>just_jusss</td>\n",
              "      <td>911343372282900480</td>\n",
              "      <td>Being a senior kinda sucks when most of your f...</td>\n",
              "      <td>1.506127e+09</td>\n",
              "      <td>3.0</td>\n",
              "      <td>0.0</td>\n",
              "      <td>False</td>\n",
              "      <td>NaN</td>\n",
              "      <td>NaN</td>\n",
              "      <td>...</td>\n",
              "      <td>NaN</td>\n",
              "      <td>NaN</td>\n",
              "      <td>NaN</td>\n",
              "      <td>NaN</td>\n",
              "      <td>NaN</td>\n",
              "      <td>NaN</td>\n",
              "      <td>0.518691</td>\n",
              "      <td>0.023787</td>\n",
              "      <td>2017-09-23 00:36:06</td>\n",
              "      <td>09</td>\n",
              "    </tr>\n",
              "    <tr>\n",
              "      <th>3</th>\n",
              "      <td>773711528398848000</td>\n",
              "      <td>CassandraCohan</td>\n",
              "      <td>923729371235586049</td>\n",
              "      <td>@periwinkledink So pretty</td>\n",
              "      <td>1.509076e+09</td>\n",
              "      <td>1.0</td>\n",
              "      <td>0.0</td>\n",
              "      <td>True</td>\n",
              "      <td>923705106264027136</td>\n",
              "      <td>3.434322e+09</td>\n",
              "      <td>...</td>\n",
              "      <td>NaN</td>\n",
              "      <td>NaN</td>\n",
              "      <td>NaN</td>\n",
              "      <td>NaN</td>\n",
              "      <td>NaN</td>\n",
              "      <td>NaN</td>\n",
              "      <td>0.010681</td>\n",
              "      <td>0.002117</td>\n",
              "      <td>2017-10-27 03:53:38</td>\n",
              "      <td>10</td>\n",
              "    </tr>\n",
              "    <tr>\n",
              "      <th>4</th>\n",
              "      <td>773711528398848000</td>\n",
              "      <td>CassandraCohan</td>\n",
              "      <td>923689995763843072</td>\n",
              "      <td>@readyforramos It’s 2017 we go to church and pray</td>\n",
              "      <td>1.509067e+09</td>\n",
              "      <td>3.0</td>\n",
              "      <td>0.0</td>\n",
              "      <td>True</td>\n",
              "      <td>923689936406044673</td>\n",
              "      <td>2.633570e+09</td>\n",
              "      <td>...</td>\n",
              "      <td>NaN</td>\n",
              "      <td>NaN</td>\n",
              "      <td>NaN</td>\n",
              "      <td>NaN</td>\n",
              "      <td>NaN</td>\n",
              "      <td>NaN</td>\n",
              "      <td>0.018975</td>\n",
              "      <td>0.001316</td>\n",
              "      <td>2017-10-27 01:17:10</td>\n",
              "      <td>10</td>\n",
              "    </tr>\n",
              "  </tbody>\n",
              "</table>\n",
              "<p>5 rows × 28 columns</p>\n",
              "</div>\n",
              "      <button class=\"colab-df-convert\" onclick=\"convertToInteractive('df-639e36b2-d1d6-44cb-96e1-a20620167acf')\"\n",
              "              title=\"Convert this dataframe to an interactive table.\"\n",
              "              style=\"display:none;\">\n",
              "        \n",
              "  <svg xmlns=\"http://www.w3.org/2000/svg\" height=\"24px\"viewBox=\"0 0 24 24\"\n",
              "       width=\"24px\">\n",
              "    <path d=\"M0 0h24v24H0V0z\" fill=\"none\"/>\n",
              "    <path d=\"M18.56 5.44l.94 2.06.94-2.06 2.06-.94-2.06-.94-.94-2.06-.94 2.06-2.06.94zm-11 1L8.5 8.5l.94-2.06 2.06-.94-2.06-.94L8.5 2.5l-.94 2.06-2.06.94zm10 10l.94 2.06.94-2.06 2.06-.94-2.06-.94-.94-2.06-.94 2.06-2.06.94z\"/><path d=\"M17.41 7.96l-1.37-1.37c-.4-.4-.92-.59-1.43-.59-.52 0-1.04.2-1.43.59L10.3 9.45l-7.72 7.72c-.78.78-.78 2.05 0 2.83L4 21.41c.39.39.9.59 1.41.59.51 0 1.02-.2 1.41-.59l7.78-7.78 2.81-2.81c.8-.78.8-2.07 0-2.86zM5.41 20L4 18.59l7.72-7.72 1.47 1.35L5.41 20z\"/>\n",
              "  </svg>\n",
              "      </button>\n",
              "      \n",
              "  <style>\n",
              "    .colab-df-container {\n",
              "      display:flex;\n",
              "      flex-wrap:wrap;\n",
              "      gap: 12px;\n",
              "    }\n",
              "\n",
              "    .colab-df-convert {\n",
              "      background-color: #E8F0FE;\n",
              "      border: none;\n",
              "      border-radius: 50%;\n",
              "      cursor: pointer;\n",
              "      display: none;\n",
              "      fill: #1967D2;\n",
              "      height: 32px;\n",
              "      padding: 0 0 0 0;\n",
              "      width: 32px;\n",
              "    }\n",
              "\n",
              "    .colab-df-convert:hover {\n",
              "      background-color: #E2EBFA;\n",
              "      box-shadow: 0px 1px 2px rgba(60, 64, 67, 0.3), 0px 1px 3px 1px rgba(60, 64, 67, 0.15);\n",
              "      fill: #174EA6;\n",
              "    }\n",
              "\n",
              "    [theme=dark] .colab-df-convert {\n",
              "      background-color: #3B4455;\n",
              "      fill: #D2E3FC;\n",
              "    }\n",
              "\n",
              "    [theme=dark] .colab-df-convert:hover {\n",
              "      background-color: #434B5C;\n",
              "      box-shadow: 0px 1px 3px 1px rgba(0, 0, 0, 0.15);\n",
              "      filter: drop-shadow(0px 1px 2px rgba(0, 0, 0, 0.3));\n",
              "      fill: #FFFFFF;\n",
              "    }\n",
              "  </style>\n",
              "\n",
              "      <script>\n",
              "        const buttonEl =\n",
              "          document.querySelector('#df-639e36b2-d1d6-44cb-96e1-a20620167acf button.colab-df-convert');\n",
              "        buttonEl.style.display =\n",
              "          google.colab.kernel.accessAllowed ? 'block' : 'none';\n",
              "\n",
              "        async function convertToInteractive(key) {\n",
              "          const element = document.querySelector('#df-639e36b2-d1d6-44cb-96e1-a20620167acf');\n",
              "          const dataTable =\n",
              "            await google.colab.kernel.invokeFunction('convertToInteractive',\n",
              "                                                     [key], {});\n",
              "          if (!dataTable) return;\n",
              "\n",
              "          const docLinkHtml = 'Like what you see? Visit the ' +\n",
              "            '<a target=\"_blank\" href=https://colab.research.google.com/notebooks/data_table.ipynb>data table notebook</a>'\n",
              "            + ' to learn more about interactive tables.';\n",
              "          element.innerHTML = '';\n",
              "          dataTable['output_type'] = 'display_data';\n",
              "          await google.colab.output.renderOutput(dataTable, element);\n",
              "          const docLink = document.createElement('div');\n",
              "          docLink.innerHTML = docLinkHtml;\n",
              "          element.appendChild(docLink);\n",
              "        }\n",
              "      </script>\n",
              "    </div>\n",
              "  </div>\n",
              "  "
            ]
          },
          "metadata": {},
          "execution_count": 5
        }
      ]
    },
    {
      "cell_type": "code",
      "source": [
        "groupDf = df[['user_id', 'Toxicity','qt_flag', 'rt_flag','month']]"
      ],
      "metadata": {
        "id": "YSSzrdYUtNbL"
      },
      "execution_count": 6,
      "outputs": []
    },
    {
      "cell_type": "code",
      "source": [
        "groupDf['Toxicity'] = groupDf['Toxicity'] * 10\n",
        "groupDf['Toxicity'] = (groupDf['Toxicity'].apply(np.ceil)) / 10"
      ],
      "metadata": {
        "id": "EOnHhWhaWBPf"
      },
      "execution_count": 7,
      "outputs": []
    },
    {
      "cell_type": "code",
      "source": [
        "groupDf.head()"
      ],
      "metadata": {
        "colab": {
          "base_uri": "https://localhost:8080/",
          "height": 206
        },
        "id": "9vRXg3WDWJCL",
        "outputId": "19c32d50-f681-4d28-e584-9457c463b73d"
      },
      "execution_count": 8,
      "outputs": [
        {
          "output_type": "execute_result",
          "data": {
            "text/plain": [
              "              user_id  Toxicity  qt_flag  rt_flag month\n",
              "0          4746709454       0.1    False    False    09\n",
              "1          4746709454       0.1    False    False    09\n",
              "2          4746709454       0.6    False    False    09\n",
              "3  773711528398848000       0.1    False    False    10\n",
              "4  773711528398848000       0.1    False    False    10"
            ],
            "text/html": [
              "\n",
              "  <div id=\"df-766fa6ab-1d67-4683-922b-1c57fc68536c\">\n",
              "    <div class=\"colab-df-container\">\n",
              "      <div>\n",
              "<style scoped>\n",
              "    .dataframe tbody tr th:only-of-type {\n",
              "        vertical-align: middle;\n",
              "    }\n",
              "\n",
              "    .dataframe tbody tr th {\n",
              "        vertical-align: top;\n",
              "    }\n",
              "\n",
              "    .dataframe thead th {\n",
              "        text-align: right;\n",
              "    }\n",
              "</style>\n",
              "<table border=\"1\" class=\"dataframe\">\n",
              "  <thead>\n",
              "    <tr style=\"text-align: right;\">\n",
              "      <th></th>\n",
              "      <th>user_id</th>\n",
              "      <th>Toxicity</th>\n",
              "      <th>qt_flag</th>\n",
              "      <th>rt_flag</th>\n",
              "      <th>month</th>\n",
              "    </tr>\n",
              "  </thead>\n",
              "  <tbody>\n",
              "    <tr>\n",
              "      <th>0</th>\n",
              "      <td>4746709454</td>\n",
              "      <td>0.1</td>\n",
              "      <td>False</td>\n",
              "      <td>False</td>\n",
              "      <td>09</td>\n",
              "    </tr>\n",
              "    <tr>\n",
              "      <th>1</th>\n",
              "      <td>4746709454</td>\n",
              "      <td>0.1</td>\n",
              "      <td>False</td>\n",
              "      <td>False</td>\n",
              "      <td>09</td>\n",
              "    </tr>\n",
              "    <tr>\n",
              "      <th>2</th>\n",
              "      <td>4746709454</td>\n",
              "      <td>0.6</td>\n",
              "      <td>False</td>\n",
              "      <td>False</td>\n",
              "      <td>09</td>\n",
              "    </tr>\n",
              "    <tr>\n",
              "      <th>3</th>\n",
              "      <td>773711528398848000</td>\n",
              "      <td>0.1</td>\n",
              "      <td>False</td>\n",
              "      <td>False</td>\n",
              "      <td>10</td>\n",
              "    </tr>\n",
              "    <tr>\n",
              "      <th>4</th>\n",
              "      <td>773711528398848000</td>\n",
              "      <td>0.1</td>\n",
              "      <td>False</td>\n",
              "      <td>False</td>\n",
              "      <td>10</td>\n",
              "    </tr>\n",
              "  </tbody>\n",
              "</table>\n",
              "</div>\n",
              "      <button class=\"colab-df-convert\" onclick=\"convertToInteractive('df-766fa6ab-1d67-4683-922b-1c57fc68536c')\"\n",
              "              title=\"Convert this dataframe to an interactive table.\"\n",
              "              style=\"display:none;\">\n",
              "        \n",
              "  <svg xmlns=\"http://www.w3.org/2000/svg\" height=\"24px\"viewBox=\"0 0 24 24\"\n",
              "       width=\"24px\">\n",
              "    <path d=\"M0 0h24v24H0V0z\" fill=\"none\"/>\n",
              "    <path d=\"M18.56 5.44l.94 2.06.94-2.06 2.06-.94-2.06-.94-.94-2.06-.94 2.06-2.06.94zm-11 1L8.5 8.5l.94-2.06 2.06-.94-2.06-.94L8.5 2.5l-.94 2.06-2.06.94zm10 10l.94 2.06.94-2.06 2.06-.94-2.06-.94-.94-2.06-.94 2.06-2.06.94z\"/><path d=\"M17.41 7.96l-1.37-1.37c-.4-.4-.92-.59-1.43-.59-.52 0-1.04.2-1.43.59L10.3 9.45l-7.72 7.72c-.78.78-.78 2.05 0 2.83L4 21.41c.39.39.9.59 1.41.59.51 0 1.02-.2 1.41-.59l7.78-7.78 2.81-2.81c.8-.78.8-2.07 0-2.86zM5.41 20L4 18.59l7.72-7.72 1.47 1.35L5.41 20z\"/>\n",
              "  </svg>\n",
              "      </button>\n",
              "      \n",
              "  <style>\n",
              "    .colab-df-container {\n",
              "      display:flex;\n",
              "      flex-wrap:wrap;\n",
              "      gap: 12px;\n",
              "    }\n",
              "\n",
              "    .colab-df-convert {\n",
              "      background-color: #E8F0FE;\n",
              "      border: none;\n",
              "      border-radius: 50%;\n",
              "      cursor: pointer;\n",
              "      display: none;\n",
              "      fill: #1967D2;\n",
              "      height: 32px;\n",
              "      padding: 0 0 0 0;\n",
              "      width: 32px;\n",
              "    }\n",
              "\n",
              "    .colab-df-convert:hover {\n",
              "      background-color: #E2EBFA;\n",
              "      box-shadow: 0px 1px 2px rgba(60, 64, 67, 0.3), 0px 1px 3px 1px rgba(60, 64, 67, 0.15);\n",
              "      fill: #174EA6;\n",
              "    }\n",
              "\n",
              "    [theme=dark] .colab-df-convert {\n",
              "      background-color: #3B4455;\n",
              "      fill: #D2E3FC;\n",
              "    }\n",
              "\n",
              "    [theme=dark] .colab-df-convert:hover {\n",
              "      background-color: #434B5C;\n",
              "      box-shadow: 0px 1px 3px 1px rgba(0, 0, 0, 0.15);\n",
              "      filter: drop-shadow(0px 1px 2px rgba(0, 0, 0, 0.3));\n",
              "      fill: #FFFFFF;\n",
              "    }\n",
              "  </style>\n",
              "\n",
              "      <script>\n",
              "        const buttonEl =\n",
              "          document.querySelector('#df-766fa6ab-1d67-4683-922b-1c57fc68536c button.colab-df-convert');\n",
              "        buttonEl.style.display =\n",
              "          google.colab.kernel.accessAllowed ? 'block' : 'none';\n",
              "\n",
              "        async function convertToInteractive(key) {\n",
              "          const element = document.querySelector('#df-766fa6ab-1d67-4683-922b-1c57fc68536c');\n",
              "          const dataTable =\n",
              "            await google.colab.kernel.invokeFunction('convertToInteractive',\n",
              "                                                     [key], {});\n",
              "          if (!dataTable) return;\n",
              "\n",
              "          const docLinkHtml = 'Like what you see? Visit the ' +\n",
              "            '<a target=\"_blank\" href=https://colab.research.google.com/notebooks/data_table.ipynb>data table notebook</a>'\n",
              "            + ' to learn more about interactive tables.';\n",
              "          element.innerHTML = '';\n",
              "          dataTable['output_type'] = 'display_data';\n",
              "          await google.colab.output.renderOutput(dataTable, element);\n",
              "          const docLink = document.createElement('div');\n",
              "          docLink.innerHTML = docLinkHtml;\n",
              "          element.appendChild(docLink);\n",
              "        }\n",
              "      </script>\n",
              "    </div>\n",
              "  </div>\n",
              "  "
            ]
          },
          "metadata": {},
          "execution_count": 8
        }
      ]
    },
    {
      "cell_type": "code",
      "source": [
        "groupDf['Toxicity'].unique()"
      ],
      "metadata": {
        "colab": {
          "base_uri": "https://localhost:8080/"
        },
        "id": "NfylWi4qWLed",
        "outputId": "80a698eb-e898-4fb5-c575-9528bdd6e8bb"
      },
      "execution_count": 10,
      "outputs": [
        {
          "output_type": "execute_result",
          "data": {
            "text/plain": [
              "array([0.1, 0.6, 0.5, 0.3, 0.2, 0.8, 0.7, 0.4, 0.9, 1. , 0. ])"
            ]
          },
          "metadata": {},
          "execution_count": 10
        }
      ]
    },
    {
      "cell_type": "code",
      "source": [
        "groupDf['Toxicity'].value_counts()"
      ],
      "metadata": {
        "colab": {
          "base_uri": "https://localhost:8080/"
        },
        "id": "rFf9xrRIWbrx",
        "outputId": "96d027e1-45ea-40a9-a7b4-86e2b139dbed"
      },
      "execution_count": 12,
      "outputs": [
        {
          "output_type": "execute_result",
          "data": {
            "text/plain": [
              "0.1    5017878\n",
              "0.2     670714\n",
              "0.3     315118\n",
              "0.4     234464\n",
              "0.5     118229\n",
              "0.7      73567\n",
              "0.6      72607\n",
              "0.8      57348\n",
              "0.9      36135\n",
              "1.0      14059\n",
              "0.0         13\n",
              "Name: Toxicity, dtype: int64"
            ]
          },
          "metadata": {},
          "execution_count": 12
        }
      ]
    },
    {
      "cell_type": "code",
      "source": [
        "monthDf = groupDf[groupDf['month'] == 1]"
      ],
      "metadata": {
        "id": "6kKWPdczE8_c"
      },
      "execution_count": 13,
      "outputs": []
    },
    {
      "cell_type": "code",
      "source": [],
      "metadata": {
        "id": "E3md2FbtWlvu"
      },
      "execution_count": null,
      "outputs": []
    },
    {
      "cell_type": "code",
      "source": [
        "'''\n",
        "I have a data frame in python pandas with the following columns.\n",
        "groupDf = df[['user_id', 'Toxicity','qt_flag', 'rt_flag','month']]\n",
        "\n",
        "The user_id contains the id's of all the users\n",
        "The Toxicity contains float values between 0-1\n",
        "The qt_flag says whether the tweet is a quoted tweet or not. The values of the column are True and False. \n",
        "The rt_flag says whether the tweet is a retweet or not. The values of the column are True and False. \n",
        "The month contains the number of month in which the tweet was created. The range of the values in month is from 1-10\n",
        "\n",
        "I am categorizing the tweets in 3 categories. \n",
        "1) original\n",
        "2) retweet\n",
        "3) quoted tweet\n",
        "\n",
        "A tweet is original if qt_flag = False and rt_flag = False\n",
        "A tweet is retweet if qt_flag = False and rt_flag = True\n",
        "A tweet is quoted tweet if qt_flag = True and rt_flag = False\n",
        "\n",
        "A user has multiple tweets in my dataset, each user will have done different types of tweets. I want to count how many users have for each month. I am listing the categories below:\n",
        "1) original tweets - i.e all the tweets done by the user will only be original\n",
        "2) retweets - i.e all the tweets done by the user will only be quoted.\n",
        "3) quoted - i.e all the tweets done by the user will only be quoted. \n",
        "4) original and retweet - i.e all the tweets done by the user will only be of the type original and retweet\n",
        "5) original and quoted - i.e all the tweets done by the user will only be of the type original and quoted.\n",
        "6) quoted and retweet - i.e all the tweets done by the user will only be of the type quoted and retweet\n",
        "7) original, quoted and retweet - i.e. i.e all the tweets done by the user will only be of the type original and retweet\n",
        "\n",
        "This is how I want the categorization to be. For example, if \n",
        "- user 1 has 10 tweets and out of which, 2 tweets are quoted and 8 tweets are original, then the user would go into the category of 'original and quoted'\n",
        "- if user 2 has 7 tweets out of which 3 are retweet and 4 are quoted, then the user would go into the category of 'quoted and retweet'\n",
        "- if user 3 has 20 tweets out of which 10 tweets are original, 5 are retweet and 5 are quoted, then the user would go into the category of 'original, quoted and retweet'\n",
        "- if user 4 has 15 tweets out of which 10 retweets and 5 quoted tweets, then the user would go into the category of 'quoted and retweet'\n",
        "\n",
        "Now I want a specific plot for each month. I have 10 months in my dataframe. \n",
        "So lets say I want to build a plot for month 1\n",
        "I would first filter the dataframe for month 1. \n",
        "The plot that I want is \n",
        "on x axis - Toxicity, specifically buckets of toxicity (like 0-.1, .1-.2 and so on)\n",
        "on y axis - the number of users for all 7 categories. \n",
        "\n",
        "so what should the plot look like, I will talk about in more detail. \n",
        "lets say on the x axis, we look at the first bucket of toxicity i.e 0-0.1 which means for all the tweets of toxicity between the range of 0-0.1 will be plotted on the first bucket, and on the y axis, there will be the number of unique users for all the 7 combinations. \n",
        "so each plot would have 7 combinations plotted on the graph with 7 different colors.\n",
        "\n",
        "'''"
      ],
      "metadata": {
        "colab": {
          "base_uri": "https://localhost:8080/",
          "height": 123
        },
        "id": "UvL63o_kE-Qy",
        "outputId": "883a2ebe-146e-4b68-a602-a11323563e92"
      },
      "execution_count": 9,
      "outputs": [
        {
          "output_type": "execute_result",
          "data": {
            "text/plain": [
              "\"\\nI have a data frame in python pandas with the following columns.\\ngroupDf = df[['user_id', 'Toxicity','qt_flag', 'rt_flag','month']]\\n\\nThe user_id contains the id's of all the users\\nThe Toxicity contains float values between 0-1\\nThe qt_flag says whether the tweet is a quoted tweet or not. The values of the column are True and False. \\nThe rt_flag says whether the tweet is a retweet or not. The values of the column are True and False. \\nThe month contains the number of month in which the tweet was created. The range of the values in month is from 1-10\\n\\nI am categorizing the tweets in 3 categories. \\n1) original\\n2) retweet\\n3) quoted tweet\\n\\nA tweet is original if qt_flag = False and rt_flag = False\\nA tweet is retweet if qt_flag = False and rt_flag = True\\nA tweet is quoted tweet if qt_flag = True and rt_flag = False\\n\\nA user has multiple tweets in my dataset, each user will have done different types of tweets. I want to count how many users have for each month. I am listing the categories below:\\n1) original tweets - i.e all the tweets done by the user will only be original\\n2) retweets - i.e all the tweets done by the user will only be quoted.\\n3) quoted - i.e all the tweets done by the user will only be quoted. \\n4) original and retweet - i.e all the tweets done by the user will only be of the type original and retweet\\n5) original and quoted - i.e all the tweets done by the user will only be of the type original and quoted.\\n6) quoted and retweet - i.e all the tweets done by the user will only be of the type quoted and retweet\\n7) original, quoted and retweet - i.e. i.e all the tweets done by the user will only be of the type original and retweet\\n\\nThis is how I want the categorization to be. For example, if \\n- user 1 has 10 tweets and out of which, 2 tweets are quoted and 8 tweets are original, then the user would go into the category of 'original and quoted'\\n- if user 2 has 7 tweets out of which 3 are retweet and 4 are quoted, then the user would go into the category of 'quoted and retweet'\\n- if user 3 has 20 tweets out of which 10 tweets are original, 5 are retweet and 5 are quoted, then the user would go into the category of 'original, quoted and retweet'\\n- if user 4 has 15 tweets out of which 10 retweets and 5 quoted tweets, then the user would go into the category of 'quoted and retweet'\\n\\nNow I want a specific plot for each month. I have 10 months in my dataframe. \\nSo lets say I want to build a plot for month 1\\nI would first filter the dataframe for month 1. \\nThe plot that I want is \\non x axis - Toxicity, specifically buckets of toxicity (like 0-.1, .1-.2 and so on)\\non y axis - the number of users for all 7 categories. \\n\\nso what should the plot look like, I will talk about in more detail. \\nlets say on the x axis, we look at the first bucket of toxicity i.e 0-0.1 which means for all the tweets of toxicity between the range of 0-0.1 will be plotted on the first bucket, and on the y axis, there will be the number of unique users for all the 7 combinations. \\nso each plot would have 7 combinations plotted on the graph with 7 different colors.\\n\\n\""
            ],
            "application/vnd.google.colaboratory.intrinsic+json": {
              "type": "string"
            }
          },
          "metadata": {},
          "execution_count": 9
        }
      ]
    }
  ]
}