{
 "cells": [
  {
   "cell_type": "code",
   "execution_count": 2,
   "id": "ac6db84c",
   "metadata": {},
   "outputs": [],
   "source": [
    "import pandas as pd"
   ]
  },
  {
   "cell_type": "code",
   "execution_count": 3,
   "id": "01397745",
   "metadata": {},
   "outputs": [
    {
     "name": "stderr",
     "output_type": "stream",
     "text": [
      "C:\\Users\\Aatman\\AppData\\Local\\Temp\\ipykernel_4264\\2446964147.py:1: DtypeWarning: Columns (7,10,17) have mixed types. Specify dtype option on import or set low_memory=False.\n",
      "  df = pd.read_csv(\"D:\\\\Study\\\\UG Thesis\\\\Datasets\\\\ReibeiroDataset\\\\tweets.csv\")\n"
     ]
    }
   ],
   "source": [
    "df = pd.read_csv(\"D:\\\\Study\\\\UG Thesis\\\\Datasets\\\\ReibeiroDataset\\\\tweets.csv\")"
   ]
  },
  {
   "cell_type": "code",
   "execution_count": 4,
   "id": "202b034d",
   "metadata": {},
   "outputs": [],
   "source": [
    "tweet_id = df['tweet_id']\n",
    "rt_id = df['rt_status_id']"
   ]
  },
  {
   "cell_type": "code",
   "execution_count": 5,
   "id": "8d9d7e18",
   "metadata": {},
   "outputs": [
    {
     "name": "stdout",
     "output_type": "stream",
     "text": [
      "11793904\n",
      "11793904\n"
     ]
    }
   ],
   "source": [
    "print(len(tweet_id))\n",
    "print(len(rt_id))"
   ]
  },
  {
   "cell_type": "code",
   "execution_count": 6,
   "id": "0da4ffc2",
   "metadata": {},
   "outputs": [],
   "source": [
    "intersect = rt_id.isin(tweet_id)\n",
    "# intersect2 = tweet_id.isin(rt_id)"
   ]
  },
  {
   "cell_type": "code",
   "execution_count": 7,
   "id": "31f212a4",
   "metadata": {},
   "outputs": [
    {
     "data": {
      "text/plain": [
       "array([False,  True])"
      ]
     },
     "execution_count": 7,
     "metadata": {},
     "output_type": "execute_result"
    }
   ],
   "source": [
    "intersect.unique()"
   ]
  },
  {
   "cell_type": "code",
   "execution_count": null,
   "id": "912cd1f4",
   "metadata": {},
   "outputs": [],
   "source": []
  },
  {
   "cell_type": "code",
   "execution_count": null,
   "id": "8ddfdf4d",
   "metadata": {},
   "outputs": [],
   "source": [
    "intersect.value_counts()"
   ]
  },
  {
   "cell_type": "code",
   "execution_count": null,
   "id": "5fac30b2",
   "metadata": {},
   "outputs": [],
   "source": [
    "intersect2.value_counts()"
   ]
  },
  {
   "cell_type": "code",
   "execution_count": 10,
   "id": "6a60f7ed",
   "metadata": {},
   "outputs": [
    {
     "name": "stdout",
     "output_type": "stream",
     "text": [
      "935790\n",
      "445584\n"
     ]
    }
   ],
   "source": [
    "print(sum(intersect))\n",
    "print(sum(intersect2))"
   ]
  },
  {
   "cell_type": "code",
   "execution_count": null,
   "id": "26d13593",
   "metadata": {},
   "outputs": [],
   "source": [
    "tweet_set = set(tweet_id)\n",
    "rt_set = set(rt_id)"
   ]
  },
  {
   "cell_type": "code",
   "execution_count": null,
   "id": "33058dd7",
   "metadata": {},
   "outputs": [],
   "source": [
    "print(len(tweet_set))\n",
    "print(len(rt_set))"
   ]
  },
  {
   "cell_type": "code",
   "execution_count": null,
   "id": "bdc82aea",
   "metadata": {},
   "outputs": [],
   "source": [
    "inter_sets = tweet_set.intersection(rt_set)"
   ]
  },
  {
   "cell_type": "code",
   "execution_count": null,
   "id": "9fc3339a",
   "metadata": {},
   "outputs": [],
   "source": [
    "print(len(inter_sets))"
   ]
  }
 ],
 "metadata": {
  "kernelspec": {
   "display_name": "Python 3 (ipykernel)",
   "language": "python",
   "name": "python3"
  },
  "language_info": {
   "codemirror_mode": {
    "name": "ipython",
    "version": 3
   },
   "file_extension": ".py",
   "mimetype": "text/x-python",
   "name": "python",
   "nbconvert_exporter": "python",
   "pygments_lexer": "ipython3",
   "version": "3.9.12"
  }
 },
 "nbformat": 4,
 "nbformat_minor": 5
}
