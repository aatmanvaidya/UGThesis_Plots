{
 "cells": [
  {
   "cell_type": "code",
   "execution_count": 1,
   "id": "ac6db84c",
   "metadata": {},
   "outputs": [],
   "source": [
    "import pandas as pd\n",
    "import matplotlib.pyplot as plt\n",
    "import numpy as np\n",
    "from datetime import datetime\n",
    "import seaborn as sns"
   ]
  },
  {
   "cell_type": "code",
   "execution_count": 2,
   "id": "01397745",
   "metadata": {},
   "outputs": [
    {
     "name": "stderr",
     "output_type": "stream",
     "text": [
      "C:\\Users\\Aatman\\AppData\\Local\\Temp\\ipykernel_14192\\2446964147.py:1: DtypeWarning: Columns (7,10,17) have mixed types. Specify dtype option on import or set low_memory=False.\n",
      "  df = pd.read_csv(\"D:\\\\Study\\\\UG Thesis\\\\Datasets\\\\ReibeiroDataset\\\\tweets.csv\")\n"
     ]
    }
   ],
   "source": [
    "df = pd.read_csv(\"D:\\\\Study\\\\UG Thesis\\\\Datasets\\\\ReibeiroDataset\\\\tweets.csv\")"
   ]
  },
  {
   "cell_type": "code",
   "execution_count": 3,
   "id": "202b034d",
   "metadata": {},
   "outputs": [],
   "source": [
    "tweet_id = df['tweet_id']\n",
    "rt_id = df['rt_status_id']"
   ]
  },
  {
   "cell_type": "code",
   "execution_count": null,
   "id": "26d13593",
   "metadata": {},
   "outputs": [],
   "source": [
    "tweet_set = set(tweet_id)\n",
    "rt_set = set(rt_id)"
   ]
  },
  {
   "cell_type": "code",
   "execution_count": null,
   "id": "33058dd7",
   "metadata": {},
   "outputs": [],
   "source": [
    "print(len(tweet_set))\n",
    "print(len(rt_set))"
   ]
  },
  {
   "cell_type": "code",
   "execution_count": null,
   "id": "bdc82aea",
   "metadata": {},
   "outputs": [],
   "source": [
    "inter_sets = tweet_set.intersection(rt_set)"
   ]
  },
  {
   "cell_type": "code",
   "execution_count": null,
   "id": "9fc3339a",
   "metadata": {},
   "outputs": [],
   "source": [
    "print(len(inter_sets))"
   ]
  }
 ],
 "metadata": {
  "kernelspec": {
   "display_name": "Python 3 (ipykernel)",
   "language": "python",
   "name": "python3"
  },
  "language_info": {
   "codemirror_mode": {
    "name": "ipython",
    "version": 3
   },
   "file_extension": ".py",
   "mimetype": "text/x-python",
   "name": "python",
   "nbconvert_exporter": "python",
   "pygments_lexer": "ipython3",
   "version": "3.9.12"
  }
 },
 "nbformat": 4,
 "nbformat_minor": 5
}
