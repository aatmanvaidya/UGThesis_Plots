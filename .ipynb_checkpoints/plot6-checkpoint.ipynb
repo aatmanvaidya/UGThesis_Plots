{
 "cells": [
  {
   "cell_type": "code",
   "execution_count": 1,
   "id": "f170367f",
   "metadata": {},
   "outputs": [],
   "source": [
    "import pandas as pd\n",
    "import matplotlib.pyplot as plt\n",
    "import numpy as np\n",
    "from datetime import datetime\n",
    "import seaborn as sns"
   ]
  },
  {
   "cell_type": "code",
   "execution_count": 2,
   "id": "d978835c",
   "metadata": {},
   "outputs": [
    {
     "name": "stderr",
     "output_type": "stream",
     "text": [
      "C:\\Users\\Aatman\\AppData\\Local\\Temp\\ipykernel_15116\\2446964147.py:1: DtypeWarning: Columns (7,10,17) have mixed types. Specify dtype option on import or set low_memory=False.\n",
      "  df = pd.read_csv(\"D:\\\\Study\\\\UG Thesis\\\\Datasets\\\\ReibeiroDataset\\\\tweets.csv\")\n"
     ]
    }
   ],
   "source": [
    "df = pd.read_csv(\"D:\\\\Study\\\\UG Thesis\\\\Datasets\\\\ReibeiroDataset\\\\tweets.csv\")"
   ]
  },
  {
   "cell_type": "code",
   "execution_count": 12,
   "id": "5cf99eab",
   "metadata": {},
   "outputs": [],
   "source": [
    "# dfNeed = df[(df['tweet_creation'] >= 1483228800) & (df['tweet_creation'] <= 1509494399)]\n",
    "dfNeed = df[(df['tweet_creation'] >= 1483228799) & (df['tweet_creation'] <= 1514764799)]"
   ]
  },
  {
   "cell_type": "code",
   "execution_count": 13,
   "id": "95005b8e",
   "metadata": {},
   "outputs": [
    {
     "data": {
      "text/plain": [
       "11404733"
      ]
     },
     "execution_count": 13,
     "metadata": {},
     "output_type": "execute_result"
    }
   ],
   "source": [
    "len(dfNeed)"
   ]
  },
  {
   "cell_type": "code",
   "execution_count": 14,
   "id": "cd5eae23",
   "metadata": {},
   "outputs": [
    {
     "name": "stderr",
     "output_type": "stream",
     "text": [
      "C:\\Users\\Aatman\\AppData\\Local\\Temp\\ipykernel_15116\\1914283323.py:1: SettingWithCopyWarning: \n",
      "A value is trying to be set on a copy of a slice from a DataFrame.\n",
      "Try using .loc[row_indexer,col_indexer] = value instead\n",
      "\n",
      "See the caveats in the documentation: https://pandas.pydata.org/pandas-docs/stable/user_guide/indexing.html#returning-a-view-versus-a-copy\n",
      "  dfNeed['NewDateFormat'] = dfNeed['tweet_creation'].apply(lambda x: datetime.fromtimestamp(x).strftime('%Y-%m-%d %H:%M:%S'))\n"
     ]
    }
   ],
   "source": [
    "dfNeed['NewDateFormat'] = dfNeed['tweet_creation'].apply(lambda x: datetime.fromtimestamp(x).strftime('%Y-%m-%d %H:%M:%S'))"
   ]
  },
  {
   "cell_type": "code",
   "execution_count": 15,
   "id": "77b2ea21",
   "metadata": {},
   "outputs": [
    {
     "name": "stderr",
     "output_type": "stream",
     "text": [
      "C:\\Users\\Aatman\\AppData\\Local\\Temp\\ipykernel_15116\\566338974.py:2: SettingWithCopyWarning: \n",
      "A value is trying to be set on a copy of a slice from a DataFrame.\n",
      "Try using .loc[row_indexer,col_indexer] = value instead\n",
      "\n",
      "See the caveats in the documentation: https://pandas.pydata.org/pandas-docs/stable/user_guide/indexing.html#returning-a-view-versus-a-copy\n",
      "  dfNeed[\"week\"] = dfNeed[\"NewDateFormat\"].apply(lambda x: datetime.strptime(x, \"%Y-%m-%d %H:%M:%S\").strftime(\"%U\"))\n"
     ]
    }
   ],
   "source": [
    "# Parse the dates in the NewDateFormat column and extract the week number\n",
    "dfNeed[\"week\"] = dfNeed[\"NewDateFormat\"].apply(lambda x: datetime.strptime(x, \"%Y-%m-%d %H:%M:%S\").strftime(\"%U\"))"
   ]
  },
  {
   "cell_type": "code",
   "execution_count": 54,
   "id": "5b13c80e",
   "metadata": {},
   "outputs": [
    {
     "data": {
      "text/html": [
       "<div>\n",
       "<style scoped>\n",
       "    .dataframe tbody tr th:only-of-type {\n",
       "        vertical-align: middle;\n",
       "    }\n",
       "\n",
       "    .dataframe tbody tr th {\n",
       "        vertical-align: top;\n",
       "    }\n",
       "\n",
       "    .dataframe thead th {\n",
       "        text-align: right;\n",
       "    }\n",
       "</style>\n",
       "<table border=\"1\" class=\"dataframe\">\n",
       "  <thead>\n",
       "    <tr style=\"text-align: right;\">\n",
       "      <th></th>\n",
       "      <th>user_id</th>\n",
       "      <th>screen_name</th>\n",
       "      <th>tweet_id</th>\n",
       "      <th>tweet_text</th>\n",
       "      <th>tweet_creation</th>\n",
       "      <th>tweet_fav</th>\n",
       "      <th>tweet_rt</th>\n",
       "      <th>rp_flag</th>\n",
       "      <th>rp_status</th>\n",
       "      <th>rp_user</th>\n",
       "      <th>...</th>\n",
       "      <th>qt_rt</th>\n",
       "      <th>rt_flag</th>\n",
       "      <th>rt_status_id</th>\n",
       "      <th>rt_user_id</th>\n",
       "      <th>rt_text</th>\n",
       "      <th>rt_creation</th>\n",
       "      <th>rt_fav</th>\n",
       "      <th>rt_rt</th>\n",
       "      <th>NewDateFormat</th>\n",
       "      <th>week</th>\n",
       "    </tr>\n",
       "  </thead>\n",
       "  <tbody>\n",
       "    <tr>\n",
       "      <th>0</th>\n",
       "      <td>850859913244852224</td>\n",
       "      <td>NationalismXXI</td>\n",
       "      <td>919445178859053056</td>\n",
       "      <td>Women https://t.co/quXcjOq9na</td>\n",
       "      <td>1.508055e+09</td>\n",
       "      <td>0.0</td>\n",
       "      <td>0.0</td>\n",
       "      <td>False</td>\n",
       "      <td>NaN</td>\n",
       "      <td>NaN</td>\n",
       "      <td>...</td>\n",
       "      <td>148.0</td>\n",
       "      <td>False</td>\n",
       "      <td>NaN</td>\n",
       "      <td>NaN</td>\n",
       "      <td>NaN</td>\n",
       "      <td>NaN</td>\n",
       "      <td>NaN</td>\n",
       "      <td>NaN</td>\n",
       "      <td>2017-10-15 13:39:47</td>\n",
       "      <td>42</td>\n",
       "    </tr>\n",
       "    <tr>\n",
       "      <th>1</th>\n",
       "      <td>850859913244852224</td>\n",
       "      <td>NationalismXXI</td>\n",
       "      <td>919441926021107712</td>\n",
       "      <td>Superjew https://t.co/cba5laEfKG</td>\n",
       "      <td>1.508054e+09</td>\n",
       "      <td>0.0</td>\n",
       "      <td>0.0</td>\n",
       "      <td>False</td>\n",
       "      <td>NaN</td>\n",
       "      <td>NaN</td>\n",
       "      <td>...</td>\n",
       "      <td>302.0</td>\n",
       "      <td>False</td>\n",
       "      <td>NaN</td>\n",
       "      <td>NaN</td>\n",
       "      <td>NaN</td>\n",
       "      <td>NaN</td>\n",
       "      <td>NaN</td>\n",
       "      <td>NaN</td>\n",
       "      <td>2017-10-15 13:26:52</td>\n",
       "      <td>42</td>\n",
       "    </tr>\n",
       "    <tr>\n",
       "      <th>2</th>\n",
       "      <td>850859913244852224</td>\n",
       "      <td>NationalismXXI</td>\n",
       "      <td>919367819694927872</td>\n",
       "      <td>NaN</td>\n",
       "      <td>1.508037e+09</td>\n",
       "      <td>0.0</td>\n",
       "      <td>777.0</td>\n",
       "      <td>False</td>\n",
       "      <td>NaN</td>\n",
       "      <td>NaN</td>\n",
       "      <td>...</td>\n",
       "      <td>NaN</td>\n",
       "      <td>True</td>\n",
       "      <td>9.144992e+17</td>\n",
       "      <td>2.583248e+08</td>\n",
       "      <td>You want a quote to go viral? Retweet this one...</td>\n",
       "      <td>1.506879e+09</td>\n",
       "      <td>704.0</td>\n",
       "      <td>777.0</td>\n",
       "      <td>2017-10-15 08:32:23</td>\n",
       "      <td>42</td>\n",
       "    </tr>\n",
       "    <tr>\n",
       "      <th>3</th>\n",
       "      <td>850859913244852224</td>\n",
       "      <td>NationalismXXI</td>\n",
       "      <td>919366633512226816</td>\n",
       "      <td>NaN</td>\n",
       "      <td>1.508040e+09</td>\n",
       "      <td>0.0</td>\n",
       "      <td>63.0</td>\n",
       "      <td>False</td>\n",
       "      <td>NaN</td>\n",
       "      <td>NaN</td>\n",
       "      <td>...</td>\n",
       "      <td>NaN</td>\n",
       "      <td>True</td>\n",
       "      <td>9.189423e+17</td>\n",
       "      <td>1.289955e+09</td>\n",
       "      <td>@CNN So when are u going to publish a jihadi s...</td>\n",
       "      <td>1.507939e+09</td>\n",
       "      <td>181.0</td>\n",
       "      <td>63.0</td>\n",
       "      <td>2017-10-15 09:27:41</td>\n",
       "      <td>42</td>\n",
       "    </tr>\n",
       "    <tr>\n",
       "      <th>4</th>\n",
       "      <td>850859913244852224</td>\n",
       "      <td>NationalismXXI</td>\n",
       "      <td>919365144697860096</td>\n",
       "      <td>NaN</td>\n",
       "      <td>1.508040e+09</td>\n",
       "      <td>0.0</td>\n",
       "      <td>105.0</td>\n",
       "      <td>False</td>\n",
       "      <td>NaN</td>\n",
       "      <td>NaN</td>\n",
       "      <td>...</td>\n",
       "      <td>NaN</td>\n",
       "      <td>True</td>\n",
       "      <td>9.193076e+17</td>\n",
       "      <td>8.504084e+17</td>\n",
       "      <td>Fash the Nation Episode 92: Immoral High Groun...</td>\n",
       "      <td>1.508026e+09</td>\n",
       "      <td>212.0</td>\n",
       "      <td>105.0</td>\n",
       "      <td>2017-10-15 09:21:46</td>\n",
       "      <td>42</td>\n",
       "    </tr>\n",
       "  </tbody>\n",
       "</table>\n",
       "<p>5 rows × 26 columns</p>\n",
       "</div>"
      ],
      "text/plain": [
       "              user_id     screen_name            tweet_id  \\\n",
       "0  850859913244852224  NationalismXXI  919445178859053056   \n",
       "1  850859913244852224  NationalismXXI  919441926021107712   \n",
       "2  850859913244852224  NationalismXXI  919367819694927872   \n",
       "3  850859913244852224  NationalismXXI  919366633512226816   \n",
       "4  850859913244852224  NationalismXXI  919365144697860096   \n",
       "\n",
       "                         tweet_text  tweet_creation  tweet_fav  tweet_rt  \\\n",
       "0     Women https://t.co/quXcjOq9na    1.508055e+09        0.0       0.0   \n",
       "1  Superjew https://t.co/cba5laEfKG    1.508054e+09        0.0       0.0   \n",
       "2                               NaN    1.508037e+09        0.0     777.0   \n",
       "3                               NaN    1.508040e+09        0.0      63.0   \n",
       "4                               NaN    1.508040e+09        0.0     105.0   \n",
       "\n",
       "  rp_flag rp_status  rp_user  ...  qt_rt  rt_flag  rt_status_id    rt_user_id  \\\n",
       "0   False       NaN      NaN  ...  148.0    False           NaN           NaN   \n",
       "1   False       NaN      NaN  ...  302.0    False           NaN           NaN   \n",
       "2   False       NaN      NaN  ...    NaN     True  9.144992e+17  2.583248e+08   \n",
       "3   False       NaN      NaN  ...    NaN     True  9.189423e+17  1.289955e+09   \n",
       "4   False       NaN      NaN  ...    NaN     True  9.193076e+17  8.504084e+17   \n",
       "\n",
       "                                             rt_text   rt_creation  rt_fav  \\\n",
       "0                                                NaN           NaN     NaN   \n",
       "1                                                NaN           NaN     NaN   \n",
       "2  You want a quote to go viral? Retweet this one...  1.506879e+09   704.0   \n",
       "3  @CNN So when are u going to publish a jihadi s...  1.507939e+09   181.0   \n",
       "4  Fash the Nation Episode 92: Immoral High Groun...  1.508026e+09   212.0   \n",
       "\n",
       "   rt_rt        NewDateFormat  week  \n",
       "0    NaN  2017-10-15 13:39:47    42  \n",
       "1    NaN  2017-10-15 13:26:52    42  \n",
       "2  777.0  2017-10-15 08:32:23    42  \n",
       "3   63.0  2017-10-15 09:27:41    42  \n",
       "4  105.0  2017-10-15 09:21:46    42  \n",
       "\n",
       "[5 rows x 26 columns]"
      ]
     },
     "execution_count": 54,
     "metadata": {},
     "output_type": "execute_result"
    }
   ],
   "source": [
    "dfNeed.head()"
   ]
  },
  {
   "cell_type": "code",
   "execution_count": 63,
   "id": "05243213",
   "metadata": {},
   "outputs": [
    {
     "name": "stdout",
     "output_type": "stream",
     "text": [
      "2017-10-31 05:34:17\n",
      "2017-01-01 05:29:59\n"
     ]
    }
   ],
   "source": [
    "print(dfNeed['NewDateFormat'].max())\n",
    "print(dfNeed['NewDateFormat'].min())"
   ]
  },
  {
   "cell_type": "code",
   "execution_count": 64,
   "id": "175a3134",
   "metadata": {},
   "outputs": [],
   "source": [
    "unique_values = dfNeed['week'].unique()\n",
    "unique_values.sort()"
   ]
  },
  {
   "cell_type": "code",
   "execution_count": 65,
   "id": "c99c2f63",
   "metadata": {},
   "outputs": [
    {
     "data": {
      "text/plain": [
       "array(['01', '02', '03', '04', '05', '06', '07', '08', '09', '10', '11',\n",
       "       '12', '13', '14', '15', '16', '17', '18', '19', '20', '21', '22',\n",
       "       '23', '24', '25', '26', '27', '28', '29', '30', '31', '32', '33',\n",
       "       '34', '35', '36', '37', '38', '39', '40', '41', '42', '43', '44'],\n",
       "      dtype=object)"
      ]
     },
     "execution_count": 65,
     "metadata": {},
     "output_type": "execute_result"
    }
   ],
   "source": [
    "unique_values"
   ]
  },
  {
   "cell_type": "code",
   "execution_count": 66,
   "id": "c2d96091",
   "metadata": {},
   "outputs": [],
   "source": [
    "# arrWeek = []\n",
    "# for i in unique_values:\n",
    "#     weekDf = dfNeed[dfNeed['week'] == i]\n",
    "#     arrWeek.append(len(weekDf))"
   ]
  },
  {
   "cell_type": "code",
   "execution_count": 67,
   "id": "658af80a",
   "metadata": {},
   "outputs": [],
   "source": [
    "# arrWeek"
   ]
  },
  {
   "cell_type": "code",
   "execution_count": 68,
   "id": "85ad5027",
   "metadata": {},
   "outputs": [],
   "source": [
    "def countTweets(weekIn):\n",
    "    weekDf = dfNeed[dfNeed['week'] == weekIn]\n",
    "    totalTweets = len(weekDf)\n",
    "    tempDf = weekDf[(weekDf['qt_flag'] == True) & (weekDf['rt_flag'] == False)]\n",
    "    percentage = (len(tempDf)/totalTweets)*100\n",
    "    return round(percentage,2)"
   ]
  },
  {
   "cell_type": "code",
   "execution_count": 69,
   "id": "59b9e63f",
   "metadata": {},
   "outputs": [
    {
     "name": "stdout",
     "output_type": "stream",
     "text": [
      "5.95\n",
      "6.58\n",
      "6.02\n",
      "6.71\n",
      "6.91\n",
      "6.94\n",
      "6.33\n",
      "6.47\n",
      "6.56\n",
      "7.04\n",
      "7.3\n",
      "6.85\n",
      "7.35\n",
      "6.91\n",
      "6.51\n",
      "7.04\n",
      "7.35\n",
      "7.22\n",
      "7.39\n",
      "7.29\n",
      "7.52\n",
      "7.21\n",
      "7.04\n",
      "7.58\n",
      "8.16\n",
      "7.92\n",
      "7.56\n",
      "7.69\n",
      "8.03\n",
      "8.23\n",
      "8.19\n",
      "8.17\n",
      "8.07\n",
      "7.88\n",
      "8.14\n",
      "8.34\n",
      "8.21\n",
      "8.25\n",
      "8.49\n",
      "8.4\n",
      "8.79\n",
      "8.58"
     ]
    },
    {
     "ename": "KeyboardInterrupt",
     "evalue": "",
     "output_type": "error",
     "traceback": [
      "\u001b[1;31m---------------------------------------------------------------------------\u001b[0m",
      "\u001b[1;31mKeyboardInterrupt\u001b[0m                         Traceback (most recent call last)",
      "Input \u001b[1;32mIn [69]\u001b[0m, in \u001b[0;36m<module>\u001b[1;34m\u001b[0m\n\u001b[0;32m      1\u001b[0m \u001b[38;5;28;01mfor\u001b[39;00m i \u001b[38;5;129;01min\u001b[39;00m unique_values:\n\u001b[1;32m----> 2\u001b[0m     \u001b[38;5;28;43mprint\u001b[39;49m\u001b[43m(\u001b[49m\u001b[43mcountTweets\u001b[49m\u001b[43m(\u001b[49m\u001b[43mi\u001b[49m\u001b[43m)\u001b[49m\u001b[43m)\u001b[49m\n",
      "File \u001b[1;32m~\\AppData\\Roaming\\Python\\Python39\\site-packages\\ipykernel\\iostream.py:531\u001b[0m, in \u001b[0;36mOutStream.write\u001b[1;34m(self, string)\u001b[0m\n\u001b[0;32m    529\u001b[0m is_child \u001b[38;5;241m=\u001b[39m (\u001b[38;5;129;01mnot\u001b[39;00m \u001b[38;5;28mself\u001b[39m\u001b[38;5;241m.\u001b[39m_is_master_process())\n\u001b[0;32m    530\u001b[0m \u001b[38;5;66;03m# only touch the buffer in the IO thread to avoid races\u001b[39;00m\n\u001b[1;32m--> 531\u001b[0m \u001b[38;5;28;43mself\u001b[39;49m\u001b[38;5;241;43m.\u001b[39;49m\u001b[43mpub_thread\u001b[49m\u001b[38;5;241;43m.\u001b[39;49m\u001b[43mschedule\u001b[49m\u001b[43m(\u001b[49m\u001b[38;5;28;43;01mlambda\u001b[39;49;00m\u001b[43m:\u001b[49m\u001b[43m \u001b[49m\u001b[38;5;28;43mself\u001b[39;49m\u001b[38;5;241;43m.\u001b[39;49m\u001b[43m_buffer\u001b[49m\u001b[38;5;241;43m.\u001b[39;49m\u001b[43mwrite\u001b[49m\u001b[43m(\u001b[49m\u001b[43mstring\u001b[49m\u001b[43m)\u001b[49m\u001b[43m)\u001b[49m\n\u001b[0;32m    532\u001b[0m \u001b[38;5;28;01mif\u001b[39;00m is_child:\n\u001b[0;32m    533\u001b[0m     \u001b[38;5;66;03m# mp.Pool cannot be trusted to flush promptly (or ever),\u001b[39;00m\n\u001b[0;32m    534\u001b[0m     \u001b[38;5;66;03m# and this helps.\u001b[39;00m\n\u001b[0;32m    535\u001b[0m     \u001b[38;5;28;01mif\u001b[39;00m \u001b[38;5;28mself\u001b[39m\u001b[38;5;241m.\u001b[39m_subprocess_flush_pending:\n",
      "File \u001b[1;32m~\\AppData\\Roaming\\Python\\Python39\\site-packages\\ipykernel\\iostream.py:216\u001b[0m, in \u001b[0;36mIOPubThread.schedule\u001b[1;34m(self, f)\u001b[0m\n\u001b[0;32m    214\u001b[0m     \u001b[38;5;28mself\u001b[39m\u001b[38;5;241m.\u001b[39m_events\u001b[38;5;241m.\u001b[39mappend(f)\n\u001b[0;32m    215\u001b[0m     \u001b[38;5;66;03m# wake event thread (message content is ignored)\u001b[39;00m\n\u001b[1;32m--> 216\u001b[0m     \u001b[38;5;28;43mself\u001b[39;49m\u001b[38;5;241;43m.\u001b[39;49m\u001b[43m_event_pipe\u001b[49m\u001b[38;5;241m.\u001b[39msend(\u001b[38;5;124mb\u001b[39m\u001b[38;5;124m'\u001b[39m\u001b[38;5;124m'\u001b[39m)\n\u001b[0;32m    217\u001b[0m \u001b[38;5;28;01melse\u001b[39;00m:\n\u001b[0;32m    218\u001b[0m     f()\n",
      "File \u001b[1;32m~\\AppData\\Roaming\\Python\\Python39\\site-packages\\ipykernel\\iostream.py:100\u001b[0m, in \u001b[0;36mIOPubThread._event_pipe\u001b[1;34m(self)\u001b[0m\n\u001b[0;32m     97\u001b[0m \u001b[38;5;129m@property\u001b[39m\n\u001b[0;32m     98\u001b[0m \u001b[38;5;28;01mdef\u001b[39;00m \u001b[38;5;21m_event_pipe\u001b[39m(\u001b[38;5;28mself\u001b[39m):\n\u001b[0;32m     99\u001b[0m     \u001b[38;5;124;03m\"\"\"thread-local event pipe for signaling events that should be processed in the thread\"\"\"\u001b[39;00m\n\u001b[1;32m--> 100\u001b[0m     \u001b[38;5;28;01mtry\u001b[39;00m:\n\u001b[0;32m    101\u001b[0m         event_pipe \u001b[38;5;241m=\u001b[39m \u001b[38;5;28mself\u001b[39m\u001b[38;5;241m.\u001b[39m_local\u001b[38;5;241m.\u001b[39mevent_pipe\n\u001b[0;32m    102\u001b[0m     \u001b[38;5;28;01mexcept\u001b[39;00m \u001b[38;5;167;01mAttributeError\u001b[39;00m:\n\u001b[0;32m    103\u001b[0m         \u001b[38;5;66;03m# new thread, new event pipe\u001b[39;00m\n",
      "\u001b[1;31mKeyboardInterrupt\u001b[0m: "
     ]
    }
   ],
   "source": [
    "for i in unique_values:\n",
    "    print(countTweets(i))"
   ]
  },
  {
   "cell_type": "code",
   "execution_count": null,
   "id": "a9eda6bc",
   "metadata": {},
   "outputs": [],
   "source": [
    "# def countTweets(weekIn):\n",
    "#     weekDf = dfNeed[dfNeed['week'] == weekIn]\n",
    "#     totalTweets = len(weekDf)\n",
    "#     originalDf = weekDf[(weekDf['qt_flag'] == False) & (weekDf['rt_flag'] == True)]\n",
    "#     percentage = (len(originalDf)/totalTweets)*100\n",
    "#     return round(percentage,2)"
   ]
  }
 ],
 "metadata": {
  "kernelspec": {
   "display_name": "Python 3 (ipykernel)",
   "language": "python",
   "name": "python3"
  },
  "language_info": {
   "codemirror_mode": {
    "name": "ipython",
    "version": 3
   },
   "file_extension": ".py",
   "mimetype": "text/x-python",
   "name": "python",
   "nbconvert_exporter": "python",
   "pygments_lexer": "ipython3",
   "version": "3.9.12"
  }
 },
 "nbformat": 4,
 "nbformat_minor": 5
}
