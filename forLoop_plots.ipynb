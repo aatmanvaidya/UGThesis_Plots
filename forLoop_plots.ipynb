{
 "cells": [
  {
   "cell_type": "code",
   "execution_count": 1,
   "id": "4686a848",
   "metadata": {},
   "outputs": [],
   "source": [
    "import pandas as pd\n",
    "import matplotlib.pyplot as plt\n",
    "import numpy as np\n",
    "from datetime import datetime\n",
    "import seaborn as sns"
   ]
  },
  {
   "cell_type": "code",
   "execution_count": 2,
   "id": "3bfa8ea4",
   "metadata": {},
   "outputs": [],
   "source": [
    "df = pd.read_csv(\"D:\\\\Study\\\\UG Thesis\\\\Datasets\\\\ReibeiroDataset\\\\tweetsConvereted2017_toxicPerspectiveScore.csv\")"
   ]
  },
  {
   "cell_type": "code",
   "execution_count": 3,
   "id": "96c90da2",
   "metadata": {},
   "outputs": [],
   "source": [
    "df[\"week\"] = df[\"NewDateFormat\"].apply(lambda x: datetime.strptime(x, \"%Y-%m-%d %H:%M:%S\").strftime(\"%U\"))"
   ]
  },
  {
   "cell_type": "code",
   "execution_count": 39,
   "id": "4e3a4588",
   "metadata": {},
   "outputs": [
    {
     "data": {
      "text/html": [
       "<div>\n",
       "<style scoped>\n",
       "    .dataframe tbody tr th:only-of-type {\n",
       "        vertical-align: middle;\n",
       "    }\n",
       "\n",
       "    .dataframe tbody tr th {\n",
       "        vertical-align: top;\n",
       "    }\n",
       "\n",
       "    .dataframe thead th {\n",
       "        text-align: right;\n",
       "    }\n",
       "</style>\n",
       "<table border=\"1\" class=\"dataframe\">\n",
       "  <thead>\n",
       "    <tr style=\"text-align: right;\">\n",
       "      <th></th>\n",
       "      <th>user_id</th>\n",
       "      <th>screen_name</th>\n",
       "      <th>tweet_id</th>\n",
       "      <th>tweet_text</th>\n",
       "      <th>tweet_creation</th>\n",
       "      <th>tweet_fav</th>\n",
       "      <th>tweet_rt</th>\n",
       "      <th>rp_flag</th>\n",
       "      <th>rp_status</th>\n",
       "      <th>rp_user</th>\n",
       "      <th>...</th>\n",
       "      <th>rt_status_id</th>\n",
       "      <th>rt_user_id</th>\n",
       "      <th>rt_text</th>\n",
       "      <th>rt_creation</th>\n",
       "      <th>rt_fav</th>\n",
       "      <th>rt_rt</th>\n",
       "      <th>Toxicity</th>\n",
       "      <th>Severe Toxicity</th>\n",
       "      <th>NewDateFormat</th>\n",
       "      <th>week</th>\n",
       "    </tr>\n",
       "  </thead>\n",
       "  <tbody>\n",
       "    <tr>\n",
       "      <th>0</th>\n",
       "      <td>4746709454</td>\n",
       "      <td>just_jusss</td>\n",
       "      <td>911477065328631809</td>\n",
       "      <td>Having a strict dad, if I ask to go out one we...</td>\n",
       "      <td>1.506159e+09</td>\n",
       "      <td>1.0</td>\n",
       "      <td>0.0</td>\n",
       "      <td>False</td>\n",
       "      <td>NaN</td>\n",
       "      <td>NaN</td>\n",
       "      <td>...</td>\n",
       "      <td>NaN</td>\n",
       "      <td>NaN</td>\n",
       "      <td>NaN</td>\n",
       "      <td>NaN</td>\n",
       "      <td>NaN</td>\n",
       "      <td>NaN</td>\n",
       "      <td>0.052305</td>\n",
       "      <td>0.002346</td>\n",
       "      <td>2017-09-23 09:27:21</td>\n",
       "      <td>38</td>\n",
       "    </tr>\n",
       "    <tr>\n",
       "      <th>1</th>\n",
       "      <td>4746709454</td>\n",
       "      <td>just_jusss</td>\n",
       "      <td>911399501264384001</td>\n",
       "      <td>Lookin at all these couples like MBN🤧 but then...</td>\n",
       "      <td>1.506140e+09</td>\n",
       "      <td>2.0</td>\n",
       "      <td>0.0</td>\n",
       "      <td>False</td>\n",
       "      <td>NaN</td>\n",
       "      <td>NaN</td>\n",
       "      <td>...</td>\n",
       "      <td>NaN</td>\n",
       "      <td>NaN</td>\n",
       "      <td>NaN</td>\n",
       "      <td>NaN</td>\n",
       "      <td>NaN</td>\n",
       "      <td>NaN</td>\n",
       "      <td>0.068171</td>\n",
       "      <td>0.003433</td>\n",
       "      <td>2017-09-23 04:19:08</td>\n",
       "      <td>38</td>\n",
       "    </tr>\n",
       "    <tr>\n",
       "      <th>2</th>\n",
       "      <td>4746709454</td>\n",
       "      <td>just_jusss</td>\n",
       "      <td>911343372282900480</td>\n",
       "      <td>Being a senior kinda sucks when most of your f...</td>\n",
       "      <td>1.506127e+09</td>\n",
       "      <td>3.0</td>\n",
       "      <td>0.0</td>\n",
       "      <td>False</td>\n",
       "      <td>NaN</td>\n",
       "      <td>NaN</td>\n",
       "      <td>...</td>\n",
       "      <td>NaN</td>\n",
       "      <td>NaN</td>\n",
       "      <td>NaN</td>\n",
       "      <td>NaN</td>\n",
       "      <td>NaN</td>\n",
       "      <td>NaN</td>\n",
       "      <td>0.518691</td>\n",
       "      <td>0.023787</td>\n",
       "      <td>2017-09-23 00:36:06</td>\n",
       "      <td>38</td>\n",
       "    </tr>\n",
       "    <tr>\n",
       "      <th>3</th>\n",
       "      <td>773711528398848000</td>\n",
       "      <td>CassandraCohan</td>\n",
       "      <td>923729371235586049</td>\n",
       "      <td>@periwinkledink So pretty</td>\n",
       "      <td>1.509076e+09</td>\n",
       "      <td>1.0</td>\n",
       "      <td>0.0</td>\n",
       "      <td>True</td>\n",
       "      <td>923705106264027136</td>\n",
       "      <td>3.434322e+09</td>\n",
       "      <td>...</td>\n",
       "      <td>NaN</td>\n",
       "      <td>NaN</td>\n",
       "      <td>NaN</td>\n",
       "      <td>NaN</td>\n",
       "      <td>NaN</td>\n",
       "      <td>NaN</td>\n",
       "      <td>0.010681</td>\n",
       "      <td>0.002117</td>\n",
       "      <td>2017-10-27 03:53:38</td>\n",
       "      <td>43</td>\n",
       "    </tr>\n",
       "    <tr>\n",
       "      <th>4</th>\n",
       "      <td>773711528398848000</td>\n",
       "      <td>CassandraCohan</td>\n",
       "      <td>923689995763843072</td>\n",
       "      <td>@readyforramos It’s 2017 we go to church and pray</td>\n",
       "      <td>1.509067e+09</td>\n",
       "      <td>3.0</td>\n",
       "      <td>0.0</td>\n",
       "      <td>True</td>\n",
       "      <td>923689936406044673</td>\n",
       "      <td>2.633570e+09</td>\n",
       "      <td>...</td>\n",
       "      <td>NaN</td>\n",
       "      <td>NaN</td>\n",
       "      <td>NaN</td>\n",
       "      <td>NaN</td>\n",
       "      <td>NaN</td>\n",
       "      <td>NaN</td>\n",
       "      <td>0.018975</td>\n",
       "      <td>0.001316</td>\n",
       "      <td>2017-10-27 01:17:10</td>\n",
       "      <td>43</td>\n",
       "    </tr>\n",
       "  </tbody>\n",
       "</table>\n",
       "<p>5 rows × 28 columns</p>\n",
       "</div>"
      ],
      "text/plain": [
       "              user_id     screen_name            tweet_id  \\\n",
       "0          4746709454      just_jusss  911477065328631809   \n",
       "1          4746709454      just_jusss  911399501264384001   \n",
       "2          4746709454      just_jusss  911343372282900480   \n",
       "3  773711528398848000  CassandraCohan  923729371235586049   \n",
       "4  773711528398848000  CassandraCohan  923689995763843072   \n",
       "\n",
       "                                          tweet_text  tweet_creation  \\\n",
       "0  Having a strict dad, if I ask to go out one we...    1.506159e+09   \n",
       "1  Lookin at all these couples like MBN🤧 but then...    1.506140e+09   \n",
       "2  Being a senior kinda sucks when most of your f...    1.506127e+09   \n",
       "3                          @periwinkledink So pretty    1.509076e+09   \n",
       "4  @readyforramos It’s 2017 we go to church and pray    1.509067e+09   \n",
       "\n",
       "   tweet_fav  tweet_rt  rp_flag           rp_status       rp_user  ...  \\\n",
       "0        1.0       0.0    False                 NaN           NaN  ...   \n",
       "1        2.0       0.0    False                 NaN           NaN  ...   \n",
       "2        3.0       0.0    False                 NaN           NaN  ...   \n",
       "3        1.0       0.0     True  923705106264027136  3.434322e+09  ...   \n",
       "4        3.0       0.0     True  923689936406044673  2.633570e+09  ...   \n",
       "\n",
       "   rt_status_id  rt_user_id  rt_text rt_creation  rt_fav  rt_rt  Toxicity  \\\n",
       "0           NaN         NaN      NaN         NaN     NaN    NaN  0.052305   \n",
       "1           NaN         NaN      NaN         NaN     NaN    NaN  0.068171   \n",
       "2           NaN         NaN      NaN         NaN     NaN    NaN  0.518691   \n",
       "3           NaN         NaN      NaN         NaN     NaN    NaN  0.010681   \n",
       "4           NaN         NaN      NaN         NaN     NaN    NaN  0.018975   \n",
       "\n",
       "   Severe Toxicity        NewDateFormat  week  \n",
       "0         0.002346  2017-09-23 09:27:21    38  \n",
       "1         0.003433  2017-09-23 04:19:08    38  \n",
       "2         0.023787  2017-09-23 00:36:06    38  \n",
       "3         0.002117  2017-10-27 03:53:38    43  \n",
       "4         0.001316  2017-10-27 01:17:10    43  \n",
       "\n",
       "[5 rows x 28 columns]"
      ]
     },
     "execution_count": 39,
     "metadata": {},
     "output_type": "execute_result"
    }
   ],
   "source": [
    "df.head()"
   ]
  },
  {
   "cell_type": "code",
   "execution_count": 45,
   "id": "4b0f28ad",
   "metadata": {},
   "outputs": [
    {
     "name": "stdout",
     "output_type": "stream",
     "text": [
      "0\n",
      "0\n"
     ]
    }
   ],
   "source": [
    "print(df['rt_flag'].isnull().sum())\n",
    "print(df['qt_flag'].isnull().sum())"
   ]
  },
  {
   "cell_type": "code",
   "execution_count": 40,
   "id": "02af5e33",
   "metadata": {},
   "outputs": [
    {
     "data": {
      "text/plain": [
       "array([False])"
      ]
     },
     "execution_count": 40,
     "metadata": {},
     "output_type": "execute_result"
    }
   ],
   "source": [
    "df['rt_flag'].unique()"
   ]
  },
  {
   "cell_type": "code",
   "execution_count": 46,
   "id": "1144116d",
   "metadata": {},
   "outputs": [
    {
     "data": {
      "text/plain": [
       "array([False,  True])"
      ]
     },
     "execution_count": 46,
     "metadata": {},
     "output_type": "execute_result"
    }
   ],
   "source": [
    "df['qt_flag'].unique()"
   ]
  },
  {
   "cell_type": "code",
   "execution_count": 61,
   "id": "f6349e81",
   "metadata": {},
   "outputs": [
    {
     "data": {
      "text/plain": [
       "6610132"
      ]
     },
     "execution_count": 61,
     "metadata": {},
     "output_type": "execute_result"
    }
   ],
   "source": [
    "df['rt_text'].isnull().sum()"
   ]
  },
  {
   "cell_type": "code",
   "execution_count": 48,
   "id": "3207c920",
   "metadata": {},
   "outputs": [],
   "source": [
    "groupDf = df[['screen_name', 'Toxicity', 'Severe Toxicity', 'qt_flag', 'rt_flag', 'week']]"
   ]
  },
  {
   "cell_type": "code",
   "execution_count": 49,
   "id": "d1534d0a",
   "metadata": {},
   "outputs": [],
   "source": [
    "# groupDf2 = groupDf[(groupDf['qt_flag'] == False) & (groupDf['rt_flag'] == False)]\n",
    "groupDf2 = groupDf[(groupDf['qt_flag'] == True)]"
   ]
  },
  {
   "cell_type": "code",
   "execution_count": 50,
   "id": "d440001b",
   "metadata": {},
   "outputs": [
    {
     "data": {
      "text/html": [
       "<div>\n",
       "<style scoped>\n",
       "    .dataframe tbody tr th:only-of-type {\n",
       "        vertical-align: middle;\n",
       "    }\n",
       "\n",
       "    .dataframe tbody tr th {\n",
       "        vertical-align: top;\n",
       "    }\n",
       "\n",
       "    .dataframe thead th {\n",
       "        text-align: right;\n",
       "    }\n",
       "</style>\n",
       "<table border=\"1\" class=\"dataframe\">\n",
       "  <thead>\n",
       "    <tr style=\"text-align: right;\">\n",
       "      <th></th>\n",
       "      <th>screen_name</th>\n",
       "      <th>Toxicity</th>\n",
       "      <th>Severe Toxicity</th>\n",
       "      <th>qt_flag</th>\n",
       "      <th>rt_flag</th>\n",
       "      <th>week</th>\n",
       "    </tr>\n",
       "  </thead>\n",
       "  <tbody>\n",
       "    <tr>\n",
       "      <th>54</th>\n",
       "      <td>CassandraCohan</td>\n",
       "      <td>0.061049</td>\n",
       "      <td>0.004597</td>\n",
       "      <td>True</td>\n",
       "      <td>False</td>\n",
       "      <td>43</td>\n",
       "    </tr>\n",
       "    <tr>\n",
       "      <th>121</th>\n",
       "      <td>alienkattt</td>\n",
       "      <td>0.029917</td>\n",
       "      <td>0.004768</td>\n",
       "      <td>True</td>\n",
       "      <td>False</td>\n",
       "      <td>41</td>\n",
       "    </tr>\n",
       "    <tr>\n",
       "      <th>133</th>\n",
       "      <td>alienkattt</td>\n",
       "      <td>0.024850</td>\n",
       "      <td>0.004044</td>\n",
       "      <td>True</td>\n",
       "      <td>False</td>\n",
       "      <td>38</td>\n",
       "    </tr>\n",
       "    <tr>\n",
       "      <th>138</th>\n",
       "      <td>alienkattt</td>\n",
       "      <td>0.005435</td>\n",
       "      <td>0.001421</td>\n",
       "      <td>True</td>\n",
       "      <td>False</td>\n",
       "      <td>36</td>\n",
       "    </tr>\n",
       "    <tr>\n",
       "      <th>141</th>\n",
       "      <td>alienkattt</td>\n",
       "      <td>0.048347</td>\n",
       "      <td>0.009537</td>\n",
       "      <td>True</td>\n",
       "      <td>False</td>\n",
       "      <td>36</td>\n",
       "    </tr>\n",
       "  </tbody>\n",
       "</table>\n",
       "</div>"
      ],
      "text/plain": [
       "        screen_name  Toxicity  Severe Toxicity  qt_flag  rt_flag week\n",
       "54   CassandraCohan  0.061049         0.004597     True    False   43\n",
       "121      alienkattt  0.029917         0.004768     True    False   41\n",
       "133      alienkattt  0.024850         0.004044     True    False   38\n",
       "138      alienkattt  0.005435         0.001421     True    False   36\n",
       "141      alienkattt  0.048347         0.009537     True    False   36"
      ]
     },
     "execution_count": 50,
     "metadata": {},
     "output_type": "execute_result"
    }
   ],
   "source": [
    "groupDf2.head()"
   ]
  },
  {
   "cell_type": "code",
   "execution_count": 51,
   "id": "335a1f0d",
   "metadata": {},
   "outputs": [],
   "source": [
    "unique_values = groupDf2['week'].unique()"
   ]
  },
  {
   "cell_type": "code",
   "execution_count": 52,
   "id": "7665bbcb",
   "metadata": {},
   "outputs": [],
   "source": [
    "unique_values.sort()"
   ]
  },
  {
   "cell_type": "code",
   "execution_count": 53,
   "id": "00984694",
   "metadata": {},
   "outputs": [
    {
     "data": {
      "text/plain": [
       "array(['01', '02', '03', '04', '05', '06', '07', '08', '09', '10', '11',\n",
       "       '12', '13', '14', '15', '16', '17', '18', '19', '20', '21', '22',\n",
       "       '23', '24', '25', '26', '27', '28', '29', '30', '31', '32', '33',\n",
       "       '34', '35', '36', '37', '38', '39', '40', '41', '42', '43', '44'],\n",
       "      dtype=object)"
      ]
     },
     "execution_count": 53,
     "metadata": {},
     "output_type": "execute_result"
    }
   ],
   "source": [
    "unique_values"
   ]
  },
  {
   "cell_type": "code",
   "execution_count": 54,
   "id": "891e230f",
   "metadata": {},
   "outputs": [],
   "source": [
    "def avgToxicity(weekIn):\n",
    "    weekDf = groupDf2[groupDf2['week'] == weekIn]\n",
    "    return weekDf['Toxicity'].mean()"
   ]
  },
  {
   "cell_type": "code",
   "execution_count": 55,
   "id": "28812f21",
   "metadata": {},
   "outputs": [],
   "source": [
    "def numberOfUsers(weekIn):\n",
    "    weekDf = groupDf2[groupDf2['week'] == weekIn]\n",
    "    unique_count = weekDf['screen_name'].nunique()\n",
    "    return int(unique_count)"
   ]
  },
  {
   "cell_type": "code",
   "execution_count": 56,
   "id": "a33dc487",
   "metadata": {},
   "outputs": [
    {
     "name": "stdout",
     "output_type": "stream",
     "text": [
      "0.04392\n",
      "0.04473\n",
      "0.0481\n",
      "0.04679\n",
      "0.05714\n",
      "0.05308\n",
      "0.0479\n",
      "0.04629\n",
      "0.04557\n",
      "0.04326\n",
      "0.04968\n",
      "0.04592\n",
      "0.05056\n",
      "0.04534\n",
      "0.05264\n",
      "0.05165\n",
      "0.04611\n",
      "0.04694\n",
      "0.04823\n",
      "0.0511\n",
      "0.05101\n",
      "0.05869\n",
      "0.05607\n",
      "0.05081\n",
      "0.05442\n",
      "0.05608\n",
      "0.0556\n",
      "0.05559\n",
      "0.05628\n",
      "0.06106\n",
      "0.05948\n",
      "0.06393\n",
      "0.07524\n",
      "0.06817\n",
      "0.06671\n",
      "0.0678\n",
      "0.06713\n",
      "0.06937\n",
      "0.07415\n",
      "0.08104\n",
      "0.0874\n",
      "0.09531\n",
      "0.11967\n",
      "0.1355\n"
     ]
    }
   ],
   "source": [
    "# toxicity scores\n",
    "for i in unique_values:\n",
    "    print(round(avgToxicity(i),5))"
   ]
  },
  {
   "cell_type": "code",
   "execution_count": 57,
   "id": "4df73cb6",
   "metadata": {},
   "outputs": [
    {
     "name": "stdout",
     "output_type": "stream",
     "text": [
      "364\n",
      "490\n",
      "485\n",
      "570\n",
      "621\n",
      "639\n",
      "662\n",
      "676\n",
      "771\n",
      "830\n",
      "868\n",
      "918\n",
      "999\n",
      "967\n",
      "894\n",
      "1050\n",
      "1212\n",
      "1245\n",
      "1379\n",
      "1488\n",
      "1629\n",
      "1509\n",
      "1827\n",
      "2048\n",
      "2296\n",
      "2397\n",
      "2257\n",
      "2832\n",
      "3135\n",
      "3415\n",
      "3613\n",
      "3930\n",
      "4601\n",
      "5116\n",
      "5754\n",
      "6786\n",
      "8298\n",
      "9825\n",
      "12082\n",
      "14561\n",
      "18745\n",
      "25283\n",
      "35250\n",
      "7768\n"
     ]
    }
   ],
   "source": [
    "#no of users\n",
    "for i in unique_values:\n",
    "    weekDf = groupDf2[groupDf2['week'] == i]\n",
    "    unique_count = weekDf['screen_name'].nunique()\n",
    "    print(unique_count)\n",
    "    "
   ]
  }
 ],
 "metadata": {
  "kernelspec": {
   "display_name": "Python 3 (ipykernel)",
   "language": "python",
   "name": "python3"
  },
  "language_info": {
   "codemirror_mode": {
    "name": "ipython",
    "version": 3
   },
   "file_extension": ".py",
   "mimetype": "text/x-python",
   "name": "python",
   "nbconvert_exporter": "python",
   "pygments_lexer": "ipython3",
   "version": "3.9.12"
  }
 },
 "nbformat": 4,
 "nbformat_minor": 5
}
