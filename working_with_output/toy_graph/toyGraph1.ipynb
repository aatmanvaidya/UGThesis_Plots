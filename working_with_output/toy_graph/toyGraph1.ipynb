{
  "nbformat": 4,
  "nbformat_minor": 0,
  "metadata": {
    "colab": {
      "provenance": []
    },
    "kernelspec": {
      "name": "python3",
      "display_name": "Python 3"
    },
    "language_info": {
      "name": "python"
    }
  },
  "cells": [
    {
      "cell_type": "code",
      "execution_count": 1,
      "metadata": {
        "id": "LbtA-vB_mkMB"
      },
      "outputs": [],
      "source": [
        "import networkx as nx\n",
        "import matplotlib.pyplot as plt"
      ]
    },
    {
      "cell_type": "code",
      "source": [
        "# G = nx.cycle_graph(4)"
      ],
      "metadata": {
        "id": "fO8Ji-UAnEPi"
      },
      "execution_count": 2,
      "outputs": []
    },
    {
      "cell_type": "code",
      "source": [
        "# nx.draw(G, node_size=150, node_color='blue')"
      ],
      "metadata": {
        "id": "XPPD_ZLFn0Jr"
      },
      "execution_count": 3,
      "outputs": []
    },
    {
      "cell_type": "code",
      "source": [
        "G = nx.Graph()\n",
        "G.add_nodes_from([1, 2, 3, 4])"
      ],
      "metadata": {
        "id": "MsPOKZqJore3"
      },
      "execution_count": 4,
      "outputs": []
    },
    {
      "cell_type": "code",
      "source": [
        "G.add_edge(1, 2)\n",
        "G.add_edge(2, 3)\n",
        "G.add_edge(3, 4)\n",
        "G.add_edge(4, 1)"
      ],
      "metadata": {
        "id": "4YydH2rZsg6Z"
      },
      "execution_count": 5,
      "outputs": []
    },
    {
      "cell_type": "code",
      "source": [
        "nx.draw(G, with_labels=True)\n",
        "plt.show()"
      ],
      "metadata": {
        "colab": {
          "base_uri": "https://localhost:8080/",
          "height": 319
        },
        "id": "FBUUSEInsjft",
        "outputId": "39e9298d-e054-40c0-ec11-72ec5161d1d7"
      },
      "execution_count": 6,
      "outputs": [
        {
          "output_type": "display_data",
          "data": {
            "text/plain": [
              "<Figure size 432x288 with 1 Axes>"
            ],
            "image/png": "[encoded data removed]"
          },
          "metadata": {}
        }
      ]
    },
    {
      "cell_type": "code",
      "source": [
        "copyCatList = [2,4]\n",
        "attenList = [3]\n",
        "ampList = [1]"
      ],
      "metadata": {
        "id": "FQ99cSaEspSM"
      },
      "execution_count": 7,
      "outputs": []
    },
    {
      "cell_type": "code",
      "source": [
        "toxicity_values = {node: [0] * 5 for node in G.nodes()} # initialize the toxicity values for each node\n",
        "\n",
        "# set the initial toxicity value for node 1\n",
        "toxicity_values[1][0] = 1\n",
        "\n",
        "# set the toxicity value shift for each node category\n",
        "shifts = {\n",
        "    'copyCatList': 0.1,\n",
        "    'attenList': 0.05,\n",
        "    'ampList': 0.2\n",
        "}\n",
        "\n",
        "# run the simulation\n",
        "for t in range(1, 5):\n",
        "    for node in G.nodes():\n",
        "        # determine the node category\n",
        "        if node in copyCatList:\n",
        "            category = 'copyCatList'\n",
        "        elif node in attenList:\n",
        "            category = 'attenList'\n",
        "        else:\n",
        "            category = 'ampList'\n",
        "        \n",
        "        # calculate the toxicity value shift for this node category\n",
        "        shift = shifts[category]\n",
        "        \n",
        "        # calculate the new toxicity value based on the neighbors' toxicity values\n",
        "        neighbors = list(G.neighbors(node))\n",
        "        new_toxicity = toxicity_values[node][t-1] - shift * len(neighbors)\n",
        "        for neighbor in neighbors:\n",
        "            if neighbor in copyCatList:\n",
        "                new_toxicity -= shifts['copyCatList']\n",
        "            elif neighbor in attenList:\n",
        "                new_toxicity -= shifts['attenList']\n",
        "            else:\n",
        "                new_toxicity -= shifts['ampList']\n",
        "        \n",
        "        # set the new toxicity value for this node at this time step\n",
        "        toxicity_values[node][t] = new_toxicity\n",
        "\n",
        "# plot the results\n",
        "for node in G.nodes():\n",
        "    plt.plot(range(5), toxicity_values[node], label='Node {}'.format(node))\n",
        "plt.xlabel('Time')\n",
        "plt.ylabel('Toxicity Value')\n",
        "plt.legend()\n",
        "plt.show()"
      ],
      "metadata": {
        "colab": {
          "base_uri": "https://localhost:8080/",
          "height": 279
        },
        "id": "jUjP0agUG4Bf",
        "outputId": "31e8a478-c2d0-43c4-cdb8-d216f0e6daa1"
      },
      "execution_count": 19,
      "outputs": [
        {
          "output_type": "display_data",
          "data": {
            "text/plain": [
              "<Figure size 432x288 with 1 Axes>"
            ],
            "image/png": "[encoded data removed]"
          },
          "metadata": {
            "needs_background": "light"
          }
        }
      ]
    },
    {
      "cell_type": "code",
      "source": [
        "'''\n",
        "import networkx as nx\n",
        "import matplotlib.pyplot as plt\n",
        "\n",
        "G = nx.Graph()\n",
        "G.add_nodes_from([1, 2, 3, 4])\n",
        "G.add_edge(1, 2)\n",
        "G.add_edge(2, 3)\n",
        "G.add_edge(3, 4)\n",
        "G.add_edge(4, 1)\n",
        "\n",
        "copyCatList = [2,4]\n",
        "attenList = [3]\n",
        "ampList = [1]\n",
        "\n",
        "I have this code, and I want to run a simulation in this graph. The simulation should look something like this. \n",
        "\n",
        "Here the nodes have 3 categories, and there are three lists that contain the types of nodes. The list names are copyCatList, attenList, ampList.\n",
        "\n",
        "At time stamp 0, node 1 will have some value, let's call this the toxicity value. The toxicity value for node 1 and t=0 will be 1. \n",
        "in the simulation, based on the type of the node, each node will get a toxicity value shift. The toxicity value shifts are as follows for each node category\n",
        "copyCatList - 0.1\n",
        "attenList - 0.05\n",
        "ampList - 0.2\n",
        "\n",
        "Now let's continue the simulation, \n",
        "at t=1, the simulation will go to the neighbours of node 1, i.e. nodes 2 and 4, and based on their node category they will get a shift. Here both nodes 2 and 4 are in the copyCatList, so the values of nodes 2 and 4 will become (1-0.05), i.e. 0.95, nodes 2 and 4 will have the value 0.95. \n",
        "at t=2, the simulation will go to the neighbours of nodes 2 and 4, i.e node 3, and based on the category of the node, the node will get a shift. Here node 3 is in the attenList, so the value of node 3 will become (0.95-0.2) i.e. 0.75, i.e. each node 3 will have a value of 0.75. \n",
        "at t=3, the simulation will go to the neighbours of node 3, i.e. nodes 2 and 4. and based on the category of the node, the node will get a shift. Here nodes 2 and 4 are in the copyCatList, so the value of nodes 2 and 4 will become (0.75 - 0.1) i.e. 0.65 i.e. each node 2 and 4 will have a value of 0.65 now. \n",
        "at t=4, the simulation will go to the neighbours of nodes 2 and 4, i.e. node 1, and based on the category of the node, the node will get a shift. Here node 1 is the ampList, so the value of node 1 will become (0.65-0.2) i.e. 0.45 i.e. node 1 will have a value of 0.45 now. \n",
        "\n",
        "The simulation ends here, as it started with node 1 and it ends at node 1. How do I program this in python, where I can see the value of each node at each time stamp. \n",
        "'''"
      ],
      "metadata": {
        "colab": {
          "base_uri": "https://localhost:8080/",
          "height": 53
        },
        "id": "v2Y2WQWewr6X",
        "outputId": "e850daf9-9233-4cbe-8ce7-47a7410c9b9c"
      },
      "execution_count": 9,
      "outputs": [
        {
          "output_type": "execute_result",
          "data": {
            "text/plain": [
              "'\\nnow I want to run a simulation in this graph for each timestamp, \\nat t=1 node 1 will have value of 1, at t=2 the neighbors of node 1, i.e 2,4 will get some values that are a shift of 1, now do I code this\\n'"
            ],
            "application/vnd.google.colaboratory.intrinsic+json": {
              "type": "string"
            }
          },
          "metadata": {},
          "execution_count": 9
        }
      ]
    }
  ]
}