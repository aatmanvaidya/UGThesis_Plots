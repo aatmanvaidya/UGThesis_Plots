{
  "nbformat": 4,
  "nbformat_minor": 0,
  "metadata": {
    "colab": {
      "provenance": []
    },
    "kernelspec": {
      "name": "python3",
      "display_name": "Python 3"
    },
    "language_info": {
      "name": "python"
    }
  },
  "cells": [
    {
      "cell_type": "code",
      "execution_count": 1,
      "metadata": {
        "colab": {
          "base_uri": "https://localhost:8080/"
        },
        "id": "kk9YOH1qKyji",
        "outputId": "d1abffec-9aa0-4bb8-b9bc-e3f9a93dfeab"
      },
      "outputs": [
        {
          "output_type": "stream",
          "name": "stdout",
          "text": [
            "Mounted at /content/gdrive\n"
          ]
        }
      ],
      "source": [
        "from google.colab import drive\n",
        "drive.mount('/content/gdrive')"
      ]
    },
    {
      "cell_type": "code",
      "source": [
        "import pandas as pd\n",
        "import matplotlib.pyplot as plt\n",
        "import matplotlib.ticker as ticker\n",
        "import numpy as np\n",
        "from datetime import datetime\n",
        "import networkx as nx\n",
        "import math\n",
        "from collections import Counter, OrderedDict\n",
        "from scipy.stats import shapiro\n",
        "from scipy.stats import ks_2samp\n",
        "import scipy.stats as stats\n",
        "from scipy.stats import lognorm\n",
        "import statsmodels.api as sm\n",
        "from scipy.stats import norm\n",
        "import pylab\n",
        "from scipy.stats import yeojohnson\n",
        "\n",
        "import warnings\n",
        "warnings.filterwarnings(\"ignore\")"
      ],
      "metadata": {
        "id": "BZBAcJhwK1fQ"
      },
      "execution_count": 2,
      "outputs": []
    },
    {
      "cell_type": "code",
      "source": [
        "df = pd.read_csv(\"/content/gdrive/My Drive/tweetsConvereted2017_toxicPerspectiveScore.csv\")"
      ],
      "metadata": {
        "id": "M3TicyLRLqip"
      },
      "execution_count": 3,
      "outputs": []
    },
    {
      "cell_type": "code",
      "source": [
        "G = nx.read_edgelist('/content/gdrive/My Drive/users.edgelist')"
      ],
      "metadata": {
        "id": "aO290RKUL3hO"
      },
      "execution_count": 4,
      "outputs": []
    },
    {
      "cell_type": "code",
      "source": [
        "groupDf = df[['user_id', 'Toxicity']]\n",
        "groupDf2 = groupDf[['user_id', 'Toxicity']].astype({'user_id': str})\n",
        "groupedDf = groupDf2.groupby(['user_id']).agg({'Toxicity': 'mean'}).reset_index()"
      ],
      "metadata": {
        "id": "i-H1ZkLYL4tW"
      },
      "execution_count": 5,
      "outputs": []
    },
    {
      "cell_type": "code",
      "source": [
        "users_list = list(groupedDf['user_id'].unique().astype(str))\n",
        "G2 = G.subgraph(users_list)"
      ],
      "metadata": {
        "id": "cSP_99CIL6E1"
      },
      "execution_count": 6,
      "outputs": []
    },
    {
      "cell_type": "code",
      "source": [
        "user_toxicity = groupedDf.set_index('user_id')['Toxicity'].to_dict()"
      ],
      "metadata": {
        "id": "Rb7Z86IwL7WN"
      },
      "execution_count": 7,
      "outputs": []
    },
    {
      "cell_type": "code",
      "source": [
        "neighbor_toxicity = {}\n",
        "for user in G2.nodes():\n",
        "  neighbors = list(G2.neighbors(user))\n",
        "  if user in neighbors:\n",
        "      neighbors.remove(user)\n",
        "  if len(neighbors) > 0:\n",
        "      neighbor_toxicity[user] = groupedDf[groupedDf['user_id'].isin(neighbors)]['Toxicity'].mean()"
      ],
      "metadata": {
        "id": "XvAOpw-tL8u9"
      },
      "execution_count": 8,
      "outputs": []
    },
    {
      "cell_type": "code",
      "source": [
        "x = [user_toxicity[user] for user in neighbor_toxicity.keys()]\n",
        "y = list(neighbor_toxicity.values())"
      ],
      "metadata": {
        "id": "jvwxEqdKL92V"
      },
      "execution_count": 9,
      "outputs": []
    },
    {
      "cell_type": "code",
      "source": [
        "diff = [x[i] - y[i] for i in range(len(x))]"
      ],
      "metadata": {
        "id": "5kzUpvWQO6mU"
      },
      "execution_count": 21,
      "outputs": []
    },
    {
      "cell_type": "code",
      "source": [
        "diff_dict = {user_id: user_toxicity[user_id] - neighbor_toxicity[user_id] for user_id in neighbor_toxicity}"
      ],
      "metadata": {
        "id": "pRJ65TbgQIJA"
      },
      "execution_count": 22,
      "outputs": []
    },
    {
      "cell_type": "code",
      "source": [
        "len(diff_dict)"
      ],
      "metadata": {
        "colab": {
          "base_uri": "https://localhost:8080/"
        },
        "id": "eOODBJfRYXAW",
        "outputId": "03c7fe88-1ca1-4a67-e255-154e638fd605"
      },
      "execution_count": 23,
      "outputs": [
        {
          "output_type": "execute_result",
          "data": {
            "text/plain": [
              "59837"
            ]
          },
          "metadata": {},
          "execution_count": 23
        }
      ]
    },
    {
      "cell_type": "code",
      "source": [
        "diff_dict_keys = list(diff_dict.keys())\n",
        "neighbor_toxicity_keys = list(neighbor_toxicity.keys())\n",
        "\n",
        "if diff_dict_keys == neighbor_toxicity_keys:\n",
        "    print(\"The keys in toxicity_diff and neighbor_toxicity are the same\")\n",
        "else:\n",
        "    print(\"The keys in toxicity_diff and neighbor_toxicity are different\")\n"
      ],
      "metadata": {
        "colab": {
          "base_uri": "https://localhost:8080/"
        },
        "id": "8tuT_eKKYqGU",
        "outputId": "9e92f168-7c04-49e3-c199-2f708fe504fe"
      },
      "execution_count": 24,
      "outputs": [
        {
          "output_type": "stream",
          "name": "stdout",
          "text": [
            "The keys in toxicity_diff and neighbor_toxicity are the same\n"
          ]
        }
      ]
    },
    {
      "cell_type": "code",
      "source": [
        "if diff == list(diff_dict.values()):\n",
        "  print('same')\n",
        "else:\n",
        "  print('not same')"
      ],
      "metadata": {
        "colab": {
          "base_uri": "https://localhost:8080/"
        },
        "id": "DFdZcP23dIDQ",
        "outputId": "bfe4c34c-740c-4dc8-f265-e5a633511e14"
      },
      "execution_count": 44,
      "outputs": [
        {
          "output_type": "stream",
          "name": "stdout",
          "text": [
            "same\n"
          ]
        }
      ]
    },
    {
      "cell_type": "code",
      "source": [
        "sorted_diff_dict = {k: v for k, v in sorted(diff_dict.items(), key=lambda item: item[1])}"
      ],
      "metadata": {
        "id": "cebRgrfMZX6H"
      },
      "execution_count": 28,
      "outputs": []
    },
    {
      "cell_type": "code",
      "source": [
        "len(sorted_diff_dict)"
      ],
      "metadata": {
        "colab": {
          "base_uri": "https://localhost:8080/"
        },
        "id": "RaYe4z9MZ4gH",
        "outputId": "b63f872b-61f1-4470-acd1-38f48e6c985e"
      },
      "execution_count": 30,
      "outputs": [
        {
          "output_type": "execute_result",
          "data": {
            "text/plain": [
              "59837"
            ]
          },
          "metadata": {},
          "execution_count": 30
        }
      ]
    },
    {
      "cell_type": "code",
      "source": [
        "values = list(sorted_diff_dict.values())\n",
        "Q1 = np.percentile(values, 25, interpolation='midpoint')\n",
        "Q2 = np.percentile(values, 50, interpolation='midpoint')\n",
        "Q3 = np.percentile(values, 75, interpolation='midpoint')\n",
        "\n",
        "print('Q1 25 percentile of the given data is, ', Q1)\n",
        "print('Q2 50 percentile of the given data is, ', Q2)\n",
        "print('Q3 75 percentile of the given data is, ', Q3)\n",
        "\n",
        "iqr = Q3 - Q1\n",
        "print('Interquartile range is', iqr)"
      ],
      "metadata": {
        "colab": {
          "base_uri": "https://localhost:8080/"
        },
        "id": "bnOzUWF5aESD",
        "outputId": "2f0ca79b-53bc-47cf-f0a9-1924fb563224"
      },
      "execution_count": 37,
      "outputs": [
        {
          "output_type": "stream",
          "name": "stdout",
          "text": [
            "Q1 25 percentile of the given data is,  -0.027702269315666092\n",
            "Q2 50 percentile of the given data is,  -0.008956206727245425\n",
            "Q3 75 percentile of the given data is,  0.0159364772955487\n",
            "Interquartile range is 0.04363874661121479\n"
          ]
        }
      ]
    },
    {
      "cell_type": "code",
      "source": [
        "low_lim = Q1 - 1.5 * iqr\n",
        "up_lim = Q3 + 1.5 * iqr\n",
        "print('low_limit is', low_lim)\n",
        "print('up_limit is', up_lim)"
      ],
      "metadata": {
        "colab": {
          "base_uri": "https://localhost:8080/"
        },
        "id": "TEGemp3IaypG",
        "outputId": "455896ef-90d2-4b1e-b151-50c920600e6e"
      },
      "execution_count": 38,
      "outputs": [
        {
          "output_type": "stream",
          "name": "stdout",
          "text": [
            "low_limit is -0.09316038923248827\n",
            "up_limit is 0.08139459721237088\n"
          ]
        }
      ]
    },
    {
      "cell_type": "code",
      "source": [
        "outlier = []\n",
        "for i in values:\n",
        "    if ((i> up_lim) or (i<low_lim)):\n",
        "         outlier.append(i)"
      ],
      "metadata": {
        "id": "E-Hwk2A4bXoX"
      },
      "execution_count": 56,
      "outputs": []
    },
    {
      "cell_type": "code",
      "source": [
        "len(outlier)"
      ],
      "metadata": {
        "colab": {
          "base_uri": "https://localhost:8080/"
        },
        "id": "IQ34CQBvboXv",
        "outputId": "85b1f809-25fb-4c4f-b7fd-3dc381dee0c6"
      },
      "execution_count": 57,
      "outputs": [
        {
          "output_type": "execute_result",
          "data": {
            "text/plain": [
              "4916"
            ]
          },
          "metadata": {},
          "execution_count": 57
        }
      ]
    },
    {
      "cell_type": "code",
      "source": [
        "outlier_dict = {}\n",
        "for i in range(len(outlier)):\n",
        "    index = values.index(outlier[i])\n",
        "    user_id = list(sorted_diff_dict.keys())[index]\n",
        "    outlier_dict[user_id] = outlier[i]"
      ],
      "metadata": {
        "id": "V67iE_5zcLqn"
      },
      "execution_count": 46,
      "outputs": []
    },
    {
      "cell_type": "code",
      "source": [
        "len(outlier_dict)"
      ],
      "metadata": {
        "colab": {
          "base_uri": "https://localhost:8080/"
        },
        "id": "0cjxadSyeIxD",
        "outputId": "a90f2b69-02cc-4910-a707-504b278ca60e"
      },
      "execution_count": 48,
      "outputs": [
        {
          "output_type": "execute_result",
          "data": {
            "text/plain": [
              "4916"
            ]
          },
          "metadata": {},
          "execution_count": 48
        }
      ]
    },
    {
      "cell_type": "code",
      "source": [
        "attenuator_list = []\n",
        "amplifier_list = []\n",
        "\n",
        "for user_id, value in outlier_dict.items():\n",
        "    if value < 0:\n",
        "        attenuator_list.append(user_id)\n",
        "    elif value >= 0:\n",
        "        amplifier_list.append(user_id)"
      ],
      "metadata": {
        "id": "fyIGJfW8gSIy"
      },
      "execution_count": 53,
      "outputs": []
    },
    {
      "cell_type": "code",
      "source": [
        "len(attenuator_list)"
      ],
      "metadata": {
        "colab": {
          "base_uri": "https://localhost:8080/"
        },
        "id": "AayMYdPKhI3C",
        "outputId": "597197db-96e8-431a-98ec-7685de7f04d6"
      },
      "execution_count": 54,
      "outputs": [
        {
          "output_type": "execute_result",
          "data": {
            "text/plain": [
              "1237"
            ]
          },
          "metadata": {},
          "execution_count": 54
        }
      ]
    },
    {
      "cell_type": "code",
      "source": [
        "len(amplifier_list)"
      ],
      "metadata": {
        "colab": {
          "base_uri": "https://localhost:8080/"
        },
        "id": "VfVRp_iGhShH",
        "outputId": "d08cf07d-9fde-4323-fd1d-de0ea10b154b"
      },
      "execution_count": 55,
      "outputs": [
        {
          "output_type": "execute_result",
          "data": {
            "text/plain": [
              "3679"
            ]
          },
          "metadata": {},
          "execution_count": 55
        }
      ]
    },
    {
      "cell_type": "code",
      "source": [
        "'''\n",
        "df = pd.read_csv(\"/content/gdrive/My Drive/tweetsConvereted2017_toxicPerspectiveScore.csv\")\n",
        "G = nx.read_edgelist('/content/gdrive/My Drive/users.edgelist')\n",
        "groupDf = df[['user_id', 'Toxicity']]\n",
        "groupDf2 = groupDf[['user_id', 'Toxicity']].astype({'user_id': str})\n",
        "groupedDf = groupDf2.groupby(['user_id']).agg({'Toxicity': 'mean'}).reset_index()\n",
        "users_list = list(groupedDf['user_id'].unique().astype(str))\n",
        "G2 = G.subgraph(users_list)\n",
        "user_toxicity = groupedDf.set_index('user_id')['Toxicity'].to_dict()\n",
        "neighbor_toxicity = {}\n",
        "for user in G2.nodes():\n",
        "  neighbors = list(G2.neighbors(user))\n",
        "  if user in neighbors:\n",
        "      neighbors.remove(user)\n",
        "  if len(neighbors) > 0:\n",
        "      neighbor_toxicity[user] = groupedDf[groupedDf['user_id'].isin(neighbors)]['Toxicity'].mean()\n",
        "x = [user_toxicity[user] for user in neighbor_toxicity.keys()]\n",
        "y = list(neighbor_toxicity.values())\n",
        "diff = [x[i] - y[i] for i in range(len(x))]\n",
        "diff_dict = {user_id: user_toxicity[user_id] - neighbor_toxicity[user_id] for user_id in neighbor_toxicity}\n",
        "sorted_diff_dict = {k: v for k, v in sorted(diff_dict.items(), key=lambda item: item[1])}\n",
        "values = list(sorted_diff_dict.values())\n",
        "Q1 = np.percentile(values, 25, interpolation='midpoint')\n",
        "Q2 = np.percentile(values, 50, interpolation='midpoint')\n",
        "Q3 = np.percentile(values, 75, interpolation='midpoint')\n",
        "\n",
        "print('Q1 25 percentile of the given data is, ', Q1)\n",
        "print('Q2 50 percentile of the given data is, ', Q2)\n",
        "print('Q3 75 percentile of the given data is, ', Q3)\n",
        "\n",
        "iqr = Q3 - Q1\n",
        "print('Interquartile range is', iqr)\n",
        "low_lim = Q1 - 1.5 * iqr\n",
        "up_lim = Q3 + 1.5 * iqr\n",
        "print('low_limit is', low_lim)\n",
        "print('up_limit is', up_lim)\n",
        "outlier = []\n",
        "for i in values:\n",
        "    if ((i> up_lim) or (i<low_lim)):\n",
        "         outlier.append(i)\n",
        "print(outlier)\n",
        "'''"
      ],
      "metadata": {
        "colab": {
          "base_uri": "https://localhost:8080/",
          "height": 123
        },
        "id": "-djc0-ZPcnhe",
        "outputId": "db6024c5-4a50-40e1-8fff-e1fc249e6282"
      },
      "execution_count": 43,
      "outputs": [
        {
          "output_type": "execute_result",
          "data": {
            "text/plain": [
              "'\\ndf = pd.read_csv(\"/content/gdrive/My Drive/tweetsConvereted2017_toxicPerspectiveScore.csv\")\\nG = nx.read_edgelist(\\'/content/gdrive/My Drive/users.edgelist\\')\\ngroupDf = df[[\\'user_id\\', \\'Toxicity\\']]\\ngroupDf2 = groupDf[[\\'user_id\\', \\'Toxicity\\']].astype({\\'user_id\\': str})\\ngroupedDf = groupDf2.groupby([\\'user_id\\']).agg({\\'Toxicity\\': \\'mean\\'}).reset_index()\\nusers_list = list(groupedDf[\\'user_id\\'].unique().astype(str))\\nG2 = G.subgraph(users_list)\\nuser_toxicity = groupedDf.set_index(\\'user_id\\')[\\'Toxicity\\'].to_dict()\\nneighbor_toxicity = {}\\nfor user in G2.nodes():\\n  neighbors = list(G2.neighbors(user))\\n  if user in neighbors:\\n      neighbors.remove(user)\\n  if len(neighbors) > 0:\\n      neighbor_toxicity[user] = groupedDf[groupedDf[\\'user_id\\'].isin(neighbors)][\\'Toxicity\\'].mean()\\nx = [user_toxicity[user] for user in neighbor_toxicity.keys()]\\ny = list(neighbor_toxicity.values())\\ndiff = [x[i] - y[i] for i in range(len(x))]\\ndiff_dict = {user_id: user_toxicity[user_id] - neighbor_toxicity[user_id] for user_id in neighbor_toxicity}\\nsorted_diff_dict = {k: v for k, v in sorted(diff_dict.items(), key=lambda item: item[1])}\\nvalues = list(sorted_diff_dict.values())\\nQ1 = np.percentile(values, 25, interpolation=\\'midpoint\\')\\nQ2 = np.percentile(values, 50, interpolation=\\'midpoint\\')\\nQ3 = np.percentile(values, 75, interpolation=\\'midpoint\\')\\n\\nprint(\\'Q1 25 percentile of the given data is, \\', Q1)\\nprint(\\'Q2 50 percentile of the given data is, \\', Q2)\\nprint(\\'Q3 75 percentile of the given data is, \\', Q3)\\n\\niqr = Q3 - Q1\\nprint(\\'Interquartile range is\\', iqr)\\nlow_lim = Q1 - 1.5 * iqr\\nup_lim = Q3 + 1.5 * iqr\\nprint(\\'low_limit is\\', low_lim)\\nprint(\\'up_limit is\\', up_lim)\\noutlier = []\\nfor i in values:\\n    if ((i> up_lim) or (i<low_lim)):\\n         outlier.append(i)\\nprint(outlier)\\n'"
            ],
            "application/vnd.google.colaboratory.intrinsic+json": {
              "type": "string"
            }
          },
          "metadata": {},
          "execution_count": 43
        }
      ]
    }
  ]
}