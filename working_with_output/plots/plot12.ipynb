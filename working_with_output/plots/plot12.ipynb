{
  "nbformat": 4,
  "nbformat_minor": 0,
  "metadata": {
    "colab": {
      "provenance": []
    },
    "kernelspec": {
      "name": "python3",
      "display_name": "Python 3"
    },
    "language_info": {
      "name": "python"
    }
  },
  "cells": [
    {
      "cell_type": "code",
      "execution_count": 1,
      "metadata": {
        "colab": {
          "base_uri": "https://localhost:8080/"
        },
        "id": "nHWoEgvkCJe0",
        "outputId": "cec83dfd-e0dd-48d5-d1b3-e1978981895f"
      },
      "outputs": [
        {
          "output_type": "stream",
          "name": "stdout",
          "text": [
            "Mounted at /content/gdrive\n"
          ]
        }
      ],
      "source": [
        "from google.colab import drive\n",
        "drive.mount('/content/gdrive')"
      ]
    },
    {
      "cell_type": "code",
      "source": [
        "import pandas as pd\n",
        "import numpy as np\n",
        "import networkx as nx\n",
        "import networkx.algorithms.community as nx_comm\n",
        "# from networkx.algorithms.community.quality import modularity, to_partition\n",
        "# from networkx.algorithms.community import utils as nx_comm_utils\n",
        "\n",
        "import warnings\n",
        "warnings.filterwarnings(\"ignore\")"
      ],
      "metadata": {
        "id": "uriBt2WRCkg5"
      },
      "execution_count": 2,
      "outputs": []
    },
    {
      "cell_type": "code",
      "source": [
        "df = pd.read_csv(\"/content/gdrive/My Drive/tweetsConvereted2017_toxicPerspectiveScore.csv\")"
      ],
      "metadata": {
        "id": "VBBspCEPDGq9"
      },
      "execution_count": 3,
      "outputs": []
    },
    {
      "cell_type": "code",
      "source": [
        "G = nx.read_edgelist('/content/gdrive/My Drive/users.edgelist')"
      ],
      "metadata": {
        "id": "GQVvgNR1DIEd"
      },
      "execution_count": 4,
      "outputs": []
    },
    {
      "cell_type": "code",
      "source": [
        "groupDf = df[['user_id', 'Toxicity']]\n",
        "groupDf2 = groupDf[['user_id', 'Toxicity']].astype({'user_id': str})\n",
        "groupedDf = groupDf2.groupby(['user_id']).agg({'Toxicity': 'mean'}).reset_index()"
      ],
      "metadata": {
        "id": "diSkZpcODJ8x"
      },
      "execution_count": 5,
      "outputs": []
    },
    {
      "cell_type": "code",
      "source": [
        "users_list = list(groupedDf['user_id'].unique().astype(str))\n",
        "G2 = G.subgraph(users_list)"
      ],
      "metadata": {
        "id": "vHxzjpVCDMHN"
      },
      "execution_count": 6,
      "outputs": []
    },
    {
      "cell_type": "code",
      "source": [
        "G2.number_of_edges()"
      ],
      "metadata": {
        "colab": {
          "base_uri": "https://localhost:8080/"
        },
        "id": "RlB1oxA9JO5s",
        "outputId": "4068cc9d-19ec-42e9-8c70-f2d90052e870"
      },
      "execution_count": 7,
      "outputs": [
        {
          "output_type": "execute_result",
          "data": {
            "text/plain": [
              "1161596"
            ]
          },
          "metadata": {},
          "execution_count": 7
        }
      ]
    },
    {
      "cell_type": "code",
      "source": [
        "user_toxicity = groupedDf.set_index('user_id')['Toxicity'].to_dict()"
      ],
      "metadata": {
        "id": "xZ_Cv260DNcN"
      },
      "execution_count": 8,
      "outputs": []
    },
    {
      "cell_type": "code",
      "source": [
        "neighbor_toxicity = {}\n",
        "for user in G2.nodes():\n",
        "  neighbors = list(G2.neighbors(user))\n",
        "  if user in neighbors:\n",
        "      neighbors.remove(user)\n",
        "  if len(neighbors) > 0:\n",
        "      neighbor_toxicity[user] = groupedDf[groupedDf['user_id'].isin(neighbors)]['Toxicity'].mean()"
      ],
      "metadata": {
        "id": "0iv_ihZEDRa2"
      },
      "execution_count": 9,
      "outputs": []
    },
    {
      "cell_type": "code",
      "source": [
        "x = [user_toxicity[user] for user in neighbor_toxicity.keys()]\n",
        "y = list(neighbor_toxicity.values())"
      ],
      "metadata": {
        "id": "LUXNRX9ODS15"
      },
      "execution_count": 10,
      "outputs": []
    },
    {
      "cell_type": "code",
      "source": [
        "diff = [x[i] - y[i] for i in range(len(x))]"
      ],
      "metadata": {
        "id": "Ox8uMnhoDUkm"
      },
      "execution_count": 11,
      "outputs": []
    },
    {
      "cell_type": "code",
      "source": [
        "diff_dict = {user_id: user_toxicity[user_id] - neighbor_toxicity[user_id] for user_id in neighbor_toxicity}"
      ],
      "metadata": {
        "id": "LiDkuNQlDVkS"
      },
      "execution_count": 12,
      "outputs": []
    },
    {
      "cell_type": "code",
      "source": [
        "sorted_diff_dict = {k: v for k, v in sorted(diff_dict.items(), key=lambda item: item[1])}"
      ],
      "metadata": {
        "id": "YrKBVYzFDW7V"
      },
      "execution_count": 13,
      "outputs": []
    },
    {
      "cell_type": "code",
      "source": [
        "values = list(sorted_diff_dict.values())\n",
        "Q1 = np.percentile(values, 25, interpolation='midpoint')\n",
        "Q2 = np.percentile(values, 50, interpolation='midpoint')\n",
        "Q3 = np.percentile(values, 75, interpolation='midpoint')\n",
        "\n",
        "iqr = Q3 - Q1"
      ],
      "metadata": {
        "id": "R2tZUWkADZ61"
      },
      "execution_count": 14,
      "outputs": []
    },
    {
      "cell_type": "code",
      "source": [
        "low_lim = Q1 - 1.5 * iqr\n",
        "up_lim = Q3 + 1.5 * iqr"
      ],
      "metadata": {
        "id": "0zdjqUAVDgsf"
      },
      "execution_count": 15,
      "outputs": []
    },
    {
      "cell_type": "code",
      "source": [
        "outlier = []\n",
        "\n",
        "for i in values:\n",
        "    if ((i> up_lim) or (i<low_lim)):\n",
        "         outlier.append(i)"
      ],
      "metadata": {
        "id": "h9W4NkZYDiT_"
      },
      "execution_count": 16,
      "outputs": []
    },
    {
      "cell_type": "code",
      "source": [
        "outlier_dict = {}\n",
        "for i in range(len(outlier)):\n",
        "    index = values.index(outlier[i])\n",
        "    user_id = list(sorted_diff_dict.keys())[index]\n",
        "    outlier_dict[user_id] = outlier[i]"
      ],
      "metadata": {
        "id": "5VLEIp2YDsbZ"
      },
      "execution_count": 17,
      "outputs": []
    },
    {
      "cell_type": "code",
      "source": [
        "attenuator_list = []\n",
        "amplifier_list = []\n",
        "\n",
        "for user_id, value in outlier_dict.items():\n",
        "    if value < 0:\n",
        "        attenuator_list.append(user_id)\n",
        "    elif value >= 0:\n",
        "        amplifier_list.append(user_id)"
      ],
      "metadata": {
        "id": "NT_t7uB0DuOA"
      },
      "execution_count": 18,
      "outputs": []
    },
    {
      "cell_type": "code",
      "source": [
        "copyCat_list = list(set(users_list) - set(attenuator_list) - set(amplifier_list))"
      ],
      "metadata": {
        "id": "yNREIy7ZE_wX"
      },
      "execution_count": 19,
      "outputs": []
    },
    {
      "cell_type": "code",
      "source": [
        "print(len(attenuator_list))\n",
        "print(len(amplifier_list))\n",
        "print(len(copyCat_list))"
      ],
      "metadata": {
        "colab": {
          "base_uri": "https://localhost:8080/"
        },
        "id": "8TTIYkj-rI9x",
        "outputId": "b53f3f4a-51f9-422d-b5b2-7b051c96855a"
      },
      "execution_count": 20,
      "outputs": [
        {
          "output_type": "stream",
          "name": "stdout",
          "text": [
            "1237\n",
            "3679\n",
            "54932\n"
          ]
        }
      ]
    },
    {
      "cell_type": "code",
      "source": [
        "mod = nx_comm.modularity(G2, [attenuator_list,amplifier_list,copyCat_list])\n",
        "print(mod)"
      ],
      "metadata": {
        "id": "gRIuYbUFIaq8",
        "colab": {
          "base_uri": "https://localhost:8080/"
        },
        "outputId": "14c5380f-c1a0-45d2-f093-e9f121bb18e4"
      },
      "execution_count": 21,
      "outputs": [
        {
          "output_type": "stream",
          "name": "stdout",
          "text": [
            "0.019838843258746963\n"
          ]
        }
      ]
    },
    {
      "cell_type": "code",
      "source": [
        "com = nx_comm.louvain_communities(G2)\n",
        "print(len(com))"
      ],
      "metadata": {
        "id": "54WL1hw7K0bb",
        "colab": {
          "base_uri": "https://localhost:8080/"
        },
        "outputId": "366812f4-ab54-4864-9e4f-3819d67546f7"
      },
      "execution_count": 22,
      "outputs": [
        {
          "output_type": "stream",
          "name": "stdout",
          "text": [
            "80\n"
          ]
        }
      ]
    },
    {
      "cell_type": "code",
      "source": [
        "com2 = nx_comm.louvain_communities(G2)\n",
        "print(len(com2))"
      ],
      "metadata": {
        "colab": {
          "base_uri": "https://localhost:8080/"
        },
        "id": "R7j0pI-LA-QH",
        "outputId": "67cf51da-02ba-4c35-a566-35efd6ad4c6d"
      },
      "execution_count": 23,
      "outputs": [
        {
          "output_type": "stream",
          "name": "stdout",
          "text": [
            "80\n"
          ]
        }
      ]
    },
    {
      "cell_type": "code",
      "source": [
        "com3 = nx_comm.louvain_communities(G2)\n",
        "print(len(com3))"
      ],
      "metadata": {
        "colab": {
          "base_uri": "https://localhost:8080/"
        },
        "id": "y5xKYhiwBE-9",
        "outputId": "584b3c2a-1662-4c73-8b07-9199f82b52e0"
      },
      "execution_count": 24,
      "outputs": [
        {
          "output_type": "stream",
          "name": "stdout",
          "text": [
            "75\n"
          ]
        }
      ]
    },
    {
      "cell_type": "code",
      "source": [
        "lc_mod = nx_comm.modularity(G2, com)\n",
        "print(lc_mod)"
      ],
      "metadata": {
        "colab": {
          "base_uri": "https://localhost:8080/"
        },
        "id": "px05e_F1KXbD",
        "outputId": "39bcf816-2c61-408f-ab63-dfab83b475de"
      },
      "execution_count": 25,
      "outputs": [
        {
          "output_type": "stream",
          "name": "stdout",
          "text": [
            "0.6534156299849836\n"
          ]
        }
      ]
    }
  ]
}