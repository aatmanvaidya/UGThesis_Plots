{
  "nbformat": 4,
  "nbformat_minor": 0,
  "metadata": {
    "colab": {
      "provenance": []
    },
    "kernelspec": {
      "name": "python3",
      "display_name": "Python 3"
    },
    "language_info": {
      "name": "python"
    }
  },
  "cells": [
    {
      "cell_type": "code",
      "execution_count": 1,
      "metadata": {
        "colab": {
          "base_uri": "https://localhost:8080/"
        },
        "id": "nHWoEgvkCJe0",
        "outputId": "bc838299-2da4-42f1-91d8-989955f5d4ca"
      },
      "outputs": [
        {
          "output_type": "stream",
          "name": "stdout",
          "text": [
            "Mounted at /content/gdrive\n"
          ]
        }
      ],
      "source": [
        "from google.colab import drive\n",
        "drive.mount('/content/gdrive')"
      ]
    },
    {
      "cell_type": "code",
      "source": [
        "import pandas as pd\n",
        "import numpy as np\n",
        "import networkx as nx\n",
        "import networkx.algorithms.community as nx_comm\n",
        "\n",
        "import warnings\n",
        "warnings.filterwarnings(\"ignore\")"
      ],
      "metadata": {
        "id": "uriBt2WRCkg5"
      },
      "execution_count": 2,
      "outputs": []
    },
    {
      "cell_type": "code",
      "source": [
        "df = pd.read_csv(\"/content/gdrive/My Drive/tweetsConvereted2017_toxicPerspectiveScore.csv\")"
      ],
      "metadata": {
        "id": "VBBspCEPDGq9"
      },
      "execution_count": 3,
      "outputs": []
    },
    {
      "cell_type": "code",
      "source": [
        "G = nx.read_edgelist('/content/gdrive/My Drive/users.edgelist')"
      ],
      "metadata": {
        "id": "GQVvgNR1DIEd"
      },
      "execution_count": 4,
      "outputs": []
    },
    {
      "cell_type": "code",
      "source": [
        "groupDf = df[['user_id', 'Toxicity']]\n",
        "groupDf2 = groupDf[['user_id', 'Toxicity']].astype({'user_id': str})\n",
        "groupedDf = groupDf2.groupby(['user_id']).agg({'Toxicity': 'mean'}).reset_index()"
      ],
      "metadata": {
        "id": "diSkZpcODJ8x"
      },
      "execution_count": 5,
      "outputs": []
    },
    {
      "cell_type": "code",
      "source": [
        "users_list = list(groupedDf['user_id'].unique().astype(str))\n",
        "G2 = G.subgraph(users_list)"
      ],
      "metadata": {
        "id": "vHxzjpVCDMHN"
      },
      "execution_count": 6,
      "outputs": []
    },
    {
      "cell_type": "code",
      "source": [
        "user_toxicity = groupedDf.set_index('user_id')['Toxicity'].to_dict()"
      ],
      "metadata": {
        "id": "xZ_Cv260DNcN"
      },
      "execution_count": 7,
      "outputs": []
    },
    {
      "cell_type": "code",
      "source": [
        "neighbor_toxicity = {}\n",
        "for user in G2.nodes():\n",
        "  neighbors = list(G2.neighbors(user))\n",
        "  if user in neighbors:\n",
        "      neighbors.remove(user)\n",
        "  if len(neighbors) > 0:\n",
        "      neighbor_toxicity[user] = groupedDf[groupedDf['user_id'].isin(neighbors)]['Toxicity'].mean()"
      ],
      "metadata": {
        "id": "0iv_ihZEDRa2"
      },
      "execution_count": 8,
      "outputs": []
    },
    {
      "cell_type": "code",
      "source": [
        "x = [user_toxicity[user] for user in neighbor_toxicity.keys()]\n",
        "y = list(neighbor_toxicity.values())"
      ],
      "metadata": {
        "id": "LUXNRX9ODS15"
      },
      "execution_count": 9,
      "outputs": []
    },
    {
      "cell_type": "code",
      "source": [
        "diff = [x[i] - y[i] for i in range(len(x))]"
      ],
      "metadata": {
        "id": "Ox8uMnhoDUkm"
      },
      "execution_count": 10,
      "outputs": []
    },
    {
      "cell_type": "code",
      "source": [
        "diff_dict = {user_id: user_toxicity[user_id] - neighbor_toxicity[user_id] for user_id in neighbor_toxicity}"
      ],
      "metadata": {
        "id": "LiDkuNQlDVkS"
      },
      "execution_count": 11,
      "outputs": []
    },
    {
      "cell_type": "code",
      "source": [
        "sorted_diff_dict = {k: v for k, v in sorted(diff_dict.items(), key=lambda item: item[1])}"
      ],
      "metadata": {
        "id": "YrKBVYzFDW7V"
      },
      "execution_count": 12,
      "outputs": []
    },
    {
      "cell_type": "code",
      "source": [
        "values = list(sorted_diff_dict.values())\n",
        "Q1 = np.percentile(values, 25, interpolation='midpoint')\n",
        "Q2 = np.percentile(values, 50, interpolation='midpoint')\n",
        "Q3 = np.percentile(values, 75, interpolation='midpoint')\n",
        "\n",
        "iqr = Q3 - Q1"
      ],
      "metadata": {
        "id": "R2tZUWkADZ61"
      },
      "execution_count": 13,
      "outputs": []
    },
    {
      "cell_type": "code",
      "source": [
        "low_lim = Q1 - 1.5 * iqr\n",
        "up_lim = Q3 + 1.5 * iqr"
      ],
      "metadata": {
        "id": "0zdjqUAVDgsf"
      },
      "execution_count": 14,
      "outputs": []
    },
    {
      "cell_type": "code",
      "source": [
        "outlier = []\n",
        "for i in values:\n",
        "    if ((i> up_lim) or (i<low_lim)):\n",
        "         outlier.append(i)"
      ],
      "metadata": {
        "id": "h9W4NkZYDiT_"
      },
      "execution_count": 15,
      "outputs": []
    },
    {
      "cell_type": "code",
      "source": [
        "outlier_dict = {}\n",
        "for i in range(len(outlier)):\n",
        "    index = values.index(outlier[i])\n",
        "    user_id = list(sorted_diff_dict.keys())[index]\n",
        "    outlier_dict[user_id] = outlier[i]"
      ],
      "metadata": {
        "id": "5VLEIp2YDsbZ"
      },
      "execution_count": 16,
      "outputs": []
    },
    {
      "cell_type": "code",
      "source": [
        "attenuator_list = []\n",
        "amplifier_list = []\n",
        "\n",
        "for user_id, value in outlier_dict.items():\n",
        "    if value < 0:\n",
        "        attenuator_list.append(user_id)\n",
        "    elif value >= 0:\n",
        "        amplifier_list.append(user_id)"
      ],
      "metadata": {
        "id": "NT_t7uB0DuOA"
      },
      "execution_count": 17,
      "outputs": []
    },
    {
      "cell_type": "code",
      "source": [
        "copyCat_list = list(set(users_list) - set(attenuator_list) - set(amplifier_list))"
      ],
      "metadata": {
        "id": "yNREIy7ZE_wX"
      },
      "execution_count": 18,
      "outputs": []
    },
    {
      "cell_type": "code",
      "source": [
        "print(len(attenuator_list))\n",
        "print(len(amplifier_list))\n",
        "print(len(copyCat_list))"
      ],
      "metadata": {
        "colab": {
          "base_uri": "https://localhost:8080/"
        },
        "id": "8TTIYkj-rI9x",
        "outputId": "e5f612d1-a3dc-4a17-df65-17fbb21c93c9"
      },
      "execution_count": 23,
      "outputs": [
        {
          "output_type": "stream",
          "name": "stdout",
          "text": [
            "1237\n",
            "3679\n",
            "54932\n"
          ]
        }
      ]
    },
    {
      "cell_type": "code",
      "source": [
        "mod = nx_comm.modularity(G2, [attenuator_list,amplifier_list,copyCat_list])\n",
        "print(mod)"
      ],
      "metadata": {
        "id": "gRIuYbUFIaq8",
        "colab": {
          "base_uri": "https://localhost:8080/"
        },
        "outputId": "49333c58-183b-447c-ace1-29f18fab5075"
      },
      "execution_count": 19,
      "outputs": [
        {
          "output_type": "stream",
          "name": "stdout",
          "text": [
            "0.019838843258746963\n"
          ]
        }
      ]
    },
    {
      "cell_type": "code",
      "source": [
        "# nx_comm.modularity(G2, nx_comm.label_propagation_communities(G2))"
      ],
      "metadata": {
        "id": "mIvzpSsPKZDG"
      },
      "execution_count": 20,
      "outputs": []
    },
    {
      "cell_type": "code",
      "source": [
        "communities = nx_comm.louvain_communities(G2)"
      ],
      "metadata": {
        "id": "54WL1hw7K0bb"
      },
      "execution_count": 21,
      "outputs": []
    },
    {
      "cell_type": "code",
      "source": [
        "len(communities)"
      ],
      "metadata": {
        "id": "5xYO7xSZOS-s",
        "colab": {
          "base_uri": "https://localhost:8080/"
        },
        "outputId": "299696b8-bacd-496e-8cc7-76e0b7d4b0c2"
      },
      "execution_count": 22,
      "outputs": [
        {
          "output_type": "execute_result",
          "data": {
            "text/plain": [
              "77"
            ]
          },
          "metadata": {},
          "execution_count": 22
        }
      ]
    },
    {
      "cell_type": "code",
      "source": [],
      "metadata": {
        "id": "GyJQZ2jjXAfd"
      },
      "execution_count": 22,
      "outputs": []
    }
  ]
}