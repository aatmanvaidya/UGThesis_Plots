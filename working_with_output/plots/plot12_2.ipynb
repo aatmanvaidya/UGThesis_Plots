{
  "nbformat": 4,
  "nbformat_minor": 0,
  "metadata": {
    "colab": {
      "provenance": []
    },
    "kernelspec": {
      "name": "python3",
      "display_name": "Python 3"
    },
    "language_info": {
      "name": "python"
    }
  },
  "cells": [
    {
      "cell_type": "code",
      "execution_count": 1,
      "metadata": {
        "colab": {
          "base_uri": "https://localhost:8080/"
        },
        "id": "lMCKNhNdj5pv",
        "outputId": "95f831ac-266f-46fd-b000-4f5603928cfe"
      },
      "outputs": [
        {
          "output_type": "stream",
          "name": "stdout",
          "text": [
            "Mounted at /content/gdrive\n"
          ]
        }
      ],
      "source": [
        "from google.colab import drive\n",
        "drive.mount('/content/gdrive')"
      ]
    },
    {
      "cell_type": "code",
      "source": [
        "import pandas as pd\n",
        "import numpy as np\n",
        "import networkx as nx\n",
        "import networkx.algorithms.community as nx_comm\n",
        "\n",
        "import warnings\n",
        "warnings.filterwarnings(\"ignore\")"
      ],
      "metadata": {
        "id": "3iJqma5Skf-V"
      },
      "execution_count": 2,
      "outputs": []
    },
    {
      "cell_type": "code",
      "source": [
        "df = pd.read_csv(\"/content/gdrive/My Drive/tweetsConvereted2017_toxicPerspectiveScore.csv\")"
      ],
      "metadata": {
        "id": "EcnAEJLEltJz"
      },
      "execution_count": 3,
      "outputs": []
    },
    {
      "cell_type": "code",
      "source": [
        "G = nx.read_edgelist('/content/gdrive/My Drive/users.edgelist')"
      ],
      "metadata": {
        "id": "5_MZQD7BluaY"
      },
      "execution_count": 4,
      "outputs": []
    },
    {
      "cell_type": "code",
      "source": [
        "groupDf = df[['user_id', 'Toxicity']]\n",
        "groupDf2 = groupDf[['user_id', 'Toxicity']].astype({'user_id': str})\n",
        "groupedDf = groupDf2.groupby(['user_id']).agg({'Toxicity': 'mean'}).reset_index()"
      ],
      "metadata": {
        "id": "-ZTNohCHlvcB"
      },
      "execution_count": 5,
      "outputs": []
    },
    {
      "cell_type": "code",
      "source": [
        "users_list = list(groupedDf['user_id'].unique().astype(str))\n",
        "G2 = G.subgraph(users_list)"
      ],
      "metadata": {
        "id": "BgCeXx5nlwao"
      },
      "execution_count": 6,
      "outputs": []
    },
    {
      "cell_type": "code",
      "source": [
        "user_toxicity = groupedDf.set_index('user_id')['Toxicity'].to_dict()"
      ],
      "metadata": {
        "id": "-TxJ6xwPlxd4"
      },
      "execution_count": 7,
      "outputs": []
    },
    {
      "cell_type": "code",
      "source": [
        "neighbor_toxicity = {}\n",
        "for user in G2.nodes():\n",
        "  neighbors = list(G2.neighbors(user))\n",
        "  if user in neighbors:\n",
        "      neighbors.remove(user)\n",
        "  if len(neighbors) > 0:\n",
        "      neighbor_toxicity[user] = groupedDf[groupedDf['user_id'].isin(neighbors)]['Toxicity'].mean()"
      ],
      "metadata": {
        "id": "XRBfynWmly9A"
      },
      "execution_count": 8,
      "outputs": []
    },
    {
      "cell_type": "code",
      "source": [
        "x = [user_toxicity[user] for user in neighbor_toxicity.keys()]\n",
        "y = list(neighbor_toxicity.values())"
      ],
      "metadata": {
        "id": "V0oR3bqul0sw"
      },
      "execution_count": 9,
      "outputs": []
    },
    {
      "cell_type": "code",
      "source": [
        "ratio = [x[i]/y[i] for i in range(len(x))]"
      ],
      "metadata": {
        "id": "Pkjo9d-dl15Y"
      },
      "execution_count": 10,
      "outputs": []
    },
    {
      "cell_type": "code",
      "source": [
        "ratio_dict = {user_id: user_toxicity[user_id] / neighbor_toxicity[user_id] for user_id in neighbor_toxicity}"
      ],
      "metadata": {
        "id": "jTHlHlGDqkxH"
      },
      "execution_count": 11,
      "outputs": []
    },
    {
      "cell_type": "code",
      "source": [
        "min(ratio_dict.values())"
      ],
      "metadata": {
        "colab": {
          "base_uri": "https://localhost:8080/"
        },
        "id": "S1qm_Acuqsh0",
        "outputId": "4949761b-55c1-4a9a-d285-ac5a697c9b2b"
      },
      "execution_count": 13,
      "outputs": [
        {
          "output_type": "execute_result",
          "data": {
            "text/plain": [
              "0.022785761717238426"
            ]
          },
          "metadata": {},
          "execution_count": 13
        }
      ]
    },
    {
      "cell_type": "code",
      "source": [
        "sorted_diff_dict = {k: v for k, v in sorted(ratio_dict.items(), key=lambda item: item[1])}"
      ],
      "metadata": {
        "id": "pdLk_pcqq64M"
      },
      "execution_count": 14,
      "outputs": []
    },
    {
      "cell_type": "code",
      "source": [
        "values = list(sorted_diff_dict.values())\n",
        "Q1 = np.percentile(values, 25, interpolation='midpoint')\n",
        "Q2 = np.percentile(values, 50, interpolation='midpoint')\n",
        "Q3 = np.percentile(values, 75, interpolation='midpoint')\n",
        "\n",
        "iqr = Q3 - Q1"
      ],
      "metadata": {
        "id": "fiw4KpKnq_y0"
      },
      "execution_count": 15,
      "outputs": []
    },
    {
      "cell_type": "code",
      "source": [
        "print(iqr)"
      ],
      "metadata": {
        "colab": {
          "base_uri": "https://localhost:8080/"
        },
        "id": "y0pASgpDsNP0",
        "outputId": "1614d1bd-00e4-47f4-c989-938212b6a91d"
      },
      "execution_count": 30,
      "outputs": [
        {
          "output_type": "stream",
          "name": "stdout",
          "text": [
            "0.5718821123508927\n"
          ]
        }
      ]
    },
    {
      "cell_type": "code",
      "source": [
        "low_lim = Q1 - 1.5 * iqr\n",
        "up_lim = Q3 + 1.5 * iqr\n",
        "print(low_lim)\n",
        "print(up_lim)"
      ],
      "metadata": {
        "colab": {
          "base_uri": "https://localhost:8080/"
        },
        "id": "uETQ4F3xrBN8",
        "outputId": "89b303eb-a4e1-4831-abc3-16d7219463ba"
      },
      "execution_count": 31,
      "outputs": [
        {
          "output_type": "stream",
          "name": "stdout",
          "text": [
            "-0.24710411940646637\n",
            "2.0404243299971045\n"
          ]
        }
      ]
    },
    {
      "cell_type": "code",
      "source": [
        "outlier = []\n",
        "for i in values:\n",
        "    if ((i> up_lim) or (i<low_lim)):\n",
        "         outlier.append(i)"
      ],
      "metadata": {
        "id": "Ks__R_sOrCXs"
      },
      "execution_count": 17,
      "outputs": []
    },
    {
      "cell_type": "code",
      "source": [
        "len(outlier)"
      ],
      "metadata": {
        "colab": {
          "base_uri": "https://localhost:8080/"
        },
        "id": "FZG_hSL6sXfF",
        "outputId": "36c8e846-68b9-41c8-cf28-d183ea2e26bc"
      },
      "execution_count": 32,
      "outputs": [
        {
          "output_type": "execute_result",
          "data": {
            "text/plain": [
              "1825"
            ]
          },
          "metadata": {},
          "execution_count": 32
        }
      ]
    },
    {
      "cell_type": "code",
      "source": [
        "outlier_dict = {}\n",
        "for i in range(len(outlier)):\n",
        "    index = values.index(outlier[i])\n",
        "    user_id = list(sorted_diff_dict.keys())[index]\n",
        "    outlier_dict[user_id] = outlier[i]"
      ],
      "metadata": {
        "id": "KG_iIoXYrDi0"
      },
      "execution_count": 18,
      "outputs": []
    },
    {
      "cell_type": "code",
      "source": [
        "attenuator_list = []\n",
        "amplifier_list = []\n",
        "\n",
        "for user_id, value in outlier_dict.items():\n",
        "    if value < 1:\n",
        "        attenuator_list.append(user_id)\n",
        "    elif value >= 1:\n",
        "        amplifier_list.append(user_id)"
      ],
      "metadata": {
        "id": "rNRb66OErFD0"
      },
      "execution_count": 26,
      "outputs": []
    },
    {
      "cell_type": "code",
      "source": [
        "attenuator_list"
      ],
      "metadata": {
        "colab": {
          "base_uri": "https://localhost:8080/"
        },
        "id": "hGD5dJ04sGye",
        "outputId": "ae57c2a4-de41-42af-a180-8bdc90093e4c"
      },
      "execution_count": 29,
      "outputs": [
        {
          "output_type": "execute_result",
          "data": {
            "text/plain": [
              "[]"
            ]
          },
          "metadata": {},
          "execution_count": 29
        }
      ]
    },
    {
      "cell_type": "code",
      "source": [
        "copyCat_list = list(set(users_list) - set(attenuator_list) - set(amplifier_list))"
      ],
      "metadata": {
        "id": "oeuScRCJrGVU"
      },
      "execution_count": 27,
      "outputs": []
    },
    {
      "cell_type": "code",
      "source": [
        "print(len(attenuator_list))\n",
        "print(len(amplifier_list))\n",
        "print(len(copyCat_list))"
      ],
      "metadata": {
        "colab": {
          "base_uri": "https://localhost:8080/"
        },
        "id": "uCwj1WgYrIDr",
        "outputId": "1bed5fc9-499a-45bb-ad6c-0d8ff0ed3ea0"
      },
      "execution_count": 28,
      "outputs": [
        {
          "output_type": "stream",
          "name": "stdout",
          "text": [
            "0\n",
            "1825\n",
            "58023\n"
          ]
        }
      ]
    },
    {
      "cell_type": "code",
      "source": [
        "mod = nx_comm.modularity(G2, [attenuator_list,amplifier_list,copyCat_list])\n",
        "print(mod)"
      ],
      "metadata": {
        "colab": {
          "base_uri": "https://localhost:8080/"
        },
        "id": "dJyXS9VJrSEj",
        "outputId": "850d3d30-1827-4ac4-c893-0192d5c42bf9"
      },
      "execution_count": 33,
      "outputs": [
        {
          "output_type": "stream",
          "name": "stdout",
          "text": [
            "0.0029075721786772056\n"
          ]
        }
      ]
    },
    {
      "cell_type": "code",
      "source": [
        "communities = nx_comm.louvain_communities(G2)"
      ],
      "metadata": {
        "id": "9L9JdgXfseYS"
      },
      "execution_count": 34,
      "outputs": []
    },
    {
      "cell_type": "code",
      "source": [
        "len(communities)"
      ],
      "metadata": {
        "colab": {
          "base_uri": "https://localhost:8080/"
        },
        "id": "x86wGOUXtCIS",
        "outputId": "54b11dd1-9744-486c-8de7-3a1fe9eb1087"
      },
      "execution_count": 35,
      "outputs": [
        {
          "output_type": "execute_result",
          "data": {
            "text/plain": [
              "88"
            ]
          },
          "metadata": {},
          "execution_count": 35
        }
      ]
    },
    {
      "cell_type": "code",
      "source": [],
      "metadata": {
        "id": "cg2vZSBXtDb6"
      },
      "execution_count": null,
      "outputs": []
    }
  ]
}