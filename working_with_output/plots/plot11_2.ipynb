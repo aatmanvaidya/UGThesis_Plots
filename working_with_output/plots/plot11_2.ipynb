{
  "nbformat": 4,
  "nbformat_minor": 0,
  "metadata": {
    "colab": {
      "provenance": []
    },
    "kernelspec": {
      "name": "python3",
      "display_name": "Python 3"
    },
    "language_info": {
      "name": "python"
    }
  },
  "cells": [
    {
      "cell_type": "code",
      "execution_count": null,
      "metadata": {
        "colab": {
          "base_uri": "https://localhost:8080/"
        },
        "id": "id0C3NnEd56i",
        "outputId": "ec0fd690-02d3-41ba-f086-60bca575f285"
      },
      "outputs": [
        {
          "output_type": "stream",
          "name": "stdout",
          "text": [
            "Mounted at /content/gdrive\n"
          ]
        }
      ],
      "source": [
        "from google.colab import drive\n",
        "drive.mount('/content/gdrive')"
      ]
    },
    {
      "cell_type": "code",
      "source": [
        "import pandas as pd\n",
        "import matplotlib.pyplot as plt\n",
        "import matplotlib.ticker as ticker\n",
        "import numpy as np\n",
        "from datetime import datetime\n",
        "import networkx as nx\n",
        "import math\n",
        "from collections import Counter, OrderedDict\n",
        "from scipy.stats import shapiro\n",
        "from scipy.stats import ks_2samp\n",
        "import scipy.stats as stats\n",
        "from scipy.stats import lognorm\n",
        "import statsmodels.api as sm\n",
        "from scipy.stats import norm\n",
        "import pylab\n",
        "from scipy.stats import yeojohnson\n",
        "from scipy.stats import anderson\n",
        "\n",
        "import warnings\n",
        "warnings.filterwarnings(\"ignore\")"
      ],
      "metadata": {
        "id": "SvKutV_yd9wJ"
      },
      "execution_count": 101,
      "outputs": []
    },
    {
      "cell_type": "code",
      "source": [
        "df = pd.read_csv(\"/content/gdrive/My Drive/tweetsConvereted2017_toxicPerspectiveScore.csv\")"
      ],
      "metadata": {
        "id": "sbBkVvCoeIL4"
      },
      "execution_count": null,
      "outputs": []
    },
    {
      "cell_type": "code",
      "source": [
        "G = nx.read_edgelist('/content/gdrive/My Drive/users.edgelist')"
      ],
      "metadata": {
        "id": "EWDI_72WeJyG"
      },
      "execution_count": null,
      "outputs": []
    },
    {
      "cell_type": "code",
      "source": [
        "groupDf = df[['user_id', 'Toxicity']]\n",
        "groupDf2 = groupDf[['user_id', 'Toxicity']].astype({'user_id': str})\n",
        "groupedDf = groupDf2.groupby(['user_id']).agg({'Toxicity': 'mean'}).reset_index()"
      ],
      "metadata": {
        "id": "Rl-gmppkeLLO"
      },
      "execution_count": null,
      "outputs": []
    },
    {
      "cell_type": "code",
      "source": [
        "users_list = list(groupedDf['user_id'].unique().astype(str))\n",
        "G2 = G.subgraph(users_list)"
      ],
      "metadata": {
        "id": "1sFNTjkMeS3n"
      },
      "execution_count": null,
      "outputs": []
    },
    {
      "cell_type": "code",
      "source": [
        "user_toxicity = groupedDf.set_index('user_id')['Toxicity'].to_dict()"
      ],
      "metadata": {
        "id": "2rYI92zyeV3N"
      },
      "execution_count": null,
      "outputs": []
    },
    {
      "cell_type": "code",
      "source": [
        "neighbor_toxicity = {}\n",
        "for user in G2.nodes():\n",
        "  neighbors = list(G2.neighbors(user))\n",
        "  if user in neighbors:\n",
        "      neighbors.remove(user)\n",
        "  if len(neighbors) > 0:\n",
        "      neighbor_toxicity[user] = groupedDf[groupedDf['user_id'].isin(neighbors)]['Toxicity'].mean()"
      ],
      "metadata": {
        "id": "iRwWipR_eXTt"
      },
      "execution_count": null,
      "outputs": []
    },
    {
      "cell_type": "code",
      "source": [
        "x = [user_toxicity[user] for user in neighbor_toxicity.keys()]\n",
        "y = list(neighbor_toxicity.values())"
      ],
      "metadata": {
        "id": "dED1e3O6eY5v"
      },
      "execution_count": null,
      "outputs": []
    },
    {
      "cell_type": "code",
      "source": [
        "diff = [x[i] - y[i] for i in range(len(x))]"
      ],
      "metadata": {
        "id": "CKlZFC_zeadu"
      },
      "execution_count": null,
      "outputs": []
    },
    {
      "cell_type": "code",
      "source": [
        "diff2 = diff[:]\n",
        "diff3 = diff[:]\n",
        "diff4 = diff[:]\n",
        "diff5 = diff[:]"
      ],
      "metadata": {
        "id": "cFhHli1szv8l"
      },
      "execution_count": null,
      "outputs": []
    },
    {
      "cell_type": "code",
      "source": [
        "if sorted(diff) == sorted(diff2):\n",
        "    print(\"The lists are the same\")\n",
        "else:\n",
        "    print(\"The lists are not the same\")"
      ],
      "metadata": {
        "colab": {
          "base_uri": "https://localhost:8080/"
        },
        "id": "BZlDYM3L1ioG",
        "outputId": "3663bb22-1197-4299-c7b5-17f0f92282c4"
      },
      "execution_count": null,
      "outputs": [
        {
          "output_type": "stream",
          "name": "stdout",
          "text": [
            "The lists are the same\n"
          ]
        }
      ]
    },
    {
      "cell_type": "code",
      "source": [
        "diff = [elem * 10 for elem in diff]\n",
        "diff = [math.ceil(elem) if elem >= 0 else math.floor(elem) for elem in diff]\n",
        "diff = [elem / 10 for elem in diff]"
      ],
      "metadata": {
        "id": "SmwQePtWzrSe"
      },
      "execution_count": null,
      "outputs": []
    },
    {
      "cell_type": "code",
      "source": [
        "diff_counts = Counter(diff)\n",
        "sorted_counts = OrderedDict(sorted(diff_counts.items()))"
      ],
      "metadata": {
        "id": "f-8l_YK7efNQ"
      },
      "execution_count": null,
      "outputs": []
    },
    {
      "cell_type": "code",
      "source": [
        "values = list(sorted_counts.keys())\n",
        "counts = list(sorted_counts.values())\n",
        "\n",
        "plt.figure(figsize=(10,5))\n",
        "plt.plot(values, counts)\n",
        "plt.xlabel('Toxicity Buckets')\n",
        "plt.ylabel('Number of Users')\n",
        "plt.title('Difference in Toxicity of User and Neighbour')\n",
        "plt.show()"
      ],
      "metadata": {
        "colab": {
          "base_uri": "https://localhost:8080/",
          "height": 350
        },
        "id": "EdHCJm-1eiam",
        "outputId": "56dc7918-7502-472d-eee4-f89ba2360199"
      },
      "execution_count": null,
      "outputs": [
        {
          "output_type": "display_data",
          "data": {
            "text/plain": [
              "<Figure size 720x360 with 1 Axes>"
            ],
            "image/png": "[encoded data removed]"
          },
          "metadata": {
            "needs_background": "light"
          }
        }
      ]
    },
    {
      "cell_type": "code",
      "source": [
        "stat, p = shapiro(diff)\n",
        "\n",
        "print(\"diff\")\n",
        "print(\"Shapiro-Wilk test statistic:\", stat)\n",
        "print(\"p-value:\", p)\n",
        "\n",
        "if p > 0.05:\n",
        "    print(\"The sample is normally distributed\")\n",
        "else:\n",
        "    print(\"The sample is not normally distributed\")"
      ],
      "metadata": {
        "colab": {
          "base_uri": "https://localhost:8080/"
        },
        "id": "AGuv0H88enon",
        "outputId": "2c3815be-e9aa-43eb-c761-5167fb0bb431"
      },
      "execution_count": null,
      "outputs": [
        {
          "output_type": "stream",
          "name": "stdout",
          "text": [
            "diff\n",
            "Shapiro-Wilk test statistic: 0.7124117612838745\n",
            "p-value: 0.0\n",
            "The sample is not normally distributed\n"
          ]
        }
      ]
    },
    {
      "cell_type": "code",
      "source": [
        "diff_qq = np.array(diff)\n",
        "sm.qqplot(diff_qq, line='45')\n",
        "pylab.show()"
      ],
      "metadata": {
        "colab": {
          "base_uri": "https://localhost:8080/",
          "height": 279
        },
        "id": "QK685mzOjEU7",
        "outputId": "7bf389e0-88f3-436d-b03d-9fbdd26eae3d"
      },
      "execution_count": null,
      "outputs": [
        {
          "output_type": "display_data",
          "data": {
            "text/plain": [
              "<Figure size 432x288 with 1 Axes>"
            ],
            "image/png": "[encoded data removed]"
          },
          "metadata": {
            "needs_background": "light"
          }
        }
      ]
    },
    {
      "cell_type": "code",
      "source": [
        "#box cox\n",
        "shifted_diff = np.array(diff) - min(diff) + 1e-8\n",
        "diff_boxcox, lambda_diff = stats.boxcox(shifted_diff)\n",
        "print(lambda_diff)"
      ],
      "metadata": {
        "colab": {
          "base_uri": "https://localhost:8080/"
        },
        "id": "1mLaMJEmjF__",
        "outputId": "aff98577-9f1e-4d6b-854e-b5c676235a5e"
      },
      "execution_count": null,
      "outputs": [
        {
          "output_type": "stream",
          "name": "stdout",
          "text": [
            "0.22359171756190935\n"
          ]
        }
      ]
    },
    {
      "cell_type": "code",
      "source": [
        "#yeo johnson\n",
        "transformed_data, lambda_ = yeojohnson(diff)\n",
        "print(lambda_)"
      ],
      "metadata": {
        "id": "EyYuuIxQiJvd",
        "colab": {
          "base_uri": "https://localhost:8080/"
        },
        "outputId": "f64a1c2c-1212-4e67-c247-5ed487db35fb"
      },
      "execution_count": null,
      "outputs": [
        {
          "output_type": "stream",
          "name": "stdout",
          "text": [
            "-3.7875952581327543\n"
          ]
        }
      ]
    },
    {
      "cell_type": "code",
      "source": [
        "#log transformation\n",
        "shifted_diff_log = np.array(diff) - min(diff) + 1e-8\n",
        "log_diff = np.log(shifted_diff_log)"
      ],
      "metadata": {
        "id": "YuNeZ8V7kDyy"
      },
      "execution_count": null,
      "outputs": []
    },
    {
      "cell_type": "code",
      "source": [
        "#square root transformation\n",
        "shifted_diff_sqrt = np.array(diff) - min(diff) + 1e-8\n",
        "diff_sqrt = np.sqrt(shifted_diff_sqrt)"
      ],
      "metadata": {
        "id": "ZfH0iomBlXPC"
      },
      "execution_count": null,
      "outputs": []
    },
    {
      "cell_type": "code",
      "source": [
        "# Exponential Transformation\n",
        "diff_exp = np.exp(diff)"
      ],
      "metadata": {
        "id": "XvgaB1C2qZSg"
      },
      "execution_count": null,
      "outputs": []
    },
    {
      "cell_type": "code",
      "source": [
        "stat, p = shapiro(diff_exp)\n",
        "\n",
        "print(\"diff\")\n",
        "print(\"Shapiro-Wilk test statistic:\", stat)\n",
        "print(\"p-value:\", p)\n",
        "\n",
        "if p > 0.05:\n",
        "    print(\"The sample is normally distributed\")\n",
        "else:\n",
        "    print(\"The sample is not normally distributed\")"
      ],
      "metadata": {
        "colab": {
          "base_uri": "https://localhost:8080/"
        },
        "id": "qr7II4TpiQTQ",
        "outputId": "3d4a1737-470c-48fc-b2b8-ca4d74d3f664"
      },
      "execution_count": null,
      "outputs": [
        {
          "output_type": "stream",
          "name": "stdout",
          "text": [
            "diff\n",
            "Shapiro-Wilk test statistic: 0.7086309194564819\n",
            "p-value: 0.0\n",
            "The sample is not normally distributed\n"
          ]
        }
      ]
    },
    {
      "cell_type": "code",
      "source": [
        "diff_qq_2 = np.array(diff_sqrt)\n",
        "sm.qqplot(diff_qq_2, line='45')\n",
        "pylab.show()"
      ],
      "metadata": {
        "colab": {
          "base_uri": "https://localhost:8080/",
          "height": 279
        },
        "id": "zuG9hIsYjmLQ",
        "outputId": "6ebdf5ba-535f-449a-9d7f-74257a0fc114"
      },
      "execution_count": null,
      "outputs": [
        {
          "output_type": "display_data",
          "data": {
            "text/plain": [
              "<Figure size 432x288 with 1 Axes>"
            ],
            "image/png": "[encoded data removed]"
          },
          "metadata": {
            "needs_background": "light"
          }
        }
      ]
    },
    {
      "cell_type": "code",
      "source": [
        "# https://www.analyticsvidhya.com/blog/2021/05/how-to-transform-features-into-normal-gaussian-distribution/"
      ],
      "metadata": {
        "id": "hku-FYgFkpX_"
      },
      "execution_count": null,
      "outputs": []
    },
    {
      "cell_type": "markdown",
      "source": [
        "#0.1 bucket"
      ],
      "metadata": {
        "id": "_DmulKVDzDUI"
      }
    },
    {
      "cell_type": "code",
      "source": [
        "diff_counts = Counter(diff)\n",
        "sorted_counts = OrderedDict(sorted(diff_counts.items()))"
      ],
      "metadata": {
        "id": "-wMHPt123Icv"
      },
      "execution_count": null,
      "outputs": []
    },
    {
      "cell_type": "code",
      "source": [
        "len(sorted_counts)"
      ],
      "metadata": {
        "colab": {
          "base_uri": "https://localhost:8080/"
        },
        "id": "CUUUqIX-3OyW",
        "outputId": "b6c3a590-2cd2-4420-a52e-513cb1d0cd0d"
      },
      "execution_count": null,
      "outputs": [
        {
          "output_type": "execute_result",
          "data": {
            "text/plain": [
              "12"
            ]
          },
          "metadata": {},
          "execution_count": 73
        }
      ]
    },
    {
      "cell_type": "code",
      "source": [
        "stat, p = shapiro(diff)\n",
        "\n",
        "print(\"diff\")\n",
        "print(\"Shapiro-Wilk test statistic:\", stat)\n",
        "print(\"p-value:\", p)\n",
        "\n",
        "if p > 0.05:\n",
        "    print(\"The sample is normally distributed\")\n",
        "else:\n",
        "    print(\"The sample is not normally distributed\")"
      ],
      "metadata": {
        "colab": {
          "base_uri": "https://localhost:8080/"
        },
        "id": "-oLotn_1zEvd",
        "outputId": "3d19674b-cd6c-4455-f645-22d0abbfd4f0"
      },
      "execution_count": null,
      "outputs": [
        {
          "output_type": "stream",
          "name": "stdout",
          "text": [
            "diff\n",
            "Shapiro-Wilk test statistic: 0.7124117612838745\n",
            "p-value: 0.0\n",
            "The sample is not normally distributed\n"
          ]
        }
      ]
    },
    {
      "cell_type": "code",
      "source": [
        "shifted_diff = np.array(diff) - min(diff) + 1e-8\n",
        "diff_boxcox, lambda_diff = stats.boxcox(shifted_diff)\n",
        "print(lambda_diff)"
      ],
      "metadata": {
        "colab": {
          "base_uri": "https://localhost:8080/"
        },
        "id": "eGX2ULzAzLBO",
        "outputId": "809fb53e-456b-4f58-80af-499bb82ce913"
      },
      "execution_count": null,
      "outputs": [
        {
          "output_type": "stream",
          "name": "stdout",
          "text": [
            "0.22359171756190935\n"
          ]
        }
      ]
    },
    {
      "cell_type": "code",
      "source": [
        "stat, p = shapiro(diff_boxcox)\n",
        "\n",
        "print(\"diff\")\n",
        "print(\"Shapiro-Wilk test statistic:\", stat)\n",
        "print(\"p-value:\", p)\n",
        "\n",
        "if p > 0.05:\n",
        "    print(\"The sample is normally distributed\")\n",
        "else:\n",
        "    print(\"The sample is not normally distributed\")"
      ],
      "metadata": {
        "colab": {
          "base_uri": "https://localhost:8080/"
        },
        "id": "laEppGEUzTwG",
        "outputId": "1a04b459-6166-4385-fcd8-d1dcbba86acb"
      },
      "execution_count": null,
      "outputs": [
        {
          "output_type": "stream",
          "name": "stdout",
          "text": [
            "diff\n",
            "Shapiro-Wilk test statistic: 0.7102301716804504\n",
            "p-value: 0.0\n",
            "The sample is not normally distributed\n"
          ]
        }
      ]
    },
    {
      "cell_type": "markdown",
      "source": [
        "#0.01 Bucket\n"
      ],
      "metadata": {
        "id": "A8KR4CoHzgDE"
      }
    },
    {
      "cell_type": "code",
      "source": [
        "diff2 = [elem * 100 for elem in diff2]\n",
        "diff2 = [math.ceil(elem) if elem >= 0 else math.floor(elem) for elem in diff2]\n",
        "diff2 = [elem / 100 for elem in diff2]"
      ],
      "metadata": {
        "id": "UVKnDF_Q2Scn"
      },
      "execution_count": null,
      "outputs": []
    },
    {
      "cell_type": "code",
      "source": [
        "diff2_counts = Counter(diff2)\n",
        "sorted_counts2 = OrderedDict(sorted(diff2_counts.items()))"
      ],
      "metadata": {
        "id": "eamjUeba2gIP"
      },
      "execution_count": null,
      "outputs": []
    },
    {
      "cell_type": "code",
      "source": [
        "len(sorted_counts2)"
      ],
      "metadata": {
        "colab": {
          "base_uri": "https://localhost:8080/"
        },
        "id": "S1xJ2TEV3W_u",
        "outputId": "4ff30249-79e7-476c-838b-5608c40b5db2"
      },
      "execution_count": null,
      "outputs": [
        {
          "output_type": "execute_result",
          "data": {
            "text/plain": [
              "84"
            ]
          },
          "metadata": {},
          "execution_count": 79
        }
      ]
    },
    {
      "cell_type": "code",
      "source": [
        "stat, p = shapiro(diff2)\n",
        "\n",
        "print(\"diff2\")\n",
        "print(\"Shapiro-Wilk test statistic:\", stat)\n",
        "print(\"p-value:\", p)\n",
        "\n",
        "if p > 0.05:\n",
        "    print(\"The sample is normally distributed\")\n",
        "else:\n",
        "    print(\"The sample is not normally distributed\")"
      ],
      "metadata": {
        "colab": {
          "base_uri": "https://localhost:8080/"
        },
        "id": "BJiuDK6qzlE7",
        "outputId": "a417d50d-cd6c-420a-f59f-03a4273729ac"
      },
      "execution_count": null,
      "outputs": [
        {
          "output_type": "stream",
          "name": "stdout",
          "text": [
            "diff2\n",
            "Shapiro-Wilk test statistic: 0.9085466265678406\n",
            "p-value: 0.0\n",
            "The sample is not normally distributed\n"
          ]
        }
      ]
    },
    {
      "cell_type": "code",
      "source": [
        "shifted_diff2 = np.array(diff2) - min(diff2) + 1e-8\n",
        "diff2_boxcox, lambda_diff2 = stats.boxcox(shifted_diff2)\n",
        "print(lambda_diff2)"
      ],
      "metadata": {
        "colab": {
          "base_uri": "https://localhost:8080/"
        },
        "id": "ogDoJa5L0LRM",
        "outputId": "8a8ee8fa-76bf-4fbc-81da-f8f25d2088fa"
      },
      "execution_count": null,
      "outputs": [
        {
          "output_type": "stream",
          "name": "stdout",
          "text": [
            "0.2957655704982542\n"
          ]
        }
      ]
    },
    {
      "cell_type": "code",
      "source": [
        "stat, p = shapiro(diff2_boxcox)\n",
        "\n",
        "print(\"diff2\")\n",
        "print(\"Shapiro-Wilk test statistic:\", stat)\n",
        "print(\"p-value:\", p)\n",
        "\n",
        "if p > 0.05:\n",
        "    print(\"The sample is normally distributed\")\n",
        "else:\n",
        "    print(\"The sample is not normally distributed\")"
      ],
      "metadata": {
        "colab": {
          "base_uri": "https://localhost:8080/"
        },
        "id": "XFMHg5dz0kQU",
        "outputId": "65b3c7f8-8d8c-416e-f9ec-cc4d6bc1399f"
      },
      "execution_count": null,
      "outputs": [
        {
          "output_type": "stream",
          "name": "stdout",
          "text": [
            "diff2\n",
            "Shapiro-Wilk test statistic: 0.9354462027549744\n",
            "p-value: 0.0\n",
            "The sample is not normally distributed\n"
          ]
        }
      ]
    },
    {
      "cell_type": "markdown",
      "source": [
        "#0.001 Bucket"
      ],
      "metadata": {
        "id": "wbSLi5Kw0xUg"
      }
    },
    {
      "cell_type": "code",
      "source": [
        "diff3 = [elem * 1000 for elem in diff3]\n",
        "diff3 = [math.ceil(elem) if elem >= 0 else math.floor(elem) for elem in diff3]\n",
        "diff3 = [elem / 1000 for elem in diff3]"
      ],
      "metadata": {
        "id": "phQNonlG02Yr"
      },
      "execution_count": null,
      "outputs": []
    },
    {
      "cell_type": "code",
      "source": [
        "diff3_counts = Counter(diff3)\n",
        "sorted_counts3 = OrderedDict(sorted(diff3_counts.items()))"
      ],
      "metadata": {
        "id": "9-MMbnle344o"
      },
      "execution_count": null,
      "outputs": []
    },
    {
      "cell_type": "code",
      "source": [
        "len(sorted_counts3)"
      ],
      "metadata": {
        "colab": {
          "base_uri": "https://localhost:8080/"
        },
        "id": "EPUKICLO38Eo",
        "outputId": "dd616c18-c334-4aab-d4d6-a1e1823f3f32"
      },
      "execution_count": null,
      "outputs": [
        {
          "output_type": "execute_result",
          "data": {
            "text/plain": [
              "554"
            ]
          },
          "metadata": {},
          "execution_count": 85
        }
      ]
    },
    {
      "cell_type": "code",
      "source": [
        "stat, p = shapiro(diff3)\n",
        "\n",
        "print(\"diff3\")\n",
        "print(\"Shapiro-Wilk test statistic:\", stat)\n",
        "print(\"p-value:\", p)\n",
        "\n",
        "if p > 0.05:\n",
        "    print(\"The sample is normally distributed\")\n",
        "else:\n",
        "    print(\"The sample is not normally distributed\")"
      ],
      "metadata": {
        "colab": {
          "base_uri": "https://localhost:8080/"
        },
        "id": "BCvZBn4a4BvM",
        "outputId": "98c3901b-1e1b-4d47-8622-40f438f8dd76"
      },
      "execution_count": null,
      "outputs": [
        {
          "output_type": "stream",
          "name": "stdout",
          "text": [
            "diff3\n",
            "Shapiro-Wilk test statistic: 0.8963183164596558\n",
            "p-value: 0.0\n",
            "The sample is not normally distributed\n"
          ]
        }
      ]
    },
    {
      "cell_type": "code",
      "source": [
        "shifted_diff3 = np.array(diff3) - min(diff3) + 1e-8\n",
        "diff3_boxcox, lambda_diff3 = stats.boxcox(shifted_diff3)\n",
        "print(lambda_diff3)"
      ],
      "metadata": {
        "colab": {
          "base_uri": "https://localhost:8080/"
        },
        "id": "zAVRLVMd4J28",
        "outputId": "75929ec6-762f-4939-e61d-a5a0ed3cfdda"
      },
      "execution_count": null,
      "outputs": [
        {
          "output_type": "stream",
          "name": "stdout",
          "text": [
            "0.3021423054357786\n"
          ]
        }
      ]
    },
    {
      "cell_type": "code",
      "source": [
        "stat, p = shapiro(diff3_boxcox)\n",
        "\n",
        "print(\"diff2\")\n",
        "print(\"Shapiro-Wilk test statistic:\", stat)\n",
        "print(\"p-value:\", p)\n",
        "\n",
        "if p > 0.05:\n",
        "    print(\"The sample is normally distributed\")\n",
        "else:\n",
        "    print(\"The sample is not normally distributed\")"
      ],
      "metadata": {
        "colab": {
          "base_uri": "https://localhost:8080/"
        },
        "id": "-FHAKpq04Q4Y",
        "outputId": "bfdedfde-e813-43ab-e030-a41536a284ad"
      },
      "execution_count": null,
      "outputs": [
        {
          "output_type": "stream",
          "name": "stdout",
          "text": [
            "diff2\n",
            "Shapiro-Wilk test statistic: 0.9247919917106628\n",
            "p-value: 0.0\n",
            "The sample is not normally distributed\n"
          ]
        }
      ]
    },
    {
      "cell_type": "markdown",
      "source": [
        "#0.0001 bucket"
      ],
      "metadata": {
        "id": "I-H2BKNV4U9I"
      }
    },
    {
      "cell_type": "code",
      "source": [
        "diff4 = [elem * 10000 for elem in diff4]\n",
        "diff4 = [math.ceil(elem) if elem >= 0 else math.floor(elem) for elem in diff4]\n",
        "diff4 = [elem / 10000 for elem in diff4]"
      ],
      "metadata": {
        "id": "P-ZKg4Sj4b1d"
      },
      "execution_count": null,
      "outputs": []
    },
    {
      "cell_type": "code",
      "source": [
        "diff4_counts = Counter(diff4)\n",
        "sorted_counts4 = OrderedDict(sorted(diff4_counts.items()))"
      ],
      "metadata": {
        "id": "Eh-8mz1S4lWV"
      },
      "execution_count": null,
      "outputs": []
    },
    {
      "cell_type": "code",
      "source": [
        "len(sorted_counts4)"
      ],
      "metadata": {
        "colab": {
          "base_uri": "https://localhost:8080/"
        },
        "id": "CkirTfSr4rHi",
        "outputId": "0f5c410b-42a0-4052-b6c8-96476bd3422c"
      },
      "execution_count": null,
      "outputs": [
        {
          "output_type": "execute_result",
          "data": {
            "text/plain": [
              "3592"
            ]
          },
          "metadata": {},
          "execution_count": 91
        }
      ]
    },
    {
      "cell_type": "code",
      "source": [
        "stat, p = shapiro(diff4)\n",
        "\n",
        "print(\"diff4\")\n",
        "print(\"Shapiro-Wilk test statistic:\", stat)\n",
        "print(\"p-value:\", p)\n",
        "\n",
        "if p > 0.05:\n",
        "    print(\"The sample is normally distributed\")\n",
        "else:\n",
        "    print(\"The sample is not normally distributed\")"
      ],
      "metadata": {
        "colab": {
          "base_uri": "https://localhost:8080/"
        },
        "id": "_I3ceRPk4spy",
        "outputId": "8a05b194-9587-4723-9705-d6ddf7fb03a4"
      },
      "execution_count": null,
      "outputs": [
        {
          "output_type": "stream",
          "name": "stdout",
          "text": [
            "diff4\n",
            "Shapiro-Wilk test statistic: 0.8943188190460205\n",
            "p-value: 0.0\n",
            "The sample is not normally distributed\n"
          ]
        }
      ]
    },
    {
      "cell_type": "code",
      "source": [
        "stat,crtical,signifi = anderson(diff4)\n",
        "print(stat)\n",
        "print(crtical)\n",
        "print(signifi)"
      ],
      "metadata": {
        "colab": {
          "base_uri": "https://localhost:8080/"
        },
        "id": "Sj76UfJBDU9E",
        "outputId": "e22d2f55-8962-4881-a6ca-abdf5e0a066e"
      },
      "execution_count": 110,
      "outputs": [
        {
          "output_type": "stream",
          "name": "stdout",
          "text": [
            "1558.7243414649347\n",
            "[0.576 0.656 0.787 0.918 1.092]\n",
            "[15.  10.   5.   2.5  1. ]\n"
          ]
        }
      ]
    },
    {
      "cell_type": "code",
      "source": [
        "data = np.random.randint(0, 10, size=100)\n",
        "stat,crtical,signifi = anderson(data)\n",
        "print(stat)\n",
        "print(crtical)\n",
        "print(signifi)"
      ],
      "metadata": {
        "colab": {
          "base_uri": "https://localhost:8080/"
        },
        "id": "kjv8E9PKGf_N",
        "outputId": "d2481cba-e5cb-4f4d-fe78-f35fa9a2737d"
      },
      "execution_count": 113,
      "outputs": [
        {
          "output_type": "stream",
          "name": "stdout",
          "text": [
            "2.9639889461573716\n",
            "[0.555 0.632 0.759 0.885 1.053]\n",
            "[15.  10.   5.   2.5  1. ]\n"
          ]
        }
      ]
    },
    {
      "cell_type": "code",
      "source": [
        "shifted_diff4 = np.array(diff4) - min(diff4) + 1e-8\n",
        "diff4_boxcox, lambda_diff4 = stats.boxcox(shifted_diff4)\n",
        "print(lambda_diff4)"
      ],
      "metadata": {
        "colab": {
          "base_uri": "https://localhost:8080/"
        },
        "id": "UqmfUeTd4waa",
        "outputId": "e94e5e60-68b9-412a-feef-f1de8ce9f115"
      },
      "execution_count": null,
      "outputs": [
        {
          "output_type": "stream",
          "name": "stdout",
          "text": [
            "0.30339968585616267\n"
          ]
        }
      ]
    },
    {
      "cell_type": "code",
      "source": [
        "stat, p = shapiro(diff4_boxcox)\n",
        "\n",
        "print(\"diff4\")\n",
        "print(\"Shapiro-Wilk test statistic:\", stat)\n",
        "print(\"p-value:\", p)\n",
        "\n",
        "if p > 0.05:\n",
        "    print(\"The sample is normally distributed\")\n",
        "else:\n",
        "    print(\"The sample is not normally distributed\")"
      ],
      "metadata": {
        "colab": {
          "base_uri": "https://localhost:8080/"
        },
        "id": "xVL31kCA42G6",
        "outputId": "8ba6571e-143b-49b9-a689-e8345d7384bf"
      },
      "execution_count": null,
      "outputs": [
        {
          "output_type": "stream",
          "name": "stdout",
          "text": [
            "diff4\n",
            "Shapiro-Wilk test statistic: 0.9230678081512451\n",
            "p-value: 0.0\n",
            "The sample is not normally distributed\n"
          ]
        }
      ]
    },
    {
      "cell_type": "markdown",
      "source": [
        "#0.00001 Bucket"
      ],
      "metadata": {
        "id": "SUYkjJL65Bju"
      }
    },
    {
      "cell_type": "code",
      "source": [
        "diff5 = [elem * 100000 for elem in diff5]\n",
        "diff5 = [math.ceil(elem) if elem >= 0 else math.floor(elem) for elem in diff5]\n",
        "diff5 = [elem / 100000 for elem in diff5]"
      ],
      "metadata": {
        "id": "khQVXEux5EMk"
      },
      "execution_count": null,
      "outputs": []
    },
    {
      "cell_type": "code",
      "source": [
        "diff5_counts = Counter(diff5)\n",
        "sorted_counts5 = OrderedDict(sorted(diff5_counts.items()))"
      ],
      "metadata": {
        "id": "Jd-5gFGn5Uy1"
      },
      "execution_count": null,
      "outputs": []
    },
    {
      "cell_type": "code",
      "source": [
        "diff5_counts = Counter(diff5)\n",
        "sorted_counts5 = OrderedDict(sorted(diff5_counts.items()))"
      ],
      "metadata": {
        "id": "rYLbVFbD5Zft"
      },
      "execution_count": null,
      "outputs": []
    },
    {
      "cell_type": "code",
      "source": [
        "stat, p = shapiro(diff5)\n",
        "\n",
        "print(\"diff5\")\n",
        "print(\"Shapiro-Wilk test statistic:\", stat)\n",
        "print(\"p-value:\", p)\n",
        "\n",
        "if p > 0.05:\n",
        "    print(\"The sample is normally distributed\")\n",
        "else:\n",
        "    print(\"The sample is not normally distributed\")"
      ],
      "metadata": {
        "colab": {
          "base_uri": "https://localhost:8080/"
        },
        "id": "5MjqzuOT5gvF",
        "outputId": "882434d5-ae5c-4ea9-a211-51346a310aae"
      },
      "execution_count": null,
      "outputs": [
        {
          "output_type": "stream",
          "name": "stdout",
          "text": [
            "diff5\n",
            "Shapiro-Wilk test statistic: 0.894142746925354\n",
            "p-value: 0.0\n",
            "The sample is not normally distributed\n"
          ]
        }
      ]
    },
    {
      "cell_type": "code",
      "source": [
        "shifted_diff5 = np.array(diff5) - min(diff5) + 1e-8\n",
        "diff5_boxcox, lambda_diff5 = stats.boxcox(shifted_diff5)\n",
        "print(lambda_diff5)"
      ],
      "metadata": {
        "colab": {
          "base_uri": "https://localhost:8080/"
        },
        "id": "r3q4B95SJMUF",
        "outputId": "95a4e84a-4dbc-40a1-eafc-b8bed2dc0bc0"
      },
      "execution_count": null,
      "outputs": [
        {
          "output_type": "stream",
          "name": "stdout",
          "text": [
            "0.3035080722908256\n"
          ]
        }
      ]
    },
    {
      "cell_type": "code",
      "source": [
        "stat, p = shapiro(diff5_boxcox)\n",
        "\n",
        "print(\"diff5\")\n",
        "print(\"Shapiro-Wilk test statistic:\", stat)\n",
        "print(\"p-value:\", p)\n",
        "\n",
        "if p > 0.05:\n",
        "    print(\"The sample is normally distributed\")\n",
        "else:\n",
        "    print(\"The sample is not normally distributed\")"
      ],
      "metadata": {
        "colab": {
          "base_uri": "https://localhost:8080/"
        },
        "id": "nYwhBKNUJTUV",
        "outputId": "7d1710bd-9223-4040-e70e-a5c455d1d1e9"
      },
      "execution_count": null,
      "outputs": [
        {
          "output_type": "stream",
          "name": "stdout",
          "text": [
            "diff5\n",
            "Shapiro-Wilk test statistic: 0.9228550791740417\n",
            "p-value: 0.0\n",
            "The sample is not normally distributed\n"
          ]
        }
      ]
    }
  ]
}