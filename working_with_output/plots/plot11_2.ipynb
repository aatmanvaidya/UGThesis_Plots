{
  "nbformat": 4,
  "nbformat_minor": 0,
  "metadata": {
    "colab": {
      "provenance": []
    },
    "kernelspec": {
      "name": "python3",
      "display_name": "Python 3"
    },
    "language_info": {
      "name": "python"
    }
  },
  "cells": [
    {
      "cell_type": "code",
      "execution_count": 1,
      "metadata": {
        "colab": {
          "base_uri": "https://localhost:8080/"
        },
        "id": "id0C3NnEd56i",
        "outputId": "9c5a2f5f-2a31-49c3-fac5-8041b040c162"
      },
      "outputs": [
        {
          "output_type": "stream",
          "name": "stdout",
          "text": [
            "Mounted at /content/gdrive\n"
          ]
        }
      ],
      "source": [
        "from google.colab import drive\n",
        "drive.mount('/content/gdrive')"
      ]
    },
    {
      "cell_type": "code",
      "source": [
        "import pandas as pd\n",
        "import matplotlib.pyplot as plt\n",
        "import matplotlib.ticker as ticker\n",
        "import numpy as np\n",
        "from datetime import datetime\n",
        "import networkx as nx\n",
        "import math\n",
        "from collections import Counter, OrderedDict\n",
        "from scipy.stats import shapiro\n",
        "from scipy.stats import ks_2samp\n",
        "import scipy.stats as stats\n",
        "from scipy.stats import lognorm\n",
        "import statsmodels.api as sm\n",
        "from scipy.stats import norm\n",
        "import pylab\n",
        "from scipy.stats import yeojohnson\n",
        "\n",
        "import warnings\n",
        "warnings.filterwarnings(\"ignore\")"
      ],
      "metadata": {
        "id": "SvKutV_yd9wJ"
      },
      "execution_count": 13,
      "outputs": []
    },
    {
      "cell_type": "code",
      "source": [
        "df = pd.read_csv(\"/content/gdrive/My Drive/tweetsConvereted2017_toxicPerspectiveScore.csv\")"
      ],
      "metadata": {
        "id": "sbBkVvCoeIL4"
      },
      "execution_count": 3,
      "outputs": []
    },
    {
      "cell_type": "code",
      "source": [
        "G = nx.read_edgelist('/content/gdrive/My Drive/users.edgelist')"
      ],
      "metadata": {
        "id": "EWDI_72WeJyG"
      },
      "execution_count": 4,
      "outputs": []
    },
    {
      "cell_type": "code",
      "source": [
        "groupDf = df[['user_id', 'Toxicity']]\n",
        "groupDf2 = groupDf[['user_id', 'Toxicity']].astype({'user_id': str})\n",
        "groupedDf = groupDf2.groupby(['user_id']).agg({'Toxicity': 'mean'}).reset_index()"
      ],
      "metadata": {
        "id": "Rl-gmppkeLLO"
      },
      "execution_count": 5,
      "outputs": []
    },
    {
      "cell_type": "code",
      "source": [
        "users_list = list(groupedDf['user_id'].unique().astype(str))\n",
        "G2 = G.subgraph(users_list)"
      ],
      "metadata": {
        "id": "1sFNTjkMeS3n"
      },
      "execution_count": 6,
      "outputs": []
    },
    {
      "cell_type": "code",
      "source": [
        "user_toxicity = groupedDf.set_index('user_id')['Toxicity'].to_dict()"
      ],
      "metadata": {
        "id": "2rYI92zyeV3N"
      },
      "execution_count": 7,
      "outputs": []
    },
    {
      "cell_type": "code",
      "source": [
        "neighbor_toxicity = {}\n",
        "for user in G2.nodes():\n",
        "  neighbors = list(G2.neighbors(user))\n",
        "  if user in neighbors:\n",
        "      neighbors.remove(user)\n",
        "  if len(neighbors) > 0:\n",
        "      neighbor_toxicity[user] = groupedDf[groupedDf['user_id'].isin(neighbors)]['Toxicity'].mean()"
      ],
      "metadata": {
        "id": "iRwWipR_eXTt"
      },
      "execution_count": 8,
      "outputs": []
    },
    {
      "cell_type": "code",
      "source": [
        "x = [user_toxicity[user] for user in neighbor_toxicity.keys()]\n",
        "y = list(neighbor_toxicity.values())"
      ],
      "metadata": {
        "id": "dED1e3O6eY5v"
      },
      "execution_count": 9,
      "outputs": []
    },
    {
      "cell_type": "code",
      "source": [
        "diff = [x[i] - y[i] for i in range(len(x))]\n",
        "diff = [elem * 10 for elem in diff]\n",
        "diff = [math.ceil(elem) if elem >= 0 else math.floor(elem) for elem in diff]\n",
        "diff = [elem / 10 for elem in diff]"
      ],
      "metadata": {
        "id": "CKlZFC_zeadu"
      },
      "execution_count": 10,
      "outputs": []
    },
    {
      "cell_type": "code",
      "source": [
        "diff_counts = Counter(diff)\n",
        "sorted_counts = OrderedDict(sorted(diff_counts.items()))"
      ],
      "metadata": {
        "id": "f-8l_YK7efNQ"
      },
      "execution_count": 11,
      "outputs": []
    },
    {
      "cell_type": "code",
      "source": [
        "values = list(sorted_counts.keys())\n",
        "counts = list(sorted_counts.values())\n",
        "\n",
        "plt.figure(figsize=(10,5))\n",
        "plt.plot(values, counts)\n",
        "plt.xlabel('Toxicity Buckets')\n",
        "plt.ylabel('Number of Users')\n",
        "plt.title('Difference in Toxicity of User and Neighbour')\n",
        "plt.show()"
      ],
      "metadata": {
        "colab": {
          "base_uri": "https://localhost:8080/",
          "height": 350
        },
        "id": "EdHCJm-1eiam",
        "outputId": "6cfeee5d-4e61-42a9-abf9-914a0597233c"
      },
      "execution_count": 12,
      "outputs": [
        {
          "output_type": "display_data",
          "data": {
            "text/plain": [
              "<Figure size 720x360 with 1 Axes>"
            ],
            "image/png": "[encoded data removed]"
          },
          "metadata": {
            "needs_background": "light"
          }
        }
      ]
    },
    {
      "cell_type": "code",
      "source": [
        "stat, p = shapiro(diff)\n",
        "\n",
        "print(\"diff\")\n",
        "print(\"Shapiro-Wilk test statistic:\", stat)\n",
        "print(\"p-value:\", p)\n",
        "\n",
        "if p > 0.05:\n",
        "    print(\"The sample is normally distributed\")\n",
        "else:\n",
        "    print(\"The sample is not normally distributed\")"
      ],
      "metadata": {
        "colab": {
          "base_uri": "https://localhost:8080/"
        },
        "id": "AGuv0H88enon",
        "outputId": "9a89fa83-5e94-4b48-d92d-b405f1626386"
      },
      "execution_count": 14,
      "outputs": [
        {
          "output_type": "stream",
          "name": "stdout",
          "text": [
            "diff\n",
            "Shapiro-Wilk test statistic: 0.7124841213226318\n",
            "p-value: 0.0\n",
            "The sample is not normally distributed\n"
          ]
        }
      ]
    },
    {
      "cell_type": "code",
      "source": [
        "diff_qq = np.array(diff)\n",
        "sm.qqplot(diff_qq, line='45')\n",
        "pylab.show()"
      ],
      "metadata": {
        "colab": {
          "base_uri": "https://localhost:8080/",
          "height": 279
        },
        "id": "QK685mzOjEU7",
        "outputId": "fde4af70-69a2-4f18-bc13-1f05a8dbd2bb"
      },
      "execution_count": 18,
      "outputs": [
        {
          "output_type": "display_data",
          "data": {
            "text/plain": [
              "<Figure size 432x288 with 1 Axes>"
            ],
            "image/png": "[encoded data removed]"
          },
          "metadata": {
            "needs_background": "light"
          }
        }
      ]
    },
    {
      "cell_type": "code",
      "source": [
        "#box cox\n",
        "shifted_diff = np.array(diff) - min(diff) + 1e-8\n",
        "diff_boxcox, lambda_diff = stats.boxcox(shifted_diff)\n",
        "print(lambda_diff)"
      ],
      "metadata": {
        "colab": {
          "base_uri": "https://localhost:8080/"
        },
        "id": "1mLaMJEmjF__",
        "outputId": "6dd24e0b-763b-4f00-dc1f-93992734b091"
      },
      "execution_count": 19,
      "outputs": [
        {
          "output_type": "stream",
          "name": "stdout",
          "text": [
            "0.22359171756190935\n"
          ]
        }
      ]
    },
    {
      "cell_type": "code",
      "source": [
        "#yeo johnson\n",
        "transformed_data, lambda_ = yeojohnson(diff)\n",
        "print(lambda_)"
      ],
      "metadata": {
        "id": "EyYuuIxQiJvd"
      },
      "execution_count": 16,
      "outputs": []
    },
    {
      "cell_type": "code",
      "source": [
        "#log transformation\n",
        "shifted_diff_log = np.array(diff) - min(diff) + 1e-8\n",
        "log_diff = np.log(shifted_diff_log)"
      ],
      "metadata": {
        "id": "YuNeZ8V7kDyy"
      },
      "execution_count": 25,
      "outputs": []
    },
    {
      "cell_type": "code",
      "source": [
        "#square root transformation\n",
        "shifted_diff_sqrt = np.array(diff) - min(diff) + 1e-8\n",
        "diff_sqrt = np.sqrt(shifted_diff_sqrt)"
      ],
      "metadata": {
        "id": "ZfH0iomBlXPC"
      },
      "execution_count": 36,
      "outputs": []
    },
    {
      "cell_type": "code",
      "source": [
        "# Exponential Transformation\n",
        "diff_exp = np.exp(diff)"
      ],
      "metadata": {
        "id": "XvgaB1C2qZSg"
      },
      "execution_count": 39,
      "outputs": []
    },
    {
      "cell_type": "code",
      "source": [
        "stat, p = shapiro(diff_exp)\n",
        "\n",
        "print(\"diff\")\n",
        "print(\"Shapiro-Wilk test statistic:\", stat)\n",
        "print(\"p-value:\", p)\n",
        "\n",
        "if p > 0.05:\n",
        "    print(\"The sample is normally distributed\")\n",
        "else:\n",
        "    print(\"The sample is not normally distributed\")"
      ],
      "metadata": {
        "colab": {
          "base_uri": "https://localhost:8080/"
        },
        "id": "qr7II4TpiQTQ",
        "outputId": "91e9ab0a-f730-4ff1-be7b-c48f611e8bc2"
      },
      "execution_count": 41,
      "outputs": [
        {
          "output_type": "stream",
          "name": "stdout",
          "text": [
            "diff\n",
            "Shapiro-Wilk test statistic: 0.7085758447647095\n",
            "p-value: 0.0\n",
            "The sample is not normally distributed\n"
          ]
        }
      ]
    },
    {
      "cell_type": "code",
      "source": [
        "diff_qq_2 = np.array(diff_sqrt)\n",
        "sm.qqplot(diff_qq_2, line='45')\n",
        "pylab.show()"
      ],
      "metadata": {
        "colab": {
          "base_uri": "https://localhost:8080/",
          "height": 279
        },
        "id": "zuG9hIsYjmLQ",
        "outputId": "511edb88-3436-4e35-d3dd-9052f0f4864b"
      },
      "execution_count": 38,
      "outputs": [
        {
          "output_type": "display_data",
          "data": {
            "text/plain": [
              "<Figure size 432x288 with 1 Axes>"
            ],
            "image/png": "[encoded data removed]"
          },
          "metadata": {
            "needs_background": "light"
          }
        }
      ]
    },
    {
      "cell_type": "code",
      "source": [
        "# https://www.analyticsvidhya.com/blog/2021/05/how-to-transform-features-into-normal-gaussian-distribution/"
      ],
      "metadata": {
        "id": "hku-FYgFkpX_"
      },
      "execution_count": 23,
      "outputs": []
    }
  ]
}