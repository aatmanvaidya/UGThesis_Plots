{
  "cells": [
    {
      "cell_type": "code",
      "execution_count": 1,
      "metadata": {
        "id": "cmC7aa6inzhh",
        "colab": {
          "base_uri": "https://localhost:8080/"
        },
        "outputId": "9f61ed3e-1689-4ac2-ca86-04a65465a9c5"
      },
      "outputs": [
        {
          "output_type": "stream",
          "name": "stdout",
          "text": [
            "Mounted at /content/gdrive\n"
          ]
        }
      ],
      "source": [
        "from google.colab import drive\n",
        "drive.mount('/content/gdrive')"
      ]
    },
    {
      "cell_type": "code",
      "execution_count": 76,
      "metadata": {
        "id": "R_1Ko89bn3-A"
      },
      "outputs": [],
      "source": [
        "import pandas as pd\n",
        "import matplotlib.pyplot as plt\n",
        "import matplotlib.ticker as ticker\n",
        "import numpy as np\n",
        "from datetime import datetime\n",
        "import networkx as nx\n",
        "import math\n",
        "from collections import Counter, OrderedDict\n",
        "\n",
        "import warnings\n",
        "warnings.filterwarnings(\"ignore\")"
      ]
    },
    {
      "cell_type": "code",
      "execution_count": 3,
      "metadata": {
        "id": "mgFclREFn5tc"
      },
      "outputs": [],
      "source": [
        "df = pd.read_csv(\"/content/gdrive/My Drive/tweetsConvereted2017_toxicPerspectiveScore.csv\")"
      ]
    },
    {
      "cell_type": "code",
      "execution_count": 4,
      "metadata": {
        "id": "3tQ41hMTn70p"
      },
      "outputs": [],
      "source": [
        "df[\"week\"] = df[\"NewDateFormat\"].apply(lambda x: datetime.strptime(x, \"%Y-%m-%d %H:%M:%S\").strftime(\"%U\"))\n",
        "# df[\"month\"] = df[\"NewDateFormat\"].apply(lambda x: datetime.strptime(x, \"%Y-%m-%d %H:%M:%S\").strftime(\"%m\"))\n",
        "# df[\"day\"] = df[\"NewDateFormat\"].apply(lambda x: datetime.strptime(x, \"%Y-%m-%d %H:%M:%S\").strftime(\"%d\"))"
      ]
    },
    {
      "cell_type": "code",
      "execution_count": 5,
      "metadata": {
        "id": "QCcN7ORWn81e"
      },
      "outputs": [],
      "source": [
        "G = nx.read_edgelist('/content/gdrive/My Drive/users.edgelist')"
      ]
    },
    {
      "cell_type": "code",
      "execution_count": 53,
      "metadata": {
        "id": "ixFBfRRwn-Yv"
      },
      "outputs": [],
      "source": [
        "groupDf = df[['user_id', 'Toxicity','week']]"
      ]
    },
    {
      "cell_type": "code",
      "execution_count": 54,
      "metadata": {
        "id": "YAwBmSQkoFu7"
      },
      "outputs": [],
      "source": [
        "groupDf2 = groupDf[['user_id', 'Toxicity','week']].astype({'user_id': str, 'week': str})"
      ]
    },
    {
      "cell_type": "code",
      "source": [
        "# weekDf = groupDf2[groupDf2['week']==\"01\"]"
      ],
      "metadata": {
        "id": "8uKJWjGFUqLA"
      },
      "execution_count": 55,
      "outputs": []
    },
    {
      "cell_type": "code",
      "execution_count": 56,
      "metadata": {
        "id": "wH6MgF40raJ5"
      },
      "outputs": [],
      "source": [
        "groupedDf = groupDf2.groupby(['user_id']).agg({'Toxicity': 'mean'}).reset_index()\n",
        "# groupedDf = weekDf.groupby(['user_id']).agg({'Toxicity': 'mean'}).reset_index()"
      ]
    },
    {
      "cell_type": "code",
      "execution_count": 57,
      "metadata": {
        "id": "IeAZCOWdrcQk"
      },
      "outputs": [],
      "source": [
        "users_list = list(groupedDf['user_id'].unique().astype(str))"
      ]
    },
    {
      "cell_type": "code",
      "execution_count": 58,
      "metadata": {
        "id": "Y9_1SYd-rdYR"
      },
      "outputs": [],
      "source": [
        "G2 = G.subgraph(users_list)"
      ]
    },
    {
      "cell_type": "code",
      "execution_count": 59,
      "metadata": {
        "id": "xs6aueYvrel_"
      },
      "outputs": [],
      "source": [
        "user_toxicity = groupedDf.set_index('user_id')['Toxicity'].to_dict()"
      ]
    },
    {
      "cell_type": "code",
      "execution_count": 60,
      "metadata": {
        "id": "G1IuFgSFu7ug"
      },
      "outputs": [],
      "source": [
        "neighbor_toxicity = {}\n",
        "for user in G2.nodes():\n",
        "  neighbors = list(G2.neighbors(user))\n",
        "  if user in neighbors:\n",
        "      neighbors.remove(user)\n",
        "  if len(neighbors) > 0:\n",
        "      neighbor_toxicity[user] = groupedDf[groupedDf['user_id'].isin(neighbors)]['Toxicity'].mean()"
      ]
    },
    {
      "cell_type": "code",
      "execution_count": 61,
      "metadata": {
        "id": "VjjsdZR_u85m"
      },
      "outputs": [],
      "source": [
        "x = [user_toxicity[user] for user in neighbor_toxicity.keys()]\n",
        "y = list(neighbor_toxicity.values())"
      ]
    },
    {
      "cell_type": "code",
      "source": [
        "diff = [x[i] - y[i] for i in range(len(x))]"
      ],
      "metadata": {
        "id": "TqDQFNyA--x-"
      },
      "execution_count": 62,
      "outputs": []
    },
    {
      "cell_type": "code",
      "source": [
        "diff = [elem * 10 for elem in diff]"
      ],
      "metadata": {
        "id": "mVGH9kY7DaKo"
      },
      "execution_count": 63,
      "outputs": []
    },
    {
      "cell_type": "code",
      "source": [
        "diff = [math.ceil(elem) if elem >= 0 else math.floor(elem) for elem in diff]"
      ],
      "metadata": {
        "id": "dUoYYENEDbuQ"
      },
      "execution_count": 64,
      "outputs": []
    },
    {
      "cell_type": "code",
      "source": [
        "diff = [elem / 10 for elem in diff]"
      ],
      "metadata": {
        "id": "W9g9FpqfEPUC"
      },
      "execution_count": 65,
      "outputs": []
    },
    {
      "cell_type": "code",
      "source": [
        "len(diff)"
      ],
      "metadata": {
        "colab": {
          "base_uri": "https://localhost:8080/"
        },
        "id": "KCqHrY_hDYUw",
        "outputId": "4702831d-fc0e-4323-f03b-7439cc625adc"
      },
      "execution_count": 66,
      "outputs": [
        {
          "output_type": "execute_result",
          "data": {
            "text/plain": [
              "59837"
            ]
          },
          "metadata": {},
          "execution_count": 66
        }
      ]
    },
    {
      "cell_type": "code",
      "source": [
        "diff_counts = Counter(diff)"
      ],
      "metadata": {
        "id": "OzH4RgQIEgxA"
      },
      "execution_count": 67,
      "outputs": []
    },
    {
      "cell_type": "code",
      "source": [
        "sum(diff_counts.values())"
      ],
      "metadata": {
        "colab": {
          "base_uri": "https://localhost:8080/"
        },
        "id": "RQL_gVXkElW3",
        "outputId": "82617226-fa12-42f0-ad21-158cdfe98032"
      },
      "execution_count": 68,
      "outputs": [
        {
          "output_type": "execute_result",
          "data": {
            "text/plain": [
              "59837"
            ]
          },
          "metadata": {},
          "execution_count": 68
        }
      ]
    },
    {
      "cell_type": "code",
      "source": [
        "diff_counts"
      ],
      "metadata": {
        "colab": {
          "base_uri": "https://localhost:8080/"
        },
        "id": "TNVLss6wJDYg",
        "outputId": "622e390a-4cd2-4610-b95e-5df9f2275fb5"
      },
      "execution_count": 72,
      "outputs": [
        {
          "output_type": "execute_result",
          "data": {
            "text/plain": [
              "Counter({0.1: 20331,\n",
              "         -0.1: 36070,\n",
              "         0.2: 2137,\n",
              "         0.3: 289,\n",
              "         -0.2: 918,\n",
              "         0.4: 52,\n",
              "         0.5: 6,\n",
              "         0.7: 3,\n",
              "         0.6: 5,\n",
              "         -0.3: 21,\n",
              "         0.8: 1,\n",
              "         -0.4: 4})"
            ]
          },
          "metadata": {},
          "execution_count": 72
        }
      ]
    },
    {
      "cell_type": "code",
      "source": [
        "sorted_counts = OrderedDict(sorted(diff_counts.items()))"
      ],
      "metadata": {
        "id": "b__S6LtmJSfX"
      },
      "execution_count": 77,
      "outputs": []
    },
    {
      "cell_type": "code",
      "source": [
        "sorted_counts"
      ],
      "metadata": {
        "colab": {
          "base_uri": "https://localhost:8080/"
        },
        "id": "1fuELgihJnAo",
        "outputId": "5a24b9f2-1777-4a91-a5f8-b444b2af1ecd"
      },
      "execution_count": 78,
      "outputs": [
        {
          "output_type": "execute_result",
          "data": {
            "text/plain": [
              "OrderedDict([(-0.4, 4),\n",
              "             (-0.3, 21),\n",
              "             (-0.2, 918),\n",
              "             (-0.1, 36070),\n",
              "             (0.1, 20331),\n",
              "             (0.2, 2137),\n",
              "             (0.3, 289),\n",
              "             (0.4, 52),\n",
              "             (0.5, 6),\n",
              "             (0.6, 5),\n",
              "             (0.7, 3),\n",
              "             (0.8, 1)])"
            ]
          },
          "metadata": {},
          "execution_count": 78
        }
      ]
    },
    {
      "cell_type": "code",
      "source": [
        "values = list(sorted_counts.keys())\n",
        "counts = list(sorted_counts.values())\n",
        "\n",
        "plt.figure(figsize=(10,5))\n",
        "plt.plot(values, counts)\n",
        "# plt.scatter(values, counts)\n",
        "plt.xlabel('Toxicity Buckets')\n",
        "plt.ylabel('Number of Users')\n",
        "plt.title('Difference in Toxicity of User and Neighbour')\n",
        "\n",
        "# plt.xticks(range(len(values)), values)\n",
        "plt.show()"
      ],
      "metadata": {
        "colab": {
          "base_uri": "https://localhost:8080/",
          "height": 350
        },
        "id": "3Md4zZS2EyLA",
        "outputId": "71b11f37-65fc-4e9f-d0e7-bf5c48db3a6e"
      },
      "execution_count": 82,
      "outputs": [
        {
          "output_type": "display_data",
          "data": {
            "text/plain": [
              "<Figure size 720x360 with 1 Axes>"
            ],
            "image/png": "[encoded data removed]"
          },
          "metadata": {
            "needs_background": "light"
          }
        }
      ]
    },
    {
      "cell_type": "code",
      "source": [
        "plt.figure(figsize=(10,5))\n",
        "plt.semilogy(values, counts)\n",
        "# plt.scatter(values, counts)\n",
        "plt.xlabel('Toxicity Buckets')\n",
        "plt.ylabel('Number of Users')\n",
        "plt.title('Difference in Toxicity of User and Neighbour')\n",
        "\n",
        "# plt.xticks(range(len(values)), values)\n",
        "plt.show()"
      ],
      "metadata": {
        "colab": {
          "base_uri": "https://localhost:8080/",
          "height": 350
        },
        "id": "eowQEdQQLgUp",
        "outputId": "af7f0aef-d33f-4419-c9f0-bf04b3e6016e"
      },
      "execution_count": 85,
      "outputs": [
        {
          "output_type": "display_data",
          "data": {
            "text/plain": [
              "<Figure size 720x360 with 1 Axes>"
            ],
            "image/png": "[encoded data removed]"
          },
          "metadata": {
            "needs_background": "light"
          }
        }
      ]
    }
  ],
  "metadata": {
    "colab": {
      "provenance": []
    },
    "kernelspec": {
      "display_name": "Python 3",
      "name": "python3"
    },
    "language_info": {
      "name": "python"
    }
  },
  "nbformat": 4,
  "nbformat_minor": 0
}