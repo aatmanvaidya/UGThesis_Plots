{
  "cells": [
    {
      "cell_type": "code",
      "execution_count": 1,
      "metadata": {
        "id": "cmC7aa6inzhh",
        "colab": {
          "base_uri": "https://localhost:8080/"
        },
        "outputId": "a0610126-8380-4577-be66-623513bcafad"
      },
      "outputs": [
        {
          "output_type": "stream",
          "name": "stdout",
          "text": [
            "Mounted at /content/gdrive\n"
          ]
        }
      ],
      "source": [
        "from google.colab import drive\n",
        "drive.mount('/content/gdrive')"
      ]
    },
    {
      "cell_type": "code",
      "execution_count": 2,
      "metadata": {
        "id": "R_1Ko89bn3-A"
      },
      "outputs": [],
      "source": [
        "import pandas as pd\n",
        "import matplotlib.pyplot as plt\n",
        "import matplotlib.ticker as ticker\n",
        "import numpy as np\n",
        "from datetime import datetime\n",
        "import networkx as nx\n",
        "import math\n",
        "from collections import Counter, OrderedDict\n",
        "from scipy.stats import shapiro\n",
        "from scipy.stats import ks_2samp\n",
        "import scipy.stats as stats\n",
        "\n",
        "import warnings\n",
        "warnings.filterwarnings(\"ignore\")"
      ]
    },
    {
      "cell_type": "code",
      "execution_count": 3,
      "metadata": {
        "id": "mgFclREFn5tc"
      },
      "outputs": [],
      "source": [
        "df = pd.read_csv(\"/content/gdrive/My Drive/tweetsConvereted2017_toxicPerspectiveScore.csv\")"
      ]
    },
    {
      "cell_type": "code",
      "execution_count": 4,
      "metadata": {
        "id": "3tQ41hMTn70p"
      },
      "outputs": [],
      "source": [
        "# df[\"week\"] = df[\"NewDateFormat\"].apply(lambda x: datetime.strptime(x, \"%Y-%m-%d %H:%M:%S\").strftime(\"%U\"))\n",
        "# df[\"month\"] = df[\"NewDateFormat\"].apply(lambda x: datetime.strptime(x, \"%Y-%m-%d %H:%M:%S\").strftime(\"%m\"))\n",
        "# df[\"day\"] = df[\"NewDateFormat\"].apply(lambda x: datetime.strptime(x, \"%Y-%m-%d %H:%M:%S\").strftime(\"%d\"))"
      ]
    },
    {
      "cell_type": "code",
      "execution_count": 5,
      "metadata": {
        "id": "QCcN7ORWn81e"
      },
      "outputs": [],
      "source": [
        "G = nx.read_edgelist('/content/gdrive/My Drive/users.edgelist')"
      ]
    },
    {
      "cell_type": "code",
      "execution_count": 7,
      "metadata": {
        "id": "ixFBfRRwn-Yv"
      },
      "outputs": [],
      "source": [
        "groupDf = df[['user_id', 'Toxicity']]"
      ]
    },
    {
      "cell_type": "code",
      "execution_count": 9,
      "metadata": {
        "id": "YAwBmSQkoFu7"
      },
      "outputs": [],
      "source": [
        "groupDf2 = groupDf[['user_id', 'Toxicity']].astype({'user_id': str})"
      ]
    },
    {
      "cell_type": "code",
      "source": [
        "# weekDf = groupDf2[groupDf2['week']==\"01\"]"
      ],
      "metadata": {
        "id": "8uKJWjGFUqLA"
      },
      "execution_count": 10,
      "outputs": []
    },
    {
      "cell_type": "code",
      "execution_count": 11,
      "metadata": {
        "id": "wH6MgF40raJ5"
      },
      "outputs": [],
      "source": [
        "groupedDf = groupDf2.groupby(['user_id']).agg({'Toxicity': 'mean'}).reset_index()\n",
        "# groupedDf = weekDf.groupby(['user_id']).agg({'Toxicity': 'mean'}).reset_index()"
      ]
    },
    {
      "cell_type": "code",
      "execution_count": 12,
      "metadata": {
        "id": "IeAZCOWdrcQk"
      },
      "outputs": [],
      "source": [
        "users_list = list(groupedDf['user_id'].unique().astype(str))"
      ]
    },
    {
      "cell_type": "code",
      "execution_count": 13,
      "metadata": {
        "id": "Y9_1SYd-rdYR"
      },
      "outputs": [],
      "source": [
        "G2 = G.subgraph(users_list)"
      ]
    },
    {
      "cell_type": "code",
      "execution_count": 14,
      "metadata": {
        "id": "xs6aueYvrel_"
      },
      "outputs": [],
      "source": [
        "user_toxicity = groupedDf.set_index('user_id')['Toxicity'].to_dict()"
      ]
    },
    {
      "cell_type": "code",
      "execution_count": 15,
      "metadata": {
        "id": "G1IuFgSFu7ug"
      },
      "outputs": [],
      "source": [
        "neighbor_toxicity = {}\n",
        "for user in G2.nodes():\n",
        "  neighbors = list(G2.neighbors(user))\n",
        "  if user in neighbors:\n",
        "      neighbors.remove(user)\n",
        "  if len(neighbors) > 0:\n",
        "      neighbor_toxicity[user] = groupedDf[groupedDf['user_id'].isin(neighbors)]['Toxicity'].mean()"
      ]
    },
    {
      "cell_type": "code",
      "execution_count": 61,
      "metadata": {
        "id": "VjjsdZR_u85m"
      },
      "outputs": [],
      "source": [
        "x = [user_toxicity[user] for user in neighbor_toxicity.keys()]\n",
        "y = list(neighbor_toxicity.values())"
      ]
    },
    {
      "cell_type": "code",
      "source": [
        "diff = [x[i] - y[i] for i in range(len(x))]\n",
        "diff2 = diff\n",
        "diff3 = diff"
      ],
      "metadata": {
        "id": "TqDQFNyA--x-"
      },
      "execution_count": 62,
      "outputs": []
    },
    {
      "cell_type": "code",
      "source": [
        "diff = [elem * 10 for elem in diff]"
      ],
      "metadata": {
        "id": "mVGH9kY7DaKo"
      },
      "execution_count": 63,
      "outputs": []
    },
    {
      "cell_type": "code",
      "source": [
        "diff = [math.ceil(elem) if elem >= 0 else math.floor(elem) for elem in diff]"
      ],
      "metadata": {
        "id": "dUoYYENEDbuQ"
      },
      "execution_count": 64,
      "outputs": []
    },
    {
      "cell_type": "code",
      "source": [
        "diff = [elem / 10 for elem in diff]"
      ],
      "metadata": {
        "id": "W9g9FpqfEPUC"
      },
      "execution_count": 65,
      "outputs": []
    },
    {
      "cell_type": "code",
      "source": [
        "len(diff)"
      ],
      "metadata": {
        "colab": {
          "base_uri": "https://localhost:8080/"
        },
        "id": "KCqHrY_hDYUw",
        "outputId": "9c4ea03b-acc0-4471-e0a5-41425965ac7d"
      },
      "execution_count": 66,
      "outputs": [
        {
          "output_type": "execute_result",
          "data": {
            "text/plain": [
              "59837"
            ]
          },
          "metadata": {},
          "execution_count": 66
        }
      ]
    },
    {
      "cell_type": "code",
      "source": [
        "diff_counts = Counter(diff)"
      ],
      "metadata": {
        "id": "OzH4RgQIEgxA"
      },
      "execution_count": 67,
      "outputs": []
    },
    {
      "cell_type": "code",
      "source": [
        "sum(diff_counts.values())"
      ],
      "metadata": {
        "colab": {
          "base_uri": "https://localhost:8080/"
        },
        "id": "RQL_gVXkElW3",
        "outputId": "89326fcd-a5ae-4958-ea41-a9c82b2ad59e"
      },
      "execution_count": 68,
      "outputs": [
        {
          "output_type": "execute_result",
          "data": {
            "text/plain": [
              "59837"
            ]
          },
          "metadata": {},
          "execution_count": 68
        }
      ]
    },
    {
      "cell_type": "code",
      "source": [
        "diff_counts"
      ],
      "metadata": {
        "colab": {
          "base_uri": "https://localhost:8080/"
        },
        "id": "TNVLss6wJDYg",
        "outputId": "4897f307-467b-4ca9-9037-84ec30c521df"
      },
      "execution_count": 69,
      "outputs": [
        {
          "output_type": "execute_result",
          "data": {
            "text/plain": [
              "Counter({0.1: 20331,\n",
              "         -0.1: 36070,\n",
              "         0.2: 2137,\n",
              "         0.3: 289,\n",
              "         -0.2: 918,\n",
              "         0.4: 52,\n",
              "         0.5: 6,\n",
              "         0.7: 3,\n",
              "         0.6: 5,\n",
              "         -0.3: 21,\n",
              "         0.8: 1,\n",
              "         -0.4: 4})"
            ]
          },
          "metadata": {},
          "execution_count": 69
        }
      ]
    },
    {
      "cell_type": "code",
      "source": [
        "sorted_counts = OrderedDict(sorted(diff_counts.items()))"
      ],
      "metadata": {
        "id": "b__S6LtmJSfX"
      },
      "execution_count": 70,
      "outputs": []
    },
    {
      "cell_type": "code",
      "source": [
        "sorted_counts"
      ],
      "metadata": {
        "colab": {
          "base_uri": "https://localhost:8080/"
        },
        "id": "1fuELgihJnAo",
        "outputId": "48c2397f-df29-4ad6-82f2-46ac6eabb1d7"
      },
      "execution_count": 71,
      "outputs": [
        {
          "output_type": "execute_result",
          "data": {
            "text/plain": [
              "OrderedDict([(-0.4, 4),\n",
              "             (-0.3, 21),\n",
              "             (-0.2, 918),\n",
              "             (-0.1, 36070),\n",
              "             (0.1, 20331),\n",
              "             (0.2, 2137),\n",
              "             (0.3, 289),\n",
              "             (0.4, 52),\n",
              "             (0.5, 6),\n",
              "             (0.6, 5),\n",
              "             (0.7, 3),\n",
              "             (0.8, 1)])"
            ]
          },
          "metadata": {},
          "execution_count": 71
        }
      ]
    },
    {
      "cell_type": "code",
      "source": [
        "values = list(sorted_counts.keys())\n",
        "counts = list(sorted_counts.values())\n",
        "\n",
        "plt.figure(figsize=(10,5))\n",
        "plt.plot(values, counts)\n",
        "# plt.scatter(values, counts)\n",
        "plt.xlabel('Toxicity Buckets')\n",
        "plt.ylabel('Number of Users')\n",
        "plt.title('Difference in Toxicity of User and Neighbour')\n",
        "\n",
        "# plt.xticks(range(len(values)), values)\n",
        "plt.show()"
      ],
      "metadata": {
        "colab": {
          "base_uri": "https://localhost:8080/",
          "height": 350
        },
        "id": "3Md4zZS2EyLA",
        "outputId": "f9898925-46ee-444e-b93c-e1ac0c94fe35"
      },
      "execution_count": 72,
      "outputs": [
        {
          "output_type": "display_data",
          "data": {
            "text/plain": [
              "<Figure size 720x360 with 1 Axes>"
            ],
            "image/png": "[encoded data removed]"
          },
          "metadata": {
            "needs_background": "light"
          }
        }
      ]
    },
    {
      "cell_type": "code",
      "source": [
        "plt.figure(figsize=(10,5))\n",
        "plt.semilogy(values, counts)\n",
        "# plt.scatter(values, counts)\n",
        "plt.xlabel('Toxicity Buckets')\n",
        "plt.ylabel('Number of Users')\n",
        "plt.title('Difference in Toxicity of User and Neighbour')\n",
        "\n",
        "# plt.xticks(range(len(values)), values)\n",
        "plt.show()"
      ],
      "metadata": {
        "colab": {
          "base_uri": "https://localhost:8080/",
          "height": 350
        },
        "id": "eowQEdQQLgUp",
        "outputId": "57572569-e0b6-4247-820a-2ac1cfc6c2b0"
      },
      "execution_count": 73,
      "outputs": [
        {
          "output_type": "display_data",
          "data": {
            "text/plain": [
              "<Figure size 720x360 with 1 Axes>"
            ],
            "image/png": "[encoded data removed]"
          },
          "metadata": {
            "needs_background": "light"
          }
        }
      ]
    },
    {
      "cell_type": "code",
      "source": [
        "diff2 = [elem * 100 for elem in diff2]"
      ],
      "metadata": {
        "id": "kCBdbmDCKBYu"
      },
      "execution_count": 74,
      "outputs": []
    },
    {
      "cell_type": "code",
      "source": [
        "diff2 = [math.ceil(elem) if elem >= 0 else math.floor(elem) for elem in diff2]"
      ],
      "metadata": {
        "id": "3tXlJQ8RKF2D"
      },
      "execution_count": 75,
      "outputs": []
    },
    {
      "cell_type": "code",
      "source": [
        "diff2 = [elem / 100 for elem in diff2]"
      ],
      "metadata": {
        "id": "21xLnW6sKQGo"
      },
      "execution_count": 76,
      "outputs": []
    },
    {
      "cell_type": "code",
      "source": [
        "# diff2\n",
        "print(max(diff2))\n",
        "print(min(diff2))\n",
        "print(max(diff3))\n",
        "print(min(diff3))"
      ],
      "metadata": {
        "colab": {
          "base_uri": "https://localhost:8080/"
        },
        "id": "tOaAfxiXJ7cd",
        "outputId": "401280dc-bce4-4e41-c4ad-e33df486cfa8"
      },
      "execution_count": 96,
      "outputs": [
        {
          "output_type": "stream",
          "name": "stdout",
          "text": [
            "0.72\n",
            "-0.37\n",
            "0.7109374893516603\n",
            "-0.3684331612787879\n"
          ]
        }
      ]
    },
    {
      "cell_type": "code",
      "source": [
        "diff2_counts = Counter(diff2)"
      ],
      "metadata": {
        "id": "iM9SA4VwKa_a"
      },
      "execution_count": 78,
      "outputs": []
    },
    {
      "cell_type": "code",
      "source": [
        "sorted_counts2 = OrderedDict(sorted(diff2_counts.items()))"
      ],
      "metadata": {
        "id": "SFv01LXbKfCC"
      },
      "execution_count": 79,
      "outputs": []
    },
    {
      "cell_type": "code",
      "source": [
        "len(sorted_counts2)"
      ],
      "metadata": {
        "colab": {
          "base_uri": "https://localhost:8080/"
        },
        "id": "uExAPEEbKjFS",
        "outputId": "3be6def7-acfb-45bf-f4e2-5b09c5ce31dd"
      },
      "execution_count": 93,
      "outputs": [
        {
          "output_type": "execute_result",
          "data": {
            "text/plain": [
              "84"
            ]
          },
          "metadata": {},
          "execution_count": 93
        }
      ]
    },
    {
      "cell_type": "code",
      "source": [
        "values = list(sorted_counts2.keys())\n",
        "counts = list(sorted_counts2.values())\n",
        "\n",
        "plt.figure(figsize=(10,5))\n",
        "plt.plot(values, counts)\n",
        "# plt.scatter(values, counts)\n",
        "plt.xlabel('Toxicity Buckets')\n",
        "plt.ylabel('Number of Users')\n",
        "plt.title('Difference in Toxicity of User and Neighbour')\n",
        "\n",
        "# plt.xticks(range(len(values)), values)\n",
        "plt.show()"
      ],
      "metadata": {
        "colab": {
          "base_uri": "https://localhost:8080/",
          "height": 350
        },
        "id": "J4X6E65rLyJR",
        "outputId": "189597b6-adef-4669-aa3a-573d4852070e"
      },
      "execution_count": 86,
      "outputs": [
        {
          "output_type": "display_data",
          "data": {
            "text/plain": [
              "<Figure size 720x360 with 1 Axes>"
            ],
            "image/png": "[encoded data removed]"
          },
          "metadata": {
            "needs_background": "light"
          }
        }
      ]
    },
    {
      "cell_type": "code",
      "source": [
        "values = list(sorted_counts2.keys())\n",
        "counts = list(sorted_counts2.values())\n",
        "\n",
        "plt.figure(figsize=(10,5))\n",
        "plt.semilogy(values, counts)\n",
        "# plt.scatter(values, counts)\n",
        "plt.xlabel('Toxicity Buckets')\n",
        "plt.ylabel('Number of Users')\n",
        "plt.title('Difference in Toxicity of User and Neighbour')\n",
        "\n",
        "# plt.xticks(range(len(values)), values)\n",
        "plt.show()"
      ],
      "metadata": {
        "colab": {
          "base_uri": "https://localhost:8080/",
          "height": 350
        },
        "id": "WFyzIuYkMK7h",
        "outputId": "3a355422-552b-4aee-dad4-dc9d88f64edf"
      },
      "execution_count": 92,
      "outputs": [
        {
          "output_type": "display_data",
          "data": {
            "text/plain": [
              "<Figure size 720x360 with 1 Axes>"
            ],
            "image/png": "[encoded data removed]"
          },
          "metadata": {
            "needs_background": "light"
          }
        }
      ]
    },
    {
      "cell_type": "code",
      "source": [
        "stat, p = shapiro(diff2)\n",
        "\n",
        "print(\"Shapiro-Wilk test statistic:\", stat)\n",
        "print(\"p-value:\", p)\n",
        "\n",
        "if p > 0.05:\n",
        "    print(\"The sample is normally distributed\")\n",
        "else:\n",
        "    print(\"The sample is not normally distributed\")"
      ],
      "metadata": {
        "id": "NgrX8oM3R4cc",
        "outputId": "9596a502-3eb3-49e6-8c7e-09d45da85f6c",
        "colab": {
          "base_uri": "https://localhost:8080/"
        }
      },
      "execution_count": 87,
      "outputs": [
        {
          "output_type": "stream",
          "name": "stdout",
          "text": [
            "Shapiro-Wilk test statistic: 0.9084965586662292\n",
            "p-value: 0.0\n",
            "The sample is not normally distributed\n"
          ]
        }
      ]
    },
    {
      "cell_type": "code",
      "source": [
        "# Generate a sample with a normal distribution\n",
        "sample = np.random.normal(loc=0.0, scale=1.0, size=100)\n",
        "\n",
        "# Perform the KS test on the sample and the diff list\n",
        "stat, p = ks_2samp(sample, diff2)\n",
        "\n",
        "# Print the test statistic and the p-value\n",
        "print(\"KS test statistic:\", stat)\n",
        "print(\"p-value:\", p)\n",
        "\n",
        "# Check if the null hypothesis can be rejected or not\n",
        "if p > 0.05:\n",
        "    print(\"The diff list comes from the same distribution as the sample\")\n",
        "else:\n",
        "    print(\"The diff list comes from a different distribution than the sample\")"
      ],
      "metadata": {
        "colab": {
          "base_uri": "https://localhost:8080/"
        },
        "id": "ZQ5CEVoTZW4f",
        "outputId": "cf38be20-bf81-431a-c437-41f871b65324"
      },
      "execution_count": 88,
      "outputs": [
        {
          "output_type": "stream",
          "name": "stdout",
          "text": [
            "KS test statistic: 0.5096490465765329\n",
            "p-value: 1.3036158485241606e-24\n",
            "The diff list comes from a different distribution than the sample\n"
          ]
        }
      ]
    },
    {
      "cell_type": "code",
      "source": [
        "# Add a constant value to shift the data to a positive range\n",
        "shifted_diff2 = np.array(diff2) - min(diff2) + 1e-8\n",
        "\n",
        "# Apply Box-Cox transformation to shifted_diff2\n",
        "diff2_boxcox, lambda_diff2 = stats.boxcox(shifted_diff2)\n",
        "\n",
        "# Print lambda (the estimated power parameter)\n",
        "print(\"Lambda for diff2: {:.2f}\".format(lambda_diff2))"
      ],
      "metadata": {
        "colab": {
          "base_uri": "https://localhost:8080/"
        },
        "id": "BN5ZWeg9fpzg",
        "outputId": "d85a7d19-19be-4f76-b5c0-43d30eb3f487"
      },
      "execution_count": 89,
      "outputs": [
        {
          "output_type": "stream",
          "name": "stdout",
          "text": [
            "Lambda for diff2: 0.30\n"
          ]
        }
      ]
    },
    {
      "cell_type": "code",
      "source": [
        "stat, p = shapiro(diff2_boxcox)\n",
        "\n",
        "# Print the test statistic and the p-value\n",
        "print(\"Shapiro-Wilk test statistic:\", stat)\n",
        "print(\"p-value:\", p)\n",
        "\n",
        "# Check if the null hypothesis can be rejected or not\n",
        "if p > 0.05:\n",
        "    print(\"The sample is normally distributed\")\n",
        "else:\n",
        "    print(\"The sample is not normally distributed\")"
      ],
      "metadata": {
        "colab": {
          "base_uri": "https://localhost:8080/"
        },
        "id": "Ci5YcVhEf-D2",
        "outputId": "211e9630-fe7e-45c7-b817-43fb7a45f766"
      },
      "execution_count": 90,
      "outputs": [
        {
          "output_type": "stream",
          "name": "stdout",
          "text": [
            "Shapiro-Wilk test statistic: 0.9356332421302795\n",
            "p-value: 0.0\n",
            "The sample is not normally distributed\n"
          ]
        }
      ]
    }
  ],
  "metadata": {
    "colab": {
      "provenance": []
    },
    "kernelspec": {
      "display_name": "Python 3",
      "name": "python3"
    },
    "language_info": {
      "name": "python"
    }
  },
  "nbformat": 4,
  "nbformat_minor": 0
}