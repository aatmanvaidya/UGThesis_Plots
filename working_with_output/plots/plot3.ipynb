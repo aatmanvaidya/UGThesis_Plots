{
 "cells": [
  {
   "cell_type": "code",
   "execution_count": 2,
   "id": "a77aee5e",
   "metadata": {},
   "outputs": [],
   "source": [
    "import pandas as pd\n",
    "import matplotlib.pyplot as plt\n",
    "import numpy as np\n",
    "from datetime import datetime\n",
    "import seaborn as sns"
   ]
  },
  {
   "cell_type": "code",
   "execution_count": 3,
   "id": "07ae6f83",
   "metadata": {},
   "outputs": [],
   "source": [
    "df = pd.read_csv(\"D:\\\\Study\\\\UG Thesis\\\\Datasets\\\\ReibeiroDataset\\\\tweetsConvereted2017_toxicPerspectiveScore.csv\")"
   ]
  },
  {
   "cell_type": "code",
   "execution_count": 4,
   "id": "85e81fdb",
   "metadata": {},
   "outputs": [],
   "source": [
    "# Parse the dates in the NewDateFormat column and extract the week number\n",
    "df[\"week\"] = df[\"NewDateFormat\"].apply(lambda x: datetime.strptime(x, \"%Y-%m-%d %H:%M:%S\").strftime(\"%U\"))"
   ]
  },
  {
   "cell_type": "code",
   "execution_count": 5,
   "id": "486b3175",
   "metadata": {},
   "outputs": [
    {
     "data": {
      "text/html": [
       "<div>\n",
       "<style scoped>\n",
       "    .dataframe tbody tr th:only-of-type {\n",
       "        vertical-align: middle;\n",
       "    }\n",
       "\n",
       "    .dataframe tbody tr th {\n",
       "        vertical-align: top;\n",
       "    }\n",
       "\n",
       "    .dataframe thead th {\n",
       "        text-align: right;\n",
       "    }\n",
       "</style>\n",
       "<table border=\"1\" class=\"dataframe\">\n",
       "  <thead>\n",
       "    <tr style=\"text-align: right;\">\n",
       "      <th></th>\n",
       "      <th>user_id</th>\n",
       "      <th>screen_name</th>\n",
       "      <th>tweet_id</th>\n",
       "      <th>tweet_text</th>\n",
       "      <th>tweet_creation</th>\n",
       "      <th>tweet_fav</th>\n",
       "      <th>tweet_rt</th>\n",
       "      <th>rp_flag</th>\n",
       "      <th>rp_status</th>\n",
       "      <th>rp_user</th>\n",
       "      <th>...</th>\n",
       "      <th>rt_status_id</th>\n",
       "      <th>rt_user_id</th>\n",
       "      <th>rt_text</th>\n",
       "      <th>rt_creation</th>\n",
       "      <th>rt_fav</th>\n",
       "      <th>rt_rt</th>\n",
       "      <th>Toxicity</th>\n",
       "      <th>Severe Toxicity</th>\n",
       "      <th>NewDateFormat</th>\n",
       "      <th>week</th>\n",
       "    </tr>\n",
       "  </thead>\n",
       "  <tbody>\n",
       "    <tr>\n",
       "      <th>0</th>\n",
       "      <td>4746709454</td>\n",
       "      <td>just_jusss</td>\n",
       "      <td>911477065328631809</td>\n",
       "      <td>Having a strict dad, if I ask to go out one we...</td>\n",
       "      <td>1.506159e+09</td>\n",
       "      <td>1.0</td>\n",
       "      <td>0.0</td>\n",
       "      <td>False</td>\n",
       "      <td>NaN</td>\n",
       "      <td>NaN</td>\n",
       "      <td>...</td>\n",
       "      <td>NaN</td>\n",
       "      <td>NaN</td>\n",
       "      <td>NaN</td>\n",
       "      <td>NaN</td>\n",
       "      <td>NaN</td>\n",
       "      <td>NaN</td>\n",
       "      <td>0.052305</td>\n",
       "      <td>0.002346</td>\n",
       "      <td>2017-09-23 09:27:21</td>\n",
       "      <td>38</td>\n",
       "    </tr>\n",
       "    <tr>\n",
       "      <th>1</th>\n",
       "      <td>4746709454</td>\n",
       "      <td>just_jusss</td>\n",
       "      <td>911399501264384001</td>\n",
       "      <td>Lookin at all these couples like MBN🤧 but then...</td>\n",
       "      <td>1.506140e+09</td>\n",
       "      <td>2.0</td>\n",
       "      <td>0.0</td>\n",
       "      <td>False</td>\n",
       "      <td>NaN</td>\n",
       "      <td>NaN</td>\n",
       "      <td>...</td>\n",
       "      <td>NaN</td>\n",
       "      <td>NaN</td>\n",
       "      <td>NaN</td>\n",
       "      <td>NaN</td>\n",
       "      <td>NaN</td>\n",
       "      <td>NaN</td>\n",
       "      <td>0.068171</td>\n",
       "      <td>0.003433</td>\n",
       "      <td>2017-09-23 04:19:08</td>\n",
       "      <td>38</td>\n",
       "    </tr>\n",
       "    <tr>\n",
       "      <th>2</th>\n",
       "      <td>4746709454</td>\n",
       "      <td>just_jusss</td>\n",
       "      <td>911343372282900480</td>\n",
       "      <td>Being a senior kinda sucks when most of your f...</td>\n",
       "      <td>1.506127e+09</td>\n",
       "      <td>3.0</td>\n",
       "      <td>0.0</td>\n",
       "      <td>False</td>\n",
       "      <td>NaN</td>\n",
       "      <td>NaN</td>\n",
       "      <td>...</td>\n",
       "      <td>NaN</td>\n",
       "      <td>NaN</td>\n",
       "      <td>NaN</td>\n",
       "      <td>NaN</td>\n",
       "      <td>NaN</td>\n",
       "      <td>NaN</td>\n",
       "      <td>0.518691</td>\n",
       "      <td>0.023787</td>\n",
       "      <td>2017-09-23 00:36:06</td>\n",
       "      <td>38</td>\n",
       "    </tr>\n",
       "    <tr>\n",
       "      <th>3</th>\n",
       "      <td>773711528398848000</td>\n",
       "      <td>CassandraCohan</td>\n",
       "      <td>923729371235586049</td>\n",
       "      <td>@periwinkledink So pretty</td>\n",
       "      <td>1.509076e+09</td>\n",
       "      <td>1.0</td>\n",
       "      <td>0.0</td>\n",
       "      <td>True</td>\n",
       "      <td>923705106264027136</td>\n",
       "      <td>3.434322e+09</td>\n",
       "      <td>...</td>\n",
       "      <td>NaN</td>\n",
       "      <td>NaN</td>\n",
       "      <td>NaN</td>\n",
       "      <td>NaN</td>\n",
       "      <td>NaN</td>\n",
       "      <td>NaN</td>\n",
       "      <td>0.010681</td>\n",
       "      <td>0.002117</td>\n",
       "      <td>2017-10-27 03:53:38</td>\n",
       "      <td>43</td>\n",
       "    </tr>\n",
       "    <tr>\n",
       "      <th>4</th>\n",
       "      <td>773711528398848000</td>\n",
       "      <td>CassandraCohan</td>\n",
       "      <td>923689995763843072</td>\n",
       "      <td>@readyforramos It’s 2017 we go to church and pray</td>\n",
       "      <td>1.509067e+09</td>\n",
       "      <td>3.0</td>\n",
       "      <td>0.0</td>\n",
       "      <td>True</td>\n",
       "      <td>923689936406044673</td>\n",
       "      <td>2.633570e+09</td>\n",
       "      <td>...</td>\n",
       "      <td>NaN</td>\n",
       "      <td>NaN</td>\n",
       "      <td>NaN</td>\n",
       "      <td>NaN</td>\n",
       "      <td>NaN</td>\n",
       "      <td>NaN</td>\n",
       "      <td>0.018975</td>\n",
       "      <td>0.001316</td>\n",
       "      <td>2017-10-27 01:17:10</td>\n",
       "      <td>43</td>\n",
       "    </tr>\n",
       "  </tbody>\n",
       "</table>\n",
       "<p>5 rows × 28 columns</p>\n",
       "</div>"
      ],
      "text/plain": [
       "              user_id     screen_name            tweet_id  \\\n",
       "0          4746709454      just_jusss  911477065328631809   \n",
       "1          4746709454      just_jusss  911399501264384001   \n",
       "2          4746709454      just_jusss  911343372282900480   \n",
       "3  773711528398848000  CassandraCohan  923729371235586049   \n",
       "4  773711528398848000  CassandraCohan  923689995763843072   \n",
       "\n",
       "                                          tweet_text  tweet_creation  \\\n",
       "0  Having a strict dad, if I ask to go out one we...    1.506159e+09   \n",
       "1  Lookin at all these couples like MBN🤧 but then...    1.506140e+09   \n",
       "2  Being a senior kinda sucks when most of your f...    1.506127e+09   \n",
       "3                          @periwinkledink So pretty    1.509076e+09   \n",
       "4  @readyforramos It’s 2017 we go to church and pray    1.509067e+09   \n",
       "\n",
       "   tweet_fav  tweet_rt  rp_flag           rp_status       rp_user  ...  \\\n",
       "0        1.0       0.0    False                 NaN           NaN  ...   \n",
       "1        2.0       0.0    False                 NaN           NaN  ...   \n",
       "2        3.0       0.0    False                 NaN           NaN  ...   \n",
       "3        1.0       0.0     True  923705106264027136  3.434322e+09  ...   \n",
       "4        3.0       0.0     True  923689936406044673  2.633570e+09  ...   \n",
       "\n",
       "   rt_status_id  rt_user_id  rt_text rt_creation  rt_fav  rt_rt  Toxicity  \\\n",
       "0           NaN         NaN      NaN         NaN     NaN    NaN  0.052305   \n",
       "1           NaN         NaN      NaN         NaN     NaN    NaN  0.068171   \n",
       "2           NaN         NaN      NaN         NaN     NaN    NaN  0.518691   \n",
       "3           NaN         NaN      NaN         NaN     NaN    NaN  0.010681   \n",
       "4           NaN         NaN      NaN         NaN     NaN    NaN  0.018975   \n",
       "\n",
       "   Severe Toxicity        NewDateFormat  week  \n",
       "0         0.002346  2017-09-23 09:27:21    38  \n",
       "1         0.003433  2017-09-23 04:19:08    38  \n",
       "2         0.023787  2017-09-23 00:36:06    38  \n",
       "3         0.002117  2017-10-27 03:53:38    43  \n",
       "4         0.001316  2017-10-27 01:17:10    43  \n",
       "\n",
       "[5 rows x 28 columns]"
      ]
     },
     "execution_count": 5,
     "metadata": {},
     "output_type": "execute_result"
    }
   ],
   "source": [
    "df.head()"
   ]
  },
  {
   "cell_type": "code",
   "execution_count": 18,
   "id": "7192a162",
   "metadata": {},
   "outputs": [],
   "source": [
    "groupDf = df[['screen_name', 'Toxicity', 'Severe Toxicity', 'qt_flag', 'rt_flag', 'week']]"
   ]
  },
  {
   "cell_type": "code",
   "execution_count": 19,
   "id": "0fb09555",
   "metadata": {},
   "outputs": [
    {
     "data": {
      "text/html": [
       "<div>\n",
       "<style scoped>\n",
       "    .dataframe tbody tr th:only-of-type {\n",
       "        vertical-align: middle;\n",
       "    }\n",
       "\n",
       "    .dataframe tbody tr th {\n",
       "        vertical-align: top;\n",
       "    }\n",
       "\n",
       "    .dataframe thead th {\n",
       "        text-align: right;\n",
       "    }\n",
       "</style>\n",
       "<table border=\"1\" class=\"dataframe\">\n",
       "  <thead>\n",
       "    <tr style=\"text-align: right;\">\n",
       "      <th></th>\n",
       "      <th>screen_name</th>\n",
       "      <th>Toxicity</th>\n",
       "      <th>Severe Toxicity</th>\n",
       "      <th>qt_flag</th>\n",
       "      <th>rt_flag</th>\n",
       "      <th>week</th>\n",
       "    </tr>\n",
       "  </thead>\n",
       "  <tbody>\n",
       "    <tr>\n",
       "      <th>0</th>\n",
       "      <td>just_jusss</td>\n",
       "      <td>0.052305</td>\n",
       "      <td>0.002346</td>\n",
       "      <td>False</td>\n",
       "      <td>False</td>\n",
       "      <td>38</td>\n",
       "    </tr>\n",
       "    <tr>\n",
       "      <th>1</th>\n",
       "      <td>just_jusss</td>\n",
       "      <td>0.068171</td>\n",
       "      <td>0.003433</td>\n",
       "      <td>False</td>\n",
       "      <td>False</td>\n",
       "      <td>38</td>\n",
       "    </tr>\n",
       "    <tr>\n",
       "      <th>2</th>\n",
       "      <td>just_jusss</td>\n",
       "      <td>0.518691</td>\n",
       "      <td>0.023787</td>\n",
       "      <td>False</td>\n",
       "      <td>False</td>\n",
       "      <td>38</td>\n",
       "    </tr>\n",
       "    <tr>\n",
       "      <th>3</th>\n",
       "      <td>CassandraCohan</td>\n",
       "      <td>0.010681</td>\n",
       "      <td>0.002117</td>\n",
       "      <td>False</td>\n",
       "      <td>False</td>\n",
       "      <td>43</td>\n",
       "    </tr>\n",
       "    <tr>\n",
       "      <th>4</th>\n",
       "      <td>CassandraCohan</td>\n",
       "      <td>0.018975</td>\n",
       "      <td>0.001316</td>\n",
       "      <td>False</td>\n",
       "      <td>False</td>\n",
       "      <td>43</td>\n",
       "    </tr>\n",
       "  </tbody>\n",
       "</table>\n",
       "</div>"
      ],
      "text/plain": [
       "      screen_name  Toxicity  Severe Toxicity  qt_flag  rt_flag week\n",
       "0      just_jusss  0.052305         0.002346    False    False   38\n",
       "1      just_jusss  0.068171         0.003433    False    False   38\n",
       "2      just_jusss  0.518691         0.023787    False    False   38\n",
       "3  CassandraCohan  0.010681         0.002117    False    False   43\n",
       "4  CassandraCohan  0.018975         0.001316    False    False   43"
      ]
     },
     "execution_count": 19,
     "metadata": {},
     "output_type": "execute_result"
    }
   ],
   "source": [
    "groupDf.head()"
   ]
  },
  {
   "cell_type": "code",
   "execution_count": 20,
   "id": "9cfee9ac",
   "metadata": {},
   "outputs": [],
   "source": [
    "groupDf2 = groupDf[(groupDf['qt_flag'] == False) & (groupDf['rt_flag'] == False)]"
   ]
  },
  {
   "cell_type": "code",
   "execution_count": 21,
   "id": "60d1be5d",
   "metadata": {},
   "outputs": [
    {
     "data": {
      "text/plain": [
       "5751596"
      ]
     },
     "execution_count": 21,
     "metadata": {},
     "output_type": "execute_result"
    }
   ],
   "source": [
    "len(groupDf2)"
   ]
  },
  {
   "cell_type": "code",
   "execution_count": 22,
   "id": "57013cce",
   "metadata": {},
   "outputs": [
    {
     "data": {
      "text/html": [
       "<div>\n",
       "<style scoped>\n",
       "    .dataframe tbody tr th:only-of-type {\n",
       "        vertical-align: middle;\n",
       "    }\n",
       "\n",
       "    .dataframe tbody tr th {\n",
       "        vertical-align: top;\n",
       "    }\n",
       "\n",
       "    .dataframe thead th {\n",
       "        text-align: right;\n",
       "    }\n",
       "</style>\n",
       "<table border=\"1\" class=\"dataframe\">\n",
       "  <thead>\n",
       "    <tr style=\"text-align: right;\">\n",
       "      <th></th>\n",
       "      <th>screen_name</th>\n",
       "      <th>Toxicity</th>\n",
       "      <th>Severe Toxicity</th>\n",
       "      <th>qt_flag</th>\n",
       "      <th>rt_flag</th>\n",
       "      <th>week</th>\n",
       "    </tr>\n",
       "  </thead>\n",
       "  <tbody>\n",
       "    <tr>\n",
       "      <th>0</th>\n",
       "      <td>just_jusss</td>\n",
       "      <td>0.052305</td>\n",
       "      <td>0.002346</td>\n",
       "      <td>False</td>\n",
       "      <td>False</td>\n",
       "      <td>38</td>\n",
       "    </tr>\n",
       "    <tr>\n",
       "      <th>1</th>\n",
       "      <td>just_jusss</td>\n",
       "      <td>0.068171</td>\n",
       "      <td>0.003433</td>\n",
       "      <td>False</td>\n",
       "      <td>False</td>\n",
       "      <td>38</td>\n",
       "    </tr>\n",
       "    <tr>\n",
       "      <th>2</th>\n",
       "      <td>just_jusss</td>\n",
       "      <td>0.518691</td>\n",
       "      <td>0.023787</td>\n",
       "      <td>False</td>\n",
       "      <td>False</td>\n",
       "      <td>38</td>\n",
       "    </tr>\n",
       "    <tr>\n",
       "      <th>3</th>\n",
       "      <td>CassandraCohan</td>\n",
       "      <td>0.010681</td>\n",
       "      <td>0.002117</td>\n",
       "      <td>False</td>\n",
       "      <td>False</td>\n",
       "      <td>43</td>\n",
       "    </tr>\n",
       "    <tr>\n",
       "      <th>4</th>\n",
       "      <td>CassandraCohan</td>\n",
       "      <td>0.018975</td>\n",
       "      <td>0.001316</td>\n",
       "      <td>False</td>\n",
       "      <td>False</td>\n",
       "      <td>43</td>\n",
       "    </tr>\n",
       "  </tbody>\n",
       "</table>\n",
       "</div>"
      ],
      "text/plain": [
       "      screen_name  Toxicity  Severe Toxicity  qt_flag  rt_flag week\n",
       "0      just_jusss  0.052305         0.002346    False    False   38\n",
       "1      just_jusss  0.068171         0.003433    False    False   38\n",
       "2      just_jusss  0.518691         0.023787    False    False   38\n",
       "3  CassandraCohan  0.010681         0.002117    False    False   43\n",
       "4  CassandraCohan  0.018975         0.001316    False    False   43"
      ]
     },
     "execution_count": 22,
     "metadata": {},
     "output_type": "execute_result"
    }
   ],
   "source": [
    "groupDf2.head()"
   ]
  },
  {
   "cell_type": "code",
   "execution_count": 64,
   "id": "353a3cf6",
   "metadata": {},
   "outputs": [],
   "source": [
    "weekDf = groupDf2[groupDf2['week'] == \"06\"]"
   ]
  },
  {
   "cell_type": "code",
   "execution_count": 65,
   "id": "8273fa07",
   "metadata": {},
   "outputs": [
    {
     "data": {
      "text/plain": [
       "9434"
      ]
     },
     "execution_count": 65,
     "metadata": {},
     "output_type": "execute_result"
    }
   ],
   "source": [
    "len(weekDf)"
   ]
  },
  {
   "cell_type": "code",
   "execution_count": 66,
   "id": "5a28ac9f",
   "metadata": {},
   "outputs": [
    {
     "data": {
      "text/html": [
       "<div>\n",
       "<style scoped>\n",
       "    .dataframe tbody tr th:only-of-type {\n",
       "        vertical-align: middle;\n",
       "    }\n",
       "\n",
       "    .dataframe tbody tr th {\n",
       "        vertical-align: top;\n",
       "    }\n",
       "\n",
       "    .dataframe thead th {\n",
       "        text-align: right;\n",
       "    }\n",
       "</style>\n",
       "<table border=\"1\" class=\"dataframe\">\n",
       "  <thead>\n",
       "    <tr style=\"text-align: right;\">\n",
       "      <th></th>\n",
       "      <th>screen_name</th>\n",
       "      <th>Toxicity</th>\n",
       "      <th>Severe Toxicity</th>\n",
       "      <th>qt_flag</th>\n",
       "      <th>rt_flag</th>\n",
       "      <th>week</th>\n",
       "    </tr>\n",
       "  </thead>\n",
       "  <tbody>\n",
       "    <tr>\n",
       "      <th>239</th>\n",
       "      <td>alienkattt</td>\n",
       "      <td>0.027324</td>\n",
       "      <td>0.002518</td>\n",
       "      <td>False</td>\n",
       "      <td>False</td>\n",
       "      <td>06</td>\n",
       "    </tr>\n",
       "    <tr>\n",
       "      <th>240</th>\n",
       "      <td>alienkattt</td>\n",
       "      <td>0.588517</td>\n",
       "      <td>0.033214</td>\n",
       "      <td>False</td>\n",
       "      <td>False</td>\n",
       "      <td>06</td>\n",
       "    </tr>\n",
       "    <tr>\n",
       "      <th>241</th>\n",
       "      <td>alienkattt</td>\n",
       "      <td>0.065797</td>\n",
       "      <td>0.003052</td>\n",
       "      <td>False</td>\n",
       "      <td>False</td>\n",
       "      <td>06</td>\n",
       "    </tr>\n",
       "    <tr>\n",
       "      <th>242</th>\n",
       "      <td>alienkattt</td>\n",
       "      <td>0.227128</td>\n",
       "      <td>0.019224</td>\n",
       "      <td>False</td>\n",
       "      <td>False</td>\n",
       "      <td>06</td>\n",
       "    </tr>\n",
       "    <tr>\n",
       "      <th>243</th>\n",
       "      <td>alienkattt</td>\n",
       "      <td>0.003173</td>\n",
       "      <td>0.000529</td>\n",
       "      <td>False</td>\n",
       "      <td>False</td>\n",
       "      <td>06</td>\n",
       "    </tr>\n",
       "  </tbody>\n",
       "</table>\n",
       "</div>"
      ],
      "text/plain": [
       "    screen_name  Toxicity  Severe Toxicity  qt_flag  rt_flag week\n",
       "239  alienkattt  0.027324         0.002518    False    False   06\n",
       "240  alienkattt  0.588517         0.033214    False    False   06\n",
       "241  alienkattt  0.065797         0.003052    False    False   06\n",
       "242  alienkattt  0.227128         0.019224    False    False   06\n",
       "243  alienkattt  0.003173         0.000529    False    False   06"
      ]
     },
     "execution_count": 66,
     "metadata": {},
     "output_type": "execute_result"
    }
   ],
   "source": [
    "weekDf.head()"
   ]
  },
  {
   "cell_type": "code",
   "execution_count": 67,
   "id": "ecef1a3b",
   "metadata": {},
   "outputs": [
    {
     "data": {
      "text/plain": [
       "2872"
      ]
     },
     "execution_count": 67,
     "metadata": {},
     "output_type": "execute_result"
    }
   ],
   "source": [
    "len(weekDf['screen_name'].unique())"
   ]
  },
  {
   "cell_type": "code",
   "execution_count": 68,
   "id": "b85a1e0b",
   "metadata": {},
   "outputs": [
    {
     "data": {
      "text/plain": [
       "0.07335"
      ]
     },
     "execution_count": 68,
     "metadata": {},
     "output_type": "execute_result"
    }
   ],
   "source": [
    "round(weekDf['Toxicity'].mean(),5)"
   ]
  }
 ],
 "metadata": {
  "kernelspec": {
   "display_name": "Python 3 (ipykernel)",
   "language": "python",
   "name": "python3"
  },
  "language_info": {
   "codemirror_mode": {
    "name": "ipython",
    "version": 3
   },
   "file_extension": ".py",
   "mimetype": "text/x-python",
   "name": "python",
   "nbconvert_exporter": "python",
   "pygments_lexer": "ipython3",
   "version": "3.9.12"
  }
 },
 "nbformat": 4,
 "nbformat_minor": 5
}
