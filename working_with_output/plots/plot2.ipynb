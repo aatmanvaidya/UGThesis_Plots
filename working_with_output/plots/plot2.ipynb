{
 "cells": [
  {
   "cell_type": "code",
   "execution_count": 1,
   "id": "595fd232",
   "metadata": {},
   "outputs": [],
   "source": [
    "import pandas as pd\n",
    "import matplotlib.pyplot as plt\n",
    "import numpy as np\n",
    "from datetime import datetime\n",
    "import seaborn as sns"
   ]
  },
  {
   "cell_type": "code",
   "execution_count": 2,
   "id": "e8aa7462",
   "metadata": {},
   "outputs": [],
   "source": [
    "df = pd.read_csv(\"D:\\\\Study\\\\UG Thesis\\\\Datasets\\\\ReibeiroDataset\\\\tweetsConvereted2017_toxicPerspectiveScore.csv\")"
   ]
  },
  {
   "cell_type": "code",
   "execution_count": 3,
   "id": "50814de9",
   "metadata": {},
   "outputs": [],
   "source": [
    "# Parse the dates in the NewDateFormat column and extract the week number\n",
    "df[\"month\"] = df[\"NewDateFormat\"].apply(lambda x: datetime.strptime(x, \"%Y-%m-%d %H:%M:%S\").strftime(\"%m\"))\n",
    "df = df.sort_values(by=['month'])"
   ]
  },
  {
   "cell_type": "code",
   "execution_count": 4,
   "id": "ae6d8942",
   "metadata": {},
   "outputs": [
    {
     "data": {
      "text/html": [
       "<div>\n",
       "<style scoped>\n",
       "    .dataframe tbody tr th:only-of-type {\n",
       "        vertical-align: middle;\n",
       "    }\n",
       "\n",
       "    .dataframe tbody tr th {\n",
       "        vertical-align: top;\n",
       "    }\n",
       "\n",
       "    .dataframe thead th {\n",
       "        text-align: right;\n",
       "    }\n",
       "</style>\n",
       "<table border=\"1\" class=\"dataframe\">\n",
       "  <thead>\n",
       "    <tr style=\"text-align: right;\">\n",
       "      <th></th>\n",
       "      <th>user_id</th>\n",
       "      <th>screen_name</th>\n",
       "      <th>tweet_id</th>\n",
       "      <th>tweet_text</th>\n",
       "      <th>tweet_creation</th>\n",
       "      <th>tweet_fav</th>\n",
       "      <th>tweet_rt</th>\n",
       "      <th>rp_flag</th>\n",
       "      <th>rp_status</th>\n",
       "      <th>rp_user</th>\n",
       "      <th>...</th>\n",
       "      <th>rt_status_id</th>\n",
       "      <th>rt_user_id</th>\n",
       "      <th>rt_text</th>\n",
       "      <th>rt_creation</th>\n",
       "      <th>rt_fav</th>\n",
       "      <th>rt_rt</th>\n",
       "      <th>Toxicity</th>\n",
       "      <th>Severe Toxicity</th>\n",
       "      <th>NewDateFormat</th>\n",
       "      <th>month</th>\n",
       "    </tr>\n",
       "  </thead>\n",
       "  <tbody>\n",
       "    <tr>\n",
       "      <th>3282032</th>\n",
       "      <td>168241998</td>\n",
       "      <td>megandgreer</td>\n",
       "      <td>821889970415763456</td>\n",
       "      <td>I can't wait!!! 🙌🏻 #kyleandmegan https://t.co/...</td>\n",
       "      <td>1.484796e+09</td>\n",
       "      <td>2.0</td>\n",
       "      <td>0.0</td>\n",
       "      <td>False</td>\n",
       "      <td>NaN</td>\n",
       "      <td>NaN</td>\n",
       "      <td>...</td>\n",
       "      <td>NaN</td>\n",
       "      <td>NaN</td>\n",
       "      <td>NaN</td>\n",
       "      <td>NaN</td>\n",
       "      <td>NaN</td>\n",
       "      <td>NaN</td>\n",
       "      <td>0.014451</td>\n",
       "      <td>0.001688</td>\n",
       "      <td>2017-01-19 03:20:13</td>\n",
       "      <td>01</td>\n",
       "    </tr>\n",
       "    <tr>\n",
       "      <th>1421758</th>\n",
       "      <td>30313925</td>\n",
       "      <td>ObamaWhiteHouse</td>\n",
       "      <td>819023534882029568</td>\n",
       "      <td>\"Of all that I’ve done in my life, I’m most pr...</td>\n",
       "      <td>1.484113e+09</td>\n",
       "      <td>26391.0</td>\n",
       "      <td>9144.0</td>\n",
       "      <td>False</td>\n",
       "      <td>NaN</td>\n",
       "      <td>NaN</td>\n",
       "      <td>...</td>\n",
       "      <td>NaN</td>\n",
       "      <td>NaN</td>\n",
       "      <td>NaN</td>\n",
       "      <td>NaN</td>\n",
       "      <td>NaN</td>\n",
       "      <td>NaN</td>\n",
       "      <td>0.018975</td>\n",
       "      <td>0.001383</td>\n",
       "      <td>2017-01-11 05:30:02</td>\n",
       "      <td>01</td>\n",
       "    </tr>\n",
       "    <tr>\n",
       "      <th>1421757</th>\n",
       "      <td>30313925</td>\n",
       "      <td>ObamaWhiteHouse</td>\n",
       "      <td>819026046561427456</td>\n",
       "      <td>.@POTUS to @VP: \"I've gained a brother...your ...</td>\n",
       "      <td>1.484113e+09</td>\n",
       "      <td>8300.0</td>\n",
       "      <td>2590.0</td>\n",
       "      <td>False</td>\n",
       "      <td>NaN</td>\n",
       "      <td>NaN</td>\n",
       "      <td>...</td>\n",
       "      <td>NaN</td>\n",
       "      <td>NaN</td>\n",
       "      <td>NaN</td>\n",
       "      <td>NaN</td>\n",
       "      <td>NaN</td>\n",
       "      <td>NaN</td>\n",
       "      <td>0.013948</td>\n",
       "      <td>0.001011</td>\n",
       "      <td>2017-01-11 05:40:00</td>\n",
       "      <td>01</td>\n",
       "    </tr>\n",
       "    <tr>\n",
       "      <th>1421756</th>\n",
       "      <td>30313925</td>\n",
       "      <td>ObamaWhiteHouse</td>\n",
       "      <td>819027304252702721</td>\n",
       "      <td>\"Our democracy is threatened whenever we take ...</td>\n",
       "      <td>1.484114e+09</td>\n",
       "      <td>4484.0</td>\n",
       "      <td>1528.0</td>\n",
       "      <td>False</td>\n",
       "      <td>NaN</td>\n",
       "      <td>NaN</td>\n",
       "      <td>...</td>\n",
       "      <td>NaN</td>\n",
       "      <td>NaN</td>\n",
       "      <td>NaN</td>\n",
       "      <td>NaN</td>\n",
       "      <td>NaN</td>\n",
       "      <td>NaN</td>\n",
       "      <td>0.043647</td>\n",
       "      <td>0.001497</td>\n",
       "      <td>2017-01-11 05:45:00</td>\n",
       "      <td>01</td>\n",
       "    </tr>\n",
       "    <tr>\n",
       "      <th>1421755</th>\n",
       "      <td>30313925</td>\n",
       "      <td>ObamaWhiteHouse</td>\n",
       "      <td>819028562871103488</td>\n",
       "      <td>“For all our outward differences, we in fact a...</td>\n",
       "      <td>1.484114e+09</td>\n",
       "      <td>9203.0</td>\n",
       "      <td>3323.0</td>\n",
       "      <td>False</td>\n",
       "      <td>NaN</td>\n",
       "      <td>NaN</td>\n",
       "      <td>...</td>\n",
       "      <td>NaN</td>\n",
       "      <td>NaN</td>\n",
       "      <td>NaN</td>\n",
       "      <td>NaN</td>\n",
       "      <td>NaN</td>\n",
       "      <td>NaN</td>\n",
       "      <td>0.018598</td>\n",
       "      <td>0.001140</td>\n",
       "      <td>2017-01-11 05:50:00</td>\n",
       "      <td>01</td>\n",
       "    </tr>\n",
       "  </tbody>\n",
       "</table>\n",
       "<p>5 rows × 28 columns</p>\n",
       "</div>"
      ],
      "text/plain": [
       "           user_id      screen_name            tweet_id  \\\n",
       "3282032  168241998      megandgreer  821889970415763456   \n",
       "1421758   30313925  ObamaWhiteHouse  819023534882029568   \n",
       "1421757   30313925  ObamaWhiteHouse  819026046561427456   \n",
       "1421756   30313925  ObamaWhiteHouse  819027304252702721   \n",
       "1421755   30313925  ObamaWhiteHouse  819028562871103488   \n",
       "\n",
       "                                                tweet_text  tweet_creation  \\\n",
       "3282032  I can't wait!!! 🙌🏻 #kyleandmegan https://t.co/...    1.484796e+09   \n",
       "1421758  \"Of all that I’ve done in my life, I’m most pr...    1.484113e+09   \n",
       "1421757  .@POTUS to @VP: \"I've gained a brother...your ...    1.484113e+09   \n",
       "1421756  \"Our democracy is threatened whenever we take ...    1.484114e+09   \n",
       "1421755  “For all our outward differences, we in fact a...    1.484114e+09   \n",
       "\n",
       "         tweet_fav  tweet_rt  rp_flag rp_status  rp_user  ...  rt_status_id  \\\n",
       "3282032        2.0       0.0    False       NaN      NaN  ...           NaN   \n",
       "1421758    26391.0    9144.0    False       NaN      NaN  ...           NaN   \n",
       "1421757     8300.0    2590.0    False       NaN      NaN  ...           NaN   \n",
       "1421756     4484.0    1528.0    False       NaN      NaN  ...           NaN   \n",
       "1421755     9203.0    3323.0    False       NaN      NaN  ...           NaN   \n",
       "\n",
       "         rt_user_id  rt_text rt_creation  rt_fav  rt_rt  Toxicity  \\\n",
       "3282032         NaN      NaN         NaN     NaN    NaN  0.014451   \n",
       "1421758         NaN      NaN         NaN     NaN    NaN  0.018975   \n",
       "1421757         NaN      NaN         NaN     NaN    NaN  0.013948   \n",
       "1421756         NaN      NaN         NaN     NaN    NaN  0.043647   \n",
       "1421755         NaN      NaN         NaN     NaN    NaN  0.018598   \n",
       "\n",
       "         Severe Toxicity        NewDateFormat  month  \n",
       "3282032         0.001688  2017-01-19 03:20:13     01  \n",
       "1421758         0.001383  2017-01-11 05:30:02     01  \n",
       "1421757         0.001011  2017-01-11 05:40:00     01  \n",
       "1421756         0.001497  2017-01-11 05:45:00     01  \n",
       "1421755         0.001140  2017-01-11 05:50:00     01  \n",
       "\n",
       "[5 rows x 28 columns]"
      ]
     },
     "execution_count": 4,
     "metadata": {},
     "output_type": "execute_result"
    }
   ],
   "source": [
    "df.head()"
   ]
  },
  {
   "cell_type": "code",
   "execution_count": 6,
   "id": "f84ede26",
   "metadata": {},
   "outputs": [],
   "source": [
    "groupDf = df[['screen_name', 'Toxicity', 'Severe Toxicity', 'month']]"
   ]
  },
  {
   "cell_type": "code",
   "execution_count": 68,
   "id": "848997bc",
   "metadata": {},
   "outputs": [],
   "source": [
    "monthDf = groupDf[groupDf['month'] == \"01\"]"
   ]
  },
  {
   "cell_type": "code",
   "execution_count": 69,
   "id": "627090b7",
   "metadata": {},
   "outputs": [
    {
     "name": "stderr",
     "output_type": "stream",
     "text": [
      "C:\\Users\\Aatman\\AppData\\Local\\Temp\\ipykernel_8544\\2166862559.py:1: SettingWithCopyWarning: \n",
      "A value is trying to be set on a copy of a slice from a DataFrame.\n",
      "Try using .loc[row_indexer,col_indexer] = value instead\n",
      "\n",
      "See the caveats in the documentation: https://pandas.pydata.org/pandas-docs/stable/user_guide/indexing.html#returning-a-view-versus-a-copy\n",
      "  monthDf['Toxicity'] = monthDf['Toxicity'].round(decimals=2) * 10\n"
     ]
    }
   ],
   "source": [
    "monthDf['Toxicity'] = monthDf['Toxicity'].round(decimals=2) * 10"
   ]
  },
  {
   "cell_type": "code",
   "execution_count": 70,
   "id": "729aee4a",
   "metadata": {},
   "outputs": [
    {
     "name": "stderr",
     "output_type": "stream",
     "text": [
      "C:\\Users\\Aatman\\AppData\\Local\\Temp\\ipykernel_8544\\95051009.py:1: SettingWithCopyWarning: \n",
      "A value is trying to be set on a copy of a slice from a DataFrame.\n",
      "Try using .loc[row_indexer,col_indexer] = value instead\n",
      "\n",
      "See the caveats in the documentation: https://pandas.pydata.org/pandas-docs/stable/user_guide/indexing.html#returning-a-view-versus-a-copy\n",
      "  monthDf['Toxicity'] = (monthDf['Toxicity'].apply(np.ceil)) / 10\n"
     ]
    }
   ],
   "source": [
    "monthDf['Toxicity'] = (monthDf['Toxicity'].apply(np.ceil)) / 10"
   ]
  },
  {
   "cell_type": "code",
   "execution_count": 71,
   "id": "0409486f",
   "metadata": {},
   "outputs": [
    {
     "data": {
      "text/html": [
       "<div>\n",
       "<style scoped>\n",
       "    .dataframe tbody tr th:only-of-type {\n",
       "        vertical-align: middle;\n",
       "    }\n",
       "\n",
       "    .dataframe tbody tr th {\n",
       "        vertical-align: top;\n",
       "    }\n",
       "\n",
       "    .dataframe thead th {\n",
       "        text-align: right;\n",
       "    }\n",
       "</style>\n",
       "<table border=\"1\" class=\"dataframe\">\n",
       "  <thead>\n",
       "    <tr style=\"text-align: right;\">\n",
       "      <th></th>\n",
       "      <th>screen_name</th>\n",
       "      <th>Toxicity</th>\n",
       "      <th>Severe Toxicity</th>\n",
       "      <th>month</th>\n",
       "    </tr>\n",
       "  </thead>\n",
       "  <tbody>\n",
       "    <tr>\n",
       "      <th>3282032</th>\n",
       "      <td>megandgreer</td>\n",
       "      <td>0.1</td>\n",
       "      <td>0.001688</td>\n",
       "      <td>01</td>\n",
       "    </tr>\n",
       "    <tr>\n",
       "      <th>1421758</th>\n",
       "      <td>ObamaWhiteHouse</td>\n",
       "      <td>0.1</td>\n",
       "      <td>0.001383</td>\n",
       "      <td>01</td>\n",
       "    </tr>\n",
       "    <tr>\n",
       "      <th>1421757</th>\n",
       "      <td>ObamaWhiteHouse</td>\n",
       "      <td>0.1</td>\n",
       "      <td>0.001011</td>\n",
       "      <td>01</td>\n",
       "    </tr>\n",
       "    <tr>\n",
       "      <th>1421756</th>\n",
       "      <td>ObamaWhiteHouse</td>\n",
       "      <td>0.1</td>\n",
       "      <td>0.001497</td>\n",
       "      <td>01</td>\n",
       "    </tr>\n",
       "    <tr>\n",
       "      <th>1421755</th>\n",
       "      <td>ObamaWhiteHouse</td>\n",
       "      <td>0.1</td>\n",
       "      <td>0.001140</td>\n",
       "      <td>01</td>\n",
       "    </tr>\n",
       "  </tbody>\n",
       "</table>\n",
       "</div>"
      ],
      "text/plain": [
       "             screen_name  Toxicity  Severe Toxicity month\n",
       "3282032      megandgreer       0.1         0.001688    01\n",
       "1421758  ObamaWhiteHouse       0.1         0.001383    01\n",
       "1421757  ObamaWhiteHouse       0.1         0.001011    01\n",
       "1421756  ObamaWhiteHouse       0.1         0.001497    01\n",
       "1421755  ObamaWhiteHouse       0.1         0.001140    01"
      ]
     },
     "execution_count": 71,
     "metadata": {},
     "output_type": "execute_result"
    }
   ],
   "source": [
    "monthDf.head()"
   ]
  },
  {
   "cell_type": "code",
   "execution_count": 72,
   "id": "82b4b674",
   "metadata": {},
   "outputs": [
    {
     "data": {
      "text/plain": [
       "4914.1"
      ]
     },
     "execution_count": 72,
     "metadata": {},
     "output_type": "execute_result"
    }
   ],
   "source": [
    "monthDf['Toxicity'].sum().round(2)"
   ]
  }
 ],
 "metadata": {
  "kernelspec": {
   "display_name": "Python 3 (ipykernel)",
   "language": "python",
   "name": "python3"
  },
  "language_info": {
   "codemirror_mode": {
    "name": "ipython",
    "version": 3
   },
   "file_extension": ".py",
   "mimetype": "text/x-python",
   "name": "python",
   "nbconvert_exporter": "python",
   "pygments_lexer": "ipython3",
   "version": "3.9.12"
  }
 },
 "nbformat": 4,
 "nbformat_minor": 5
}
