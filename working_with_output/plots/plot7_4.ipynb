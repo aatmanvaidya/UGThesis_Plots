{
  "nbformat": 4,
  "nbformat_minor": 0,
  "metadata": {
    "colab": {
      "provenance": []
    },
    "kernelspec": {
      "name": "python3",
      "display_name": "Python 3"
    },
    "language_info": {
      "name": "python"
    }
  },
  "cells": [
    {
      "cell_type": "code",
      "execution_count": 1,
      "metadata": {
        "colab": {
          "base_uri": "https://localhost:8080/"
        },
        "id": "N8Uhc2Figqgx",
        "outputId": "49f70d5b-c047-4ec6-b2ba-0993b05f3c4a"
      },
      "outputs": [
        {
          "output_type": "stream",
          "name": "stdout",
          "text": [
            "Mounted at /content/gdrive\n"
          ]
        }
      ],
      "source": [
        "from google.colab import drive\n",
        "drive.mount('/content/gdrive')  "
      ]
    },
    {
      "cell_type": "code",
      "source": [
        "import pandas as pd\n",
        "import matplotlib.pyplot as plt\n",
        "import matplotlib.ticker as ticker\n",
        "import numpy as np\n",
        "from datetime import datetime\n",
        "import seaborn as sns\n",
        "import warnings\n",
        "warnings.filterwarnings(\"ignore\")"
      ],
      "metadata": {
        "id": "6T1DBu6khhdP"
      },
      "execution_count": 2,
      "outputs": []
    },
    {
      "cell_type": "code",
      "source": [
        "df = pd.read_csv(\"/content/gdrive/My Drive/tweetsConvereted2017_toxicPerspectiveScore.csv\")"
      ],
      "metadata": {
        "id": "OEzWG46Khh3q"
      },
      "execution_count": 3,
      "outputs": []
    },
    {
      "cell_type": "code",
      "source": [
        "df[\"month\"] = df[\"NewDateFormat\"].apply(lambda x: datetime.strptime(x, \"%Y-%m-%d %H:%M:%S\").strftime(\"%m\"))"
      ],
      "metadata": {
        "id": "ps54SDbHhjJq"
      },
      "execution_count": 4,
      "outputs": []
    },
    {
      "cell_type": "code",
      "source": [
        "groupDf = df[['user_id', 'Toxicity','qt_flag', 'rt_flag','month']]"
      ],
      "metadata": {
        "id": "51QIL7sEh8ia"
      },
      "execution_count": 5,
      "outputs": []
    },
    {
      "cell_type": "code",
      "source": [
        "groupDf['Toxicity'] = groupDf['Toxicity'] * 10\n",
        "groupDf['Toxicity'] = (groupDf['Toxicity'].apply(np.ceil)) / 10"
      ],
      "metadata": {
        "id": "lZnzPhb1ig9T"
      },
      "execution_count": 6,
      "outputs": []
    },
    {
      "cell_type": "code",
      "source": [
        "groupDf = groupDf[groupDf['Toxicity'] != 0.0]"
      ],
      "metadata": {
        "id": "vDSpXigkhaPe"
      },
      "execution_count": 7,
      "outputs": []
    },
    {
      "cell_type": "code",
      "source": [
        "groupDf['user_id'].nunique()"
      ],
      "metadata": {
        "colab": {
          "base_uri": "https://localhost:8080/"
        },
        "id": "W1QER35ah9kc",
        "outputId": "018c5bd2-0774-4118-baba-eafbd8cc1942"
      },
      "execution_count": 8,
      "outputs": [
        {
          "output_type": "execute_result",
          "data": {
            "text/plain": [
              "59848"
            ]
          },
          "metadata": {},
          "execution_count": 8
        }
      ]
    },
    {
      "cell_type": "code",
      "source": [
        "monthDf = groupDf[groupDf['month'] == \"01\"]"
      ],
      "metadata": {
        "id": "3CzcETb_ikFT"
      },
      "execution_count": 9,
      "outputs": []
    },
    {
      "cell_type": "code",
      "source": [
        "print(monthDf['user_id'].nunique())\n",
        "print(len(monthDf['Toxicity']))"
      ],
      "metadata": {
        "colab": {
          "base_uri": "https://localhost:8080/"
        },
        "id": "PAgnRvXxif94",
        "outputId": "4a47cced-40eb-4344-9eba-d9679e192bec"
      },
      "execution_count": 10,
      "outputs": [
        {
          "output_type": "stream",
          "name": "stdout",
          "text": [
            "4131\n",
            "35984\n"
          ]
        }
      ]
    },
    {
      "cell_type": "code",
      "source": [
        "monthDf.head()"
      ],
      "metadata": {
        "id": "obIBCoIbimby",
        "colab": {
          "base_uri": "https://localhost:8080/",
          "height": 206
        },
        "outputId": "84264990-17d3-4ffc-c4e1-a6652607a6ed"
      },
      "execution_count": 11,
      "outputs": [
        {
          "output_type": "execute_result",
          "data": {
            "text/plain": [
              "        user_id  Toxicity  qt_flag  rt_flag month\n",
              "247  3239623496       0.2    False    False    01\n",
              "248  3239623496       0.1    False    False    01\n",
              "249  3239623496       0.1    False    False    01\n",
              "250  3239623496       0.1    False    False    01\n",
              "251  3239623496       0.3    False    False    01"
            ],
            "text/html": [
              "\n",
              "  <div id=\"df-fcb11444-b174-4e77-af8c-f2809d1d1dfd\">\n",
              "    <div class=\"colab-df-container\">\n",
              "      <div>\n",
              "<style scoped>\n",
              "    .dataframe tbody tr th:only-of-type {\n",
              "        vertical-align: middle;\n",
              "    }\n",
              "\n",
              "    .dataframe tbody tr th {\n",
              "        vertical-align: top;\n",
              "    }\n",
              "\n",
              "    .dataframe thead th {\n",
              "        text-align: right;\n",
              "    }\n",
              "</style>\n",
              "<table border=\"1\" class=\"dataframe\">\n",
              "  <thead>\n",
              "    <tr style=\"text-align: right;\">\n",
              "      <th></th>\n",
              "      <th>user_id</th>\n",
              "      <th>Toxicity</th>\n",
              "      <th>qt_flag</th>\n",
              "      <th>rt_flag</th>\n",
              "      <th>month</th>\n",
              "    </tr>\n",
              "  </thead>\n",
              "  <tbody>\n",
              "    <tr>\n",
              "      <th>247</th>\n",
              "      <td>3239623496</td>\n",
              "      <td>0.2</td>\n",
              "      <td>False</td>\n",
              "      <td>False</td>\n",
              "      <td>01</td>\n",
              "    </tr>\n",
              "    <tr>\n",
              "      <th>248</th>\n",
              "      <td>3239623496</td>\n",
              "      <td>0.1</td>\n",
              "      <td>False</td>\n",
              "      <td>False</td>\n",
              "      <td>01</td>\n",
              "    </tr>\n",
              "    <tr>\n",
              "      <th>249</th>\n",
              "      <td>3239623496</td>\n",
              "      <td>0.1</td>\n",
              "      <td>False</td>\n",
              "      <td>False</td>\n",
              "      <td>01</td>\n",
              "    </tr>\n",
              "    <tr>\n",
              "      <th>250</th>\n",
              "      <td>3239623496</td>\n",
              "      <td>0.1</td>\n",
              "      <td>False</td>\n",
              "      <td>False</td>\n",
              "      <td>01</td>\n",
              "    </tr>\n",
              "    <tr>\n",
              "      <th>251</th>\n",
              "      <td>3239623496</td>\n",
              "      <td>0.3</td>\n",
              "      <td>False</td>\n",
              "      <td>False</td>\n",
              "      <td>01</td>\n",
              "    </tr>\n",
              "  </tbody>\n",
              "</table>\n",
              "</div>\n",
              "      <button class=\"colab-df-convert\" onclick=\"convertToInteractive('df-fcb11444-b174-4e77-af8c-f2809d1d1dfd')\"\n",
              "              title=\"Convert this dataframe to an interactive table.\"\n",
              "              style=\"display:none;\">\n",
              "        \n",
              "  <svg xmlns=\"http://www.w3.org/2000/svg\" height=\"24px\"viewBox=\"0 0 24 24\"\n",
              "       width=\"24px\">\n",
              "    <path d=\"M0 0h24v24H0V0z\" fill=\"none\"/>\n",
              "    <path d=\"M18.56 5.44l.94 2.06.94-2.06 2.06-.94-2.06-.94-.94-2.06-.94 2.06-2.06.94zm-11 1L8.5 8.5l.94-2.06 2.06-.94-2.06-.94L8.5 2.5l-.94 2.06-2.06.94zm10 10l.94 2.06.94-2.06 2.06-.94-2.06-.94-.94-2.06-.94 2.06-2.06.94z\"/><path d=\"M17.41 7.96l-1.37-1.37c-.4-.4-.92-.59-1.43-.59-.52 0-1.04.2-1.43.59L10.3 9.45l-7.72 7.72c-.78.78-.78 2.05 0 2.83L4 21.41c.39.39.9.59 1.41.59.51 0 1.02-.2 1.41-.59l7.78-7.78 2.81-2.81c.8-.78.8-2.07 0-2.86zM5.41 20L4 18.59l7.72-7.72 1.47 1.35L5.41 20z\"/>\n",
              "  </svg>\n",
              "      </button>\n",
              "      \n",
              "  <style>\n",
              "    .colab-df-container {\n",
              "      display:flex;\n",
              "      flex-wrap:wrap;\n",
              "      gap: 12px;\n",
              "    }\n",
              "\n",
              "    .colab-df-convert {\n",
              "      background-color: #E8F0FE;\n",
              "      border: none;\n",
              "      border-radius: 50%;\n",
              "      cursor: pointer;\n",
              "      display: none;\n",
              "      fill: #1967D2;\n",
              "      height: 32px;\n",
              "      padding: 0 0 0 0;\n",
              "      width: 32px;\n",
              "    }\n",
              "\n",
              "    .colab-df-convert:hover {\n",
              "      background-color: #E2EBFA;\n",
              "      box-shadow: 0px 1px 2px rgba(60, 64, 67, 0.3), 0px 1px 3px 1px rgba(60, 64, 67, 0.15);\n",
              "      fill: #174EA6;\n",
              "    }\n",
              "\n",
              "    [theme=dark] .colab-df-convert {\n",
              "      background-color: #3B4455;\n",
              "      fill: #D2E3FC;\n",
              "    }\n",
              "\n",
              "    [theme=dark] .colab-df-convert:hover {\n",
              "      background-color: #434B5C;\n",
              "      box-shadow: 0px 1px 3px 1px rgba(0, 0, 0, 0.15);\n",
              "      filter: drop-shadow(0px 1px 2px rgba(0, 0, 0, 0.3));\n",
              "      fill: #FFFFFF;\n",
              "    }\n",
              "  </style>\n",
              "\n",
              "      <script>\n",
              "        const buttonEl =\n",
              "          document.querySelector('#df-fcb11444-b174-4e77-af8c-f2809d1d1dfd button.colab-df-convert');\n",
              "        buttonEl.style.display =\n",
              "          google.colab.kernel.accessAllowed ? 'block' : 'none';\n",
              "\n",
              "        async function convertToInteractive(key) {\n",
              "          const element = document.querySelector('#df-fcb11444-b174-4e77-af8c-f2809d1d1dfd');\n",
              "          const dataTable =\n",
              "            await google.colab.kernel.invokeFunction('convertToInteractive',\n",
              "                                                     [key], {});\n",
              "          if (!dataTable) return;\n",
              "\n",
              "          const docLinkHtml = 'Like what you see? Visit the ' +\n",
              "            '<a target=\"_blank\" href=https://colab.research.google.com/notebooks/data_table.ipynb>data table notebook</a>'\n",
              "            + ' to learn more about interactive tables.';\n",
              "          element.innerHTML = '';\n",
              "          dataTable['output_type'] = 'display_data';\n",
              "          await google.colab.output.renderOutput(dataTable, element);\n",
              "          const docLink = document.createElement('div');\n",
              "          docLink.innerHTML = docLinkHtml;\n",
              "          element.appendChild(docLink);\n",
              "        }\n",
              "      </script>\n",
              "    </div>\n",
              "  </div>\n",
              "  "
            ]
          },
          "metadata": {},
          "execution_count": 11
        }
      ]
    },
    {
      "cell_type": "code",
      "source": [
        "def categorize_tweets(group):\n",
        "    if (group['qt_flag'] == False).all() and (group['rt_flag'] == False).all():\n",
        "        return 'o'\n",
        "    elif (group['qt_flag'] == False).all() and (group['rt_flag'] == True).all():\n",
        "        return 'r'\n",
        "    elif (group['qt_flag'] == True).all() and (group['rt_flag'] == False).all():\n",
        "        return 'q'\n",
        "    elif ((group['qt_flag'] == False) & (group['rt_flag'] == True)).any() and ((group['qt_flag'] == False) & (group['rt_flag'] == False)).any():\n",
        "        return 'o_r'\n",
        "    elif ((group['qt_flag'] == True) & (group['rt_flag'] == False)).any() and ((group['qt_flag'] == False) & (group['rt_flag'] == False)).any():\n",
        "        return 'o_q'\n",
        "    elif ((group['qt_flag'] == True) & (group['rt_flag'] == True)).any() and ((group['qt_flag'] == False) & (group['rt_flag'] == False)).any():\n",
        "        return 'q_r'\n",
        "    else:\n",
        "        return 'o_q_r'"
      ],
      "metadata": {
        "id": "BSYxHnOEE0Zs"
      },
      "execution_count": 12,
      "outputs": []
    },
    {
      "cell_type": "code",
      "source": [
        "userDf = monthDf.groupby('user_id').apply(categorize_tweets)"
      ],
      "metadata": {
        "id": "EJJN7Mn5c5Za"
      },
      "execution_count": 13,
      "outputs": []
    },
    {
      "cell_type": "code",
      "source": [
        "userDf = userDf.reset_index()\n",
        "userDf = userDf.rename(columns={userDf.columns[1]: \"user_category\"})"
      ],
      "metadata": {
        "id": "lA0l7L1D0Gt0"
      },
      "execution_count": 14,
      "outputs": []
    },
    {
      "cell_type": "code",
      "source": [
        "userDf.head()"
      ],
      "metadata": {
        "id": "CvCdOzzvdI8p",
        "colab": {
          "base_uri": "https://localhost:8080/",
          "height": 206
        },
        "outputId": "9bf202de-760f-4fec-96c7-d75b8ac8a3b2"
      },
      "execution_count": 15,
      "outputs": [
        {
          "output_type": "execute_result",
          "data": {
            "text/plain": [
              "   user_id user_category\n",
              "0      633             o\n",
              "1    24393           o_q\n",
              "2    74523             o\n",
              "3   690173             o\n",
              "4   713263             o"
            ],
            "text/html": [
              "\n",
              "  <div id=\"df-30e7270f-1b31-4288-9319-d7b8a0120b33\">\n",
              "    <div class=\"colab-df-container\">\n",
              "      <div>\n",
              "<style scoped>\n",
              "    .dataframe tbody tr th:only-of-type {\n",
              "        vertical-align: middle;\n",
              "    }\n",
              "\n",
              "    .dataframe tbody tr th {\n",
              "        vertical-align: top;\n",
              "    }\n",
              "\n",
              "    .dataframe thead th {\n",
              "        text-align: right;\n",
              "    }\n",
              "</style>\n",
              "<table border=\"1\" class=\"dataframe\">\n",
              "  <thead>\n",
              "    <tr style=\"text-align: right;\">\n",
              "      <th></th>\n",
              "      <th>user_id</th>\n",
              "      <th>user_category</th>\n",
              "    </tr>\n",
              "  </thead>\n",
              "  <tbody>\n",
              "    <tr>\n",
              "      <th>0</th>\n",
              "      <td>633</td>\n",
              "      <td>o</td>\n",
              "    </tr>\n",
              "    <tr>\n",
              "      <th>1</th>\n",
              "      <td>24393</td>\n",
              "      <td>o_q</td>\n",
              "    </tr>\n",
              "    <tr>\n",
              "      <th>2</th>\n",
              "      <td>74523</td>\n",
              "      <td>o</td>\n",
              "    </tr>\n",
              "    <tr>\n",
              "      <th>3</th>\n",
              "      <td>690173</td>\n",
              "      <td>o</td>\n",
              "    </tr>\n",
              "    <tr>\n",
              "      <th>4</th>\n",
              "      <td>713263</td>\n",
              "      <td>o</td>\n",
              "    </tr>\n",
              "  </tbody>\n",
              "</table>\n",
              "</div>\n",
              "      <button class=\"colab-df-convert\" onclick=\"convertToInteractive('df-30e7270f-1b31-4288-9319-d7b8a0120b33')\"\n",
              "              title=\"Convert this dataframe to an interactive table.\"\n",
              "              style=\"display:none;\">\n",
              "        \n",
              "  <svg xmlns=\"http://www.w3.org/2000/svg\" height=\"24px\"viewBox=\"0 0 24 24\"\n",
              "       width=\"24px\">\n",
              "    <path d=\"M0 0h24v24H0V0z\" fill=\"none\"/>\n",
              "    <path d=\"M18.56 5.44l.94 2.06.94-2.06 2.06-.94-2.06-.94-.94-2.06-.94 2.06-2.06.94zm-11 1L8.5 8.5l.94-2.06 2.06-.94-2.06-.94L8.5 2.5l-.94 2.06-2.06.94zm10 10l.94 2.06.94-2.06 2.06-.94-2.06-.94-.94-2.06-.94 2.06-2.06.94z\"/><path d=\"M17.41 7.96l-1.37-1.37c-.4-.4-.92-.59-1.43-.59-.52 0-1.04.2-1.43.59L10.3 9.45l-7.72 7.72c-.78.78-.78 2.05 0 2.83L4 21.41c.39.39.9.59 1.41.59.51 0 1.02-.2 1.41-.59l7.78-7.78 2.81-2.81c.8-.78.8-2.07 0-2.86zM5.41 20L4 18.59l7.72-7.72 1.47 1.35L5.41 20z\"/>\n",
              "  </svg>\n",
              "      </button>\n",
              "      \n",
              "  <style>\n",
              "    .colab-df-container {\n",
              "      display:flex;\n",
              "      flex-wrap:wrap;\n",
              "      gap: 12px;\n",
              "    }\n",
              "\n",
              "    .colab-df-convert {\n",
              "      background-color: #E8F0FE;\n",
              "      border: none;\n",
              "      border-radius: 50%;\n",
              "      cursor: pointer;\n",
              "      display: none;\n",
              "      fill: #1967D2;\n",
              "      height: 32px;\n",
              "      padding: 0 0 0 0;\n",
              "      width: 32px;\n",
              "    }\n",
              "\n",
              "    .colab-df-convert:hover {\n",
              "      background-color: #E2EBFA;\n",
              "      box-shadow: 0px 1px 2px rgba(60, 64, 67, 0.3), 0px 1px 3px 1px rgba(60, 64, 67, 0.15);\n",
              "      fill: #174EA6;\n",
              "    }\n",
              "\n",
              "    [theme=dark] .colab-df-convert {\n",
              "      background-color: #3B4455;\n",
              "      fill: #D2E3FC;\n",
              "    }\n",
              "\n",
              "    [theme=dark] .colab-df-convert:hover {\n",
              "      background-color: #434B5C;\n",
              "      box-shadow: 0px 1px 3px 1px rgba(0, 0, 0, 0.15);\n",
              "      filter: drop-shadow(0px 1px 2px rgba(0, 0, 0, 0.3));\n",
              "      fill: #FFFFFF;\n",
              "    }\n",
              "  </style>\n",
              "\n",
              "      <script>\n",
              "        const buttonEl =\n",
              "          document.querySelector('#df-30e7270f-1b31-4288-9319-d7b8a0120b33 button.colab-df-convert');\n",
              "        buttonEl.style.display =\n",
              "          google.colab.kernel.accessAllowed ? 'block' : 'none';\n",
              "\n",
              "        async function convertToInteractive(key) {\n",
              "          const element = document.querySelector('#df-30e7270f-1b31-4288-9319-d7b8a0120b33');\n",
              "          const dataTable =\n",
              "            await google.colab.kernel.invokeFunction('convertToInteractive',\n",
              "                                                     [key], {});\n",
              "          if (!dataTable) return;\n",
              "\n",
              "          const docLinkHtml = 'Like what you see? Visit the ' +\n",
              "            '<a target=\"_blank\" href=https://colab.research.google.com/notebooks/data_table.ipynb>data table notebook</a>'\n",
              "            + ' to learn more about interactive tables.';\n",
              "          element.innerHTML = '';\n",
              "          dataTable['output_type'] = 'display_data';\n",
              "          await google.colab.output.renderOutput(dataTable, element);\n",
              "          const docLink = document.createElement('div');\n",
              "          docLink.innerHTML = docLinkHtml;\n",
              "          element.appendChild(docLink);\n",
              "        }\n",
              "      </script>\n",
              "    </div>\n",
              "  </div>\n",
              "  "
            ]
          },
          "metadata": {},
          "execution_count": 15
        }
      ]
    },
    {
      "cell_type": "code",
      "source": [
        "userDf"
      ],
      "metadata": {
        "id": "aY3jYsM0nupq",
        "outputId": "6ee4701d-8212-49fb-ae13-f9ba0aa4fbdd",
        "colab": {
          "base_uri": "https://localhost:8080/",
          "height": 423
        }
      },
      "execution_count": 16,
      "outputs": [
        {
          "output_type": "execute_result",
          "data": {
            "text/plain": [
              "                 user_id user_category\n",
              "0                    633             o\n",
              "1                  24393           o_q\n",
              "2                  74523             o\n",
              "3                 690173             o\n",
              "4                 713263             o\n",
              "...                  ...           ...\n",
              "4126  825012688816181248             o\n",
              "4127  825203273078538240             o\n",
              "4128  825532893640458240             o\n",
              "4129  825887620047704069             o\n",
              "4130  826262026297020416             o\n",
              "\n",
              "[4131 rows x 2 columns]"
            ],
            "text/html": [
              "\n",
              "  <div id=\"df-7c1bb159-9914-426f-89d0-f6a38a9beca9\">\n",
              "    <div class=\"colab-df-container\">\n",
              "      <div>\n",
              "<style scoped>\n",
              "    .dataframe tbody tr th:only-of-type {\n",
              "        vertical-align: middle;\n",
              "    }\n",
              "\n",
              "    .dataframe tbody tr th {\n",
              "        vertical-align: top;\n",
              "    }\n",
              "\n",
              "    .dataframe thead th {\n",
              "        text-align: right;\n",
              "    }\n",
              "</style>\n",
              "<table border=\"1\" class=\"dataframe\">\n",
              "  <thead>\n",
              "    <tr style=\"text-align: right;\">\n",
              "      <th></th>\n",
              "      <th>user_id</th>\n",
              "      <th>user_category</th>\n",
              "    </tr>\n",
              "  </thead>\n",
              "  <tbody>\n",
              "    <tr>\n",
              "      <th>0</th>\n",
              "      <td>633</td>\n",
              "      <td>o</td>\n",
              "    </tr>\n",
              "    <tr>\n",
              "      <th>1</th>\n",
              "      <td>24393</td>\n",
              "      <td>o_q</td>\n",
              "    </tr>\n",
              "    <tr>\n",
              "      <th>2</th>\n",
              "      <td>74523</td>\n",
              "      <td>o</td>\n",
              "    </tr>\n",
              "    <tr>\n",
              "      <th>3</th>\n",
              "      <td>690173</td>\n",
              "      <td>o</td>\n",
              "    </tr>\n",
              "    <tr>\n",
              "      <th>4</th>\n",
              "      <td>713263</td>\n",
              "      <td>o</td>\n",
              "    </tr>\n",
              "    <tr>\n",
              "      <th>...</th>\n",
              "      <td>...</td>\n",
              "      <td>...</td>\n",
              "    </tr>\n",
              "    <tr>\n",
              "      <th>4126</th>\n",
              "      <td>825012688816181248</td>\n",
              "      <td>o</td>\n",
              "    </tr>\n",
              "    <tr>\n",
              "      <th>4127</th>\n",
              "      <td>825203273078538240</td>\n",
              "      <td>o</td>\n",
              "    </tr>\n",
              "    <tr>\n",
              "      <th>4128</th>\n",
              "      <td>825532893640458240</td>\n",
              "      <td>o</td>\n",
              "    </tr>\n",
              "    <tr>\n",
              "      <th>4129</th>\n",
              "      <td>825887620047704069</td>\n",
              "      <td>o</td>\n",
              "    </tr>\n",
              "    <tr>\n",
              "      <th>4130</th>\n",
              "      <td>826262026297020416</td>\n",
              "      <td>o</td>\n",
              "    </tr>\n",
              "  </tbody>\n",
              "</table>\n",
              "<p>4131 rows × 2 columns</p>\n",
              "</div>\n",
              "      <button class=\"colab-df-convert\" onclick=\"convertToInteractive('df-7c1bb159-9914-426f-89d0-f6a38a9beca9')\"\n",
              "              title=\"Convert this dataframe to an interactive table.\"\n",
              "              style=\"display:none;\">\n",
              "        \n",
              "  <svg xmlns=\"http://www.w3.org/2000/svg\" height=\"24px\"viewBox=\"0 0 24 24\"\n",
              "       width=\"24px\">\n",
              "    <path d=\"M0 0h24v24H0V0z\" fill=\"none\"/>\n",
              "    <path d=\"M18.56 5.44l.94 2.06.94-2.06 2.06-.94-2.06-.94-.94-2.06-.94 2.06-2.06.94zm-11 1L8.5 8.5l.94-2.06 2.06-.94-2.06-.94L8.5 2.5l-.94 2.06-2.06.94zm10 10l.94 2.06.94-2.06 2.06-.94-2.06-.94-.94-2.06-.94 2.06-2.06.94z\"/><path d=\"M17.41 7.96l-1.37-1.37c-.4-.4-.92-.59-1.43-.59-.52 0-1.04.2-1.43.59L10.3 9.45l-7.72 7.72c-.78.78-.78 2.05 0 2.83L4 21.41c.39.39.9.59 1.41.59.51 0 1.02-.2 1.41-.59l7.78-7.78 2.81-2.81c.8-.78.8-2.07 0-2.86zM5.41 20L4 18.59l7.72-7.72 1.47 1.35L5.41 20z\"/>\n",
              "  </svg>\n",
              "      </button>\n",
              "      \n",
              "  <style>\n",
              "    .colab-df-container {\n",
              "      display:flex;\n",
              "      flex-wrap:wrap;\n",
              "      gap: 12px;\n",
              "    }\n",
              "\n",
              "    .colab-df-convert {\n",
              "      background-color: #E8F0FE;\n",
              "      border: none;\n",
              "      border-radius: 50%;\n",
              "      cursor: pointer;\n",
              "      display: none;\n",
              "      fill: #1967D2;\n",
              "      height: 32px;\n",
              "      padding: 0 0 0 0;\n",
              "      width: 32px;\n",
              "    }\n",
              "\n",
              "    .colab-df-convert:hover {\n",
              "      background-color: #E2EBFA;\n",
              "      box-shadow: 0px 1px 2px rgba(60, 64, 67, 0.3), 0px 1px 3px 1px rgba(60, 64, 67, 0.15);\n",
              "      fill: #174EA6;\n",
              "    }\n",
              "\n",
              "    [theme=dark] .colab-df-convert {\n",
              "      background-color: #3B4455;\n",
              "      fill: #D2E3FC;\n",
              "    }\n",
              "\n",
              "    [theme=dark] .colab-df-convert:hover {\n",
              "      background-color: #434B5C;\n",
              "      box-shadow: 0px 1px 3px 1px rgba(0, 0, 0, 0.15);\n",
              "      filter: drop-shadow(0px 1px 2px rgba(0, 0, 0, 0.3));\n",
              "      fill: #FFFFFF;\n",
              "    }\n",
              "  </style>\n",
              "\n",
              "      <script>\n",
              "        const buttonEl =\n",
              "          document.querySelector('#df-7c1bb159-9914-426f-89d0-f6a38a9beca9 button.colab-df-convert');\n",
              "        buttonEl.style.display =\n",
              "          google.colab.kernel.accessAllowed ? 'block' : 'none';\n",
              "\n",
              "        async function convertToInteractive(key) {\n",
              "          const element = document.querySelector('#df-7c1bb159-9914-426f-89d0-f6a38a9beca9');\n",
              "          const dataTable =\n",
              "            await google.colab.kernel.invokeFunction('convertToInteractive',\n",
              "                                                     [key], {});\n",
              "          if (!dataTable) return;\n",
              "\n",
              "          const docLinkHtml = 'Like what you see? Visit the ' +\n",
              "            '<a target=\"_blank\" href=https://colab.research.google.com/notebooks/data_table.ipynb>data table notebook</a>'\n",
              "            + ' to learn more about interactive tables.';\n",
              "          element.innerHTML = '';\n",
              "          dataTable['output_type'] = 'display_data';\n",
              "          await google.colab.output.renderOutput(dataTable, element);\n",
              "          const docLink = document.createElement('div');\n",
              "          docLink.innerHTML = docLinkHtml;\n",
              "          element.appendChild(docLink);\n",
              "        }\n",
              "      </script>\n",
              "    </div>\n",
              "  </div>\n",
              "  "
            ]
          },
          "metadata": {},
          "execution_count": 16
        }
      ]
    },
    {
      "cell_type": "code",
      "source": [
        "dict_cat = {}\n",
        "\n",
        "cat_list = [\"o\", \"r\", \"q\", \"o_r\", \"r_q\", \"o_q\", \"o_r_q\"]\n",
        "\n",
        "for i in range(7):\n",
        "    for j in range(10):\n",
        "        string_want  = f\"{cat_list[i]}_{(j+1)/10}\" \n",
        "        dict_cat[string_want] = 0\n",
        "\n",
        "print(dict_cat)"
      ],
      "metadata": {
        "id": "AwCTc8T4C8jy",
        "colab": {
          "base_uri": "https://localhost:8080/"
        },
        "outputId": "e39f3494-1fc4-4e6d-e446-2c63d1ab7fd3"
      },
      "execution_count": 17,
      "outputs": [
        {
          "output_type": "stream",
          "name": "stdout",
          "text": [
            "{'o_0.1': 0, 'o_0.2': 0, 'o_0.3': 0, 'o_0.4': 0, 'o_0.5': 0, 'o_0.6': 0, 'o_0.7': 0, 'o_0.8': 0, 'o_0.9': 0, 'o_1.0': 0, 'r_0.1': 0, 'r_0.2': 0, 'r_0.3': 0, 'r_0.4': 0, 'r_0.5': 0, 'r_0.6': 0, 'r_0.7': 0, 'r_0.8': 0, 'r_0.9': 0, 'r_1.0': 0, 'q_0.1': 0, 'q_0.2': 0, 'q_0.3': 0, 'q_0.4': 0, 'q_0.5': 0, 'q_0.6': 0, 'q_0.7': 0, 'q_0.8': 0, 'q_0.9': 0, 'q_1.0': 0, 'o_r_0.1': 0, 'o_r_0.2': 0, 'o_r_0.3': 0, 'o_r_0.4': 0, 'o_r_0.5': 0, 'o_r_0.6': 0, 'o_r_0.7': 0, 'o_r_0.8': 0, 'o_r_0.9': 0, 'o_r_1.0': 0, 'r_q_0.1': 0, 'r_q_0.2': 0, 'r_q_0.3': 0, 'r_q_0.4': 0, 'r_q_0.5': 0, 'r_q_0.6': 0, 'r_q_0.7': 0, 'r_q_0.8': 0, 'r_q_0.9': 0, 'r_q_1.0': 0, 'o_q_0.1': 0, 'o_q_0.2': 0, 'o_q_0.3': 0, 'o_q_0.4': 0, 'o_q_0.5': 0, 'o_q_0.6': 0, 'o_q_0.7': 0, 'o_q_0.8': 0, 'o_q_0.9': 0, 'o_q_1.0': 0, 'o_r_q_0.1': 0, 'o_r_q_0.2': 0, 'o_r_q_0.3': 0, 'o_r_q_0.4': 0, 'o_r_q_0.5': 0, 'o_r_q_0.6': 0, 'o_r_q_0.7': 0, 'o_r_q_0.8': 0, 'o_r_q_0.9': 0, 'o_r_q_1.0': 0}\n"
          ]
        }
      ]
    },
    {
      "cell_type": "code",
      "source": [
        "for index, row in userDf.iterrows():\n",
        "  cat = userDf['user_category'].iloc[index]\n",
        "  # cat_user = monthDf[monthDf['user_id'] == userDf['user_id'].iloc[index]] #mainLineOfCode\n",
        "  cat_user = monthDf[monthDf['user_id'] == userDf['user_id'].iloc[index]][[\"Toxicity\"]].drop_duplicates()\n",
        "  for j, c_row in cat_user.iterrows():\n",
        "    t_score = c_row[\"Toxicity\"]\n",
        "    string_put = f\"{cat}_{t_score}\"\n",
        "    dict_cat[string_put] += 1\n",
        "\n",
        "print(dict_cat)\n"
      ],
      "metadata": {
        "colab": {
          "base_uri": "https://localhost:8080/"
        },
        "id": "JTK2edb-3mtw",
        "outputId": "e029a9e4-e6a9-44f1-bd4d-2581ed9cd970"
      },
      "execution_count": 18,
      "outputs": [
        {
          "output_type": "stream",
          "name": "stdout",
          "text": [
            "{'o_0.1': 2610, 'o_0.2': 857, 'o_0.3': 454, 'o_0.4': 340, 'o_0.5': 161, 'o_0.6': 101, 'o_0.7': 88, 'o_0.8': 71, 'o_0.9': 51, 'o_1.0': 28, 'r_0.1': 0, 'r_0.2': 0, 'r_0.3': 0, 'r_0.4': 0, 'r_0.5': 0, 'r_0.6': 0, 'r_0.7': 0, 'r_0.8': 0, 'r_0.9': 0, 'r_1.0': 0, 'q_0.1': 96, 'q_0.2': 7, 'q_0.3': 3, 'q_0.4': 4, 'q_0.5': 0, 'q_0.6': 0, 'q_0.7': 1, 'q_0.8': 0, 'q_0.9': 0, 'q_1.0': 0, 'o_r_0.1': 0, 'o_r_0.2': 0, 'o_r_0.3': 0, 'o_r_0.4': 0, 'o_r_0.5': 0, 'o_r_0.6': 0, 'o_r_0.7': 0, 'o_r_0.8': 0, 'o_r_0.9': 0, 'o_r_1.0': 0, 'r_q_0.1': 0, 'r_q_0.2': 0, 'r_q_0.3': 0, 'r_q_0.4': 0, 'r_q_0.5': 0, 'r_q_0.6': 0, 'r_q_0.7': 0, 'r_q_0.8': 0, 'r_q_0.9': 0, 'r_q_1.0': 0, 'o_q_0.1': 1300, 'o_q_0.2': 606, 'o_q_0.3': 341, 'o_q_0.4': 235, 'o_q_0.5': 120, 'o_q_0.6': 88, 'o_q_0.7': 58, 'o_q_0.8': 52, 'o_q_0.9': 25, 'o_q_1.0': 16, 'o_r_q_0.1': 0, 'o_r_q_0.2': 0, 'o_r_q_0.3': 0, 'o_r_q_0.4': 0, 'o_r_q_0.5': 0, 'o_r_q_0.6': 0, 'o_r_q_0.7': 0, 'o_r_q_0.8': 0, 'o_r_q_0.9': 0, 'o_r_q_1.0': 0}\n"
          ]
        }
      ]
    },
    {
      "cell_type": "code",
      "source": [
        "sum(dict_cat.values())"
      ],
      "metadata": {
        "colab": {
          "base_uri": "https://localhost:8080/"
        },
        "id": "ky5WwA2tQXKZ",
        "outputId": "7e44bee8-5a0b-464d-9b8e-14fafe3e0156"
      },
      "execution_count": 19,
      "outputs": [
        {
          "output_type": "execute_result",
          "data": {
            "text/plain": [
              "7713"
            ]
          },
          "metadata": {},
          "execution_count": 19
        }
      ]
    },
    {
      "cell_type": "code",
      "source": [
        "x = [i/10 for i in range(1, 11)]\n",
        "\n",
        "for cat in cat_list:\n",
        "    y = [dict_cat[f\"{cat}_{tox}\"] for tox in x]\n",
        "    # print(y)\n",
        "    plt.plot(x, y, label=cat)\n",
        "\n",
        "plt.xlabel(\"Toxicity Score\")\n",
        "plt.ylabel(\"Count of Users\")\n",
        "# plt.title(f\"Month - {len(monthDf['Toxicity'])}\")\n",
        "plt.legend()\n",
        "plt.show()"
      ],
      "metadata": {
        "colab": {
          "base_uri": "https://localhost:8080/",
          "height": 279
        },
        "id": "MrtsAZdKO8Y1",
        "outputId": "d1c663cd-fdba-4237-85d5-1c9157f2812d"
      },
      "execution_count": 20,
      "outputs": [
        {
          "output_type": "display_data",
          "data": {
            "text/plain": [
              "<Figure size 432x288 with 1 Axes>"
            ],
            "image/png": "[encoded data removed]"
          },
          "metadata": {
            "needs_background": "light"
          }
        }
      ]
    },
    {
      "cell_type": "code",
      "source": [
        "x = [i/10 for i in range(1, 11)]\n",
        "for cat in cat_list:\n",
        "    y = [dict_cat[f\"{cat}_{tox}\"] for tox in x]\n",
        "    plt.semilogy(x, y, label=cat)\n",
        "\n",
        "plt.gca().yaxis.set_major_formatter(ticker.ScalarFormatter())\n",
        "# plt.gca().yaxis.set_major_locator(ticker.MaxNLocator())\n",
        "\n",
        "plt.xlabel(\"Toxicity Score\")\n",
        "plt.ylabel(\"Count of Users\")\n",
        "plt.xticks(x)\n",
        "# plt.set_ylim(bottom=0)\n",
        "plt.legend()\n",
        "plt.show()"
      ],
      "metadata": {
        "colab": {
          "base_uri": "https://localhost:8080/",
          "height": 279
        },
        "id": "s0O5_7HbPQVR",
        "outputId": "3a8f8ea6-6697-46f4-9be7-117a7b45101e"
      },
      "execution_count": 21,
      "outputs": [
        {
          "output_type": "display_data",
          "data": {
            "text/plain": [
              "<Figure size 432x288 with 1 Axes>"
            ],
            "image/png": "[encoded data removed]"
          },
          "metadata": {
            "needs_background": "light"
          }
        }
      ]
    },
    {
      "cell_type": "code",
      "source": [
        "# for i in UserDF.rows():\n",
        "#   \"\"\"i[0]- userid\n",
        "#   i[1]- category\"\"\"\n",
        "#   cat = i[1]\n",
        "#   cat_user = monthDf.filter(i[0])\n",
        "#   for j in cat_user.rows():\n",
        "#     t_score = j[\"toxicity_score\"]\n",
        "#     string_put = f\"{cat}_{t_score}\"\n",
        "#     dict_cat[string_put] += 1"
      ],
      "metadata": {
        "id": "XWR8vX8GDhtr"
      },
      "execution_count": 22,
      "outputs": []
    }
  ]
}