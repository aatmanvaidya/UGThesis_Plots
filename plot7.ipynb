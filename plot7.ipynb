{
 "cells": [
  {
   "cell_type": "code",
   "execution_count": 1,
   "id": "19dce037",
   "metadata": {},
   "outputs": [],
   "source": [
    "import pandas as pd\n",
    "import matplotlib.pyplot as plt\n",
    "import numpy as np\n",
    "from datetime import datetime\n",
    "import seaborn as sns"
   ]
  },
  {
   "cell_type": "code",
   "execution_count": 2,
   "id": "086ef9bc",
   "metadata": {},
   "outputs": [],
   "source": [
    "df = pd.read_csv(\"D:\\\\Study\\\\UG Thesis\\\\Datasets\\\\ReibeiroDataset\\\\tweetsConvereted2017_toxicPerspectiveScore.csv\")"
   ]
  },
  {
   "cell_type": "code",
   "execution_count": 3,
   "id": "22fc6643",
   "metadata": {},
   "outputs": [],
   "source": [
    "df[\"month\"] = df[\"NewDateFormat\"].apply(lambda x: datetime.strptime(x, \"%Y-%m-%d %H:%M:%S\").strftime(\"%m\"))"
   ]
  },
  {
   "cell_type": "code",
   "execution_count": 4,
   "id": "f9e9d5fc",
   "metadata": {},
   "outputs": [
    {
     "data": {
      "text/html": [
       "<div>\n",
       "<style scoped>\n",
       "    .dataframe tbody tr th:only-of-type {\n",
       "        vertical-align: middle;\n",
       "    }\n",
       "\n",
       "    .dataframe tbody tr th {\n",
       "        vertical-align: top;\n",
       "    }\n",
       "\n",
       "    .dataframe thead th {\n",
       "        text-align: right;\n",
       "    }\n",
       "</style>\n",
       "<table border=\"1\" class=\"dataframe\">\n",
       "  <thead>\n",
       "    <tr style=\"text-align: right;\">\n",
       "      <th></th>\n",
       "      <th>user_id</th>\n",
       "      <th>screen_name</th>\n",
       "      <th>tweet_id</th>\n",
       "      <th>tweet_text</th>\n",
       "      <th>tweet_creation</th>\n",
       "      <th>tweet_fav</th>\n",
       "      <th>tweet_rt</th>\n",
       "      <th>rp_flag</th>\n",
       "      <th>rp_status</th>\n",
       "      <th>rp_user</th>\n",
       "      <th>...</th>\n",
       "      <th>rt_status_id</th>\n",
       "      <th>rt_user_id</th>\n",
       "      <th>rt_text</th>\n",
       "      <th>rt_creation</th>\n",
       "      <th>rt_fav</th>\n",
       "      <th>rt_rt</th>\n",
       "      <th>Toxicity</th>\n",
       "      <th>Severe Toxicity</th>\n",
       "      <th>NewDateFormat</th>\n",
       "      <th>month</th>\n",
       "    </tr>\n",
       "  </thead>\n",
       "  <tbody>\n",
       "    <tr>\n",
       "      <th>0</th>\n",
       "      <td>4746709454</td>\n",
       "      <td>just_jusss</td>\n",
       "      <td>911477065328631809</td>\n",
       "      <td>Having a strict dad, if I ask to go out one we...</td>\n",
       "      <td>1.506159e+09</td>\n",
       "      <td>1.0</td>\n",
       "      <td>0.0</td>\n",
       "      <td>False</td>\n",
       "      <td>NaN</td>\n",
       "      <td>NaN</td>\n",
       "      <td>...</td>\n",
       "      <td>NaN</td>\n",
       "      <td>NaN</td>\n",
       "      <td>NaN</td>\n",
       "      <td>NaN</td>\n",
       "      <td>NaN</td>\n",
       "      <td>NaN</td>\n",
       "      <td>0.052305</td>\n",
       "      <td>0.002346</td>\n",
       "      <td>2017-09-23 09:27:21</td>\n",
       "      <td>09</td>\n",
       "    </tr>\n",
       "    <tr>\n",
       "      <th>1</th>\n",
       "      <td>4746709454</td>\n",
       "      <td>just_jusss</td>\n",
       "      <td>911399501264384001</td>\n",
       "      <td>Lookin at all these couples like MBN🤧 but then...</td>\n",
       "      <td>1.506140e+09</td>\n",
       "      <td>2.0</td>\n",
       "      <td>0.0</td>\n",
       "      <td>False</td>\n",
       "      <td>NaN</td>\n",
       "      <td>NaN</td>\n",
       "      <td>...</td>\n",
       "      <td>NaN</td>\n",
       "      <td>NaN</td>\n",
       "      <td>NaN</td>\n",
       "      <td>NaN</td>\n",
       "      <td>NaN</td>\n",
       "      <td>NaN</td>\n",
       "      <td>0.068171</td>\n",
       "      <td>0.003433</td>\n",
       "      <td>2017-09-23 04:19:08</td>\n",
       "      <td>09</td>\n",
       "    </tr>\n",
       "    <tr>\n",
       "      <th>2</th>\n",
       "      <td>4746709454</td>\n",
       "      <td>just_jusss</td>\n",
       "      <td>911343372282900480</td>\n",
       "      <td>Being a senior kinda sucks when most of your f...</td>\n",
       "      <td>1.506127e+09</td>\n",
       "      <td>3.0</td>\n",
       "      <td>0.0</td>\n",
       "      <td>False</td>\n",
       "      <td>NaN</td>\n",
       "      <td>NaN</td>\n",
       "      <td>...</td>\n",
       "      <td>NaN</td>\n",
       "      <td>NaN</td>\n",
       "      <td>NaN</td>\n",
       "      <td>NaN</td>\n",
       "      <td>NaN</td>\n",
       "      <td>NaN</td>\n",
       "      <td>0.518691</td>\n",
       "      <td>0.023787</td>\n",
       "      <td>2017-09-23 00:36:06</td>\n",
       "      <td>09</td>\n",
       "    </tr>\n",
       "    <tr>\n",
       "      <th>3</th>\n",
       "      <td>773711528398848000</td>\n",
       "      <td>CassandraCohan</td>\n",
       "      <td>923729371235586049</td>\n",
       "      <td>@periwinkledink So pretty</td>\n",
       "      <td>1.509076e+09</td>\n",
       "      <td>1.0</td>\n",
       "      <td>0.0</td>\n",
       "      <td>True</td>\n",
       "      <td>923705106264027136</td>\n",
       "      <td>3.434322e+09</td>\n",
       "      <td>...</td>\n",
       "      <td>NaN</td>\n",
       "      <td>NaN</td>\n",
       "      <td>NaN</td>\n",
       "      <td>NaN</td>\n",
       "      <td>NaN</td>\n",
       "      <td>NaN</td>\n",
       "      <td>0.010681</td>\n",
       "      <td>0.002117</td>\n",
       "      <td>2017-10-27 03:53:38</td>\n",
       "      <td>10</td>\n",
       "    </tr>\n",
       "    <tr>\n",
       "      <th>4</th>\n",
       "      <td>773711528398848000</td>\n",
       "      <td>CassandraCohan</td>\n",
       "      <td>923689995763843072</td>\n",
       "      <td>@readyforramos It’s 2017 we go to church and pray</td>\n",
       "      <td>1.509067e+09</td>\n",
       "      <td>3.0</td>\n",
       "      <td>0.0</td>\n",
       "      <td>True</td>\n",
       "      <td>923689936406044673</td>\n",
       "      <td>2.633570e+09</td>\n",
       "      <td>...</td>\n",
       "      <td>NaN</td>\n",
       "      <td>NaN</td>\n",
       "      <td>NaN</td>\n",
       "      <td>NaN</td>\n",
       "      <td>NaN</td>\n",
       "      <td>NaN</td>\n",
       "      <td>0.018975</td>\n",
       "      <td>0.001316</td>\n",
       "      <td>2017-10-27 01:17:10</td>\n",
       "      <td>10</td>\n",
       "    </tr>\n",
       "  </tbody>\n",
       "</table>\n",
       "<p>5 rows × 28 columns</p>\n",
       "</div>"
      ],
      "text/plain": [
       "              user_id     screen_name            tweet_id  \\\n",
       "0          4746709454      just_jusss  911477065328631809   \n",
       "1          4746709454      just_jusss  911399501264384001   \n",
       "2          4746709454      just_jusss  911343372282900480   \n",
       "3  773711528398848000  CassandraCohan  923729371235586049   \n",
       "4  773711528398848000  CassandraCohan  923689995763843072   \n",
       "\n",
       "                                          tweet_text  tweet_creation  \\\n",
       "0  Having a strict dad, if I ask to go out one we...    1.506159e+09   \n",
       "1  Lookin at all these couples like MBN🤧 but then...    1.506140e+09   \n",
       "2  Being a senior kinda sucks when most of your f...    1.506127e+09   \n",
       "3                          @periwinkledink So pretty    1.509076e+09   \n",
       "4  @readyforramos It’s 2017 we go to church and pray    1.509067e+09   \n",
       "\n",
       "   tweet_fav  tweet_rt  rp_flag           rp_status       rp_user  ...  \\\n",
       "0        1.0       0.0    False                 NaN           NaN  ...   \n",
       "1        2.0       0.0    False                 NaN           NaN  ...   \n",
       "2        3.0       0.0    False                 NaN           NaN  ...   \n",
       "3        1.0       0.0     True  923705106264027136  3.434322e+09  ...   \n",
       "4        3.0       0.0     True  923689936406044673  2.633570e+09  ...   \n",
       "\n",
       "   rt_status_id  rt_user_id  rt_text rt_creation  rt_fav  rt_rt  Toxicity  \\\n",
       "0           NaN         NaN      NaN         NaN     NaN    NaN  0.052305   \n",
       "1           NaN         NaN      NaN         NaN     NaN    NaN  0.068171   \n",
       "2           NaN         NaN      NaN         NaN     NaN    NaN  0.518691   \n",
       "3           NaN         NaN      NaN         NaN     NaN    NaN  0.010681   \n",
       "4           NaN         NaN      NaN         NaN     NaN    NaN  0.018975   \n",
       "\n",
       "   Severe Toxicity        NewDateFormat  month  \n",
       "0         0.002346  2017-09-23 09:27:21     09  \n",
       "1         0.003433  2017-09-23 04:19:08     09  \n",
       "2         0.023787  2017-09-23 00:36:06     09  \n",
       "3         0.002117  2017-10-27 03:53:38     10  \n",
       "4         0.001316  2017-10-27 01:17:10     10  \n",
       "\n",
       "[5 rows x 28 columns]"
      ]
     },
     "execution_count": 4,
     "metadata": {},
     "output_type": "execute_result"
    }
   ],
   "source": [
    "df.head()"
   ]
  },
  {
   "cell_type": "code",
   "execution_count": 5,
   "id": "a325579d",
   "metadata": {},
   "outputs": [
    {
     "data": {
      "text/plain": [
       "Index(['user_id', 'screen_name', 'tweet_id', 'tweet_text', 'tweet_creation',\n",
       "       'tweet_fav', 'tweet_rt', 'rp_flag', 'rp_status', 'rp_user', 'qt_flag',\n",
       "       'qt_status_id', 'qt_user_id', 'qt_text', 'qt_creation', 'qt_fav',\n",
       "       'qt_rt', 'rt_flag', 'rt_status_id', 'rt_user_id', 'rt_text',\n",
       "       'rt_creation', 'rt_fav', 'rt_rt', 'Toxicity', 'Severe Toxicity',\n",
       "       'NewDateFormat', 'month'],\n",
       "      dtype='object')"
      ]
     },
     "execution_count": 5,
     "metadata": {},
     "output_type": "execute_result"
    }
   ],
   "source": [
    "df.columns"
   ]
  },
  {
   "cell_type": "code",
   "execution_count": 6,
   "id": "4a30d7d7",
   "metadata": {},
   "outputs": [],
   "source": [
    "# userDf = df.groupby(['user_id'])"
   ]
  },
  {
   "cell_type": "code",
   "execution_count": 7,
   "id": "ddd1a1ce",
   "metadata": {},
   "outputs": [],
   "source": [
    "groupDf = df[['screen_name', 'Toxicity', 'Severe Toxicity',  'qt_flag', 'rt_flag','month']]"
   ]
  },
  {
   "cell_type": "code",
   "execution_count": 8,
   "id": "98fa25c5",
   "metadata": {},
   "outputs": [],
   "source": [
    "unique_values = groupDf['month'].unique()\n",
    "unique_values.sort()"
   ]
  },
  {
   "cell_type": "code",
   "execution_count": 9,
   "id": "afa55efb",
   "metadata": {},
   "outputs": [
    {
     "data": {
      "text/plain": [
       "array(['01', '02', '03', '04', '05', '06', '07', '08', '09', '10'],\n",
       "      dtype=object)"
      ]
     },
     "execution_count": 9,
     "metadata": {},
     "output_type": "execute_result"
    }
   ],
   "source": [
    "unique_values"
   ]
  },
  {
   "cell_type": "code",
   "execution_count": 10,
   "id": "2c7f4082",
   "metadata": {},
   "outputs": [],
   "source": [
    "monthDf = groupDf[groupDf['month'] == \"01\"]"
   ]
  },
  {
   "cell_type": "code",
   "execution_count": 11,
   "id": "06b7ecfe",
   "metadata": {},
   "outputs": [],
   "source": [
    "originalDf = monthDf[(monthDf['qt_flag'] == True) & (monthDf['rt_flag'] == False)]"
   ]
  },
  {
   "cell_type": "code",
   "execution_count": 12,
   "id": "d2b16b46",
   "metadata": {},
   "outputs": [
    {
     "name": "stderr",
     "output_type": "stream",
     "text": [
      "C:\\Users\\Aatman\\AppData\\Local\\Temp\\ipykernel_1612\\1864900650.py:1: SettingWithCopyWarning: \n",
      "A value is trying to be set on a copy of a slice from a DataFrame.\n",
      "Try using .loc[row_indexer,col_indexer] = value instead\n",
      "\n",
      "See the caveats in the documentation: https://pandas.pydata.org/pandas-docs/stable/user_guide/indexing.html#returning-a-view-versus-a-copy\n",
      "  originalDf['Toxicity'] = originalDf['Toxicity'] * 10\n",
      "C:\\Users\\Aatman\\AppData\\Local\\Temp\\ipykernel_1612\\1864900650.py:2: SettingWithCopyWarning: \n",
      "A value is trying to be set on a copy of a slice from a DataFrame.\n",
      "Try using .loc[row_indexer,col_indexer] = value instead\n",
      "\n",
      "See the caveats in the documentation: https://pandas.pydata.org/pandas-docs/stable/user_guide/indexing.html#returning-a-view-versus-a-copy\n",
      "  originalDf['Toxicity'] = (originalDf['Toxicity'].apply(np.ceil)) / 10\n"
     ]
    }
   ],
   "source": [
    "originalDf['Toxicity'] = originalDf['Toxicity'] * 10\n",
    "originalDf['Toxicity'] = (originalDf['Toxicity'].apply(np.ceil)) / 10"
   ]
  },
  {
   "cell_type": "code",
   "execution_count": 13,
   "id": "c71b1382",
   "metadata": {},
   "outputs": [],
   "source": [
    "original_unique_values = originalDf['Toxicity'].unique()\n",
    "original_unique_values.sort()"
   ]
  },
  {
   "cell_type": "code",
   "execution_count": 14,
   "id": "52aabddd",
   "metadata": {},
   "outputs": [
    {
     "data": {
      "text/plain": [
       "array([0.1, 0.2, 0.3, 0.4, 0.5, 0.6, 0.7, 0.8, 0.9, 1. ])"
      ]
     },
     "execution_count": 14,
     "metadata": {},
     "output_type": "execute_result"
    }
   ],
   "source": [
    "original_unique_values"
   ]
  },
  {
   "cell_type": "code",
   "execution_count": 15,
   "id": "c708bf21",
   "metadata": {},
   "outputs": [],
   "source": [
    "def countUsers(input):\n",
    "    tempDf = originalDf[originalDf['Toxicity'] == input]\n",
    "    return tempDf['screen_name'].nunique()"
   ]
  },
  {
   "cell_type": "code",
   "execution_count": 16,
   "id": "27282f36",
   "metadata": {},
   "outputs": [
    {
     "name": "stdout",
     "output_type": "stream",
     "text": [
      "1341\n",
      "169\n",
      "77\n",
      "53\n",
      "23\n",
      "16\n",
      "10\n",
      "4\n",
      "4\n",
      "1\n"
     ]
    }
   ],
   "source": [
    "for i in original_unique_values:\n",
    "    print(countUsers(i))"
   ]
  }
 ],
 "metadata": {
  "kernelspec": {
   "display_name": "Python 3 (ipykernel)",
   "language": "python",
   "name": "python3"
  },
  "language_info": {
   "codemirror_mode": {
    "name": "ipython",
    "version": 3
   },
   "file_extension": ".py",
   "mimetype": "text/x-python",
   "name": "python",
   "nbconvert_exporter": "python",
   "pygments_lexer": "ipython3",
   "version": "3.9.12"
  }
 },
 "nbformat": 4,
 "nbformat_minor": 5
}
