{
 "cells": [
  {
   "cell_type": "code",
   "execution_count": 1,
   "id": "46e38042",
   "metadata": {},
   "outputs": [],
   "source": [
    "import pandas as pd\n",
    "import matplotlib.pyplot as plt\n",
    "import numpy as np"
   ]
  },
  {
   "cell_type": "code",
   "execution_count": 2,
   "id": "f38f18b2",
   "metadata": {},
   "outputs": [],
   "source": [
    "df = pd.read_csv(\"D:\\\\Study\\\\UG Thesis\\\\Datasets\\\\Output\\\\file1-10.csv\")"
   ]
  },
  {
   "cell_type": "code",
   "execution_count": 3,
   "id": "ee4ad6b1",
   "metadata": {},
   "outputs": [
    {
     "data": {
      "text/html": [
       "<div>\n",
       "<style scoped>\n",
       "    .dataframe tbody tr th:only-of-type {\n",
       "        vertical-align: middle;\n",
       "    }\n",
       "\n",
       "    .dataframe tbody tr th {\n",
       "        vertical-align: top;\n",
       "    }\n",
       "\n",
       "    .dataframe thead th {\n",
       "        text-align: right;\n",
       "    }\n",
       "</style>\n",
       "<table border=\"1\" class=\"dataframe\">\n",
       "  <thead>\n",
       "    <tr style=\"text-align: right;\">\n",
       "      <th></th>\n",
       "      <th>user_id</th>\n",
       "      <th>screen_name</th>\n",
       "      <th>tweet_id</th>\n",
       "      <th>tweet_text</th>\n",
       "      <th>tweet_creation</th>\n",
       "      <th>tweet_fav</th>\n",
       "      <th>tweet_rt</th>\n",
       "      <th>rp_flag</th>\n",
       "      <th>rp_status</th>\n",
       "      <th>rp_user</th>\n",
       "      <th>...</th>\n",
       "      <th>qt_rt</th>\n",
       "      <th>rt_flag</th>\n",
       "      <th>rt_status_id</th>\n",
       "      <th>rt_user_id</th>\n",
       "      <th>rt_text</th>\n",
       "      <th>rt_creation</th>\n",
       "      <th>rt_fav</th>\n",
       "      <th>rt_rt</th>\n",
       "      <th>Toxicity</th>\n",
       "      <th>Severe Toxicity</th>\n",
       "    </tr>\n",
       "  </thead>\n",
       "  <tbody>\n",
       "    <tr>\n",
       "      <th>0</th>\n",
       "      <td>4746709454</td>\n",
       "      <td>just_jusss</td>\n",
       "      <td>911477065328631809</td>\n",
       "      <td>Having a strict dad, if I ask to go out one we...</td>\n",
       "      <td>1.506159e+09</td>\n",
       "      <td>1.0</td>\n",
       "      <td>0.0</td>\n",
       "      <td>False</td>\n",
       "      <td>NaN</td>\n",
       "      <td>NaN</td>\n",
       "      <td>...</td>\n",
       "      <td>NaN</td>\n",
       "      <td>False</td>\n",
       "      <td>NaN</td>\n",
       "      <td>NaN</td>\n",
       "      <td>NaN</td>\n",
       "      <td>NaN</td>\n",
       "      <td>NaN</td>\n",
       "      <td>NaN</td>\n",
       "      <td>0.052305</td>\n",
       "      <td>0.002346</td>\n",
       "    </tr>\n",
       "    <tr>\n",
       "      <th>1</th>\n",
       "      <td>4746709454</td>\n",
       "      <td>just_jusss</td>\n",
       "      <td>911399501264384001</td>\n",
       "      <td>Lookin at all these couples like MBN🤧 but then...</td>\n",
       "      <td>1.506140e+09</td>\n",
       "      <td>2.0</td>\n",
       "      <td>0.0</td>\n",
       "      <td>False</td>\n",
       "      <td>NaN</td>\n",
       "      <td>NaN</td>\n",
       "      <td>...</td>\n",
       "      <td>NaN</td>\n",
       "      <td>False</td>\n",
       "      <td>NaN</td>\n",
       "      <td>NaN</td>\n",
       "      <td>NaN</td>\n",
       "      <td>NaN</td>\n",
       "      <td>NaN</td>\n",
       "      <td>NaN</td>\n",
       "      <td>0.068171</td>\n",
       "      <td>0.003433</td>\n",
       "    </tr>\n",
       "    <tr>\n",
       "      <th>2</th>\n",
       "      <td>4746709454</td>\n",
       "      <td>just_jusss</td>\n",
       "      <td>911343372282900480</td>\n",
       "      <td>Being a senior kinda sucks when most of your f...</td>\n",
       "      <td>1.506127e+09</td>\n",
       "      <td>3.0</td>\n",
       "      <td>0.0</td>\n",
       "      <td>False</td>\n",
       "      <td>NaN</td>\n",
       "      <td>NaN</td>\n",
       "      <td>...</td>\n",
       "      <td>NaN</td>\n",
       "      <td>False</td>\n",
       "      <td>NaN</td>\n",
       "      <td>NaN</td>\n",
       "      <td>NaN</td>\n",
       "      <td>NaN</td>\n",
       "      <td>NaN</td>\n",
       "      <td>NaN</td>\n",
       "      <td>0.518691</td>\n",
       "      <td>0.023787</td>\n",
       "    </tr>\n",
       "    <tr>\n",
       "      <th>3</th>\n",
       "      <td>773711528398848000</td>\n",
       "      <td>CassandraCohan</td>\n",
       "      <td>923729474851622914</td>\n",
       "      <td>@tinyboxtim__ @tyleroakley LMAOOOO</td>\n",
       "      <td>1.509076e+09</td>\n",
       "      <td>0.0</td>\n",
       "      <td>0.0</td>\n",
       "      <td>True</td>\n",
       "      <td>923711258649681925</td>\n",
       "      <td>1.255877e+09</td>\n",
       "      <td>...</td>\n",
       "      <td>NaN</td>\n",
       "      <td>False</td>\n",
       "      <td>NaN</td>\n",
       "      <td>NaN</td>\n",
       "      <td>NaN</td>\n",
       "      <td>NaN</td>\n",
       "      <td>NaN</td>\n",
       "      <td>NaN</td>\n",
       "      <td>NaN</td>\n",
       "      <td>NaN</td>\n",
       "    </tr>\n",
       "    <tr>\n",
       "      <th>4</th>\n",
       "      <td>773711528398848000</td>\n",
       "      <td>CassandraCohan</td>\n",
       "      <td>923729371235586049</td>\n",
       "      <td>@periwinkledink So pretty</td>\n",
       "      <td>1.509076e+09</td>\n",
       "      <td>1.0</td>\n",
       "      <td>0.0</td>\n",
       "      <td>True</td>\n",
       "      <td>923705106264027136</td>\n",
       "      <td>3.434322e+09</td>\n",
       "      <td>...</td>\n",
       "      <td>NaN</td>\n",
       "      <td>False</td>\n",
       "      <td>NaN</td>\n",
       "      <td>NaN</td>\n",
       "      <td>NaN</td>\n",
       "      <td>NaN</td>\n",
       "      <td>NaN</td>\n",
       "      <td>NaN</td>\n",
       "      <td>0.010681</td>\n",
       "      <td>0.002117</td>\n",
       "    </tr>\n",
       "  </tbody>\n",
       "</table>\n",
       "<p>5 rows × 26 columns</p>\n",
       "</div>"
      ],
      "text/plain": [
       "              user_id     screen_name            tweet_id  \\\n",
       "0          4746709454      just_jusss  911477065328631809   \n",
       "1          4746709454      just_jusss  911399501264384001   \n",
       "2          4746709454      just_jusss  911343372282900480   \n",
       "3  773711528398848000  CassandraCohan  923729474851622914   \n",
       "4  773711528398848000  CassandraCohan  923729371235586049   \n",
       "\n",
       "                                          tweet_text  tweet_creation  \\\n",
       "0  Having a strict dad, if I ask to go out one we...    1.506159e+09   \n",
       "1  Lookin at all these couples like MBN🤧 but then...    1.506140e+09   \n",
       "2  Being a senior kinda sucks when most of your f...    1.506127e+09   \n",
       "3                 @tinyboxtim__ @tyleroakley LMAOOOO    1.509076e+09   \n",
       "4                          @periwinkledink So pretty    1.509076e+09   \n",
       "\n",
       "   tweet_fav  tweet_rt  rp_flag           rp_status       rp_user  ...  qt_rt  \\\n",
       "0        1.0       0.0    False                 NaN           NaN  ...    NaN   \n",
       "1        2.0       0.0    False                 NaN           NaN  ...    NaN   \n",
       "2        3.0       0.0    False                 NaN           NaN  ...    NaN   \n",
       "3        0.0       0.0     True  923711258649681925  1.255877e+09  ...    NaN   \n",
       "4        1.0       0.0     True  923705106264027136  3.434322e+09  ...    NaN   \n",
       "\n",
       "   rt_flag  rt_status_id rt_user_id  rt_text  rt_creation  rt_fav  rt_rt  \\\n",
       "0    False           NaN        NaN      NaN          NaN     NaN    NaN   \n",
       "1    False           NaN        NaN      NaN          NaN     NaN    NaN   \n",
       "2    False           NaN        NaN      NaN          NaN     NaN    NaN   \n",
       "3    False           NaN        NaN      NaN          NaN     NaN    NaN   \n",
       "4    False           NaN        NaN      NaN          NaN     NaN    NaN   \n",
       "\n",
       "   Toxicity  Severe Toxicity  \n",
       "0  0.052305         0.002346  \n",
       "1  0.068171         0.003433  \n",
       "2  0.518691         0.023787  \n",
       "3       NaN              NaN  \n",
       "4  0.010681         0.002117  \n",
       "\n",
       "[5 rows x 26 columns]"
      ]
     },
     "execution_count": 3,
     "metadata": {},
     "output_type": "execute_result"
    }
   ],
   "source": [
    "df.head()"
   ]
  },
  {
   "cell_type": "code",
   "execution_count": 4,
   "id": "dc1fe362",
   "metadata": {},
   "outputs": [
    {
     "data": {
      "text/plain": [
       "7466458"
      ]
     },
     "execution_count": 4,
     "metadata": {},
     "output_type": "execute_result"
    }
   ],
   "source": [
    "len(df)"
   ]
  },
  {
   "cell_type": "code",
   "execution_count": 5,
   "id": "fad82c46",
   "metadata": {},
   "outputs": [
    {
     "data": {
      "text/plain": [
       "598069"
      ]
     },
     "execution_count": 5,
     "metadata": {},
     "output_type": "execute_result"
    }
   ],
   "source": [
    "df['Toxicity'].isna().sum()\n",
    "df['Severe Toxicity'].isna().sum()"
   ]
  },
  {
   "cell_type": "code",
   "execution_count": 6,
   "id": "3ec55b81",
   "metadata": {},
   "outputs": [
    {
     "data": {
      "text/plain": [
       "0"
      ]
     },
     "execution_count": 6,
     "metadata": {},
     "output_type": "execute_result"
    }
   ],
   "source": [
    "(df['rt_flag'] == True).sum()"
   ]
  },
  {
   "cell_type": "code",
   "execution_count": 7,
   "id": "f3899a9b",
   "metadata": {},
   "outputs": [
    {
     "name": "stdout",
     "output_type": "stream",
     "text": [
      "6868389\n"
     ]
    }
   ],
   "source": [
    "df = df.dropna(subset=['Toxicity'])\n",
    "print(len(df))"
   ]
  },
  {
   "cell_type": "code",
   "execution_count": 8,
   "id": "5447c930",
   "metadata": {},
   "outputs": [],
   "source": [
    "df['NewDateFormat'] = pd.to_datetime(df['tweet_creation'], unit='s')"
   ]
  },
  {
   "cell_type": "code",
   "execution_count": 9,
   "id": "dc6ad298",
   "metadata": {},
   "outputs": [],
   "source": [
    "df_new = df[(df['tweet_creation']>1483228799) & (df['tweet_creation']<=1514764799)]"
   ]
  },
  {
   "cell_type": "code",
   "execution_count": 10,
   "id": "0b36175f",
   "metadata": {},
   "outputs": [
    {
     "data": {
      "text/html": [
       "<div>\n",
       "<style scoped>\n",
       "    .dataframe tbody tr th:only-of-type {\n",
       "        vertical-align: middle;\n",
       "    }\n",
       "\n",
       "    .dataframe tbody tr th {\n",
       "        vertical-align: top;\n",
       "    }\n",
       "\n",
       "    .dataframe thead th {\n",
       "        text-align: right;\n",
       "    }\n",
       "</style>\n",
       "<table border=\"1\" class=\"dataframe\">\n",
       "  <thead>\n",
       "    <tr style=\"text-align: right;\">\n",
       "      <th></th>\n",
       "      <th>user_id</th>\n",
       "      <th>screen_name</th>\n",
       "      <th>tweet_id</th>\n",
       "      <th>tweet_text</th>\n",
       "      <th>tweet_creation</th>\n",
       "      <th>tweet_fav</th>\n",
       "      <th>tweet_rt</th>\n",
       "      <th>rp_flag</th>\n",
       "      <th>rp_status</th>\n",
       "      <th>rp_user</th>\n",
       "      <th>...</th>\n",
       "      <th>rt_flag</th>\n",
       "      <th>rt_status_id</th>\n",
       "      <th>rt_user_id</th>\n",
       "      <th>rt_text</th>\n",
       "      <th>rt_creation</th>\n",
       "      <th>rt_fav</th>\n",
       "      <th>rt_rt</th>\n",
       "      <th>Toxicity</th>\n",
       "      <th>Severe Toxicity</th>\n",
       "      <th>NewDateFormat</th>\n",
       "    </tr>\n",
       "  </thead>\n",
       "  <tbody>\n",
       "    <tr>\n",
       "      <th>0</th>\n",
       "      <td>4746709454</td>\n",
       "      <td>just_jusss</td>\n",
       "      <td>911477065328631809</td>\n",
       "      <td>Having a strict dad, if I ask to go out one we...</td>\n",
       "      <td>1.506159e+09</td>\n",
       "      <td>1.0</td>\n",
       "      <td>0.0</td>\n",
       "      <td>False</td>\n",
       "      <td>NaN</td>\n",
       "      <td>NaN</td>\n",
       "      <td>...</td>\n",
       "      <td>False</td>\n",
       "      <td>NaN</td>\n",
       "      <td>NaN</td>\n",
       "      <td>NaN</td>\n",
       "      <td>NaN</td>\n",
       "      <td>NaN</td>\n",
       "      <td>NaN</td>\n",
       "      <td>0.052305</td>\n",
       "      <td>0.002346</td>\n",
       "      <td>2017-09-23 09:27:21</td>\n",
       "    </tr>\n",
       "    <tr>\n",
       "      <th>1</th>\n",
       "      <td>4746709454</td>\n",
       "      <td>just_jusss</td>\n",
       "      <td>911399501264384001</td>\n",
       "      <td>Lookin at all these couples like MBN🤧 but then...</td>\n",
       "      <td>1.506140e+09</td>\n",
       "      <td>2.0</td>\n",
       "      <td>0.0</td>\n",
       "      <td>False</td>\n",
       "      <td>NaN</td>\n",
       "      <td>NaN</td>\n",
       "      <td>...</td>\n",
       "      <td>False</td>\n",
       "      <td>NaN</td>\n",
       "      <td>NaN</td>\n",
       "      <td>NaN</td>\n",
       "      <td>NaN</td>\n",
       "      <td>NaN</td>\n",
       "      <td>NaN</td>\n",
       "      <td>0.068171</td>\n",
       "      <td>0.003433</td>\n",
       "      <td>2017-09-23 04:19:08</td>\n",
       "    </tr>\n",
       "    <tr>\n",
       "      <th>2</th>\n",
       "      <td>4746709454</td>\n",
       "      <td>just_jusss</td>\n",
       "      <td>911343372282900480</td>\n",
       "      <td>Being a senior kinda sucks when most of your f...</td>\n",
       "      <td>1.506127e+09</td>\n",
       "      <td>3.0</td>\n",
       "      <td>0.0</td>\n",
       "      <td>False</td>\n",
       "      <td>NaN</td>\n",
       "      <td>NaN</td>\n",
       "      <td>...</td>\n",
       "      <td>False</td>\n",
       "      <td>NaN</td>\n",
       "      <td>NaN</td>\n",
       "      <td>NaN</td>\n",
       "      <td>NaN</td>\n",
       "      <td>NaN</td>\n",
       "      <td>NaN</td>\n",
       "      <td>0.518691</td>\n",
       "      <td>0.023787</td>\n",
       "      <td>2017-09-23 00:36:06</td>\n",
       "    </tr>\n",
       "    <tr>\n",
       "      <th>4</th>\n",
       "      <td>773711528398848000</td>\n",
       "      <td>CassandraCohan</td>\n",
       "      <td>923729371235586049</td>\n",
       "      <td>@periwinkledink So pretty</td>\n",
       "      <td>1.509076e+09</td>\n",
       "      <td>1.0</td>\n",
       "      <td>0.0</td>\n",
       "      <td>True</td>\n",
       "      <td>923705106264027136</td>\n",
       "      <td>3.434322e+09</td>\n",
       "      <td>...</td>\n",
       "      <td>False</td>\n",
       "      <td>NaN</td>\n",
       "      <td>NaN</td>\n",
       "      <td>NaN</td>\n",
       "      <td>NaN</td>\n",
       "      <td>NaN</td>\n",
       "      <td>NaN</td>\n",
       "      <td>0.010681</td>\n",
       "      <td>0.002117</td>\n",
       "      <td>2017-10-27 03:53:38</td>\n",
       "    </tr>\n",
       "    <tr>\n",
       "      <th>5</th>\n",
       "      <td>773711528398848000</td>\n",
       "      <td>CassandraCohan</td>\n",
       "      <td>923689995763843072</td>\n",
       "      <td>@readyforramos It’s 2017 we go to church and pray</td>\n",
       "      <td>1.509067e+09</td>\n",
       "      <td>3.0</td>\n",
       "      <td>0.0</td>\n",
       "      <td>True</td>\n",
       "      <td>923689936406044673</td>\n",
       "      <td>2.633570e+09</td>\n",
       "      <td>...</td>\n",
       "      <td>False</td>\n",
       "      <td>NaN</td>\n",
       "      <td>NaN</td>\n",
       "      <td>NaN</td>\n",
       "      <td>NaN</td>\n",
       "      <td>NaN</td>\n",
       "      <td>NaN</td>\n",
       "      <td>0.018975</td>\n",
       "      <td>0.001316</td>\n",
       "      <td>2017-10-27 01:17:10</td>\n",
       "    </tr>\n",
       "  </tbody>\n",
       "</table>\n",
       "<p>5 rows × 27 columns</p>\n",
       "</div>"
      ],
      "text/plain": [
       "              user_id     screen_name            tweet_id  \\\n",
       "0          4746709454      just_jusss  911477065328631809   \n",
       "1          4746709454      just_jusss  911399501264384001   \n",
       "2          4746709454      just_jusss  911343372282900480   \n",
       "4  773711528398848000  CassandraCohan  923729371235586049   \n",
       "5  773711528398848000  CassandraCohan  923689995763843072   \n",
       "\n",
       "                                          tweet_text  tweet_creation  \\\n",
       "0  Having a strict dad, if I ask to go out one we...    1.506159e+09   \n",
       "1  Lookin at all these couples like MBN🤧 but then...    1.506140e+09   \n",
       "2  Being a senior kinda sucks when most of your f...    1.506127e+09   \n",
       "4                          @periwinkledink So pretty    1.509076e+09   \n",
       "5  @readyforramos It’s 2017 we go to church and pray    1.509067e+09   \n",
       "\n",
       "   tweet_fav  tweet_rt  rp_flag           rp_status       rp_user  ...  \\\n",
       "0        1.0       0.0    False                 NaN           NaN  ...   \n",
       "1        2.0       0.0    False                 NaN           NaN  ...   \n",
       "2        3.0       0.0    False                 NaN           NaN  ...   \n",
       "4        1.0       0.0     True  923705106264027136  3.434322e+09  ...   \n",
       "5        3.0       0.0     True  923689936406044673  2.633570e+09  ...   \n",
       "\n",
       "   rt_flag  rt_status_id  rt_user_id rt_text  rt_creation  rt_fav  rt_rt  \\\n",
       "0    False           NaN         NaN     NaN          NaN     NaN    NaN   \n",
       "1    False           NaN         NaN     NaN          NaN     NaN    NaN   \n",
       "2    False           NaN         NaN     NaN          NaN     NaN    NaN   \n",
       "4    False           NaN         NaN     NaN          NaN     NaN    NaN   \n",
       "5    False           NaN         NaN     NaN          NaN     NaN    NaN   \n",
       "\n",
       "   Toxicity  Severe Toxicity       NewDateFormat  \n",
       "0  0.052305         0.002346 2017-09-23 09:27:21  \n",
       "1  0.068171         0.003433 2017-09-23 04:19:08  \n",
       "2  0.518691         0.023787 2017-09-23 00:36:06  \n",
       "4  0.010681         0.002117 2017-10-27 03:53:38  \n",
       "5  0.018975         0.001316 2017-10-27 01:17:10  \n",
       "\n",
       "[5 rows x 27 columns]"
      ]
     },
     "execution_count": 10,
     "metadata": {},
     "output_type": "execute_result"
    }
   ],
   "source": [
    "df_new.head()"
   ]
  },
  {
   "cell_type": "code",
   "execution_count": 11,
   "id": "57d78eed",
   "metadata": {},
   "outputs": [
    {
     "data": {
      "text/plain": [
       "6610132"
      ]
     },
     "execution_count": 11,
     "metadata": {},
     "output_type": "execute_result"
    }
   ],
   "source": [
    "len(df_new)"
   ]
  },
  {
   "cell_type": "code",
   "execution_count": 12,
   "id": "f41cd79f",
   "metadata": {},
   "outputs": [
    {
     "data": {
      "text/plain": [
       "0"
      ]
     },
     "execution_count": 12,
     "metadata": {},
     "output_type": "execute_result"
    }
   ],
   "source": [
    "(df_new['rt_flag'] == True).sum()"
   ]
  },
  {
   "cell_type": "code",
   "execution_count": 13,
   "id": "5ebfc92f",
   "metadata": {},
   "outputs": [],
   "source": [
    "# df_new.to_csv('tweetsConvereted2017_toxicPerspectiveScore.csv', index = False)"
   ]
  }
 ],
 "metadata": {
  "kernelspec": {
   "display_name": "Python 3",
   "language": "python",
   "name": "python3"
  },
  "language_info": {
   "codemirror_mode": {
    "name": "ipython",
    "version": 3
   },
   "file_extension": ".py",
   "mimetype": "text/x-python",
   "name": "python",
   "nbconvert_exporter": "python",
   "pygments_lexer": "ipython3",
   "version": "3.9.6 (tags/v3.9.6:db3ff76, Jun 28 2021, 15:26:21) [MSC v.1929 64 bit (AMD64)]"
  },
  "vscode": {
   "interpreter": {
    "hash": "9bdcfb82fd2f1510c184c097341994aa5e5fcd7cf78734ba3e50d74ceb74f574"
   }
  }
 },
 "nbformat": 4,
 "nbformat_minor": 5
}
